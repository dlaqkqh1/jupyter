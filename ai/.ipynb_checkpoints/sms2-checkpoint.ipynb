{
 "cells": [
  {
   "cell_type": "code",
   "execution_count": 10,
   "metadata": {},
   "outputs": [],
   "source": [
    "import pickle\n",
    "from sklearn.linear_model import LogisticRegression\n",
    "from sklearn.model_selection import train_test_split\n",
    "from sklearn.metrics import accuracy_score\n",
    "\n",
    "with open('spam.pickle', 'rb') as file_handle:\n",
    "    vocabulary, features, labels = pickle.load(file_handle)"
   ]
  },
  {
   "cell_type": "code",
   "execution_count": 12,
   "metadata": {
    "scrolled": true
   },
   "outputs": [
    {
     "name": "stdout",
     "output_type": "stream",
     "text": [
      "['00', '000', '03', '04', '0800', '08000839402', '08000930705', '10', '100', '1000', '10p', '11', '12', '12hrs', '150', '150p', '150ppm', '16', '18', '1st', '20', '200', '2000', '2003', '250', '2lands', '2nd', '2nite', '30', '350', '50', '500', '5000', '750', '800', '8007', '86688', '87066', '900', 'abiola', 'able', 'abt', 'ac', 'account', 'actually', 'address', 'admirer', 'aft', 'afternoon', 'age', 'ago', 'ah', 'aight', 'alright', 'amp', 'angry', 'ans', 'answer', 'anytime', 'apply', 'ard', 'area', 'asap', 'ask', 'askd', 'asked', 'asking', 'ass', 'attempt', 'auction', 'available', 'await', 'award', 'awarded', 'away', 'awesome', 'b4', 'babe', 'baby', 'bad', 'balance', 'bank', 'bath', 'bathe', 'bcoz', 'beautiful', 'bed', 'believe', 'best', 'better', 'big', 'birthday', 'bit', 'blue', 'bonus', 'book', 'booked', 'bored', 'bout', 'box', 'boy', 'boytoy', 'break', 'bring', 'brother', 'bslvyl', 'bt', 'bus', 'busy', 'buy', 'call2optout', 'called', 'caller', 'calling', 'calls', 'camcorder', 'came', 'camera', 'car', 'card', 'care', 'carlos', 'case', 'cash', 'cause', 'chance', 'change', 'charge', 'charged', 'chat', 'cheap', 'check', 'checking', 'chennai', 'chikku', 'choose', 'christmas', 'claim', 'class', 'clean', 'close', 'club', 'code', 'collect', 'collection', 'college', 'colour', 'com', 'come', 'comes', 'comin', 'coming', 'comp', 'company', 'complimentary', 'computer', 'confirm', 'congrats', 'congratulations', 'contact', 'content', 'convey', 'cool', 'correct', 'cos', 'cost', 'couple', 'course', 'coz', 'crave', 'crazy', 'credit', 'cs', 'cum', 'currently', 'custcare', 'customer', 'cut', 'da', 'dad', 'darlin', 'darren', 'dat', 'date', 'dating', 'day', 'days', 'dear', 'decided', 'decimal', 'deep', 'del', 'delivery', 'den', 'details', 'did', 'didn', 'didnt', 'die', 'different', 'difficult', 'dinner', 'direct', 'dis', 'discount', 'dnt', 'does', 'doesn', 'doin', 'doing', 'don', 'dont', 'double', 'download', 'draw', 'dream', 'dreams', 'drink', 'drive', 'driving', 'drop', 'drugs', 'dude', 'dun', 'dunno', 'earlier', 'early', 'easy', 'eat', 'eh', 'em', 'email', 'end', 'ends', 'enjoy', 'enter', 'entered', 'entry', 'eve', 'evening', 'ex', 'exam', 'expires', 'extra', 'face', 'fact', 'family', 'fancy', 'fantastic', 'far', 'fast', 'feel', 'feeling', 'felt', 'film', 'final', 'finally', 'fine', 'finish', 'finished', 'fone', 'food', 'forever', 'forget', 'forgot', 'fr', 'free', 'freemsg', 'fri', 'friday', 'friend', 'friends', 'friendship', 'frm', 'frnd', 'frnds', 'fuck', 'fucking', 'fun', 'game', 'games', 'gas', 'gave', 'gd', 'ge', 'gets', 'getting', 'getzed', 'gift', 'girl', 'girls', 'glad', 'gn', 'god', 'goes', 'goin', 'going', 'gone', 'gonna', 'good', 'goodmorning', 'got', 'gotta', 'gr8', 'great', 'grins', 'gt', 'guaranteed', 'gud', 'guess', 'guy', 'guys', 'gym', 'ha', 'haf', 'haha', 'hair', 'half', 'hand', 'happen', 'happened', 'happiness', 'happy', 'hard', 'hav', 'haven', 'havent', 'having', 'head', 'hear', 'heard', 'heart', 'hee', 'hello', 'help', 'hey', 'hg', 'hi', 'hit', 'hmm', 'hmmm', 'hold', 'holiday', 'home', 'hope', 'hospital', 'hot', 'hour', 'hours', 'house', 'hows', 'http', 'huh', 'hungry', 'hurt', 'id', 'identifier', 'il', 'ill', 'im', 'immediately', 'important', 'india', 'info', 'information', 'invited', 'ipod', 'isn', 'jay', 'job', 'join', 'jus', 'just', 'juz', 'kate', 'kind', 'kiss', 'knew', 'know', 'knows', 'knw', 'land', 'landline', 'laptop', 'lar', 'late', 'later', 'latest', 'laugh', 'ldn', 'leave', 'leaves', 'leaving', 'left', 'leh', 'lei', 'lesson', 'let', 'lets', 'liao', 'life', 'light', 'like', 'line', 'link', 'listen', 'little', 'live', 'll', 'loads', 'log', 'lol', 'long', 'look', 'looking', 'lor', 'lose', 'lost', 'lot', 'lots', 'lovable', 'love', 'loved', 'lovely', 'loving', 'lt', 'luck', 'lucky', 'lunch', 'luv', 'mah', 'mail', 'make', 'makes', 'making', 'man', 'march', 'match', 'mate', 'mates', 'mayb', 'maybe', 'mean', 'means', 'meant', 'meet', 'meeting', 'merry', 'message', 'messages', 'met', 'min', 'mind', 'mins', 'minute', 'minutes', 'miss', 'missed', 'missing', 'mm', 'mob', 'mobile', 'mobiles', 'mobileupd8', 'mom', 'moment', 'monday', 'money', 'month', 'months', 'morning', 'motorola', 'movie', 'mr', 'mrng', 'msg', 'msgs', 'mu', 'mum', 'music', 'muz', 'na', 'nah', 'national', 'need', 'needs', 'net', 'network', 'neva', 'new', 'news', 'ni8', 'nice', 'night', 'nite', 'noe', 'nokia', 'noon', 'nope', 'normal', 'nt', 'ntt', 'number', 'numbers', 'nyt', 'offer', 'offers', 'office', 'oh', 'ok', 'okay', 'okie', 'old', 'online', 'oops', 'open', 'operator', 'opt', 'orange', 'orchard', 'order', 'oredi', 'oso', 'outside', 'pa', 'pain', 'parents', 'park', 'party', 'pass', 'pay', 'people', 'person', 'pete', 'phone', 'phones', 'pic', 'pick', 'picking', 'pics', 'place', 'plan', 'plans', 'play', 'player', 'pls', 'plus', 'plz', 'pm', 'po', 'pobox', 'point', 'points', 'poly', 'post', 'pounds', 'pray', 'press', 'pretty', 'price', 'princess', 'private', 'prize', 'prob', 'probably', 'problem', 'project', 'pub', 'question', 'questions', 'quite', 'quiz', 'rakhesh', 'rate', 'rates', 'reach', 'reached', 'read', 'reading', 'ready', 'real', 'really', 'reason', 'receive', 'red', 'redeemed', 'remember', 'remove', 'rental', 'reply', 'representative', 'rest', 'reveal', 'right', 'ring', 'ringtone', 'rite', 'room', 'row', 'rply', 'rs', 'run', 'sad', 'sae', 'safe', 'said', 'sat', 'saturday', 'save', 'saw', 'say', 'saying', 'says', 'sch', 'school', 'sea', 'search', 'second', 'secret', 'seeing', 'seen', 'selected', 'semester', 'send', 'sending', 'sent', 'service', 'services', 'set', 'sex', 'sexy', 'shall', 'shit', 'shop', 'shopping', 'shower', 'shows', 'simple', 'sir', 'sis', 'sister', 'sleep', 'sleeping', 'slow', 'slowly', 'small', 'smile', 'smiling', 'smoke', 'sms', 'smth', 'snow', 'somebody', 'song', 'sony', 'soon', 'sorry', 'sort', 'sound', 'sounds', 'speak', 'special', 'spend', 'st', 'start', 'started', 'statement', 'stay', 'std', 'stop', 'store', 'story', 'street', 'study', 'stuff', 'stupid', 'sub', 'suite342', 'sun', 'sunday', 'support', 'supposed', 'sure', 'surprise', 'sweet', 'swing', 'takes', 'taking', 'talk', 'talking', 'tc', 'tel', 'tell', 'telling', 'terms', 'test', 'text', 'texts', 'th', 'thank', 'thanks', 'thanx', 'thats', 'thing', 'things', 'think', 'thinking', 'thinks', 'thk', 'tho', 'thought', 'tickets', 'til', 'till', 'time', 'times', 'tired', 'tmr', 'today', 'todays', 'told', 'tomo', 'tomorrow', 'tone', 'tones', 'tonight', 'took', 'tot', 'touch', 'town', 'treat', 'tried', 'trip', 'true', 'truth', 'try', 'trying', 'ts', 'tv', 'txt', 'txting', 'txts', 'type', 'ugh', 'uk', 'uncle', 'understand', 'unlimited', 'unsubscribe', 'update', 'ur', 'urgent', 'use', 'used', 'usf', 'usual', 'valid', 'valued', 've', 'video', 'visit', 'voice', 'voucher', 'vouchers', 'w1j6hl', 'wait', 'waiting', 'wake', 'walk', 'wan', 'wana', 'wanna', 'want', 'wanted', 'wants', 'warm', 'wasn', 'wat', 'watch', 'watching', 'water', 'way', 'weed', 'week', 'weekend', 'weekly', 'weeks', 'welcome', 'wen', 'went', 'whats', 'wid', 'wif', 'wife', 'wil', 'win', 'wine', 'winner', 'wish', 'wishing', 'wit', 'wk', 'wkly', 'woke', 'won', 'wonder', 'wonderful', 'wont', 'word', 'words', 'work', 'working', 'world', 'worried', 'worry', 'worth', 'wot', 'wow', 'write', 'wrong', 'www', 'xmas', 'xx', 'xxx', 'ya', 'yar', 'yeah', 'year', 'years', 'yep', 'yes', 'yesterday', 'yo', 'yr', 'yup']\n",
      "  (0, 70)\t0.3779644730092272\n",
      "  (0, 170)\t0.3779644730092272\n",
      "  (0, 301)\t0.3779644730092272\n",
      "  (0, 304)\t0.3779644730092272\n",
      "  (0, 551)\t0.3779644730092272\n",
      "  (0, 777)\t0.3779644730092272\n",
      "  (0, 812)\t0.3779644730092272\n",
      "  (1, 384)\t0.5773502691896258\n",
      "  (1, 509)\t0.5773502691896258\n",
      "  (1, 792)\t0.5773502691896258\n",
      "  (2, 59)\t0.25\n",
      "  (2, 152)\t0.25\n",
      "  (2, 237)\t0.5\n",
      "  (2, 255)\t0.25\n",
      "  (2, 266)\t0.25\n",
      "  (2, 568)\t0.25\n",
      "  (2, 573)\t0.25\n",
      "  (2, 583)\t0.25\n",
      "  (2, 668)\t0.25\n",
      "  (2, 696)\t0.25\n",
      "  (2, 739)\t0.25\n",
      "  (2, 795)\t0.25\n",
      "  (2, 802)\t0.25\n",
      "  (3, 223)\t0.4082482904638631\n",
      "  (3, 226)\t0.4082482904638631\n",
      "  :\t:\n",
      "  (5568, 756)\t0.2886751345948129\n",
      "  (5569, 10)\t0.2672612419124244\n",
      "  (5569, 26)\t0.2672612419124244\n",
      "  (5569, 33)\t0.2672612419124244\n",
      "  (5569, 106)\t0.2672612419124244\n",
      "  (5569, 137)\t0.2672612419124244\n",
      "  (5569, 159)\t0.2672612419124244\n",
      "  (5569, 227)\t0.2672612419124244\n",
      "  (5569, 454)\t0.2672612419124244\n",
      "  (5569, 483)\t0.2672612419124244\n",
      "  (5569, 562)\t0.2672612419124244\n",
      "  (5569, 573)\t0.2672612419124244\n",
      "  (5569, 714)\t0.2672612419124244\n",
      "  (5569, 731)\t0.2672612419124244\n",
      "  (5569, 804)\t0.2672612419124244\n",
      "  (5570, 265)\t0.5773502691896258\n",
      "  (5570, 296)\t0.5773502691896258\n",
      "  (5570, 343)\t0.5773502691896258\n",
      "  (5572, 195)\t0.4082482904638631\n",
      "  (5572, 266)\t0.4082482904638631\n",
      "  (5572, 282)\t0.4082482904638631\n",
      "  (5572, 310)\t0.4082482904638631\n",
      "  (5572, 402)\t0.4082482904638631\n",
      "  (5572, 783)\t0.4082482904638631\n",
      "  (5573, 733)\t1.0\n"
     ]
    }
   ],
   "source": [
    "print(vocabulary)\n",
    "print(features)"
   ]
  },
  {
   "cell_type": "code",
   "execution_count": 15,
   "metadata": {},
   "outputs": [],
   "source": [
    "x = features\n",
    "y = labels\n",
    "x_train, x_test, y_train, y_test = train_test_split(x, y, test_size = 0.4, random_state = 0)"
   ]
  },
  {
   "cell_type": "code",
   "execution_count": 27,
   "metadata": {},
   "outputs": [
    {
     "ename": "SyntaxError",
     "evalue": "invalid syntax (<ipython-input-27-d3ea9bf7288d>, line 5)",
     "output_type": "error",
     "traceback": [
      "\u001b[1;36m  File \u001b[1;32m\"<ipython-input-27-d3ea9bf7288d>\"\u001b[1;36m, line \u001b[1;32m5\u001b[0m\n\u001b[1;33m    print('train 정확도 : %4.4f', %clf.score(x_train, y_train))\u001b[0m\n\u001b[1;37m                               ^\u001b[0m\n\u001b[1;31mSyntaxError\u001b[0m\u001b[1;31m:\u001b[0m invalid syntax\n"
     ]
    }
   ],
   "source": [
    "clf = LogisticRegression()\n",
    "clf.fit(x_train, y_train)\n",
    "y_pred = clf.predict(x_test)\n",
    "print('정답률 : ', accuracy_score(y_test, y_pred))\n",
    "print('train 정확도 : %4.4f', %clf.score(x_train, y_train))\n",
    "print('test 정확도 : ', clf.score(x_test, y_test))\n",
    "# 모델이 일반화가 잘 되었다는 것을 알 수 있음"
   ]
  },
  {
   "cell_type": "code",
   "execution_count": null,
   "metadata": {},
   "outputs": [],
   "source": []
  }
 ],
 "metadata": {
  "kernelspec": {
   "display_name": "Python 3",
   "language": "python",
   "name": "python3"
  },
  "language_info": {
   "codemirror_mode": {
    "name": "ipython",
    "version": 3
   },
   "file_extension": ".py",
   "mimetype": "text/x-python",
   "name": "python",
   "nbconvert_exporter": "python",
   "pygments_lexer": "ipython3",
   "version": "3.7.1"
  }
 },
 "nbformat": 4,
 "nbformat_minor": 2
}
