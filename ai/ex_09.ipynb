{
 "cells": [
  {
   "cell_type": "code",
   "execution_count": null,
   "metadata": {},
   "outputs": [],
   "source": [
    "import pandas as pd"
   ]
  },
  {
   "cell_type": "code",
   "execution_count": 10,
   "metadata": {
    "scrolled": true
   },
   "outputs": [
    {
     "name": "stdout",
     "output_type": "stream",
     "text": [
      "AdaBoostClassifier 의 정답률 =  0.9736842105263158\n",
      "BaggingClassifier 의 정답률 =  0.9473684210526315\n",
      "BernoulliNB 의 정답률 =  0.23684210526315788\n",
      "CalibratedClassifierCV 의 정답률 =  0.9736842105263158\n",
      "ComplementNB 의 정답률 =  0.6842105263157895\n",
      "DecisionTreeClassifier 의 정답률 =  0.9210526315789473\n",
      "ExtraTreeClassifier 의 정답률 =  0.9736842105263158\n",
      "ExtraTreesClassifier 의 정답률 =  0.9210526315789473\n",
      "GaussianNB 의 정답률 =  0.9473684210526315\n",
      "GaussianProcessClassifier 의 정답률 =  0.9736842105263158\n",
      "GradientBoostingClassifier 의 정답률 =  0.9473684210526315\n",
      "KNeighborsClassifier 의 정답률 =  0.9736842105263158\n",
      "LabelPropagation 의 정답률 =  0.9473684210526315\n",
      "LabelSpreading 의 정답률 =  0.9736842105263158\n",
      "LinearDiscriminantAnalysis 의 정답률 =  0.9736842105263158\n",
      "LinearSVC 의 정답률 =  0.9736842105263158\n",
      "LogisticRegression 의 정답률 =  1.0\n",
      "LogisticRegressionCV 의 정답률 =  0.9736842105263158\n",
      "MLPClassifier 의 정답률 =  0.9736842105263158\n",
      "MultinomialNB 의 정답률 =  0.9210526315789473\n",
      "NearestCentroid 의 정답률 =  0.9473684210526315\n",
      "NuSVC 의 정답률 =  0.9736842105263158\n",
      "PassiveAggressiveClassifier 의 정답률 =  0.6842105263157895\n",
      "Perceptron 의 정답률 =  0.5263157894736842\n",
      "QuadraticDiscriminantAnalysis 의 정답률 =  1.0\n",
      "RadiusNeighborsClassifier 의 정답률 =  0.9736842105263158\n",
      "RandomForestClassifier 의 정답률 =  0.9473684210526315\n",
      "RidgeClassifier 의 정답률 =  0.868421052631579\n",
      "RidgeClassifierCV 의 정답률 =  0.868421052631579\n",
      "SGDClassifier 의 정답률 =  0.6842105263157895\n",
      "SVC 의 정답률 =  0.9736842105263158\n",
      "1.0\n"
     ]
    }
   ],
   "source": [
    "from sklearn.model_selection import train_test_split\n",
    "from sklearn.metrics import accuracy_score\n",
    "import warnings\n",
    "from sklearn.utils.testing import all_estimators\n",
    "warnings.filterwarnings('ignore')\n",
    "# 붓꽃 데이터를 읽어 들이기\n",
    "iris_data = pd.read_csv(\"iris.csv\", encoding=\"utf-8\")\n",
    "# 붓꽃 데이터를 레이브과 입력 데이터로 분리하기\n",
    "y = iris_data.loc[:,\"Name\"]\n",
    "x = iris_data.loc[:,[\"SepalLength\", \"SepalWidth\", \"PetalLength\", \"PetalWidth\"]]\n",
    "# 학습 전용과 테스트 전용 분리하기\n",
    "x_train, x_test, y_train, y_test = train_test_split(x, y, shuffle = True)\n",
    "# classifier 알고리즘 모두 추출하기 ---(*1)\n",
    "allAlgorithms = all_estimators(type_filter=\"classifier\")\n",
    "bestAlgorithm = []\n",
    "for(name, algorithm) in allAlgorithms:\n",
    "    clf = algorithm() # 각 알고리즘 객체 생성하기 ---(*2)\n",
    "    clf.fit(x_train, y_train) # 학습하고 평가하기 ---(*3)\n",
    "    y_pred = clf.predict(x_test)\n",
    "    print(name, \"의 정답률 = \", accuracy_score(y_test, y_pred))\n",
    "    bestAlgorithm.append(accuracy_score(y_test, y_pred))\n",
    "print(max(bestAlgorithm))"
   ]
  },
  {
   "cell_type": "code",
   "execution_count": 12,
   "metadata": {
    "scrolled": false
   },
   "outputs": [
    {
     "ename": "NameError",
     "evalue": "name 'KFold' is not defined",
     "output_type": "error",
     "traceback": [
      "\u001b[1;31m---------------------------------------------------------------------------\u001b[0m",
      "\u001b[1;31mNameError\u001b[0m                                 Traceback (most recent call last)",
      "\u001b[1;32m<ipython-input-12-f485c8e9f885>\u001b[0m in \u001b[0;36m<module>\u001b[1;34m\u001b[0m\n\u001b[0;32m      7\u001b[0m     \u001b[1;33m{\u001b[0m\u001b[1;34m\"C\"\u001b[0m\u001b[1;33m:\u001b[0m \u001b[1;33m[\u001b[0m\u001b[1;36m1\u001b[0m\u001b[1;33m,\u001b[0m \u001b[1;36m10\u001b[0m\u001b[1;33m,\u001b[0m \u001b[1;36m100\u001b[0m\u001b[1;33m,\u001b[0m \u001b[1;36m1000\u001b[0m\u001b[1;33m]\u001b[0m\u001b[1;33m,\u001b[0m \u001b[1;34m\"kernel\"\u001b[0m\u001b[1;33m:\u001b[0m\u001b[1;33m[\u001b[0m\u001b[1;34m\"sigmoid\"\u001b[0m\u001b[1;33m]\u001b[0m\u001b[1;33m,\u001b[0m \u001b[1;34m\"gamma\"\u001b[0m\u001b[1;33m:\u001b[0m \u001b[1;33m[\u001b[0m\u001b[1;36m0.001\u001b[0m\u001b[1;33m,\u001b[0m \u001b[1;36m0.0001\u001b[0m\u001b[1;33m]\u001b[0m\u001b[1;33m}\u001b[0m\u001b[1;33m\u001b[0m\u001b[1;33m\u001b[0m\u001b[0m\n\u001b[0;32m      8\u001b[0m ]\n\u001b[1;32m----> 9\u001b[1;33m \u001b[0mkfold_cv\u001b[0m \u001b[1;33m=\u001b[0m \u001b[0mKFold\u001b[0m\u001b[1;33m(\u001b[0m\u001b[0mn_splits\u001b[0m\u001b[1;33m=\u001b[0m\u001b[1;36m5\u001b[0m\u001b[1;33m,\u001b[0m \u001b[0mshuffle\u001b[0m \u001b[1;33m=\u001b[0m \u001b[1;32mTrue\u001b[0m\u001b[1;33m)\u001b[0m\u001b[1;33m\u001b[0m\u001b[1;33m\u001b[0m\u001b[0m\n\u001b[0m\u001b[0;32m     10\u001b[0m \u001b[0mclf\u001b[0m \u001b[1;33m=\u001b[0m \u001b[0mGridSearchCV\u001b[0m\u001b[1;33m(\u001b[0m\u001b[0mSVC\u001b[0m\u001b[1;33m(\u001b[0m\u001b[1;33m)\u001b[0m\u001b[1;33m,\u001b[0m \u001b[0mparameters\u001b[0m\u001b[1;33m,\u001b[0m \u001b[0mcv\u001b[0m \u001b[1;33m=\u001b[0m \u001b[0mkfold_cv\u001b[0m\u001b[1;33m)\u001b[0m \u001b[1;31m# 그리드 서치 ---(*2)\u001b[0m\u001b[1;33m\u001b[0m\u001b[1;33m\u001b[0m\u001b[0m\n\u001b[0;32m     11\u001b[0m \u001b[0mclf\u001b[0m\u001b[1;33m.\u001b[0m\u001b[0mfit\u001b[0m\u001b[1;33m(\u001b[0m\u001b[0mx_train\u001b[0m\u001b[1;33m,\u001b[0m \u001b[0my_train\u001b[0m\u001b[1;33m)\u001b[0m\u001b[1;33m\u001b[0m\u001b[1;33m\u001b[0m\u001b[0m\n",
      "\u001b[1;31mNameError\u001b[0m: name 'KFold' is not defined"
     ]
    }
   ],
   "source": [
    "from sklearn.svm import SVC\n",
    "from sklearn.model_selection import GridSearchCV\n",
    "# 그리드 서치에서 사용할 매개 변수 ---(*1)\n",
    "parameters = [\n",
    "    {\"C\": [1, 10, 100, 1000], \"kernel\":[\"linear\"]},\n",
    "    {\"C\": [1, 10, 100, 1000], \"kernel\":[\"rbf\"], \"gamma\":[0.001, 0.0001]},\n",
    "    {\"C\": [1, 10, 100, 1000], \"kernel\":[\"sigmoid\"], \"gamma\": [0.001, 0.0001]}\n",
    "]\n",
    "kfold_cv = KFold(n_splits=5, shuffle = True)\n",
    "clf = GridSearchCV(SVC(), parameters, cv = kfold_cv) # 그리드 서치 ---(*2)\n",
    "clf.fit(x_train, y_train)\n",
    "print(\"최적의 매개 변수 = \", clf.best_estimator_)\n",
    "y_pred = clf.predict(x_test) # 최적의 매개 변수로 평가하기 ---(*3)\n",
    "print(\"최종 정답률 = \", accuracy_score(y_test, y_pred))"
   ]
  }
 ],
 "metadata": {
  "kernelspec": {
   "display_name": "Python 3",
   "language": "python",
   "name": "python3"
  },
  "language_info": {
   "codemirror_mode": {
    "name": "ipython",
    "version": 3
   },
   "file_extension": ".py",
   "mimetype": "text/x-python",
   "name": "python",
   "nbconvert_exporter": "python",
   "pygments_lexer": "ipython3",
   "version": "3.7.1"
  }
 },
 "nbformat": 4,
 "nbformat_minor": 2
}
