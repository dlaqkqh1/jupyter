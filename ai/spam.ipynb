{
 "cells": [
  {
   "cell_type": "code",
   "execution_count": 2,
   "metadata": {},
   "outputs": [],
   "source": [
    "from sklearn.feature_extraction.text import TfidfTransformer\n",
    "import pickle\n",
    "from sklearn.feature_extraction.text import CountVectorizer"
   ]
  },
  {
   "cell_type": "code",
   "execution_count": 1,
   "metadata": {},
   "outputs": [],
   "source": [
    "spam_header='spam\\t'\n",
    "no_spam_header='ham\\t'\n",
    "documents=[]\n",
    "labels=[]\n",
    "with open('SMSSpamCollection1', encoding=\"utf-8\") as file_handle:\n",
    "    for line in file_handle: #파일을 한 줄씩 읽는다.\n",
    "        #startsWith() 메소드는 어떤 문자열이 특정 문자로 시작하는지 확인하여 결과를 true 혹은 false로 반환.\n",
    "        if line.startswith(spam_header): \n",
    "            labels.append(1) #레이블 값 입력\n",
    "            documents.append(line[len(spam_header):]) #각 줄에서 레이블 부분만 떼어내고 나머지를 documents에 넣는다.\n",
    "        elif line.startswith(no_spam_header):\n",
    "            labels.append(0)\n",
    "            documents.append(line[len(no_spam_header):])"
   ]
  },
  {
   "cell_type": "code",
   "execution_count": 31,
   "metadata": {
    "scrolled": true
   },
   "outputs": [
    {
     "name": "stdout",
     "output_type": "stream",
     "text": [
      "  (0, 2669)\t1\n",
      "  (0, 1104)\t1\n",
      "  (0, 2441)\t1\n",
      "  (0, 601)\t1\n",
      "  (0, 1381)\t1\n",
      "  (0, 2757)\t1\n",
      "  (0, 1112)\t1\n",
      "  (0, 492)\t1\n",
      "  (0, 1261)\t1\n",
      "  (0, 1762)\t1\n",
      "  (0, 348)\t1\n",
      "  (0, 687)\t1\n",
      "  (0, 1882)\t1\n",
      "  (0, 2578)\t1\n",
      "  (0, 1089)\t1\n",
      "  (1, 1760)\t1\n",
      "  (1, 2717)\t1\n",
      "  (1, 1338)\t1\n",
      "  (1, 1390)\t1\n",
      "  (1, 1749)\t1\n",
      "  (2, 302)\t1\n",
      "  (2, 1970)\t1\n",
      "  (2, 2547)\t1\n",
      "  (2, 2305)\t1\n",
      "  (2, 1948)\t1\n",
      "  :\t:\n",
      "  (5572, 501)\t1\n",
      "  (5572, 1058)\t1\n",
      "  (5572, 854)\t1\n",
      "  (5572, 2247)\t1\n",
      "  (5572, 498)\t1\n",
      "  (5572, 2593)\t1\n",
      "  (5572, 762)\t1\n",
      "  (5572, 1698)\t1\n",
      "  (5572, 384)\t1\n",
      "  (5572, 2434)\t1\n",
      "  (5572, 1003)\t1\n",
      "  (5572, 2242)\t1\n",
      "  (5572, 1439)\t1\n",
      "  (5572, 278)\t1\n",
      "  (5572, 2686)\t1\n",
      "  (5572, 1309)\t1\n",
      "  (5572, 1164)\t1\n",
      "  (5572, 2486)\t1\n",
      "  (5572, 1017)\t1\n",
      "  (5572, 1261)\t1\n",
      "  (5573, 2059)\t1\n",
      "  (5573, 2528)\t1\n",
      "  (5573, 1311)\t2\n",
      "  (5573, 1671)\t1\n",
      "  (5573, 2486)\t1\n"
     ]
    }
   ],
   "source": [
    "vectorizer = CountVectorizer(min_df=3, stop_words=\"english\")\n",
    "X = vectorizer.fit_transform(documents)\n",
    "print(X)"
   ]
  },
  {
   "cell_type": "code",
   "execution_count": 7,
   "metadata": {},
   "outputs": [
    {
     "name": "stdout",
     "output_type": "stream",
     "text": [
      "['00', '000', '02', '0207', '03', '04', '05', '06', '07xxxxxxxxx', '0800', '08000839402', '08000930705', '08000938767', '08001950382', '08002986906', '0808', '0845', '08452810073', '0870', '08701417012', '08702840625', '08707509020', '0871', '08712300220', '08712405020', '08712460324', '08715705022', '08717898035', '08718720201', '087187262701', '08718727870', '09', '09050090044', '09061209465', '09061221066', '09061790121', '09063458130', '09066612661', '10', '100', '1000', '1000s', '100percent', '10am', '10k', '10p', '11', '114', '11mths', '11pm', '12', '121', '123', '125gift', '12hrs', '1327', '14', '145', '1450', '15', '150', '1500', '150p', '150pm', '150ppermesssubscription', '150ppm', '16', '18', '18yrs', '1956669', '1st', '1winaweek', '1x150p', '20', '200', '2000', '2003', '2004', '2005', '20p', '21', '21st', '220', '24', '25', '250', '25p', '26', '28', '29', '2day', '2go', '2lands', '2moro', '2morow', '2morrow', '2mrw', '2nd', '2nite', '2optout', '2stoptxt', '2u', '30', '300', '3030', '31', '33', '350', '3510i', '36504', '3d', '3g', '3gbp', '3lp', '3mins', '3qxj9', '3rd', '3uz', '400', '40gb', '434', '45239', '4742', '4get', '4info', '4mths', '4t', '4th', '4u', '50', '500', '5000', '50gbp', '50p', '50perwksub', '530', '542', '5min', '5p', '5th', '5wb', '5we', '60p', '62468', '6hrs', '6months', '6pm', '6th', '7250i', '75', '750', '786', '7pm', '7th', '800', '80062', '8007', '80082', '80182', '80488', '80878', '81151', '81303', '81618', '82277', '83222', '83355', '83600', '84025', '84128', '84199', '85023', '86021', '86688', '87021', '87066', '87077', '87121', '87131', '87239', '87575', '88039', '88600', '89545', '89555', '8th', '8wp', '900', '9ae', '9am', '9ja', '9pm', '9t', 'aah', 'aathi', 'abi', 'abiola', 'able', 'abt', 'abta', 'ac', 'acc', 'accept', 'access', 'accident', 'accidentally', 'accordingly', 'account', 'ache', 'action', 'activate', 'activities', 'actually', 'ad', 'add', 'added', 'addie', 'address', 'admirer', 'adore', 'adult', 'advance', 'advice', 'advise', 'affairs', 'affection', 'afraid', 'aft', 'afternoon', 'aftr', 'age', 'age16', 'ages', 'ago', 'ah', 'aha', 'ahead', 'ahmad', 'aight', 'ain', 'aint', 'air', 'airport', 'aiya', 'aiyah', 'aiyar', 'aiyo', 'al', 'album', 'alcohol', 'alert', 'alex', 'alfie', 'alive', 'allah', 'alright', 'alrite', 'alwys', 'amazing', 'american', 'amp', 'amt', 'angry', 'announcement', 'ans', 'ansr', 'answer', 'answering', 'answers', 'anti', 'anybody', 'anymore', 'anythin', 'anytime', 'anyways', 'apartment', 'apologise', 'app', 'apparently', 'apply', 'appointment', 'appreciate', 'apps', 'appt', 'april', 'ar', 'arcade', 'ard', 'area', 'aren', 'argh', 'argue', 'argument', 'armand', 'arms', 'arng', 'arrange', 'arrested', 'arrive', 'art', 'arun', 'asap', 'ask', 'askd', 'asked', 'askin', 'asking', 'asks', 'asleep', 'ass', 'assume', 'ate', 'atlanta', 'atm', 'attempt', 'attend', 'auction', 'audition', 'august', 'aunty', 'auto', 'available', 'avatar', 'ave', 'avent', 'await', 'awaiting', 'awake', 'award', 'awarded', 'away', 'awesome', 'b4', 'babe', 'babes', 'baby', 'bad', 'bag', 'bags', 'bak', 'balance', 'bank', 'banks', 'barely', 'basic', 'basically', 'bat', 'bath', 'bathe', 'bathing', 'battery', 'bay', 'bb', 'bcoz', 'bcums', 'bday', 'beautiful', 'becoz', 'bed', 'bedroom', 'beer', 'befor', 'begin', 'behave', 'bein', 'believe', 'bell', 'belly', 'belovd', 'ben', 'best', 'best1', 'bet', 'better', 'beware', 'bf', 'bid', 'big', 'bigger', 'biggest', 'billed', 'bin', 'birds', 'birla', 'birth', 'birthday', 'bishan', 'bit', 'bitch', 'biz', 'black', 'blackberry', 'blake', 'blame', 'bless', 'blessings', 'bloke', 'blood', 'bloody', 'blow', 'blue', 'bluetooth', 'bmw', 'boat', 'body', 'bold', 'bonus', 'boo', 'book', 'booked', 'booking', 'books', 'boost', 'booty', 'bored', 'boring', 'born', 'boss', 'boston', 'bother', 'bought', 'bout', 'bowl', 'box', 'box39822', 'box95qu', 'box97n7qp', 'boy', 'boye', 'boys', 'boytoy', 'brain', 'brand', 'break', 'bright', 'brilliant', 'bring', 'bringing', 'brings', 'bro', 'broke', 'bros', 'brothas', 'brother', 'brought', 'bslvyl', 'bstfrnd', 'bt', 'btw', 'bucks', 'bud', 'budget', 'buff', 'bugis', 'building', 'buns', 'bus', 'business', 'busy', 'butt', 'buy', 'buying', 'buzy', 'buzz', 'bx420', 'bye', 'cabin', 'cafe', 'cake', 'cal', 'calicut', 'california', 'call2optout', 'callback', 'called', 'caller', 'callers', 'callertune', 'callin', 'calling', 'calls', 'cam', 'camcorder', 'came', 'camera', 'campus', 'cancel', 'cancer', 'cann', 'car', 'card', 'cardiff', 'care', 'career', 'careful', 'carefully', 'cares', 'caring', 'carlos', 'carry', 'cars', 'cartoon', 'case', 'cash', 'cat', 'catch', 'catching', 'caught', 'cause', 'cbe', 'cc', 'cd', 'cds', 'celeb', 'celebrate', 'cell', 'center', 'centre', 'certainly', 'cha', 'chain', 'challenge', 'chance', 'change', 'changed', 'character', 'charge', 'charged', 'charges', 'charity', 'chasing', 'chat', 'chatting', 'cheap', 'cheaper', 'chechi', 'check', 'checked', 'checking', 'cheer', 'cheers', 'chennai', 'chicken', 'chikku', 'child', 'childish', 'children', 'chill', 'chillin', 'china', 'chinese', 'choice', 'choose', 'chosen', 'christmas', 'church', 'cine', 'cinema', 'citizen', 'city', 'claim', 'class', 'clean', 'cleaning', 'clear', 'click', 'clock', 'clos1', 'close', 'closed', 'closer', 'club', 'cm2', 'cn', 'cock', 'code', 'coffee', 'coins', 'cold', 'colleagues', 'collect', 'collected', 'collecting', 'collection', 'college', 'colour', 'com', 'com1win150ppmx3age16', 'come', 'comedy', 'comes', 'comin', 'coming', 'common', 'community', 'comp', 'company', 'competition', 'complete', 'completely', 'complimentary', 'computer', 'comuk', 'concentrate', 'concert', 'conditions', 'confidence', 'confirm', 'confirmed', 'congrats', 'congratulations', 'connect', 'connection', 'considering', 'constantly', 'contact', 'contacted', 'content', 'contract', 'convey', 'cook', 'cooking', 'cool', 'copy', 'cornwall', 'correct', 'cos', 'cost', 'costa', 'costs', 'couldn', 'country', 'couple', 'course', 'cover', 'coz', 'cr9', 'crack', 'cramps', 'crave', 'crazy', 'cream', 'created', 'credit', 'credited', 'credits', 'cross', 'croydon', 'cruise', 'cs', 'csbcm4235wc1n3xx', 'cud', 'cuddle', 'cum', 'cup', 'current', 'currently', 'cust', 'custcare', 'customer', 'cut', 'cute', 'cutefrnd', 'cuz', 'cw25wx', 'da', 'dad', 'daddy', 'dai', 'daily', 'damn', 'dare', 'dark', 'darlin', 'darling', 'darren', 'dat', 'date', 'dates', 'dating', 'dave', 'day', 'days', 'dead', 'deal', 'dear', 'dear1', 'dearer', 'dearly', 'death', 'december', 'decide', 'decided', 'decimal', 'decision', 'deep', 'def', 'definitely', 'del', 'deleted', 'deliver', 'delivered', 'deliveredtomorrow', 'delivery', 'dem', 'den', 'depends', 'derek', 'details', 'dey', 'di', 'dick', 'dictionary', 'did', 'didn', 'didnt', 'die', 'died', 'diet', 'diff', 'different', 'difficult', 'dificult', 'digital', 'dignity', 'din', 'dinner', 'dint', 'direct', 'directly', 'dirty', 'dis', 'discount', 'discuss', 'dislikes', 'display', 'distance', 'disturb', 'dload', 'dnt', 'doc', 'docs', 'doctor', 'does', 'doesn', 'doesnt', 'dog', 'dogging', 'doggy', 'doin', 'doing', 'dollars', 'don', 'dont', 'door', 'doors', 'dot', 'double', 'download', 'downloads', 'draw', 'dream', 'dreams', 'dress', 'dresser', 'drink', 'drinking', 'drinks', 'drive', 'drivin', 'driving', 'drop', 'dropped', 'drug', 'drugs', 'drunk', 'dry', 'dubsack', 'dude', 'dun', 'dunno', 'dvd', 'earlier', 'early', 'earth', 'easier', 'easy', 'eat', 'eaten', 'eatin', 'eating', 'ec2a', 'eerie', 'egg', 'eggs', 'eh', 'em', 'email', 'embarassed', 'end', 'ended', 'ending', 'ends', 'enemy', 'energy', 'eng', 'england', 'english', 'enjoy', 'enjoyed', 'enter', 'entered', 'entitled', 'entry', 'enuff', 'envelope', 'er', 'erm', 'escape', 'ese', 'especially', 'esplanade', 'essential', 'euro', 'euro2004', 'eve', 'evening', 'everybody', 'evn', 'evng', 'ex', 'exact', 'exactly', 'exam', 'exams', 'excellent', 'exciting', 'excuse', 'executive', 'exhausted', 'expect', 'expecting', 'expensive', 'experience', 'expires', 'explain', 'express', 'extra', 'eye', 'eyes', 'face', 'facebook', 'fact', 'failed', 'fair', 'fall', 'falls', 'family', 'fancies', 'fancy', 'fantasies', 'fantastic', 'fantasy', 'far', 'farm', 'fast', 'faster', 'fat', 'father', 'fathima', 'fault', 'fave', 'favor', 'favour', 'favourite', 'fb', 'fear', 'feb', 'february', 'feel', 'feelin', 'feeling', 'feels', 'fees', 'feet', 'fell', 'felt', 'female', 'fetch', 'fever', 'fight', 'fighting', 'fightng', 'figure', 'file', 'files', 'fills', 'film', 'films', 'final', 'finally', 'fine', 'fingers', 'finish', 'finished', 'finishes', 'finishing', 'fish', 'fit', 'fix', 'fixed', 'flag', 'flaked', 'flash', 'flat', 'flight', 'flights', 'flirt', 'floor', 'flower', 'fml', 'follow', 'followed', 'following', 'fone', 'food', 'fool', 'football', 'force', 'foreign', 'forever', 'forevr', 'forget', 'forgot', 'forward', 'forwarded', 'fr', 'fran', 'freak', 'free', 'freefone', 'freemsg', 'freephone', 'freezing', 'fren', 'frens', 'fri', 'friday', 'friend', 'friends', 'friendship', 'frm', 'frnd', 'frnds', 'frndship', 'fromm', 'fuck', 'fuckin', 'fucking', 'ful', 'fullonsms', 'fun', 'funny', 'future', 'fyi', 'gal', 'gals', 'game', 'games', 'gang', 'gap', 'gaps', 'garage', 'gardener', 'gary', 'gas', 'gautham', 'gave', 'gay', 'gbp', 'gd', 'ge', 'gee', 'geeee', 'generally', 'gentle', 'gentleman', 'gently', 'genuine', 'germany', 'gets', 'gettin', 'getting', 'getzed', 'gift', 'gimme', 'girl', 'girlfrnd', 'girls', 'giv', 'given', 'gives', 'giving', 'glad', 'gm', 'gn', 'god', 'goes', 'goin', 'going', 'gona', 'gone', 'gonna', 'good', 'goodmorning', 'goodnight', 'goodnite', 'google', 'gorgeous', 'gossip', 'got', 'goto', 'gotta', 'govt', 'gr8', 'grahmbell', 'grand', 'gravity', 'great', 'green', 'greet', 'greetings', 'grins', 'ground', 'group', 'gt', 'guaranteed', 'gud', 'gudnite', 'guess', 'guide', 'guilty', 'guy', 'guys', 'gym', 'ha', 'haf', 'haha', 'hahaha', 'hai', 'hair', 'haiz', 'half', 'halloween', 'hand', 'handed', 'handle', 'hands', 'handset', 'hanging', 'happen', 'happend', 'happened', 'happening', 'happens', 'happiness', 'happy', 'hard', 'hardcore', 'hasn', 'hate', 'hav', 'haven', 'havent', 'havin', 'having', 'havnt', 'head', 'headache', 'hear', 'heard', 'heart', 'heavy', 'hee', 'height', 'hell', 'hella', 'hello', 'help', 'hey', 'hg', 'hi', 'high', 'hill', 'hip', 'history', 'hit', 'hiya', 'hl', 'hmm', 'hmmm', 'hmv', 'ho', 'hold', 'holder', 'holding', 'holiday', 'holla', 'hols', 'home', 'homeowners', 'hon', 'honey', 'honeybee', 'hook', 'hop', 'hope', 'hopefully', 'hoping', 'horny', 'horrible', 'hospital', 'hostel', 'hot', 'hotel', 'hour', 'hours', 'house', 'hows', 'howz', 'hr', 'hrs', 'http', 'hubby', 'hug', 'huh', 'hun', 'hungry', 'hunny', 'hurry', 'hurt', 'hurts', 'husband', 'hv', 'hw', 'iam', 'ibhltd', 'ibiza', 'ic', 'ice', 'id', 'idea', 'ideas', 'identifier', 'idiot', 'idk', 'ignore', 'ikea', 'il', 'ill', 'im', 'imagine', 'imma', 'immediately', 'important', 'impossible', 'in2', 'inches', 'incident', 'include', 'including', 'inclusive', 'india', 'indian', 'indians', 'infernal', 'info', 'inform', 'information', 'informed', 'innings', 'insha', 'inside', 'instantly', 'instead', 'instituitions', 'instructions', 'insurance', 'intelligent', 'interested', 'interesting', 'internet', 'interview', 'intro', 'invite', 'invited', 'inviting', 'invnted', 'iouri', 'ip4', 'ipod', 'iq', 'irritating', 'iscoming', 'ish', 'islands', 'isn', 'isnt', 'issue', 'issues', 'italian', 'itz', 'ive', 'iz', 'izzit', 'jada', 'james', 'jamster', 'jan', 'jane', 'january', 'jason', 'java', 'jay', 'jazz', 'jealous', 'jen', 'jess', 'jesus', 'jiu', 'job', 'john', 'join', 'joined', 'joke', 'jokes', 'joking', 'jordan', 'journey', 'joy', 'jst', 'jstfrnd', 'juicy', 'july', 'june', 'jus', 'just', 'juz', 'k52', 'kadeem', 'kallis', 'kano', 'karaoke', 'kate', 'kb', 'keeping', 'kept', 'kerala', 'kettoda', 'key', 'keys', 'kick', 'kids', 'kidz', 'kind', 'kinda', 'kindly', 'king', 'kiss', 'kisses', 'knackered', 'knew', 'know', 'knowing', 'knows', 'knw', 'kusruthi', 'l8r', 'la', 'lab', 'lacs', 'ladies', 'lady', 'laid', 'land', 'landline', 'laptop', 'lar', 'largest', 'late', 'later', 'latest', 'latr', 'laugh', 'laughed', 'laughing', 'law', 'lazy', 'ldew', 'ldn', 'ldnw15h', 'le', 'lead', 'learn', 'leave', 'leaves', 'leaving', 'lect', 'lecture', 'left', 'legal', 'legs', 'leh', 'lei', 'lemme', 'leona', 'lesson', 'lessons', 'let', 'lets', 'letter', 'letters', 'liao', 'library', 'lick', 'lido', 'lie', 'life', 'lifetime', 'lifpartnr', 'lift', 'light', 'lik', 'like', 'liked', 'likely', 'likes', 'lil', 'line', 'linerental', 'lines', 'link', 'list', 'listen', 'listening', 'little', 'live', 'liverpool', 'lives', 'living', 'll', 'lmao', 'loads', 'loan', 'local', 'locations', 'log', 'login', 'logo', 'lol', 'london', 'lonely', 'long', 'longer', 'look', 'looked', 'lookin', 'looking', 'looks', 'lor', 'lose', 'loses', 'losing', 'loss', 'lost', 'lot', 'lots', 'loud', 'lounge', 'lousy', 'lovable', 'love', 'loved', 'lovely', 'lover', 'loverboy', 'loves', 'loving', 'low', 'loyalty', 'lt', 'luck', 'lucky', 'lunch', 'luv', 'luxury', 'lvblefrnd', 'm26', 'm263uz', 'm8', 'm8s', 'ma', 'machan', 'macho', 'mad', 'madam', 'maga', 'magical', 'mah', 'maid', 'mail', 'maintain', 'major', 'make', 'makes', 'making', 'malaria', 'male', 'mall', 'man', 'management', 'manda', 'maneesha', 'map', 'march', 'margaret', 'mark', 'market', 'marriage', 'married', 'marry', 'mas', 'masters', 'match', 'matches', 'mate', 'mates', 'matrix3', 'matter', 'matured', 'max', 'max10mins', 'maximize', 'mayb', 'maybe', 'meal', 'mean', 'meaning', 'means', 'meant', 'measure', 'med', 'medical', 'medicine', 'meds', 'meet', 'meetin', 'meeting', 'meh', 'melle', 'member', 'members', 'membership', 'men', 'menu', 'merry', 'message', 'messages', 'messenger', 'met', 'mid', 'middle', 'midnight', 'milk', 'min', 'mind', 'mini', 'minmobsmorelkpobox177hp51fl', 'minnaminunginte', 'mins', 'minute', 'minutes', 'minuts', 'miracle', 'miss', 'missed', 'missing', 'mistake', 'mite', 'mix', 'mm', 'mmm', 'mmmm', 'mnth', 'mo', 'moan', 'mob', 'mobile', 'mobiles', 'mobilesdirect', 'mobileupd8', 'moby', 'mode', 'model', 'moji', 'mom', 'moment', 'moments', 'moms', 'mon', 'monday', 'money', 'mono', 'month', 'monthly', 'months', 'mood', 'moon', 'moral', 'morn', 'morning', 'morphine', 'mother', 'motorola', 'moved', 'movie', 'movies', 'mp3', 'mr', 'mrng', 'mrt', 'msg', 'msging', 'msgrcvdhg', 'msgs', 'mt', 'mths', 'mtmsg18', 'mtmsgrcvd18', 'mu', 'mum', 'mummy', 'murder', 'murdered', 'murderer', 'music', 'muz', 'na', 'nah', 'naked', 'names', 'nan', 'nap', 'nat', 'national', 'natural', 'nature', 'naughty', 'nd', 'ne', 'near', 'nearly', 'need', 'needed', 'needs', 'neighbour', 'net', 'netcollex', 'network', 'networking', 'networks', 'neva', 'new', 'newest', 'news', 'ni8', 'nice', 'nichols', 'nigeria', 'night', 'nights', 'nimya', 'nite', 'no1', 'noe', 'nokia', 'nokias', 'noline', 'noon', 'nope', 'norm', 'norm150p', 'normal', 'normally', 'note', 'notice', 'nt', 'ntt', 'ntwk', 'num', 'number', 'numbers', 'nurungu', 'nvm', 'nw', 'nxt', 'nyc', 'nyt', 'o2', 'obviously', 'offer', 'offers', 'office', 'official', 'oh', 'oic', 'ok', 'okay', 'okey', 'okie', 'old', 'omg', 'omw', 'ones', 'oni', 'online', 'onwards', 'oops', 'open', 'operator', 'opinion', 'opportunity', 'opt', 'option', 'optout', 'or2stoptxt', 'orange', 'orchard', 'order', 'ordered', 'oredi', 'original', 'oru', 'oso', 'outside', 'outstanding', 'outta', 'oz', 'pa', 'package', 'page', 'pages', 'paid', 'pain', 'painful', 'paper', 'parents', 'paris', 'park', 'parked', 'parking', 'partner', 'party', 'pass', 'passed', 'passionate', 'password', 'past', 'pay', 'paying', 'payoh', 'pc', 'peace', 'pence', 'pending', 'people', 'perfect', 'period', 'person', 'personal', 'personality', 'persons', 'pete', 'petrol', 'ph', 'philosophy', 'phne', 'phone', 'phones', 'photo', 'photos', 'pic', 'pick', 'picked', 'picking', 'pics', 'picture', 'pictures', 'pie', 'pieces', 'pig', 'pilates', 'pin', 'pink', 'pissed', 'pix', 'pizza', 'place', 'places', 'plan', 'plane', 'planned', 'planning', 'plans', 'play', 'played', 'player', 'players', 'playing', 'pleased', 'pleasure', 'plenty', 'pls', 'plus', 'plz', 'pm', 'po', 'pobox', 'pobox334', 'pobox36504w45wq', 'pobox84', 'pocketbabe', 'pod', 'point', 'points', 'police', 'poly', 'polyph', 'polyphonic', 'polys', 'pongal', 'poor', 'pop', 'popped', 'porn', 'possession', 'possible', 'post', 'postcode', 'posted', 'potential', 'pound', 'pounds', 'power', 'ppl', 'pple', 'ppm', 'prabha', 'practice', 'pray', 'praying', 'prefer', 'preferably', 'prepare', 'present', 'press', 'pretty', 'previous', 'previously', 'prey', 'price', 'princess', 'private', 'prize', 'prob', 'probably', 'problem', 'problems', 'process', 'profit', 'project', 'prolly', 'promise', 'proof', 'prospects', 'prove', 'provided', 'ptbo', 'pub', 'public', 'purchase', 'purity', 'purpose', 'pussy', 'putting', 'qatar', 'quality', 'queen', 'question', 'questioned', 'questions', 'quick', 'quickly', 'quit', 'quite', 'quiz', 'quote', 'quoting', 'radio', 'railway', 'rain', 'raining', 'raise', 'raji', 'rakhesh', 'ran', 'random', 'randomly', 'rang', 'ranjith', 'rate', 'rates', 'rays', 'rcvd', 'rd', 'reach', 'reached', 'reaching', 'read', 'reading', 'ready', 'real', 'reality', 'realize', 'realized', 'really', 'realy', 'reason', 'reasons', 'recd', 'receipt', 'receive', 'received', 'receiving', 'recent', 'recently', 'record', 'records', 'red', 'redeemed', 'ref', 'reference', 'refused', 'regarding', 'regards', 'register', 'registered', 'regret', 'regular', 'relation', 'relax', 'released', 'rem', 'remain', 'remains', 'remember', 'remembered', 'remind', 'reminder', 'remove', 'rent', 'rental', 'rentl', 'replied', 'reply', 'replying', 'report', 'representative', 'request', 'requests', 'research', 'respect', 'responce', 'respond', 'responding', 'response', 'rest', 'result', 'results', 'return', 'returned', 'returns', 'reveal', 'revealed', 'review', 'reward', 'rich', 'ride', 'right', 'ring', 'ringtone', 'ringtones', 'rite', 'road', 'roads', 'roast', 'rock', 'rofl', 'roger', 'role', 'romantic', 'ron', 'room', 'roommate', 'roommates', 'rooms', 'rose', 'round', 'row', 'rply', 'rs', 'ru', 'rude', 'rule', 'run', 'running', 'runs', 'rush', 'sachin', 'sad', 'sae', 'safe', 'said', 'salary', 'sale', 'sam', 'sat', 'satisfied', 'saturday', 'saucy', 'savamob', 'save', 'saved', 'saw', 'say', 'saying', 'says', 'scared', 'scary', 'sch', 'schedule', 'school', 'science', 'score', 'scotland', 'scream', 'screaming', 'screen', 'sea', 'search', 'searching', 'season', 'sec', 'second', 'seconds', 'secret', 'sed', 'seeing', 'seen', 'selected', 'selection', 'self', 'sell', 'selling', 'semester', 'sen', 'send', 'sender', 'sending', 'sense', 'sent', 'sentence', 'senthil', 'sept', 'series', 'seriously', 'service', 'services', 'set', 'settings', 'settle', 'settled', 'seven', 'sex', 'sexy', 'sh', 'sha', 'shall', 'shame', 'share', 'shd', 'sheets', 'shesil', 'shijas', 'shirt', 'shirts', 'shit', 'shld', 'shoot', 'shop', 'shopping', 'short', 'shortage', 'shorter', 'shortly', 'shot', 'shouldn', 'shouted', 'shower', 'showing', 'shows', 'shuhui', 'shut', 'shy', 'si', 'sick', 'sighs', 'sight', 'sign', 'silent', 'sim', 'simple', 'simply', 'sing', 'single', 'singles', 'sipix', 'sir', 'sis', 'sister', 'sit', 'site', 'sitting', 'situation', 'sk3', 'sk38xh', 'skilgme', 'skillgame', 'skip', 'sky', 'skype', 'slap', 'slave', 'sleep', 'sleeping', 'slept', 'slippers', 'slow', 'slowly', 'small', 'smart', 'smile', 'smiles', 'smiling', 'smoke', 'smokes', 'smoking', 'sms', 'smth', 'sn', 'snow', 'social', 'sofa', 'soft', 'software', 'sol', 'solve', 'some1', 'somebody', 'somethin', 'song', 'songs', 'sony', 'sonyericsson', 'soon', 'sooner', 'sore', 'sorry', 'sort', 'sorted', 'sorting', 'sory', 'soryda', 'sound', 'sounds', 'soup', 'source', 'south', 'sp', 'space', 'spanish', 'speak', 'special', 'specially', 'speechless', 'speed', 'spell', 'spend', 'spending', 'spent', 'spk', 'spl', 'spoke', 'spoken', 'spook', 'sport', 'spree', 'sry', 'st', 'staff', 'stamps', 'stand', 'standard', 'standing', 'stars', 'start', 'started', 'starting', 'starts', 'starwars3', 'statement', 'station', 'stay', 'staying', 'std', 'step', 'stock', 'stockport', 'stomach', 'stop', 'stopped', 'stops', 'store', 'storming', 'story', 'str', 'straight', 'stranger', 'street', 'stress', 'strike', 'strong', 'stuck', 'students', 'study', 'studying', 'stuff', 'stupid', 'style', 'stylish', 'sub', 'subpoly', 'subs', 'subscribed', 'subscriber', 'subscription', 'successful', 'successfully', 'sucks', 'sugar', 'suggest', 'suite', 'suite342', 'sum1', 'summer', 'sun', 'sunday', 'sunny', 'sunshine', 'suntec', 'sup', 'super', 'supervisor', 'supply', 'support', 'supposed', 'suprman', 'sura', 'sure', 'surely', 'surfing', 'surprise', 'surprised', 'sweet', 'sweetest', 'swimming', 'swing', 'switch', 'swt', 'swtheart', 'symbol', 'ta', 'table', 'tablets', 'taken', 'takes', 'takin', 'taking', 'talent', 'talk', 'talking', 'tampa', 'tape', 'tariffs', 'tat', 'taunton', 'taylor', 'tb', 'tc', 'tcr', 'tcs', 'tea', 'teach', 'team', 'tear', 'tease', 'teasing', 'technical', 'teeth', 'tel', 'tell', 'telling', 'tells', 'telphone', 'temp', 'temple', 'tenants', 'tenerife', 'term', 'terms', 'terrible', 'tessy', 'test', 'tests', 'text', 'textcomp', 'texted', 'texting', 'textoperator', 'texts', 'th', 'thangam', 'thank', 'thanks', 'thanksgiving', 'thanx', 'thats', 'theatre', 'themob', 'theory', 'thing', 'things', 'think', 'thinkin', 'thinking', 'thinks', 'thk', 'thm', 'thnk', 'tho', 'thought', 'threats', 'throat', 'throw', 'ths', 'tht', 'thts', 'thurs', 'thursday', 'ticket', 'tickets', 'til', 'till', 'time', 'times', 'timing', 'tired', 'tirupur', 'tis', 'title', 'titles', 'tkts', 'tlp', 'tm', 'tmr', 'tncs', 'toa', 'toclaim', 'today', 'todays', 'tog', 'told', 'toll', 'tom', 'tomarrow', 'tomo', 'tomorrow', 'tone', 'tones', 'tonight', 'tonite', 'took', 'torch', 'tot', 'total', 'totally', 'touch', 'touched', 'tough', 'tour', 'town', 'track', 'train', 'training', 'transaction', 'transfer', 'transfered', 'travel', 'treat', 'tree', 'tried', 'trip', 'trouble', 'true', 'truly', 'trust', 'truth', 'try', 'trying', 'ts', 'tscs', 'tscs087147403231winawk', 'tt', 'ttyl', 'tuesday', 'tuition', 'turn', 'turns', 'tv', 'twice', 'txt', 'txtauction', 'txtin', 'txting', 'txts', 'tyler', 'type', 'tyrone', 'u4', 'ugh', 'uk', 'uks', 'umma', 'ummmmmaah', 'unable', 'uncle', 'uncles', 'understand', 'understanding', 'understood', 'uni', 'unique', 'university', 'unless', 'unlimited', 'unredeemed', 'unsold', 'unsub', 'unsubscribe', 'update', 'upgrade', 'upload', 'upset', 'upto', 'ur', 'urawinner', 'ure', 'urgent', 'urgently', 'urgnt', 'url', 'urself', 'usc', 'use', 'used', 'user', 'usf', 'using', 'usual', 'usually', 'valentine', 'valentines', 'valid', 'valid12hrs', 'valuable', 'value', 'valued', 'various', 'vary', 'vava', 've', 'vegetables', 'verify', 'version', 'vettam', 'video', 'videochat', 'videophones', 'vijay', 'vikky', 'village', 'violence', 'vip', 'visit', 'vl', 'voda', 'vodafone', 'vodka', 'voice', 'voicemail', 'vomit', 'vote', 'voucher', 'vouchers', 'vry', 'w1', 'w111wx', 'w1j6hl', 'w1jhl', 'w45wq', 'wa', 'wah', 'wait', 'waitin', 'waiting', 'wake', 'waking', 'wales', 'walk', 'walked', 'walking', 'wallpaper', 'walmart', 'wan', 'wana', 'wanna', 'want', 'wanted', 'wanting', 'wants', 'wap', 'warm', 'wasn', 'waste', 'wat', 'watch', 'watching', 'water', 'wats', 'way', 'wc1n3xx', 'weak', 'wear', 'wearing', 'weather', 'website', 'wed', 'wedding', 'wednesday', 'weed', 'week', 'weekend', 'weekends', 'weekly', 'weeks', 'weight', 'weird', 'welcome', 'welp', 'wen', 'went', 'wet', 'whats', 'white', 'whos', 'wid', 'wif', 'wife', 'wil', 'willing', 'win', 'wine', 'winner', 'winning', 'wins', 'wisdom', 'wise', 'wish', 'wishes', 'wishing', 'wit', 'wiv', 'wk', 'wkend', 'wkly', 'wn', 'wnt', 'woke', 'woman', 'women', 'won', 'wonder', 'wonderful', 'wondering', 'wonders', 'wont', 'word', 'words', 'work', 'workin', 'working', 'works', 'world', 'worried', 'worries', 'worry', 'worse', 'worth', 'wot', 'wouldn', 'wow', 'write', 'wrong', 'ws', 'wt', 'wtf', 'wud', 'wun', 'www', 'wylie', 'xavier', 'xchat', 'xmas', 'xuhui', 'xx', 'xxx', 'xxxx', 'xy', 'ya', 'yahoo', 'yan', 'yar', 'yay', 'yeah', 'year', 'years', 'yeh', 'yep', 'yer', 'yes', 'yest', 'yesterday', 'yetunde', 'yijue', 'ym', 'yo', 'yoga', 'yogasana', 'yor', 'yr', 'yrs', 'yummy', 'yun', 'yup', 'zed']\n",
      "[[0 0 0 ... 0 0 0]\n",
      " [0 0 0 ... 0 0 0]\n",
      " [0 0 0 ... 0 0 0]\n",
      " ...\n",
      " [0 0 0 ... 0 0 0]\n",
      " [0 0 0 ... 0 0 0]\n",
      " [0 0 0 ... 0 0 0]]\n"
     ]
    }
   ],
   "source": [
    "vocabulary=vectorizer.get_feature_names() #get_feature_name 메서드는 각 특성에 해당하는 단어를 리스트로 반환한다\n",
    "print(vocabulary) \n",
    "print(X.toarray()) #toarray 메서드는 벡터 형식을 배열로 변환해준다"
   ]
  },
  {
   "cell_type": "code",
   "execution_count": 9,
   "metadata": {},
   "outputs": [],
   "source": [
    "tf_transformer=TfidfTransformer(use_idf=False).fit(X)\n",
    "features=tf_transformer.transform(X)"
   ]
  },
  {
   "cell_type": "code",
   "execution_count": 10,
   "metadata": {},
   "outputs": [
    {
     "name": "stdout",
     "output_type": "stream",
     "text": [
      "  (0, 321)\t0.31622776601683794\n",
      "  (0, 453)\t0.31622776601683794\n",
      "  (0, 556)\t0.31622776601683794\n",
      "  (0, 640)\t0.31622776601683794\n",
      "  (0, 1020)\t0.31622776601683794\n",
      "  (0, 1028)\t0.31622776601683794\n",
      "  (0, 1278)\t0.31622776601683794\n",
      "  (0, 1733)\t0.31622776601683794\n",
      "  (0, 2464)\t0.31622776601683794\n",
      "  (0, 2532)\t0.31622776601683794\n",
      "  (1, 1236)\t0.4472135954999579\n",
      "  (1, 1287)\t0.4472135954999579\n",
      "  (1, 1616)\t0.4472135954999579\n",
      "  (1, 1624)\t0.4472135954999579\n",
      "  (1, 2496)\t0.4472135954999579\n",
      "  (2, 78)\t0.2182178902359924\n",
      "  (2, 81)\t0.2182178902359924\n",
      "  (2, 177)\t0.2182178902359924\n",
      "  (2, 279)\t0.2182178902359924\n",
      "  (2, 595)\t0.2182178902359924\n",
      "  (2, 654)\t0.2182178902359924\n",
      "  (2, 813)\t0.4364357804719848\n",
      "  (2, 899)\t0.2182178902359924\n",
      "  (2, 939)\t0.2182178902359924\n",
      "  (2, 1798)\t0.2182178902359924\n",
      "  :\t:\n",
      "  (5569, 615)\t0.2581988897471611\n",
      "  (5569, 786)\t0.2581988897471611\n",
      "  (5569, 1480)\t0.2581988897471611\n",
      "  (5569, 1554)\t0.2581988897471611\n",
      "  (5569, 1751)\t0.2581988897471611\n",
      "  (5569, 1773)\t0.2581988897471611\n",
      "  (5569, 1820)\t0.2581988897471611\n",
      "  (5569, 2283)\t0.2581988897471611\n",
      "  (5569, 2330)\t0.2581988897471611\n",
      "  (5569, 2520)\t0.2581988897471611\n",
      "  (5570, 821)\t0.5\n",
      "  (5570, 936)\t0.5\n",
      "  (5570, 1009)\t0.5\n",
      "  (5570, 1109)\t0.5\n",
      "  (5571, 1516)\t1.0\n",
      "  (5572, 461)\t0.35355339059327373\n",
      "  (5572, 713)\t0.35355339059327373\n",
      "  (5572, 939)\t0.35355339059327373\n",
      "  (5572, 977)\t0.35355339059327373\n",
      "  (5572, 1042)\t0.35355339059327373\n",
      "  (5572, 1189)\t0.35355339059327373\n",
      "  (5572, 1333)\t0.35355339059327373\n",
      "  (5572, 2480)\t0.35355339059327373\n",
      "  (5573, 1907)\t0.7071067811865475\n",
      "  (5573, 2333)\t0.7071067811865475\n"
     ]
    }
   ],
   "source": [
    "print(features)"
   ]
  },
  {
   "cell_type": "code",
   "execution_count": 11,
   "metadata": {},
   "outputs": [
    {
     "name": "stdout",
     "output_type": "stream",
     "text": [
      "  (0, 321)\t0.31622776601683794\n",
      "  (0, 453)\t0.31622776601683794\n",
      "  (0, 556)\t0.31622776601683794\n",
      "  (0, 640)\t0.31622776601683794\n",
      "  (0, 1020)\t0.31622776601683794\n",
      "  (0, 1028)\t0.31622776601683794\n",
      "  (0, 1278)\t0.31622776601683794\n",
      "  (0, 1733)\t0.31622776601683794\n",
      "  (0, 2464)\t0.31622776601683794\n",
      "  (0, 2532)\t0.31622776601683794\n",
      "  (1, 1236)\t0.4472135954999579\n",
      "  (1, 1287)\t0.4472135954999579\n",
      "  (1, 1616)\t0.4472135954999579\n",
      "  (1, 1624)\t0.4472135954999579\n",
      "  (1, 2496)\t0.4472135954999579\n",
      "  (2, 78)\t0.2182178902359924\n",
      "  (2, 81)\t0.2182178902359924\n",
      "  (2, 177)\t0.2182178902359924\n",
      "  (2, 279)\t0.2182178902359924\n",
      "  (2, 595)\t0.2182178902359924\n",
      "  (2, 654)\t0.2182178902359924\n",
      "  (2, 813)\t0.4364357804719848\n",
      "  (2, 899)\t0.2182178902359924\n",
      "  (2, 939)\t0.2182178902359924\n",
      "  (2, 1798)\t0.2182178902359924\n",
      "  :\t:\n",
      "  (5569, 615)\t0.2581988897471611\n",
      "  (5569, 786)\t0.2581988897471611\n",
      "  (5569, 1480)\t0.2581988897471611\n",
      "  (5569, 1554)\t0.2581988897471611\n",
      "  (5569, 1751)\t0.2581988897471611\n",
      "  (5569, 1773)\t0.2581988897471611\n",
      "  (5569, 1820)\t0.2581988897471611\n",
      "  (5569, 2283)\t0.2581988897471611\n",
      "  (5569, 2330)\t0.2581988897471611\n",
      "  (5569, 2520)\t0.2581988897471611\n",
      "  (5570, 821)\t0.5\n",
      "  (5570, 936)\t0.5\n",
      "  (5570, 1009)\t0.5\n",
      "  (5570, 1109)\t0.5\n",
      "  (5571, 1516)\t1.0\n",
      "  (5572, 461)\t0.35355339059327373\n",
      "  (5572, 713)\t0.35355339059327373\n",
      "  (5572, 939)\t0.35355339059327373\n",
      "  (5572, 977)\t0.35355339059327373\n",
      "  (5572, 1042)\t0.35355339059327373\n",
      "  (5572, 1189)\t0.35355339059327373\n",
      "  (5572, 1333)\t0.35355339059327373\n",
      "  (5572, 2480)\t0.35355339059327373\n",
      "  (5573, 1907)\t0.7071067811865475\n",
      "  (5573, 2333)\t0.7071067811865475\n"
     ]
    }
   ],
   "source": [
    "print(features)"
   ]
  },
  {
   "cell_type": "code",
   "execution_count": 23,
   "metadata": {},
   "outputs": [
    {
     "name": "stdout",
     "output_type": "stream",
     "text": [
      "[[0. 0. 0. ... 0. 0. 0.]\n",
      " [0. 0. 0. ... 0. 0. 0.]\n",
      " [0. 0. 0. ... 0. 0. 0.]\n",
      " ...\n",
      " [0. 0. 0. ... 0. 0. 0.]\n",
      " [0. 0. 0. ... 0. 0. 0.]\n",
      " [0. 0. 0. ... 0. 0. 0.]]\n"
     ]
    }
   ],
   "source": [
    "print(features.toarray()) "
   ]
  },
  {
   "cell_type": "code",
   "execution_count": 13,
   "metadata": {},
   "outputs": [],
   "source": [
    "import pickle\n",
    "with open('spam.pickle','wb') as f2:\n",
    "    pickle.dump((vocabulary, features), f2)"
   ]
  }
 ],
 "metadata": {
  "kernelspec": {
   "display_name": "Python 3",
   "language": "python",
   "name": "python3"
  },
  "language_info": {
   "codemirror_mode": {
    "name": "ipython",
    "version": 3
   },
   "file_extension": ".py",
   "mimetype": "text/x-python",
   "name": "python",
   "nbconvert_exporter": "python",
   "pygments_lexer": "ipython3",
   "version": "3.7.1"
  }
 },
 "nbformat": 4,
 "nbformat_minor": 2
}
