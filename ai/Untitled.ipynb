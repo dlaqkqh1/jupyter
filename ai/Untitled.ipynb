{
 "cells": [
  {
   "cell_type": "code",
   "execution_count": 2,
   "metadata": {},
   "outputs": [
    {
     "name": "stdout",
     "output_type": "stream",
     "text": [
      "  (0, 5)\t1\n",
      "  (0, 3)\t1\n",
      "  (0, 4)\t1\n",
      "  (0, 2)\t2\n",
      "  (0, 1)\t3\n",
      "  (2, 0)\t4\n",
      "  (2, 4)\t1\n",
      "  (2, 2)\t1\n",
      "  (2, 1)\t1\n",
      "  (4, 0)\t1\n",
      "  (4, 5)\t1\n",
      "  (4, 3)\t1\n",
      "  (4, 4)\t3\n",
      "  (4, 2)\t3\n",
      "  (4, 1)\t3\n",
      "  (6, 5)\t1\n",
      "  (6, 3)\t1\n",
      "  (6, 4)\t2\n",
      "  (6, 2)\t1\n",
      "  (6, 1)\t1\n",
      "  (8, 0)\t1\n",
      "  (8, 3)\t1\n",
      "  (8, 4)\t1\n",
      "  (8, 2)\t2\n",
      "  (8, 1)\t2\n"
     ]
    }
   ],
   "source": [
    "from sklearn.feature_extraction.text import CountVectorizer\n",
    "\n",
    "# 하나의 Counter Vector인 vectorizer을 만든다. (단어횟수를 셈)\n",
    "# 이 때 전달하는 인자(파라미터) min_df는 해당 값보다 빈도수가 낮은 단어는 무시하겠다는 것이다.\n",
    "vectorizer = CountVectorizer(min_df = 3, stop_words = 'english')\n",
    "documents = []\n",
    "f = open('HarryPotter.txt','r')\n",
    "for line in f:\n",
    "    documents.append(line[:])\n",
    "# fit_transform 함수는 (n_samples, n_features) 형태로 문서-단어 희소행렬을 만든다.\n",
    "# 희소행렬은 0이 아닌 항목만 저장하는 방식 \n",
    "X = vectorizer.fit_transform(documents)\n",
    "print(X)"
   ]
  },
  {
   "cell_type": "code",
   "execution_count": 3,
   "metadata": {},
   "outputs": [
    {
     "name": "stdout",
     "output_type": "stream",
     "text": [
      "['books', 'harry', 'potter', 'rowling', 'series', 'story']\n",
      "[[0 3 2 1 1 1]\n",
      " [0 0 0 0 0 0]\n",
      " [4 1 1 0 1 0]\n",
      " [0 0 0 0 0 0]\n",
      " [1 3 3 1 3 1]\n",
      " [0 0 0 0 0 0]\n",
      " [0 1 1 1 2 1]\n",
      " [0 0 0 0 0 0]\n",
      " [1 2 2 1 1 0]]\n"
     ]
    }
   ],
   "source": [
    "vocabulary = vectorizer.get_feature_names() # get_feature_name 메서드는 각 특성에 해당하는\n",
    "print(vocabulary)\n",
    "print(X.toarray()) # toarray 메서드는 벡터 형식을ㄹ 배열로 변환해준다"
   ]
  },
  {
   "cell_type": "code",
   "execution_count": 5,
   "metadata": {},
   "outputs": [],
   "source": [
    "from sklearn.feature_extraction.text import TfidfTransformer\n",
    "tf_transformer = TfidfTransformer(use_idf=False).fit(X)\n",
    "features = tf_transformer.transform(X)"
   ]
  },
  {
   "cell_type": "code",
   "execution_count": 7,
   "metadata": {},
   "outputs": [
    {
     "name": "stdout",
     "output_type": "stream",
     "text": [
      "  (0, 1)\t0.75\n",
      "  (0, 2)\t0.5\n",
      "  (0, 3)\t0.25\n",
      "  (0, 4)\t0.25\n",
      "  (0, 5)\t0.25\n",
      "  (2, 0)\t0.917662935482247\n",
      "  (2, 1)\t0.22941573387056174\n",
      "  (2, 2)\t0.22941573387056174\n",
      "  (2, 4)\t0.22941573387056174\n",
      "  (4, 0)\t0.18257418583505536\n",
      "  (4, 1)\t0.5477225575051661\n",
      "  (4, 2)\t0.5477225575051661\n",
      "  (4, 3)\t0.18257418583505536\n",
      "  (4, 4)\t0.5477225575051661\n",
      "  (4, 5)\t0.18257418583505536\n",
      "  (6, 1)\t0.35355339059327373\n",
      "  (6, 2)\t0.35355339059327373\n",
      "  (6, 3)\t0.35355339059327373\n",
      "  (6, 4)\t0.7071067811865475\n",
      "  (6, 5)\t0.35355339059327373\n",
      "  (8, 0)\t0.30151134457776363\n",
      "  (8, 1)\t0.6030226891555273\n",
      "  (8, 2)\t0.6030226891555273\n",
      "  (8, 3)\t0.30151134457776363\n",
      "  (8, 4)\t0.30151134457776363\n"
     ]
    }
   ],
   "source": [
    "print(features)"
   ]
  },
  {
   "cell_type": "code",
   "execution_count": 13,
   "metadata": {},
   "outputs": [],
   "source": [
    "import pickle\n",
    "with open('HarryPotter2.pickle','wb') as f2:\n",
    "    pickle.dump((vocabulary, features), f2)"
   ]
  },
  {
   "cell_type": "code",
   "execution_count": 14,
   "metadata": {},
   "outputs": [
    {
     "data": {
      "text/plain": [
       "(['books', 'harry', 'potter', 'rowling', 'series', 'story'],\n",
       " <9x6 sparse matrix of type '<class 'numpy.float64'>'\n",
       " \twith 25 stored elements in Compressed Sparse Row format>)"
      ]
     },
     "execution_count": 14,
     "metadata": {},
     "output_type": "execute_result"
    }
   ],
   "source": []
  },
  {
   "cell_type": "code",
   "execution_count": null,
   "metadata": {},
   "outputs": [],
   "source": []
  }
 ],
 "metadata": {
  "kernelspec": {
   "display_name": "Python 3",
   "language": "python",
   "name": "python3"
  },
  "language_info": {
   "codemirror_mode": {
    "name": "ipython",
    "version": 3
   },
   "file_extension": ".py",
   "mimetype": "text/x-python",
   "name": "python",
   "nbconvert_exporter": "python",
   "pygments_lexer": "ipython3",
   "version": "3.7.1"
  }
 },
 "nbformat": 4,
 "nbformat_minor": 2
}
