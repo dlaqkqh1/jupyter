{
 "cells": [
  {
   "cell_type": "code",
   "execution_count": 4,
   "metadata": {},
   "outputs": [
    {
     "name": "stdout",
     "output_type": "stream",
     "text": [
      "ok\n"
     ]
    }
   ],
   "source": [
    "import cv2, os\n",
    "img_last = None # 이전 프레임을 저장할 변수\n",
    "no = 0 # 이미지 장 수\n",
    "save_dir = \"./exfish\" # 저장 디렉터리 이름\n",
    "cap = cv2.VideoCapture(\"fish.mp4\") # 동영상 파일로부터 입력받기 --- (*1)\n",
    "while True:\n",
    "    is_ok, frame = cap.read() # 이미지 추출하기\n",
    "    if not is_ok: break\n",
    "    frame = cv2.resize(frame, (640, 360))    \n",
    "    gray = cv2.cvtColor(frame, cv2.COLOR_BGR2GRAY) # 흑백 이미지로 변환하기 --- (*2)\n",
    "    gray = cv2.GaussianBlur(gray, (15, 15), 0)\n",
    "    rec, img_b = cv2.threshold(gray, 127, 255, cv2.THRESH_BINARY)    \n",
    "    if not img_last is None: # 차이 확인하기\n",
    "        frame_diff = cv2.absdiff(img_last, img_b) # --- (*3)\n",
    "        cnts, hierachy = cv2.findContours(frame_diff,cv2.RETR_EXTERNAL,cv2.CHAIN_APPROX_SIMPLE)        \n",
    "        for pt in cnts: # 차이가 있는 부분을 파일로 출력하기 --- (*4)\n",
    "            x, y, w, h = cv2.boundingRect(pt)\n",
    "            if w < 100 or w > 500: continue # 노이즈 제거하기           \n",
    "            imgex = frame[y:y+h, x:x+w] # 추출한 영역 저장하기\n",
    "            outfile = save_dir + \"/\" + str(no) + \".jpg\"\n",
    "            cv2.imwrite(outfile, imgex)\n",
    "            no += 1\n",
    "    img_last = img_b\n",
    "cap.release()\n",
    "print(\"ok\")"
   ]
  },
  {
   "cell_type": "code",
   "execution_count": 6,
   "metadata": {},
   "outputs": [],
   "source": [
    "import glob\n",
    "from sklearn.model_selection import train_test_split\n",
    "from sklearn import datasets, metrics\n",
    "from sklearn.ensemble import RandomForestClassifier\n",
    "from sklearn.metrics import accuracy_score\n",
    "from sklearn.externals import joblib"
   ]
  },
  {
   "cell_type": "code",
   "execution_count": 8,
   "metadata": {},
   "outputs": [
    {
     "name": "stderr",
     "output_type": "stream",
     "text": [
      "D:\\Program Files\\anaconda\\lib\\site-packages\\sklearn\\ensemble\\forest.py:246: FutureWarning: The default value of n_estimators will change from 10 in version 0.20 to 100 in 0.22.\n",
      "  \"10 in version 0.20 to 100 in 0.22.\", FutureWarning)\n"
     ]
    },
    {
     "name": "stdout",
     "output_type": "stream",
     "text": [
      "0.9671361502347418\n"
     ]
    },
    {
     "data": {
      "text/plain": [
       "['fish.pkl']"
      ]
     },
     "execution_count": 8,
     "metadata": {},
     "output_type": "execute_result"
    }
   ],
   "source": [
    "image_size = (64,32)\n",
    "path = 'D:/jupyter/ai'\n",
    "path_fish = path + '/fish'\n",
    "path_nofish = path + '/nofish'\n",
    "\n",
    "x = []\n",
    "y = []\n",
    "\n",
    "def read_dir (path, label):\n",
    "    files = glob.glob(path + \"/*.jpg\")\n",
    "    for f in files:\n",
    "        img = cv2.imread(f)\n",
    "        img = cv2.resize(img, image_size)\n",
    "        img_data = img.reshape(-1, )\n",
    "        x.append(img_data)\n",
    "        y.append(label)\n",
    "read_dir(path_nofish, 0)\n",
    "read_dir(path_fish, 1)\n",
    "\n",
    "x_train, x_test, y_train, y_test = train_test_split(x, y, test_size = 0.2)\n",
    "clf = RandomForestClassifier()\n",
    "clf.fit(x_train, y_train)\n",
    "y_pred = clf.predict(x_test)\n",
    "print(accuracy_score(y_test, y_pred))\n",
    "joblib.dump(clf, 'fish.pkl')"
   ]
  },
  {
   "cell_type": "code",
   "execution_count": 9,
   "metadata": {},
   "outputs": [],
   "source": [
    "import cv2, os, copy\n",
    "from sklearn.externals import joblib\n",
    "clf = joblib.load('fish.pkl')\n",
    "output_dir = './bestshot'\n",
    "img_last = None\n",
    "fish_th = 3"
   ]
  },
  {
   "cell_type": "code",
   "execution_count": 14,
   "metadata": {},
   "outputs": [
    {
     "name": "stdout",
     "output_type": "stream",
     "text": [
      "ok 13 / 1983\n"
     ]
    }
   ],
   "source": [
    "count = 0\n",
    "frame_count = 0\n",
    "if not os.path.isdir(output_dir): os.mkdir(output_dir)\n",
    "cap = cv2.VideoCapture(\"fish.mp4\")\n",
    "while True:\n",
    "    is_ok, frame = cap.read()\n",
    "    if not is_ok : break\n",
    "    frame = cv2.resize(frame, (640,360))\n",
    "    frame2 = copy.copy(frame)\n",
    "    frame_count += 1\n",
    "    gray = cv2.cvtColor(frame, cv2.COLOR_BGR2GRAY)\n",
    "    gray = cv2.GaussianBlur(gray, (15, 15), 0)\n",
    "    rec, img_b = cv2.threshold(gray, 127, 255, cv2.THRESH_BINARY)\n",
    "    if not img_last is None:\n",
    "        frame_diff = cv2.absdiff(img_last, img_b)\n",
    "        cnts, hierachy = cv2.findContours(frame_diff, cv2.RETR_EXTERNAL, cv2.CHAIN_APPROX_SIMPLE)\n",
    "        fish_count = 0\n",
    "        for pt in cnts:\n",
    "            x, y, w, h = cv2.boundingRect(pt)\n",
    "            if w < 100 or w > 500: continue\n",
    "            imgex = frame[y:y+h, x:x+w]\n",
    "            imagex = cv2.resize(imgex, (64, 32))\n",
    "            image_data = imagex.reshape(-1, )\n",
    "            pred_y = clf.predict([image_data])\n",
    "            if pred_y[0] == 1:\n",
    "                fish_count += 1\n",
    "                cv2.rectangle(frame2, (x,y), (x+w, y+h), (0,255,0), 2)\n",
    "        if fish_count > fish_th:\n",
    "            fname = output_dir + \"/fish\" + str(count) + \".jpg\"\n",
    "            cv2.imwrite(fname, frame)\n",
    "            count+= 1\n",
    "    cv2.imshow('FISH!', frame2)\n",
    "    if cv2.waitKey(1) == 13: break\n",
    "    img_last = img_b\n",
    "cap.release()\n",
    "cv2.destroyAllWindows()\n",
    "print(\"ok\", count, \"/\", frame_count)"
   ]
  }
 ],
 "metadata": {
  "kernelspec": {
   "display_name": "Python 3",
   "language": "python",
   "name": "python3"
  },
  "language_info": {
   "codemirror_mode": {
    "name": "ipython",
    "version": 3
   },
   "file_extension": ".py",
   "mimetype": "text/x-python",
   "name": "python",
   "nbconvert_exporter": "python",
   "pygments_lexer": "ipython3",
   "version": "3.7.1"
  }
 },
 "nbformat": 4,
 "nbformat_minor": 2
}
