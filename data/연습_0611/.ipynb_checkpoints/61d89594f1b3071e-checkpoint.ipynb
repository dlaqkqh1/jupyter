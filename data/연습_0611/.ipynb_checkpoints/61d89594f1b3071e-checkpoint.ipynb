{
 "cells": [
  {
   "cell_type": "markdown",
   "metadata": {},
   "source": [
    "## 1. 모듈 임포트"
   ]
  },
  {
   "cell_type": "code",
   "execution_count": 1,
   "metadata": {},
   "outputs": [],
   "source": [
    "import matplotlib.pyplot as plt\n",
    "import numpy as np\n",
    "import pandas as pd\n",
    "import seaborn as sns"
   ]
  },
  {
   "cell_type": "markdown",
   "metadata": {},
   "source": [
    "## 2. Insectsprays.csv 불러오기 df_insect\n",
    "- index_col"
   ]
  },
  {
   "cell_type": "code",
   "execution_count": 2,
   "metadata": {
    "scrolled": true
   },
   "outputs": [],
   "source": [
    "df_insect = pd.read_csv('Insectsprays.csv')"
   ]
  },
  {
   "cell_type": "markdown",
   "metadata": {},
   "source": [
    "## 3. 데이터프레임 살펴보기\n",
    "- 첫 5행 \n",
    "- 마지막 5행\n",
    "- 전체 데이터 수"
   ]
  },
  {
   "cell_type": "code",
   "execution_count": 3,
   "metadata": {},
   "outputs": [
    {
     "data": {
      "text/html": [
       "<div>\n",
       "<style scoped>\n",
       "    .dataframe tbody tr th:only-of-type {\n",
       "        vertical-align: middle;\n",
       "    }\n",
       "\n",
       "    .dataframe tbody tr th {\n",
       "        vertical-align: top;\n",
       "    }\n",
       "\n",
       "    .dataframe thead th {\n",
       "        text-align: right;\n",
       "    }\n",
       "</style>\n",
       "<table border=\"1\" class=\"dataframe\">\n",
       "  <thead>\n",
       "    <tr style=\"text-align: right;\">\n",
       "      <th></th>\n",
       "      <th>Unnamed: 0</th>\n",
       "      <th>count</th>\n",
       "      <th>spray</th>\n",
       "    </tr>\n",
       "  </thead>\n",
       "  <tbody>\n",
       "    <tr>\n",
       "      <th>0</th>\n",
       "      <td>1</td>\n",
       "      <td>10</td>\n",
       "      <td>A</td>\n",
       "    </tr>\n",
       "    <tr>\n",
       "      <th>1</th>\n",
       "      <td>2</td>\n",
       "      <td>7</td>\n",
       "      <td>A</td>\n",
       "    </tr>\n",
       "    <tr>\n",
       "      <th>2</th>\n",
       "      <td>3</td>\n",
       "      <td>20</td>\n",
       "      <td>A</td>\n",
       "    </tr>\n",
       "    <tr>\n",
       "      <th>3</th>\n",
       "      <td>4</td>\n",
       "      <td>14</td>\n",
       "      <td>A</td>\n",
       "    </tr>\n",
       "    <tr>\n",
       "      <th>4</th>\n",
       "      <td>5</td>\n",
       "      <td>14</td>\n",
       "      <td>A</td>\n",
       "    </tr>\n",
       "  </tbody>\n",
       "</table>\n",
       "</div>"
      ],
      "text/plain": [
       "   Unnamed: 0  count spray\n",
       "0           1     10     A\n",
       "1           2      7     A\n",
       "2           3     20     A\n",
       "3           4     14     A\n",
       "4           5     14     A"
      ]
     },
     "execution_count": 3,
     "metadata": {},
     "output_type": "execute_result"
    }
   ],
   "source": [
    "df_insect.head()"
   ]
  },
  {
   "cell_type": "code",
   "execution_count": 4,
   "metadata": {
    "scrolled": true
   },
   "outputs": [
    {
     "data": {
      "text/html": [
       "<div>\n",
       "<style scoped>\n",
       "    .dataframe tbody tr th:only-of-type {\n",
       "        vertical-align: middle;\n",
       "    }\n",
       "\n",
       "    .dataframe tbody tr th {\n",
       "        vertical-align: top;\n",
       "    }\n",
       "\n",
       "    .dataframe thead th {\n",
       "        text-align: right;\n",
       "    }\n",
       "</style>\n",
       "<table border=\"1\" class=\"dataframe\">\n",
       "  <thead>\n",
       "    <tr style=\"text-align: right;\">\n",
       "      <th></th>\n",
       "      <th>Unnamed: 0</th>\n",
       "      <th>count</th>\n",
       "      <th>spray</th>\n",
       "    </tr>\n",
       "  </thead>\n",
       "  <tbody>\n",
       "    <tr>\n",
       "      <th>67</th>\n",
       "      <td>68</td>\n",
       "      <td>10</td>\n",
       "      <td>F</td>\n",
       "    </tr>\n",
       "    <tr>\n",
       "      <th>68</th>\n",
       "      <td>69</td>\n",
       "      <td>26</td>\n",
       "      <td>F</td>\n",
       "    </tr>\n",
       "    <tr>\n",
       "      <th>69</th>\n",
       "      <td>70</td>\n",
       "      <td>26</td>\n",
       "      <td>F</td>\n",
       "    </tr>\n",
       "    <tr>\n",
       "      <th>70</th>\n",
       "      <td>71</td>\n",
       "      <td>24</td>\n",
       "      <td>F</td>\n",
       "    </tr>\n",
       "    <tr>\n",
       "      <th>71</th>\n",
       "      <td>72</td>\n",
       "      <td>13</td>\n",
       "      <td>F</td>\n",
       "    </tr>\n",
       "  </tbody>\n",
       "</table>\n",
       "</div>"
      ],
      "text/plain": [
       "    Unnamed: 0  count spray\n",
       "67          68     10     F\n",
       "68          69     26     F\n",
       "69          70     26     F\n",
       "70          71     24     F\n",
       "71          72     13     F"
      ]
     },
     "execution_count": 4,
     "metadata": {},
     "output_type": "execute_result"
    }
   ],
   "source": [
    "df_insect.tail()"
   ]
  },
  {
   "cell_type": "code",
   "execution_count": 5,
   "metadata": {
    "scrolled": true
   },
   "outputs": [
    {
     "data": {
      "text/plain": [
       "(72, 3)"
      ]
     },
     "execution_count": 5,
     "metadata": {},
     "output_type": "execute_result"
    }
   ],
   "source": [
    "df_insect.shape"
   ]
  },
  {
   "cell_type": "markdown",
   "metadata": {},
   "source": [
    "## 4. spray별 count 평균을 구하시오."
   ]
  },
  {
   "cell_type": "code",
   "execution_count": 6,
   "metadata": {},
   "outputs": [
    {
     "data": {
      "text/plain": [
       "spray\n",
       "A    14.500000\n",
       "B    15.333333\n",
       "C     2.083333\n",
       "D     4.916667\n",
       "E     3.500000\n",
       "F    16.666667\n",
       "Name: count, dtype: float64"
      ]
     },
     "execution_count": 6,
     "metadata": {},
     "output_type": "execute_result"
    }
   ],
   "source": [
    "df_insect['count'].groupby(df_insect['spray']).mean()"
   ]
  },
  {
   "cell_type": "markdown",
   "metadata": {},
   "source": [
    "## 5. spray 종류별 count의 분포를 박스플롯으로 그리기"
   ]
  },
  {
   "cell_type": "code",
   "execution_count": 7,
   "metadata": {},
   "outputs": [
    {
     "data": {
      "image/png": "[encoded data removed]",
      "text/plain": [
       "<Figure size 576x432 with 1 Axes>"
      ]
     },
     "metadata": {
      "needs_background": "light"
     },
     "output_type": "display_data"
    }
   ],
   "source": [
    "plt.figure(figsize=(8,6))\n",
    "sns.boxplot(x=\"spray\", y=\"count\", data=df_insect)\n",
    "plt.show()"
   ]
  },
  {
   "cell_type": "markdown",
   "metadata": {},
   "source": [
    "## 6. islands.csv 파일을 df_island로 불러오기"
   ]
  },
  {
   "cell_type": "code",
   "execution_count": 8,
   "metadata": {
    "scrolled": true
   },
   "outputs": [],
   "source": [
    "df_island = pd.read_csv('islands.csv')"
   ]
  },
  {
   "cell_type": "markdown",
   "metadata": {},
   "source": [
    "## 7. 섬 개수의 평균 구하기"
   ]
  },
  {
   "cell_type": "code",
   "execution_count": 9,
   "metadata": {
    "scrolled": true
   },
   "outputs": [
    {
     "data": {
      "text/plain": [
       "1252.7291666666667"
      ]
     },
     "execution_count": 9,
     "metadata": {},
     "output_type": "execute_result"
    }
   ],
   "source": [
    "df_island['islands'].mean()"
   ]
  },
  {
   "cell_type": "markdown",
   "metadata": {},
   "source": [
    "## 8. 섬 개수의 중간값 구하기"
   ]
  },
  {
   "cell_type": "code",
   "execution_count": 10,
   "metadata": {},
   "outputs": [
    {
     "data": {
      "text/plain": [
       "41.0"
      ]
     },
     "execution_count": 10,
     "metadata": {},
     "output_type": "execute_result"
    }
   ],
   "source": [
    "df_island['islands'].median()"
   ]
  },
  {
   "cell_type": "markdown",
   "metadata": {},
   "source": [
    "## 9. 히스토그램으로 나타내기"
   ]
  },
  {
   "cell_type": "code",
   "execution_count": 11,
   "metadata": {},
   "outputs": [],
   "source": [
    "import platform\n",
    "from matplotlib import font_manager, rc\n",
    "plt.rcParams['axes.unicode_minus'] = False\n",
    "\n",
    "if platform.system() == 'Darwin':\n",
    "    rc('font', family='AppleGothic')\n",
    "elif platform.system() == 'Windows':\n",
    "    path = \"c:/Windows/Fonts/malgun.ttf\"\n",
    "    font_name = font_manager.FontProperties(fname=path).get_name()\n",
    "    rc('font', family=font_name)\n",
    "else:\n",
    "    print(\"Unknown system\")"
   ]
  },
  {
   "cell_type": "code",
   "execution_count": 12,
   "metadata": {},
   "outputs": [
    {
     "data": {
      "image/png": "[encoded data removed]",
      "text/plain": [
       "<Figure size 432x288 with 1 Axes>"
      ]
     },
     "metadata": {
      "needs_background": "light"
     },
     "output_type": "display_data"
    }
   ],
   "source": [
    "plt.hist(df_island['islands'], bins=20)\n",
    "plt.title(\"대륙별 섬의 수 히스토그램\")\n",
    "plt.show()"
   ]
  },
  {
   "cell_type": "markdown",
   "metadata": {},
   "source": [
    "## 10. employees_kr.csv 파일을 df_employees로 불러오기"
   ]
  },
  {
   "cell_type": "code",
   "execution_count": 13,
   "metadata": {},
   "outputs": [],
   "source": [
    "df_employees = pd.read_csv('employees_kr.csv')"
   ]
  },
  {
   "cell_type": "code",
   "execution_count": 14,
   "metadata": {
    "scrolled": true
   },
   "outputs": [
    {
     "data": {
      "text/html": [
       "<div>\n",
       "<style scoped>\n",
       "    .dataframe tbody tr th:only-of-type {\n",
       "        vertical-align: middle;\n",
       "    }\n",
       "\n",
       "    .dataframe tbody tr th {\n",
       "        vertical-align: top;\n",
       "    }\n",
       "\n",
       "    .dataframe thead th {\n",
       "        text-align: right;\n",
       "    }\n",
       "</style>\n",
       "<table border=\"1\" class=\"dataframe\">\n",
       "  <thead>\n",
       "    <tr style=\"text-align: right;\">\n",
       "      <th></th>\n",
       "      <th>num</th>\n",
       "      <th>Incentive</th>\n",
       "      <th>Nego</th>\n",
       "      <th>Sex</th>\n",
       "      <th>Year</th>\n",
       "    </tr>\n",
       "  </thead>\n",
       "  <tbody>\n",
       "    <tr>\n",
       "      <th>0</th>\n",
       "      <td>1</td>\n",
       "      <td>12.1</td>\n",
       "      <td>True</td>\n",
       "      <td>M</td>\n",
       "      <td>2005</td>\n",
       "    </tr>\n",
       "    <tr>\n",
       "      <th>1</th>\n",
       "      <td>2</td>\n",
       "      <td>8.9</td>\n",
       "      <td>True</td>\n",
       "      <td>F</td>\n",
       "      <td>2006</td>\n",
       "    </tr>\n",
       "    <tr>\n",
       "      <th>2</th>\n",
       "      <td>3</td>\n",
       "      <td>8.8</td>\n",
       "      <td>True</td>\n",
       "      <td>M</td>\n",
       "      <td>2007</td>\n",
       "    </tr>\n",
       "    <tr>\n",
       "      <th>3</th>\n",
       "      <td>4</td>\n",
       "      <td>7.1</td>\n",
       "      <td>True</td>\n",
       "      <td>F</td>\n",
       "      <td>2008</td>\n",
       "    </tr>\n",
       "    <tr>\n",
       "      <th>4</th>\n",
       "      <td>5</td>\n",
       "      <td>10.2</td>\n",
       "      <td>True</td>\n",
       "      <td>M</td>\n",
       "      <td>2009</td>\n",
       "    </tr>\n",
       "  </tbody>\n",
       "</table>\n",
       "</div>"
      ],
      "text/plain": [
       "   num  Incentive  Nego Sex  Year\n",
       "0    1       12.1  True   M  2005\n",
       "1    2        8.9  True   F  2006\n",
       "2    3        8.8  True   M  2007\n",
       "3    4        7.1  True   F  2008\n",
       "4    5       10.2  True   M  2009"
      ]
     },
     "execution_count": 14,
     "metadata": {},
     "output_type": "execute_result"
    }
   ],
   "source": [
    "df_employees.head()"
   ]
  },
  {
   "cell_type": "markdown",
   "metadata": {},
   "source": [
    "## 11. 2005년도 자료 추출하기"
   ]
  },
  {
   "cell_type": "code",
   "execution_count": 15,
   "metadata": {
    "scrolled": true
   },
   "outputs": [
    {
     "data": {
      "text/html": [
       "<div>\n",
       "<style scoped>\n",
       "    .dataframe tbody tr th:only-of-type {\n",
       "        vertical-align: middle;\n",
       "    }\n",
       "\n",
       "    .dataframe tbody tr th {\n",
       "        vertical-align: top;\n",
       "    }\n",
       "\n",
       "    .dataframe thead th {\n",
       "        text-align: right;\n",
       "    }\n",
       "</style>\n",
       "<table border=\"1\" class=\"dataframe\">\n",
       "  <thead>\n",
       "    <tr style=\"text-align: right;\">\n",
       "      <th></th>\n",
       "      <th>num</th>\n",
       "      <th>Incentive</th>\n",
       "      <th>Nego</th>\n",
       "      <th>Sex</th>\n",
       "      <th>Year</th>\n",
       "    </tr>\n",
       "  </thead>\n",
       "  <tbody>\n",
       "    <tr>\n",
       "      <th>0</th>\n",
       "      <td>1</td>\n",
       "      <td>12.1</td>\n",
       "      <td>True</td>\n",
       "      <td>M</td>\n",
       "      <td>2005</td>\n",
       "    </tr>\n",
       "    <tr>\n",
       "      <th>5</th>\n",
       "      <td>6</td>\n",
       "      <td>7.0</td>\n",
       "      <td>True</td>\n",
       "      <td>F</td>\n",
       "      <td>2005</td>\n",
       "    </tr>\n",
       "    <tr>\n",
       "      <th>10</th>\n",
       "      <td>11</td>\n",
       "      <td>1.9</td>\n",
       "      <td>True</td>\n",
       "      <td>M</td>\n",
       "      <td>2005</td>\n",
       "    </tr>\n",
       "    <tr>\n",
       "      <th>15</th>\n",
       "      <td>16</td>\n",
       "      <td>5.3</td>\n",
       "      <td>True</td>\n",
       "      <td>F</td>\n",
       "      <td>2005</td>\n",
       "    </tr>\n",
       "    <tr>\n",
       "      <th>20</th>\n",
       "      <td>21</td>\n",
       "      <td>14.6</td>\n",
       "      <td>True</td>\n",
       "      <td>M</td>\n",
       "      <td>2005</td>\n",
       "    </tr>\n",
       "    <tr>\n",
       "      <th>25</th>\n",
       "      <td>26</td>\n",
       "      <td>14.1</td>\n",
       "      <td>True</td>\n",
       "      <td>F</td>\n",
       "      <td>2005</td>\n",
       "    </tr>\n",
       "    <tr>\n",
       "      <th>30</th>\n",
       "      <td>31</td>\n",
       "      <td>17.6</td>\n",
       "      <td>True</td>\n",
       "      <td>M</td>\n",
       "      <td>2005</td>\n",
       "    </tr>\n",
       "    <tr>\n",
       "      <th>35</th>\n",
       "      <td>36</td>\n",
       "      <td>13.1</td>\n",
       "      <td>True</td>\n",
       "      <td>F</td>\n",
       "      <td>2005</td>\n",
       "    </tr>\n",
       "    <tr>\n",
       "      <th>40</th>\n",
       "      <td>41</td>\n",
       "      <td>5.7</td>\n",
       "      <td>True</td>\n",
       "      <td>M</td>\n",
       "      <td>2005</td>\n",
       "    </tr>\n",
       "    <tr>\n",
       "      <th>45</th>\n",
       "      <td>46</td>\n",
       "      <td>2.7</td>\n",
       "      <td>True</td>\n",
       "      <td>F</td>\n",
       "      <td>2005</td>\n",
       "    </tr>\n",
       "    <tr>\n",
       "      <th>50</th>\n",
       "      <td>51</td>\n",
       "      <td>16.0</td>\n",
       "      <td>True</td>\n",
       "      <td>M</td>\n",
       "      <td>2005</td>\n",
       "    </tr>\n",
       "    <tr>\n",
       "      <th>55</th>\n",
       "      <td>56</td>\n",
       "      <td>15.8</td>\n",
       "      <td>True</td>\n",
       "      <td>F</td>\n",
       "      <td>2005</td>\n",
       "    </tr>\n",
       "    <tr>\n",
       "      <th>60</th>\n",
       "      <td>61</td>\n",
       "      <td>11.0</td>\n",
       "      <td>True</td>\n",
       "      <td>M</td>\n",
       "      <td>2005</td>\n",
       "    </tr>\n",
       "    <tr>\n",
       "      <th>65</th>\n",
       "      <td>66</td>\n",
       "      <td>7.9</td>\n",
       "      <td>True</td>\n",
       "      <td>F</td>\n",
       "      <td>2005</td>\n",
       "    </tr>\n",
       "    <tr>\n",
       "      <th>70</th>\n",
       "      <td>71</td>\n",
       "      <td>9.4</td>\n",
       "      <td>True</td>\n",
       "      <td>M</td>\n",
       "      <td>2005</td>\n",
       "    </tr>\n",
       "    <tr>\n",
       "      <th>75</th>\n",
       "      <td>76</td>\n",
       "      <td>12.4</td>\n",
       "      <td>True</td>\n",
       "      <td>F</td>\n",
       "      <td>2005</td>\n",
       "    </tr>\n",
       "    <tr>\n",
       "      <th>80</th>\n",
       "      <td>81</td>\n",
       "      <td>22.3</td>\n",
       "      <td>True</td>\n",
       "      <td>M</td>\n",
       "      <td>2005</td>\n",
       "    </tr>\n",
       "    <tr>\n",
       "      <th>85</th>\n",
       "      <td>86</td>\n",
       "      <td>6.9</td>\n",
       "      <td>True</td>\n",
       "      <td>F</td>\n",
       "      <td>2005</td>\n",
       "    </tr>\n",
       "    <tr>\n",
       "      <th>90</th>\n",
       "      <td>91</td>\n",
       "      <td>18.0</td>\n",
       "      <td>True</td>\n",
       "      <td>M</td>\n",
       "      <td>2005</td>\n",
       "    </tr>\n",
       "    <tr>\n",
       "      <th>95</th>\n",
       "      <td>96</td>\n",
       "      <td>14.2</td>\n",
       "      <td>True</td>\n",
       "      <td>F</td>\n",
       "      <td>2005</td>\n",
       "    </tr>\n",
       "    <tr>\n",
       "      <th>100</th>\n",
       "      <td>101</td>\n",
       "      <td>18.3</td>\n",
       "      <td>True</td>\n",
       "      <td>M</td>\n",
       "      <td>2005</td>\n",
       "    </tr>\n",
       "    <tr>\n",
       "      <th>105</th>\n",
       "      <td>106</td>\n",
       "      <td>4.3</td>\n",
       "      <td>True</td>\n",
       "      <td>F</td>\n",
       "      <td>2005</td>\n",
       "    </tr>\n",
       "    <tr>\n",
       "      <th>110</th>\n",
       "      <td>111</td>\n",
       "      <td>10.3</td>\n",
       "      <td>True</td>\n",
       "      <td>M</td>\n",
       "      <td>2005</td>\n",
       "    </tr>\n",
       "    <tr>\n",
       "      <th>115</th>\n",
       "      <td>116</td>\n",
       "      <td>7.8</td>\n",
       "      <td>True</td>\n",
       "      <td>F</td>\n",
       "      <td>2005</td>\n",
       "    </tr>\n",
       "    <tr>\n",
       "      <th>120</th>\n",
       "      <td>121</td>\n",
       "      <td>11.1</td>\n",
       "      <td>True</td>\n",
       "      <td>M</td>\n",
       "      <td>2005</td>\n",
       "    </tr>\n",
       "    <tr>\n",
       "      <th>125</th>\n",
       "      <td>126</td>\n",
       "      <td>4.8</td>\n",
       "      <td>True</td>\n",
       "      <td>F</td>\n",
       "      <td>2005</td>\n",
       "    </tr>\n",
       "    <tr>\n",
       "      <th>130</th>\n",
       "      <td>131</td>\n",
       "      <td>4.2</td>\n",
       "      <td>True</td>\n",
       "      <td>M</td>\n",
       "      <td>2005</td>\n",
       "    </tr>\n",
       "    <tr>\n",
       "      <th>135</th>\n",
       "      <td>136</td>\n",
       "      <td>16.5</td>\n",
       "      <td>True</td>\n",
       "      <td>F</td>\n",
       "      <td>2005</td>\n",
       "    </tr>\n",
       "    <tr>\n",
       "      <th>140</th>\n",
       "      <td>141</td>\n",
       "      <td>12.1</td>\n",
       "      <td>True</td>\n",
       "      <td>M</td>\n",
       "      <td>2005</td>\n",
       "    </tr>\n",
       "    <tr>\n",
       "      <th>145</th>\n",
       "      <td>146</td>\n",
       "      <td>9.1</td>\n",
       "      <td>True</td>\n",
       "      <td>F</td>\n",
       "      <td>2005</td>\n",
       "    </tr>\n",
       "    <tr>\n",
       "      <th>...</th>\n",
       "      <td>...</td>\n",
       "      <td>...</td>\n",
       "      <td>...</td>\n",
       "      <td>...</td>\n",
       "      <td>...</td>\n",
       "    </tr>\n",
       "    <tr>\n",
       "      <th>2850</th>\n",
       "      <td>2851</td>\n",
       "      <td>5.0</td>\n",
       "      <td>False</td>\n",
       "      <td>M</td>\n",
       "      <td>2005</td>\n",
       "    </tr>\n",
       "    <tr>\n",
       "      <th>2855</th>\n",
       "      <td>2856</td>\n",
       "      <td>3.8</td>\n",
       "      <td>False</td>\n",
       "      <td>F</td>\n",
       "      <td>2005</td>\n",
       "    </tr>\n",
       "    <tr>\n",
       "      <th>2860</th>\n",
       "      <td>2861</td>\n",
       "      <td>4.8</td>\n",
       "      <td>False</td>\n",
       "      <td>M</td>\n",
       "      <td>2005</td>\n",
       "    </tr>\n",
       "    <tr>\n",
       "      <th>2865</th>\n",
       "      <td>2866</td>\n",
       "      <td>3.9</td>\n",
       "      <td>False</td>\n",
       "      <td>F</td>\n",
       "      <td>2005</td>\n",
       "    </tr>\n",
       "    <tr>\n",
       "      <th>2870</th>\n",
       "      <td>2871</td>\n",
       "      <td>6.2</td>\n",
       "      <td>False</td>\n",
       "      <td>M</td>\n",
       "      <td>2005</td>\n",
       "    </tr>\n",
       "    <tr>\n",
       "      <th>2875</th>\n",
       "      <td>2876</td>\n",
       "      <td>5.2</td>\n",
       "      <td>False</td>\n",
       "      <td>F</td>\n",
       "      <td>2005</td>\n",
       "    </tr>\n",
       "    <tr>\n",
       "      <th>2880</th>\n",
       "      <td>2881</td>\n",
       "      <td>5.0</td>\n",
       "      <td>False</td>\n",
       "      <td>M</td>\n",
       "      <td>2005</td>\n",
       "    </tr>\n",
       "    <tr>\n",
       "      <th>2885</th>\n",
       "      <td>2886</td>\n",
       "      <td>4.8</td>\n",
       "      <td>False</td>\n",
       "      <td>F</td>\n",
       "      <td>2005</td>\n",
       "    </tr>\n",
       "    <tr>\n",
       "      <th>2890</th>\n",
       "      <td>2891</td>\n",
       "      <td>3.8</td>\n",
       "      <td>False</td>\n",
       "      <td>M</td>\n",
       "      <td>2005</td>\n",
       "    </tr>\n",
       "    <tr>\n",
       "      <th>2895</th>\n",
       "      <td>2896</td>\n",
       "      <td>4.0</td>\n",
       "      <td>False</td>\n",
       "      <td>F</td>\n",
       "      <td>2005</td>\n",
       "    </tr>\n",
       "    <tr>\n",
       "      <th>2900</th>\n",
       "      <td>2901</td>\n",
       "      <td>4.7</td>\n",
       "      <td>False</td>\n",
       "      <td>M</td>\n",
       "      <td>2005</td>\n",
       "    </tr>\n",
       "    <tr>\n",
       "      <th>2905</th>\n",
       "      <td>2906</td>\n",
       "      <td>4.9</td>\n",
       "      <td>False</td>\n",
       "      <td>F</td>\n",
       "      <td>2005</td>\n",
       "    </tr>\n",
       "    <tr>\n",
       "      <th>2910</th>\n",
       "      <td>2911</td>\n",
       "      <td>6.2</td>\n",
       "      <td>False</td>\n",
       "      <td>M</td>\n",
       "      <td>2005</td>\n",
       "    </tr>\n",
       "    <tr>\n",
       "      <th>2915</th>\n",
       "      <td>2916</td>\n",
       "      <td>4.2</td>\n",
       "      <td>False</td>\n",
       "      <td>F</td>\n",
       "      <td>2005</td>\n",
       "    </tr>\n",
       "    <tr>\n",
       "      <th>2920</th>\n",
       "      <td>2921</td>\n",
       "      <td>6.3</td>\n",
       "      <td>False</td>\n",
       "      <td>M</td>\n",
       "      <td>2005</td>\n",
       "    </tr>\n",
       "    <tr>\n",
       "      <th>2925</th>\n",
       "      <td>2926</td>\n",
       "      <td>5.6</td>\n",
       "      <td>False</td>\n",
       "      <td>F</td>\n",
       "      <td>2005</td>\n",
       "    </tr>\n",
       "    <tr>\n",
       "      <th>2930</th>\n",
       "      <td>2931</td>\n",
       "      <td>4.7</td>\n",
       "      <td>False</td>\n",
       "      <td>M</td>\n",
       "      <td>2005</td>\n",
       "    </tr>\n",
       "    <tr>\n",
       "      <th>2935</th>\n",
       "      <td>2936</td>\n",
       "      <td>6.3</td>\n",
       "      <td>False</td>\n",
       "      <td>F</td>\n",
       "      <td>2005</td>\n",
       "    </tr>\n",
       "    <tr>\n",
       "      <th>2940</th>\n",
       "      <td>2941</td>\n",
       "      <td>4.2</td>\n",
       "      <td>False</td>\n",
       "      <td>M</td>\n",
       "      <td>2005</td>\n",
       "    </tr>\n",
       "    <tr>\n",
       "      <th>2945</th>\n",
       "      <td>2946</td>\n",
       "      <td>5.5</td>\n",
       "      <td>False</td>\n",
       "      <td>F</td>\n",
       "      <td>2005</td>\n",
       "    </tr>\n",
       "    <tr>\n",
       "      <th>2950</th>\n",
       "      <td>2951</td>\n",
       "      <td>4.5</td>\n",
       "      <td>False</td>\n",
       "      <td>M</td>\n",
       "      <td>2005</td>\n",
       "    </tr>\n",
       "    <tr>\n",
       "      <th>2955</th>\n",
       "      <td>2956</td>\n",
       "      <td>5.5</td>\n",
       "      <td>False</td>\n",
       "      <td>F</td>\n",
       "      <td>2005</td>\n",
       "    </tr>\n",
       "    <tr>\n",
       "      <th>2960</th>\n",
       "      <td>2961</td>\n",
       "      <td>4.4</td>\n",
       "      <td>False</td>\n",
       "      <td>M</td>\n",
       "      <td>2005</td>\n",
       "    </tr>\n",
       "    <tr>\n",
       "      <th>2965</th>\n",
       "      <td>2966</td>\n",
       "      <td>4.1</td>\n",
       "      <td>False</td>\n",
       "      <td>F</td>\n",
       "      <td>2005</td>\n",
       "    </tr>\n",
       "    <tr>\n",
       "      <th>2970</th>\n",
       "      <td>2971</td>\n",
       "      <td>7.3</td>\n",
       "      <td>False</td>\n",
       "      <td>M</td>\n",
       "      <td>2005</td>\n",
       "    </tr>\n",
       "    <tr>\n",
       "      <th>2975</th>\n",
       "      <td>2976</td>\n",
       "      <td>5.2</td>\n",
       "      <td>False</td>\n",
       "      <td>F</td>\n",
       "      <td>2005</td>\n",
       "    </tr>\n",
       "    <tr>\n",
       "      <th>2980</th>\n",
       "      <td>2981</td>\n",
       "      <td>5.4</td>\n",
       "      <td>False</td>\n",
       "      <td>M</td>\n",
       "      <td>2005</td>\n",
       "    </tr>\n",
       "    <tr>\n",
       "      <th>2985</th>\n",
       "      <td>2986</td>\n",
       "      <td>7.2</td>\n",
       "      <td>False</td>\n",
       "      <td>F</td>\n",
       "      <td>2005</td>\n",
       "    </tr>\n",
       "    <tr>\n",
       "      <th>2990</th>\n",
       "      <td>2991</td>\n",
       "      <td>5.2</td>\n",
       "      <td>False</td>\n",
       "      <td>M</td>\n",
       "      <td>2005</td>\n",
       "    </tr>\n",
       "    <tr>\n",
       "      <th>2995</th>\n",
       "      <td>2996</td>\n",
       "      <td>5.2</td>\n",
       "      <td>False</td>\n",
       "      <td>F</td>\n",
       "      <td>2005</td>\n",
       "    </tr>\n",
       "  </tbody>\n",
       "</table>\n",
       "<p>600 rows × 5 columns</p>\n",
       "</div>"
      ],
      "text/plain": [
       "       num  Incentive   Nego Sex  Year\n",
       "0        1       12.1   True   M  2005\n",
       "5        6        7.0   True   F  2005\n",
       "10      11        1.9   True   M  2005\n",
       "15      16        5.3   True   F  2005\n",
       "20      21       14.6   True   M  2005\n",
       "25      26       14.1   True   F  2005\n",
       "30      31       17.6   True   M  2005\n",
       "35      36       13.1   True   F  2005\n",
       "40      41        5.7   True   M  2005\n",
       "45      46        2.7   True   F  2005\n",
       "50      51       16.0   True   M  2005\n",
       "55      56       15.8   True   F  2005\n",
       "60      61       11.0   True   M  2005\n",
       "65      66        7.9   True   F  2005\n",
       "70      71        9.4   True   M  2005\n",
       "75      76       12.4   True   F  2005\n",
       "80      81       22.3   True   M  2005\n",
       "85      86        6.9   True   F  2005\n",
       "90      91       18.0   True   M  2005\n",
       "95      96       14.2   True   F  2005\n",
       "100    101       18.3   True   M  2005\n",
       "105    106        4.3   True   F  2005\n",
       "110    111       10.3   True   M  2005\n",
       "115    116        7.8   True   F  2005\n",
       "120    121       11.1   True   M  2005\n",
       "125    126        4.8   True   F  2005\n",
       "130    131        4.2   True   M  2005\n",
       "135    136       16.5   True   F  2005\n",
       "140    141       12.1   True   M  2005\n",
       "145    146        9.1   True   F  2005\n",
       "...    ...        ...    ...  ..   ...\n",
       "2850  2851        5.0  False   M  2005\n",
       "2855  2856        3.8  False   F  2005\n",
       "2860  2861        4.8  False   M  2005\n",
       "2865  2866        3.9  False   F  2005\n",
       "2870  2871        6.2  False   M  2005\n",
       "2875  2876        5.2  False   F  2005\n",
       "2880  2881        5.0  False   M  2005\n",
       "2885  2886        4.8  False   F  2005\n",
       "2890  2891        3.8  False   M  2005\n",
       "2895  2896        4.0  False   F  2005\n",
       "2900  2901        4.7  False   M  2005\n",
       "2905  2906        4.9  False   F  2005\n",
       "2910  2911        6.2  False   M  2005\n",
       "2915  2916        4.2  False   F  2005\n",
       "2920  2921        6.3  False   M  2005\n",
       "2925  2926        5.6  False   F  2005\n",
       "2930  2931        4.7  False   M  2005\n",
       "2935  2936        6.3  False   F  2005\n",
       "2940  2941        4.2  False   M  2005\n",
       "2945  2946        5.5  False   F  2005\n",
       "2950  2951        4.5  False   M  2005\n",
       "2955  2956        5.5  False   F  2005\n",
       "2960  2961        4.4  False   M  2005\n",
       "2965  2966        4.1  False   F  2005\n",
       "2970  2971        7.3  False   M  2005\n",
       "2975  2976        5.2  False   F  2005\n",
       "2980  2981        5.4  False   M  2005\n",
       "2985  2986        7.2  False   F  2005\n",
       "2990  2991        5.2  False   M  2005\n",
       "2995  2996        5.2  False   F  2005\n",
       "\n",
       "[600 rows x 5 columns]"
      ]
     },
     "execution_count": 15,
     "metadata": {},
     "output_type": "execute_result"
    }
   ],
   "source": [
    "df_employees[df_employees['Year']==2005]"
   ]
  },
  {
   "cell_type": "markdown",
   "metadata": {},
   "source": [
    "## 12. 연도별 막대그래프 그리기"
   ]
  },
  {
   "cell_type": "code",
   "execution_count": 16,
   "metadata": {},
   "outputs": [
    {
     "data": {
      "text/plain": [
       "Year\n",
       "2005    6.027833\n",
       "2006    6.015500\n",
       "2007    6.006833\n",
       "2008    6.042167\n",
       "2009    6.047000\n",
       "Name: Incentive, dtype: float64"
      ]
     },
     "execution_count": 16,
     "metadata": {},
     "output_type": "execute_result"
    }
   ],
   "source": [
    "df_employees['Incentive'].groupby(df_employees['Year']).mean()"
   ]
  },
  {
   "cell_type": "code",
   "execution_count": 17,
   "metadata": {},
   "outputs": [
    {
     "data": {
      "text/plain": [
       "<matplotlib.axes._subplots.AxesSubplot at 0x1a22454588>"
      ]
     },
     "execution_count": 17,
     "metadata": {},
     "output_type": "execute_result"
    },
    {
     "data": {
      "image/png": "[encoded data removed]",
      "text/plain": [
       "<Figure size 720x720 with 1 Axes>"
      ]
     },
     "metadata": {
      "needs_background": "light"
     },
     "output_type": "display_data"
    }
   ],
   "source": [
    "df_employees['Incentive'].groupby(df_employees['Year']).mean().plot(kind='barh', grid=True, figsize=(10,10))"
   ]
  },
  {
   "cell_type": "code",
   "execution_count": null,
   "metadata": {
    "scrolled": false
   },
   "outputs": [],
   "source": []
  },
  {
   "cell_type": "markdown",
   "metadata": {},
   "source": [
    "## 13. 2005년도 자료 히스토그램그리기"
   ]
  },
  {
   "cell_type": "code",
   "execution_count": 18,
   "metadata": {},
   "outputs": [
    {
     "data": {
      "image/png": "[encoded data removed]",
      "text/plain": [
       "<Figure size 432x288 with 1 Axes>"
      ]
     },
     "metadata": {
      "needs_background": "light"
     },
     "output_type": "display_data"
    }
   ],
   "source": [
    "plt.hist(df_employees[df_employees['Year']==2005]['Incentive'], bins=10)\n",
    "plt.title(\"2005년도 인센티브 히스토그램\")\n",
    "plt.show()"
   ]
  },
  {
   "cell_type": "markdown",
   "metadata": {},
   "source": [
    "## 연도별 인센티브 비교 히스토그램 그리기"
   ]
  },
  {
   "cell_type": "code",
   "execution_count": 19,
   "metadata": {},
   "outputs": [
    {
     "data": {
      "text/plain": [
       "Text(0.5,1,'2009년도 인센티브 히스토그램')"
      ]
     },
     "execution_count": 19,
     "metadata": {},
     "output_type": "execute_result"
    },
    {
     "data": {
      "image/png": "[encoded data removed]",
      "text/plain": [
       "<Figure size 432x288 with 4 Axes>"
      ]
     },
     "metadata": {
      "needs_background": "light"
     },
     "output_type": "display_data"
    }
   ],
   "source": [
    "fig = plt.figure()\n",
    "fig.suptitle(\"연도별 인센티브 비교\")\n",
    "axes1 = fig.add_subplot(2,2,1)\n",
    "axes2 = fig.add_subplot(2,2,2)\n",
    "axes3 = fig.add_subplot(2,2,3)\n",
    "axes4 = fig.add_subplot(2,2,4)\n",
    "axes1.hist(df_employees[df_employees['Year']==2005]['Incentive'], bins=10)\n",
    "axes1.set_title(\"2005년도 인센티브 히스토그램\")\n",
    "axes2.hist(df_employees[df_employees['Year']==2006]['Incentive'], bins=10)\n",
    "axes2.set_title(\"2006년도 인센티브 히스토그램\")\n",
    "axes3.hist(df_employees[df_employees['Year']==2008]['Incentive'], bins=10)\n",
    "axes3.set_title(\"2008년도 인센티브 히스토그램\")\n",
    "axes4.hist(df_employees[df_employees['Year']==2008]['Incentive'], bins=10)\n",
    "axes4.set_title(\"2009년도 인센티브 히스토그램\")"
   ]
  },
  {
   "cell_type": "markdown",
   "metadata": {},
   "source": [
    "## 14. 성별 인센티브 비교 히스토그램 그리기"
   ]
  },
  {
   "cell_type": "code",
   "execution_count": 20,
   "metadata": {},
   "outputs": [
    {
     "data": {
      "text/plain": [
       "Text(0.5,1,'여자 사원의 인센티브 히스토그램')"
      ]
     },
     "execution_count": 20,
     "metadata": {},
     "output_type": "execute_result"
    },
    {
     "data": {
      "image/png": "[encoded data removed]",
      "text/plain": [
       "<Figure size 432x288 with 2 Axes>"
      ]
     },
     "metadata": {
      "needs_background": "light"
     },
     "output_type": "display_data"
    }
   ],
   "source": [
    "fig = plt.figure()\n",
    "fig.suptitle(\"성별 인센티브 비교\")\n",
    "axes1 = fig.add_subplot(2,1,1)\n",
    "axes2 = fig.add_subplot(2,1,2)\n",
    "axes1.hist(df_employees[df_employees['Sex']=='M']['Incentive'], bins=10)\n",
    "axes1.set_title(\"남자 사원의 인센티브 히스토그램\")\n",
    "axes2.hist(df_employees[df_employees['Sex']=='F']['Incentive'], bins=10)\n",
    "axes2.set_title(\"여자 사원의 인센티브 히스토그램\")"
   ]
  },
  {
   "cell_type": "markdown",
   "metadata": {},
   "source": [
    "## 15. 협상여부에 따른 인센티브 비교 히스토그램 그리기"
   ]
  },
  {
   "cell_type": "code",
   "execution_count": 21,
   "metadata": {
    "scrolled": true
   },
   "outputs": [
    {
     "data": {
      "text/plain": [
       "Text(0.5,1,'미협상 경우의 인센티브 히스토그램')"
      ]
     },
     "execution_count": 21,
     "metadata": {},
     "output_type": "execute_result"
    },
    {
     "data": {
      "image/png": "[encoded data removed]",
      "text/plain": [
       "<Figure size 432x288 with 2 Axes>"
      ]
     },
     "metadata": {
      "needs_background": "light"
     },
     "output_type": "display_data"
    }
   ],
   "source": [
    "fig = plt.figure()\n",
    "fig.suptitle(\"협상 여부에 따른 인센티브 비교\")\n",
    "axes1 = fig.add_subplot(2,1,1)\n",
    "axes2 = fig.add_subplot(2,1,2)\n",
    "axes1.hist(df_employees[df_employees['Nego']==True]['Incentive'], bins=10)\n",
    "axes1.set_title(\"협상한 경우의 인센티브 히스토그램\")\n",
    "axes2.hist(df_employees[df_employees['Nego']==False]['Incentive'], bins=10)\n",
    "axes2.set_title(\"미협상 경우의 인센티브 히스토그램\")"
   ]
  },
  {
   "cell_type": "markdown",
   "metadata": {},
   "source": [
    "## 16. mpg.csv 파일 df_mpg로 불러오기"
   ]
  },
  {
   "cell_type": "code",
   "execution_count": 22,
   "metadata": {},
   "outputs": [],
   "source": [
    "df_mpg = pd.read_csv('mpg.csv', index_col=0)"
   ]
  },
  {
   "cell_type": "code",
   "execution_count": 23,
   "metadata": {},
   "outputs": [
    {
     "data": {
      "text/html": [
       "<div>\n",
       "<style scoped>\n",
       "    .dataframe tbody tr th:only-of-type {\n",
       "        vertical-align: middle;\n",
       "    }\n",
       "\n",
       "    .dataframe tbody tr th {\n",
       "        vertical-align: top;\n",
       "    }\n",
       "\n",
       "    .dataframe thead th {\n",
       "        text-align: right;\n",
       "    }\n",
       "</style>\n",
       "<table border=\"1\" class=\"dataframe\">\n",
       "  <thead>\n",
       "    <tr style=\"text-align: right;\">\n",
       "      <th></th>\n",
       "      <th>manufacturer</th>\n",
       "      <th>model</th>\n",
       "      <th>displ</th>\n",
       "      <th>year</th>\n",
       "      <th>cyl</th>\n",
       "      <th>trans</th>\n",
       "      <th>drv</th>\n",
       "      <th>cty</th>\n",
       "      <th>hwy</th>\n",
       "      <th>fl</th>\n",
       "      <th>class</th>\n",
       "    </tr>\n",
       "  </thead>\n",
       "  <tbody>\n",
       "    <tr>\n",
       "      <th>1</th>\n",
       "      <td>audi</td>\n",
       "      <td>a4</td>\n",
       "      <td>1.8</td>\n",
       "      <td>1999</td>\n",
       "      <td>4</td>\n",
       "      <td>auto(l5)</td>\n",
       "      <td>f</td>\n",
       "      <td>18</td>\n",
       "      <td>29</td>\n",
       "      <td>p</td>\n",
       "      <td>compact</td>\n",
       "    </tr>\n",
       "    <tr>\n",
       "      <th>2</th>\n",
       "      <td>audi</td>\n",
       "      <td>a4</td>\n",
       "      <td>1.8</td>\n",
       "      <td>1999</td>\n",
       "      <td>4</td>\n",
       "      <td>manual(m5)</td>\n",
       "      <td>f</td>\n",
       "      <td>21</td>\n",
       "      <td>29</td>\n",
       "      <td>p</td>\n",
       "      <td>compact</td>\n",
       "    </tr>\n",
       "    <tr>\n",
       "      <th>3</th>\n",
       "      <td>audi</td>\n",
       "      <td>a4</td>\n",
       "      <td>2.0</td>\n",
       "      <td>2008</td>\n",
       "      <td>4</td>\n",
       "      <td>manual(m6)</td>\n",
       "      <td>f</td>\n",
       "      <td>20</td>\n",
       "      <td>31</td>\n",
       "      <td>p</td>\n",
       "      <td>compact</td>\n",
       "    </tr>\n",
       "    <tr>\n",
       "      <th>4</th>\n",
       "      <td>audi</td>\n",
       "      <td>a4</td>\n",
       "      <td>2.0</td>\n",
       "      <td>2008</td>\n",
       "      <td>4</td>\n",
       "      <td>auto(av)</td>\n",
       "      <td>f</td>\n",
       "      <td>21</td>\n",
       "      <td>30</td>\n",
       "      <td>p</td>\n",
       "      <td>compact</td>\n",
       "    </tr>\n",
       "    <tr>\n",
       "      <th>5</th>\n",
       "      <td>audi</td>\n",
       "      <td>a4</td>\n",
       "      <td>2.8</td>\n",
       "      <td>1999</td>\n",
       "      <td>6</td>\n",
       "      <td>auto(l5)</td>\n",
       "      <td>f</td>\n",
       "      <td>16</td>\n",
       "      <td>26</td>\n",
       "      <td>p</td>\n",
       "      <td>compact</td>\n",
       "    </tr>\n",
       "  </tbody>\n",
       "</table>\n",
       "</div>"
      ],
      "text/plain": [
       "  manufacturer model  displ  year  cyl       trans drv  cty  hwy fl    class\n",
       "1         audi    a4    1.8  1999    4    auto(l5)   f   18   29  p  compact\n",
       "2         audi    a4    1.8  1999    4  manual(m5)   f   21   29  p  compact\n",
       "3         audi    a4    2.0  2008    4  manual(m6)   f   20   31  p  compact\n",
       "4         audi    a4    2.0  2008    4    auto(av)   f   21   30  p  compact\n",
       "5         audi    a4    2.8  1999    6    auto(l5)   f   16   26  p  compact"
      ]
     },
     "execution_count": 23,
     "metadata": {},
     "output_type": "execute_result"
    }
   ],
   "source": [
    "df_mpg.head()"
   ]
  },
  {
   "cell_type": "markdown",
   "metadata": {},
   "source": [
    "## 17. 차량의 연비와 엔진크기"
   ]
  },
  {
   "cell_type": "code",
   "execution_count": 24,
   "metadata": {},
   "outputs": [
    {
     "data": {
      "text/html": [
       "<div>\n",
       "<style scoped>\n",
       "    .dataframe tbody tr th:only-of-type {\n",
       "        vertical-align: middle;\n",
       "    }\n",
       "\n",
       "    .dataframe tbody tr th {\n",
       "        vertical-align: top;\n",
       "    }\n",
       "\n",
       "    .dataframe thead th {\n",
       "        text-align: right;\n",
       "    }\n",
       "</style>\n",
       "<table border=\"1\" class=\"dataframe\">\n",
       "  <thead>\n",
       "    <tr style=\"text-align: right;\">\n",
       "      <th></th>\n",
       "      <th>displ</th>\n",
       "      <th>year</th>\n",
       "      <th>cyl</th>\n",
       "      <th>cty</th>\n",
       "      <th>hwy</th>\n",
       "    </tr>\n",
       "  </thead>\n",
       "  <tbody>\n",
       "    <tr>\n",
       "      <th>displ</th>\n",
       "      <td>1.000000</td>\n",
       "      <td>0.147843</td>\n",
       "      <td>0.930227</td>\n",
       "      <td>-0.798524</td>\n",
       "      <td>-0.766020</td>\n",
       "    </tr>\n",
       "    <tr>\n",
       "      <th>year</th>\n",
       "      <td>0.147843</td>\n",
       "      <td>1.000000</td>\n",
       "      <td>0.122245</td>\n",
       "      <td>-0.037232</td>\n",
       "      <td>0.002158</td>\n",
       "    </tr>\n",
       "    <tr>\n",
       "      <th>cyl</th>\n",
       "      <td>0.930227</td>\n",
       "      <td>0.122245</td>\n",
       "      <td>1.000000</td>\n",
       "      <td>-0.805771</td>\n",
       "      <td>-0.761912</td>\n",
       "    </tr>\n",
       "    <tr>\n",
       "      <th>cty</th>\n",
       "      <td>-0.798524</td>\n",
       "      <td>-0.037232</td>\n",
       "      <td>-0.805771</td>\n",
       "      <td>1.000000</td>\n",
       "      <td>0.955916</td>\n",
       "    </tr>\n",
       "    <tr>\n",
       "      <th>hwy</th>\n",
       "      <td>-0.766020</td>\n",
       "      <td>0.002158</td>\n",
       "      <td>-0.761912</td>\n",
       "      <td>0.955916</td>\n",
       "      <td>1.000000</td>\n",
       "    </tr>\n",
       "  </tbody>\n",
       "</table>\n",
       "</div>"
      ],
      "text/plain": [
       "          displ      year       cyl       cty       hwy\n",
       "displ  1.000000  0.147843  0.930227 -0.798524 -0.766020\n",
       "year   0.147843  1.000000  0.122245 -0.037232  0.002158\n",
       "cyl    0.930227  0.122245  1.000000 -0.805771 -0.761912\n",
       "cty   -0.798524 -0.037232 -0.805771  1.000000  0.955916\n",
       "hwy   -0.766020  0.002158 -0.761912  0.955916  1.000000"
      ]
     },
     "execution_count": 24,
     "metadata": {},
     "output_type": "execute_result"
    }
   ],
   "source": [
    "corr = df_mpg.corr(method='pearson')\n",
    "corr"
   ]
  },
  {
   "cell_type": "markdown",
   "metadata": {},
   "source": [
    "## 18. cars.csv 파일 df_cars로 불러오기"
   ]
  },
  {
   "cell_type": "code",
   "execution_count": 25,
   "metadata": {},
   "outputs": [],
   "source": [
    "df_cars = pd.read_csv('cars.csv', index_col=0)"
   ]
  },
  {
   "cell_type": "code",
   "execution_count": 26,
   "metadata": {},
   "outputs": [
    {
     "data": {
      "text/html": [
       "<div>\n",
       "<style scoped>\n",
       "    .dataframe tbody tr th:only-of-type {\n",
       "        vertical-align: middle;\n",
       "    }\n",
       "\n",
       "    .dataframe tbody tr th {\n",
       "        vertical-align: top;\n",
       "    }\n",
       "\n",
       "    .dataframe thead th {\n",
       "        text-align: right;\n",
       "    }\n",
       "</style>\n",
       "<table border=\"1\" class=\"dataframe\">\n",
       "  <thead>\n",
       "    <tr style=\"text-align: right;\">\n",
       "      <th></th>\n",
       "      <th>speed</th>\n",
       "      <th>dist</th>\n",
       "    </tr>\n",
       "  </thead>\n",
       "  <tbody>\n",
       "    <tr>\n",
       "      <th>1</th>\n",
       "      <td>4</td>\n",
       "      <td>2</td>\n",
       "    </tr>\n",
       "    <tr>\n",
       "      <th>2</th>\n",
       "      <td>4</td>\n",
       "      <td>10</td>\n",
       "    </tr>\n",
       "    <tr>\n",
       "      <th>3</th>\n",
       "      <td>7</td>\n",
       "      <td>4</td>\n",
       "    </tr>\n",
       "    <tr>\n",
       "      <th>4</th>\n",
       "      <td>7</td>\n",
       "      <td>22</td>\n",
       "    </tr>\n",
       "    <tr>\n",
       "      <th>5</th>\n",
       "      <td>8</td>\n",
       "      <td>16</td>\n",
       "    </tr>\n",
       "  </tbody>\n",
       "</table>\n",
       "</div>"
      ],
      "text/plain": [
       "   speed  dist\n",
       "1      4     2\n",
       "2      4    10\n",
       "3      7     4\n",
       "4      7    22\n",
       "5      8    16"
      ]
     },
     "execution_count": 26,
     "metadata": {},
     "output_type": "execute_result"
    }
   ],
   "source": [
    "df_cars.head()"
   ]
  },
  {
   "cell_type": "markdown",
   "metadata": {},
   "source": [
    "## 19. 속도와 제동거리 관계 산점도 그리기"
   ]
  },
  {
   "cell_type": "code",
   "execution_count": 27,
   "metadata": {},
   "outputs": [
    {
     "data": {
      "image/png": "[encoded data removed]",
      "text/plain": [
       "<Figure size 432x288 with 1 Axes>"
      ]
     },
     "metadata": {
      "needs_background": "light"
     },
     "output_type": "display_data"
    }
   ],
   "source": [
    "plt.scatter(df_cars['speed'], df_cars['dist'],s=df_cars['speed']*2, c=df_cars['speed'])\n",
    "plt.xlabel(\"속도\")\n",
    "plt.ylabel(\"제동거리\")\n",
    "plt.show()"
   ]
  },
  {
   "cell_type": "markdown",
   "metadata": {},
   "source": [
    "## 20. 회귀선 그리기"
   ]
  },
  {
   "cell_type": "code",
   "execution_count": 28,
   "metadata": {},
   "outputs": [
    {
     "name": "stderr",
     "output_type": "stream",
     "text": [
      "/Users/leeseonwoo/anaconda3/lib/python3.7/site-packages/scipy/stats/stats.py:1713: FutureWarning: Using a non-tuple sequence for multidimensional indexing is deprecated; use `arr[tuple(seq)]` instead of `arr[seq]`. In the future this will be interpreted as an array index, `arr[np.array(seq)]`, which will result either in an error or a different result.\n",
      "  return np.add.reduce(sorted[indexer] * weights, axis=axis) / sumval\n"
     ]
    },
    {
     "data": {
      "image/png": "[encoded data removed]",
      "text/plain": [
       "<Figure size 360x360 with 1 Axes>"
      ]
     },
     "metadata": {
      "needs_background": "light"
     },
     "output_type": "display_data"
    }
   ],
   "source": [
    "sns.lmplot(x=\"speed\", y=\"dist\", data=df_cars)\n",
    "plt.show()"
   ]
  },
  {
   "cell_type": "markdown",
   "metadata": {},
   "source": [
    "## 21. gov.csv 파일 df_data로 불러오기"
   ]
  },
  {
   "cell_type": "code",
   "execution_count": 64,
   "metadata": {},
   "outputs": [
    {
     "name": "stderr",
     "output_type": "stream",
     "text": [
      "/Users/leeseonwoo/anaconda3/lib/python3.7/site-packages/IPython/core/interactiveshell.py:2785: DtypeWarning: Columns (2,3,4,5,6,7,8,9) have mixed types. Specify dtype option on import or set low_memory=False.\n",
      "  interactivity=interactivity, compiler=compiler, result=result)\n"
     ]
    }
   ],
   "source": [
    "df_data = pd.read_csv('gov.csv',index_col=0)"
   ]
  },
  {
   "cell_type": "code",
   "execution_count": 65,
   "metadata": {
    "scrolled": false
   },
   "outputs": [
    {
     "data": {
      "text/html": [
       "<div>\n",
       "<style scoped>\n",
       "    .dataframe tbody tr th:only-of-type {\n",
       "        vertical-align: middle;\n",
       "    }\n",
       "\n",
       "    .dataframe tbody tr th {\n",
       "        vertical-align: top;\n",
       "    }\n",
       "\n",
       "    .dataframe thead th {\n",
       "        text-align: right;\n",
       "    }\n",
       "</style>\n",
       "<table border=\"1\" class=\"dataframe\">\n",
       "  <thead>\n",
       "    <tr style=\"text-align: right;\">\n",
       "      <th></th>\n",
       "      <th>측정 일자</th>\n",
       "      <th>가슴 둘레 센티미터</th>\n",
       "      <th>소매길이 센티미터</th>\n",
       "      <th>신장 센티미터</th>\n",
       "      <th>허리 둘레 센티미터</th>\n",
       "      <th>샅높이 센티미터</th>\n",
       "      <th>머리 둘레 센티미터</th>\n",
       "      <th>발 길이 센티미터</th>\n",
       "      <th>몸무게 킬로그램</th>\n",
       "    </tr>\n",
       "    <tr>\n",
       "      <th>순번</th>\n",
       "      <th></th>\n",
       "      <th></th>\n",
       "      <th></th>\n",
       "      <th></th>\n",
       "      <th></th>\n",
       "      <th></th>\n",
       "      <th></th>\n",
       "      <th></th>\n",
       "      <th></th>\n",
       "    </tr>\n",
       "  </thead>\n",
       "  <tbody>\n",
       "    <tr>\n",
       "      <th>1</th>\n",
       "      <td>20140106</td>\n",
       "      <td>96.3</td>\n",
       "      <td>92.6</td>\n",
       "      <td>185.5</td>\n",
       "      <td>82.5</td>\n",
       "      <td>83.8</td>\n",
       "      <td>57.1</td>\n",
       "      <td>28.5</td>\n",
       "      <td>73.2</td>\n",
       "    </tr>\n",
       "    <tr>\n",
       "      <th>2</th>\n",
       "      <td>2013</td>\n",
       "      <td>101.9</td>\n",
       "      <td>83.8</td>\n",
       "      <td>167.2</td>\n",
       "      <td>81.2</td>\n",
       "      <td>74.4</td>\n",
       "      <td>55</td>\n",
       "      <td>24.2</td>\n",
       "      <td>65.1</td>\n",
       "    </tr>\n",
       "    <tr>\n",
       "      <th>3</th>\n",
       "      <td>20140106</td>\n",
       "      <td>99.5</td>\n",
       "      <td>89.6</td>\n",
       "      <td>179.9</td>\n",
       "      <td>99.2</td>\n",
       "      <td>84.2</td>\n",
       "      <td>56.3</td>\n",
       "      <td>28.1</td>\n",
       "      <td>93.2</td>\n",
       "    </tr>\n",
       "    <tr>\n",
       "      <th>4</th>\n",
       "      <td>2013</td>\n",
       "      <td>98.6</td>\n",
       "      <td>85.5</td>\n",
       "      <td>171.4</td>\n",
       "      <td>85.9</td>\n",
       "      <td>76.4</td>\n",
       "      <td>54.5</td>\n",
       "      <td>27.4</td>\n",
       "      <td>71.6</td>\n",
       "    </tr>\n",
       "    <tr>\n",
       "      <th>5</th>\n",
       "      <td>20140106</td>\n",
       "      <td>94.7</td>\n",
       "      <td>88.1</td>\n",
       "      <td>176.9</td>\n",
       "      <td>78.3</td>\n",
       "      <td>79.7</td>\n",
       "      <td>58.5</td>\n",
       "      <td>26.5</td>\n",
       "      <td>67.1</td>\n",
       "    </tr>\n",
       "  </tbody>\n",
       "</table>\n",
       "</div>"
      ],
      "text/plain": [
       "       측정 일자 가슴 둘레 센티미터 소매길이 센티미터 신장 센티미터 허리 둘레 센티미터 샅높이 센티미터 머리 둘레 센티미터  \\\n",
       "순번                                                                         \n",
       "1   20140106       96.3      92.6   185.5       82.5     83.8       57.1   \n",
       "2       2013      101.9      83.8   167.2       81.2     74.4         55   \n",
       "3   20140106       99.5      89.6   179.9       99.2     84.2       56.3   \n",
       "4       2013       98.6      85.5   171.4       85.9     76.4       54.5   \n",
       "5   20140106       94.7      88.1   176.9       78.3     79.7       58.5   \n",
       "\n",
       "   발 길이 센티미터 몸무게 킬로그램  \n",
       "순번                     \n",
       "1       28.5     73.2  \n",
       "2       24.2     65.1  \n",
       "3       28.1     93.2  \n",
       "4       27.4     71.6  \n",
       "5       26.5     67.1  "
      ]
     },
     "execution_count": 65,
     "metadata": {},
     "output_type": "execute_result"
    }
   ],
   "source": [
    "df_data.head()"
   ]
  },
  {
   "cell_type": "markdown",
   "metadata": {},
   "source": [
    "## 22. 데이터 타입정보 확인하기"
   ]
  },
  {
   "cell_type": "code",
   "execution_count": 66,
   "metadata": {},
   "outputs": [
    {
     "name": "stdout",
     "output_type": "stream",
     "text": [
      "<class 'pandas.core.frame.DataFrame'>\n",
      "Int64Index: 167983 entries, 1 to 167983\n",
      "Data columns (total 9 columns):\n",
      "측정 일자         167983 non-null int64\n",
      "가슴 둘레 센티미터    167982 non-null object\n",
      "소매길이 센티미터     167983 non-null object\n",
      "신장 센티미터       167983 non-null object\n",
      "허리 둘레 센티미터    167983 non-null object\n",
      "샅높이 센티미터      167983 non-null object\n",
      "머리 둘레 센티미터    167981 non-null object\n",
      "발 길이 센티미터     167983 non-null object\n",
      "몸무게 킬로그램      167983 non-null object\n",
      "dtypes: int64(1), object(8)\n",
      "memory usage: 12.8+ MB\n"
     ]
    }
   ],
   "source": [
    "df_data.info()"
   ]
  },
  {
   "cell_type": "markdown",
   "metadata": {},
   "source": [
    "## 23. 데이터 타입 변경하기 - 신장 센티미터, 몸무게 킬로그램을 float으로 변경하기"
   ]
  },
  {
   "cell_type": "code",
   "execution_count": 67,
   "metadata": {},
   "outputs": [],
   "source": [
    "## Name의 문자열을 분리하여 주요 타이틀 분리\n",
    "def split_ck(x):\n",
    "    x = str(x)\n",
    "    if ' ' in x:\n",
    "        try:\n",
    "            return float(x.split(' ')[0])\n",
    "        except ValueError:\n",
    "            print(x.split(' ')[0])\n",
    "    else:\n",
    "        return float(x)"
   ]
  },
  {
   "cell_type": "code",
   "execution_count": 68,
   "metadata": {
    "scrolled": true
   },
   "outputs": [
    {
     "data": {
      "text/plain": [
       "순번\n",
       "1         185.5\n",
       "2         167.2\n",
       "3         179.9\n",
       "4         171.4\n",
       "5         176.9\n",
       "6         180.5\n",
       "7         180.4\n",
       "8         173.9\n",
       "9         178.7\n",
       "10        180.5\n",
       "11        173.1\n",
       "12        178.5\n",
       "13        172.6\n",
       "14        170.7\n",
       "15        175.0\n",
       "16        175.8\n",
       "17        182.9\n",
       "18        169.3\n",
       "19        177.4\n",
       "20        168.3\n",
       "21        173.4\n",
       "22        173.2\n",
       "23        180.1\n",
       "24        172.4\n",
       "25        186.8\n",
       "26        175.6\n",
       "27        176.3\n",
       "28        180.7\n",
       "29        175.3\n",
       "30        177.7\n",
       "          ...  \n",
       "167954    186.9\n",
       "167955    178.0\n",
       "167956    177.0\n",
       "167957    175.3\n",
       "167958    175.3\n",
       "167959    178.5\n",
       "167960    175.1\n",
       "167961    178.8\n",
       "167962    171.8\n",
       "167963    176.9\n",
       "167964    178.0\n",
       "167965    175.2\n",
       "167966    176.4\n",
       "167967    177.6\n",
       "167968    173.0\n",
       "167969    179.2\n",
       "167970    172.3\n",
       "167971    169.9\n",
       "167972    171.6\n",
       "167973    169.4\n",
       "167974    166.5\n",
       "167975    169.2\n",
       "167976    169.5\n",
       "167977    177.8\n",
       "167978    173.3\n",
       "167979    173.2\n",
       "167980    166.3\n",
       "167981    175.2\n",
       "167982    173.6\n",
       "167983    175.8\n",
       "Name: 신장 센티미터, Length: 167983, dtype: float64"
      ]
     },
     "execution_count": 68,
     "metadata": {},
     "output_type": "execute_result"
    }
   ],
   "source": [
    "df_data['신장 센티미터'] = df_data['신장 센티미터'].apply(split_ck)\n",
    "df_data['신장 센티미터']"
   ]
  },
  {
   "cell_type": "code",
   "execution_count": 51,
   "metadata": {
    "collapsed": true
   },
   "outputs": [
    {
     "data": {
      "text/plain": [
       "순번\n",
       "1             73.2\n",
       "2             65.1\n",
       "3             93.2\n",
       "4             71.6\n",
       "5             67.1\n",
       "6            114.2\n",
       "7             76.5\n",
       "8               53\n",
       "9             69.7\n",
       "10           114.2\n",
       "11            95.3\n",
       "12            78.7\n",
       "13            58.6\n",
       "14            66.7\n",
       "15            77.8\n",
       "16            77.8\n",
       "17            80.4\n",
       "18            54.6\n",
       "19              69\n",
       "20            59.1\n",
       "21            63.8\n",
       "22            74.6\n",
       "23            90.4\n",
       "24            67.8\n",
       "25           103.3\n",
       "26            68.1\n",
       "27            80.6\n",
       "28              69\n",
       "29            59.2\n",
       "30            55.5\n",
       "            ...   \n",
       "167954     86.7 kg\n",
       "167955     76.4 kg\n",
       "167956     60.6 kg\n",
       "167957     89.6 kg\n",
       "167958     76.5 kg\n",
       "167959     94.4 kg\n",
       "167960     53.3 kg\n",
       "167961     81.0 kg\n",
       "167962     72.5 kg\n",
       "167963     79.5 kg\n",
       "167964     68.4 kg\n",
       "167965     88.0 kg\n",
       "167966     82.0 kg\n",
       "167967     59.4 kg\n",
       "167968     57.4 kg\n",
       "167969     67.3 kg\n",
       "167970     64.4 kg\n",
       "167971     73.7 kg\n",
       "167972    104.4 kg\n",
       "167973     60.7 kg\n",
       "167974     60.8 kg\n",
       "167975     72.4 kg\n",
       "167976     89.8 kg\n",
       "167977     65.7 kg\n",
       "167978     73.8 kg\n",
       "167979     73.7 kg\n",
       "167980     70.7 kg\n",
       "167981     78.7 kg\n",
       "167982     57.4 kg\n",
       "167983     51.7 kg\n",
       "Name: 몸무게 킬로그램, Length: 167983, dtype: object"
      ]
     },
     "execution_count": 51,
     "metadata": {},
     "output_type": "execute_result"
    }
   ],
   "source": [
    "df_data['몸무게 킬로그램']"
   ]
  },
  {
   "cell_type": "code",
   "execution_count": 69,
   "metadata": {
    "scrolled": true
   },
   "outputs": [
    {
     "name": "stdout",
     "output_type": "stream",
     "text": [
      "\n",
      "\n",
      "\n",
      "\n",
      "\n",
      "\n",
      "\n",
      "\n",
      "\n",
      "\n",
      "\n",
      "\n",
      "\n",
      "\n",
      "\n",
      "\n",
      "\n",
      "\n",
      "\n",
      "\n",
      "\n",
      "\n",
      "\n",
      "\n",
      "\n",
      "\n"
     ]
    },
    {
     "data": {
      "text/plain": [
       "순번\n",
       "1          73.2\n",
       "2          65.1\n",
       "3          93.2\n",
       "4          71.6\n",
       "5          67.1\n",
       "6         114.2\n",
       "7          76.5\n",
       "8          53.0\n",
       "9          69.7\n",
       "10        114.2\n",
       "11         95.3\n",
       "12         78.7\n",
       "13         58.6\n",
       "14         66.7\n",
       "15         77.8\n",
       "16         77.8\n",
       "17         80.4\n",
       "18         54.6\n",
       "19         69.0\n",
       "20         59.1\n",
       "21         63.8\n",
       "22         74.6\n",
       "23         90.4\n",
       "24         67.8\n",
       "25        103.3\n",
       "26         68.1\n",
       "27         80.6\n",
       "28         69.0\n",
       "29         59.2\n",
       "30         55.5\n",
       "          ...  \n",
       "167954     86.7\n",
       "167955     76.4\n",
       "167956     60.6\n",
       "167957     89.6\n",
       "167958     76.5\n",
       "167959     94.4\n",
       "167960     53.3\n",
       "167961     81.0\n",
       "167962     72.5\n",
       "167963     79.5\n",
       "167964     68.4\n",
       "167965     88.0\n",
       "167966     82.0\n",
       "167967     59.4\n",
       "167968     57.4\n",
       "167969     67.3\n",
       "167970     64.4\n",
       "167971     73.7\n",
       "167972    104.4\n",
       "167973     60.7\n",
       "167974     60.8\n",
       "167975     72.4\n",
       "167976     89.8\n",
       "167977     65.7\n",
       "167978     73.8\n",
       "167979     73.7\n",
       "167980     70.7\n",
       "167981     78.7\n",
       "167982     57.4\n",
       "167983     51.7\n",
       "Name: 몸무게 킬로그램, Length: 167983, dtype: float64"
      ]
     },
     "execution_count": 69,
     "metadata": {},
     "output_type": "execute_result"
    }
   ],
   "source": [
    "df_data['몸무게 킬로그램'] = df_data['몸무게 킬로그램'].apply(split_ck)\n",
    "df_data['몸무게 킬로그램']"
   ]
  },
  {
   "cell_type": "markdown",
   "metadata": {},
   "source": [
    "## 24. 키와 몸무게로 산점도 그리기"
   ]
  },
  {
   "cell_type": "code",
   "execution_count": 70,
   "metadata": {},
   "outputs": [
    {
     "data": {
      "image/png": "[encoded data removed]",
      "text/plain": [
       "<Figure size 432x288 with 1 Axes>"
      ]
     },
     "metadata": {
      "needs_background": "light"
     },
     "output_type": "display_data"
    }
   ],
   "source": [
    "plt.scatter(df_data['신장 센티미터'], df_data['몸무게 킬로그램'],s=df_data['몸무게 킬로그램']/10, c=df_data['몸무게 킬로그램']/2)\n",
    "plt.xlabel(\"속도\")\n",
    "plt.ylabel(\"제동거리\")\n",
    "plt.show()"
   ]
  },
  {
   "cell_type": "code",
   "execution_count": 127,
   "metadata": {},
   "outputs": [
    {
     "data": {
      "text/plain": [
       "Text(0, 0.5, '몸무게 킬로그램')"
      ]
     },
     "execution_count": 127,
     "metadata": {},
     "output_type": "execute_result"
    },
    {
     "data": {
      "image/png": "[encoded data removed]",
      "text/plain": [
       "<Figure size 432x288 with 1 Axes>"
      ]
     },
     "metadata": {
      "needs_background": "light"
     },
     "output_type": "display_data"
    }
   ],
   "source": []
  }
 ],
 "metadata": {
  "kernelspec": {
   "display_name": "Python 3",
   "language": "python",
   "name": "python3"
  },
  "language_info": {
   "codemirror_mode": {
    "name": "ipython",
    "version": 3
   },
   "file_extension": ".py",
   "mimetype": "text/x-python",
   "name": "python",
   "nbconvert_exporter": "python",
   "pygments_lexer": "ipython3",
   "version": "3.7.1"
  }
 },
 "nbformat": 4,
 "nbformat_minor": 2
}
