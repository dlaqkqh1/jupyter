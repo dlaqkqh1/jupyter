{
 "cells": [
  {
   "cell_type": "markdown",
   "metadata": {},
   "source": [
    "## 연습문제"
   ]
  },
  {
   "cell_type": "code",
   "execution_count": 6,
   "metadata": {},
   "outputs": [],
   "source": [
    "import re"
   ]
  },
  {
   "cell_type": "markdown",
   "metadata": {},
   "source": [
    "### 1. 이메일 주소 형식 검사하기"
   ]
  },
  {
   "cell_type": "code",
   "execution_count": 7,
   "metadata": {},
   "outputs": [],
   "source": [
    "emails = ['python@mail.example.com', 'python+kr@example.com',              # 올바른 형식\n",
    "          'python-dojang@example.co.kr', 'python_10@example.info',         # 올바른 형식\n",
    "          'python.dojang@e-xample.com',                                    # 올바른 형식\n",
    "          '@example.com', 'python@example', 'python@example-com']  "
   ]
  },
  {
   "cell_type": "code",
   "execution_count": 8,
   "metadata": {},
   "outputs": [],
   "source": [
    "pattern = re.compile('^[\\-\\+\\._a-z0-9]+@[a-z\\-]+\\.[a-z\\.]+$')"
   ]
  },
  {
   "cell_type": "code",
   "execution_count": 9,
   "metadata": {},
   "outputs": [
    {
     "name": "stdout",
     "output_type": "stream",
     "text": [
      "<re.Match object; span=(0, 23), match='python@mail.example.com'>\n",
      "<re.Match object; span=(0, 21), match='python+kr@example.com'>\n",
      "<re.Match object; span=(0, 27), match='python-dojang@example.co.kr'>\n",
      "<re.Match object; span=(0, 22), match='python_10@example.info'>\n",
      "<re.Match object; span=(0, 26), match='python.dojang@e-xample.com'>\n",
      "None\n",
      "None\n",
      "None\n"
     ]
    }
   ],
   "source": [
    "for email in emails:\n",
    "    print(pattern.match(email))"
   ]
  },
  {
   "cell_type": "markdown",
   "metadata": {},
   "source": [
    "### 2. 아이피 주소 수집"
   ]
  },
  {
   "cell_type": "code",
   "execution_count": 10,
   "metadata": {},
   "outputs": [],
   "source": [
    "pattern = re.compile('[0-9]{1,3}\\.[0-9]{1,3}\\.[0-9]{1,3}\\.[0-9]{1,3}')"
   ]
  },
  {
   "cell_type": "code",
   "execution_count": 11,
   "metadata": {},
   "outputs": [],
   "source": [
    "text = \"RFC 5735에 의해 특수한 목적으로 예약된 IP 주소들이기 때문에 다음 IP 주소들은 공인 IP 주소로 할당 받는 것이 불가능하다. 0.0.0.0 ~ 0.255.255.255 (0.0.0.0/8): IP 주소를 할당받기 전 임시로 사용하는 주소. 주로 0.0.0.0을 쓴다. 10.0.0.0 ~ 10.255.255.255 (10.0.0.0/8): 사설 IP에 쓰기 위해 예약된 IP 주소다. A class network. 이 대역의 네트워크는 1개만 만들 수 있고 그 하나의 네트워크에 묶을 수 있는 호스트의 수는 천만 개 이상이다. 100.64.0.0 - 100.127.255.255 (100.64.0.0/10): 2012년에 새로 지정된 Carrier-grade NAT라고 불리는 새로운 사설 IP 대역으로, IPv4 주소 고갈 문제를 임시 땜빵하기 위하여 새로 추가된 사설 IP 대역이다. Carrier-grade라는 말답게 주로 통신사(유선/무선 모두 포함) 단계에서 사용한다. 한국 유선 인터넷에서는 보기 어렵지만, 휴대폰에서는 가끔 볼 수 있는 대역이다. 대부분의 휴대폰에서는 IP주소 조회를 지원하지 않으므로 서드파티 앱을 설치하면 확인이 가능하다. 127.0.0.0 ~ 127.255.255.255 (127.0.0.0/8, 흔히 127.0.0.1를 사용한다.): 자기 자신을 가리키기 위한 목적으로 쓰기 위해 예약된 IP 주소이다. 루프백(Loopback)이라고도 한다.백괴사전에도 언급되었다. 169.254.0.0 ~ 169.254.255.255 (169.254.0.0/16): IP를 따로 지정하지 않았으면서 IP를 자동으로 지정해주는 DHCP 서버를 찾지 못했을 경우 클라이언트끼리 IP를 할당할 때 쓰기 위해 예약된 IP 주소이다. APIPA라고 한다. 윈도우 XP부터 DHCP를 찾지 못해 IP를 받지 못한 경우 이 영역대의 IP가 스스로 설정되는 것을 볼 수 있다. 172.16.0.0 ~ 172.31.255.255 (172.16.0.0/12): 사설 IP에 쓰기 위해 예약된 IP 주소이다. B class network. 두 번째 자리 숫자가 16부터 31까지임에 유의. 이 대역의 네트워크는 16개 만들 수 있고(16~31) 각각의 네트워크에 묶을 수 있는 호스트의 수는 약 6만여개다.\""
   ]
  },
  {
   "cell_type": "code",
   "execution_count": 12,
   "metadata": {
    "scrolled": true
   },
   "outputs": [
    {
     "name": "stdout",
     "output_type": "stream",
     "text": [
      "0.0.0.0\n",
      "0.255.255.255\n",
      "0.0.0.0\n",
      "0.0.0.0\n",
      "10.0.0.0\n",
      "10.255.255.255\n",
      "10.0.0.0\n",
      "100.64.0.0\n",
      "100.127.255.255\n",
      "100.64.0.0\n",
      "127.0.0.0\n",
      "127.255.255.255\n",
      "127.0.0.0\n",
      "127.0.0.1\n",
      "169.254.0.0\n",
      "169.254.255.255\n",
      "169.254.0.0\n",
      "172.16.0.0\n",
      "172.31.255.255\n",
      "172.16.0.0\n"
     ]
    }
   ],
   "source": [
    "for ip in pattern.findall(text):\n",
    "    print(ip)"
   ]
  },
  {
   "cell_type": "markdown",
   "metadata": {},
   "source": [
    "### 3. 도메인 수집\n",
    "- .edu 으로 끝나는 도메인 수집"
   ]
  },
  {
   "cell_type": "code",
   "execution_count": 13,
   "metadata": {},
   "outputs": [],
   "source": [
    "pattern = re.compile('(http[s]?://[a-z0-9\\.]+\\.edu$)')"
   ]
  },
  {
   "cell_type": "code",
   "execution_count": 14,
   "metadata": {},
   "outputs": [],
   "source": [
    "text = 'hi http://www.super.edu'"
   ]
  },
  {
   "cell_type": "code",
   "execution_count": 15,
   "metadata": {
    "scrolled": true
   },
   "outputs": [
    {
     "name": "stdout",
     "output_type": "stream",
     "text": [
      "http://www.super.edu\n"
     ]
    }
   ],
   "source": [
    "for domain in pattern.findall(text):\n",
    "    print(domain)"
   ]
  },
  {
   "cell_type": "markdown",
   "metadata": {},
   "source": [
    "- com 또는 org로 끝나는 도메인 수집"
   ]
  },
  {
   "cell_type": "code",
   "execution_count": 16,
   "metadata": {},
   "outputs": [],
   "source": [
    "pattern = re.compile('(http[s]?://[a-z0-9\\.]+[\\.com\\.org]$)')"
   ]
  },
  {
   "cell_type": "code",
   "execution_count": 17,
   "metadata": {},
   "outputs": [],
   "source": [
    "text = 'hi http://www.super.org'"
   ]
  },
  {
   "cell_type": "code",
   "execution_count": 18,
   "metadata": {},
   "outputs": [
    {
     "name": "stdout",
     "output_type": "stream",
     "text": [
      "http://www.super.org\n"
     ]
    }
   ],
   "source": [
    "for domain in pattern.findall(text):\n",
    "    print(domain)"
   ]
  },
  {
   "cell_type": "markdown",
   "metadata": {},
   "source": [
    "### 4. 그룹으로 추출하기 "
   ]
  },
  {
   "cell_type": "code",
   "execution_count": 19,
   "metadata": {},
   "outputs": [],
   "source": [
    "s = '''\n",
    "001 김갑순 여 22 002 강길동 남 21 003 성춘향 여 20\n",
    "004 이길동 남 23 005 박찬수 남 24'''"
   ]
  },
  {
   "cell_type": "code",
   "execution_count": 20,
   "metadata": {},
   "outputs": [
    {
     "name": "stdout",
     "output_type": "stream",
     "text": [
      "001 김갑순 여 22\n",
      "002 강길동 남 21\n",
      "003 성춘향 여 20\n",
      "004 이길동 남 23\n",
      "005 박찬수 남 24\n"
     ]
    }
   ],
   "source": [
    "# 그룹 패턴을 채우시오.\n",
    "for match in re.finditer('([0-9]{3}) ([가-힣]{2,3}) ([가-힣]{1}) ([0-9]{2})', s):\n",
    "    print(match.group(1), match.group(2), match.group(3), match.group(4))"
   ]
  },
  {
   "cell_type": "code",
   "execution_count": 21,
   "metadata": {
    "scrolled": true
   },
   "outputs": [
    {
     "name": "stdout",
     "output_type": "stream",
     "text": [
      "001 김갑순 여 22\n",
      "002 강길동 남 21\n",
      "003 성춘향 여 20\n",
      "004 이길동 남 23\n",
      "005 박찬수 남 24\n"
     ]
    }
   ],
   "source": [
    "for match in re.finditer('(?P<number>[0-9]{3}) (?P<name>\\w+) (?P<gender>남|여) (?P<age>[0-9]{2})', s): \n",
    "    print(match.group('number'),match.group('name'),match.group('gender'),match.group('age'))"
   ]
  },
  {
   "cell_type": "markdown",
   "metadata": {},
   "source": [
    "### 5.특정 값 추출하기"
   ]
  },
  {
   "cell_type": "code",
   "execution_count": 22,
   "metadata": {},
   "outputs": [],
   "source": [
    "# jobCd 추출하기\n",
    "text = '''\n",
    "<script type=\"text/javascript\">\n",
    "function f_showJobinfo() {\n",
    "    keis.window.newWindow('/jobMap/jobMapByName.do?jobCd=1584&call=empDetailAuth', 'jobInfo', 790, 510, 'yes');\n",
    "}\n",
    "</script>\n",
    "'''"
   ]
  },
  {
   "cell_type": "code",
   "execution_count": 23,
   "metadata": {},
   "outputs": [
    {
     "name": "stdout",
     "output_type": "stream",
     "text": [
      "jobCd=1584\n"
     ]
    }
   ],
   "source": [
    "for num in re.findall('jobCd=[0-9]+', text):\n",
    "    print(num) "
   ]
  },
  {
   "cell_type": "code",
   "execution_count": null,
   "metadata": {},
   "outputs": [],
   "source": []
  }
 ],
 "metadata": {
  "kernelspec": {
   "display_name": "Python 3",
   "language": "python",
   "name": "python3"
  },
  "language_info": {
   "codemirror_mode": {
    "name": "ipython",
    "version": 3
   },
   "file_extension": ".py",
   "mimetype": "text/x-python",
   "name": "python",
   "nbconvert_exporter": "python",
   "pygments_lexer": "ipython3",
   "version": "3.7.1"
  }
 },
 "nbformat": 4,
 "nbformat_minor": 2
}
