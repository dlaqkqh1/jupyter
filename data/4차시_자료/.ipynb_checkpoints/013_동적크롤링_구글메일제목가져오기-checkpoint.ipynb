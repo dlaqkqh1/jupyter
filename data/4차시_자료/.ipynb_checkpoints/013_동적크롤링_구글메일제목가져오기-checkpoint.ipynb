{
 "cells": [
  {
   "cell_type": "markdown",
   "metadata": {},
   "source": [
    "## 웹페이지 동적 크롤링\n",
    "- selenium 패키지 필요"
   ]
  },
  {
   "cell_type": "code",
   "execution_count": 2,
   "metadata": {},
   "outputs": [
    {
     "name": "stdout",
     "output_type": "stream",
     "text": [
      "Collecting selenium\n",
      "  Using cached https://files.pythonhosted.org/packages/80/d6/4294f0b4bce4de0abf13e17190289f9d0613b0a44e5dd6a7f5ca98459853/selenium-3.141.0-py2.py3-none-any.whl\n",
      "Requirement already satisfied: urllib3 in d:\\program files\\anaconda\\lib\\site-packages (from selenium) (1.24.1)\n",
      "Installing collected packages: selenium\n",
      "Successfully installed selenium-3.141.0\n"
     ]
    }
   ],
   "source": [
    "!pip install selenium"
   ]
  },
  {
   "cell_type": "markdown",
   "metadata": {},
   "source": [
    "## 모듈 임포트"
   ]
  },
  {
   "cell_type": "code",
   "execution_count": 3,
   "metadata": {},
   "outputs": [],
   "source": [
    "from selenium import webdriver as wb\n",
    "from selenium.webdriver.common.keys import Keys\n",
    "from bs4 import BeautifulSoup as bs\n",
    "import time"
   ]
  },
  {
   "cell_type": "markdown",
   "metadata": {},
   "source": [
    "## 웹브라우저 객체 생성"
   ]
  },
  {
   "cell_type": "code",
   "execution_count": null,
   "metadata": {},
   "outputs": [],
   "source": [
    "#웹브라우저 연결 크롬 드라이버 절대경로\n",
    "driver = wb.Chrome()"
   ]
  },
  {
   "cell_type": "markdown",
   "metadata": {},
   "source": [
    "## 웹 페이지 열기- 로그인버튼 클릭"
   ]
  },
  {
   "cell_type": "code",
   "execution_count": 36,
   "metadata": {},
   "outputs": [],
   "source": [
    "url = 'https://www.google.co.kr'\n",
    "driver.get(url)"
   ]
  },
  {
   "cell_type": "code",
   "execution_count": 37,
   "metadata": {},
   "outputs": [],
   "source": [
    "driver.find_element_by_id('gb_70').click()"
   ]
  },
  {
   "cell_type": "code",
   "execution_count": 34,
   "metadata": {},
   "outputs": [
    {
     "data": {
      "text/plain": [
       "['__class__',\n",
       " '__delattr__',\n",
       " '__dict__',\n",
       " '__dir__',\n",
       " '__doc__',\n",
       " '__enter__',\n",
       " '__eq__',\n",
       " '__exit__',\n",
       " '__format__',\n",
       " '__ge__',\n",
       " '__getattribute__',\n",
       " '__gt__',\n",
       " '__hash__',\n",
       " '__init__',\n",
       " '__init_subclass__',\n",
       " '__le__',\n",
       " '__lt__',\n",
       " '__module__',\n",
       " '__ne__',\n",
       " '__new__',\n",
       " '__reduce__',\n",
       " '__reduce_ex__',\n",
       " '__repr__',\n",
       " '__setattr__',\n",
       " '__sizeof__',\n",
       " '__str__',\n",
       " '__subclasshook__',\n",
       " '__weakref__',\n",
       " '_file_detector',\n",
       " '_is_remote',\n",
       " '_mobile',\n",
       " '_switch_to',\n",
       " '_unwrap_value',\n",
       " '_web_element_cls',\n",
       " '_wrap_value',\n",
       " 'add_cookie',\n",
       " 'application_cache',\n",
       " 'back',\n",
       " 'capabilities',\n",
       " 'close',\n",
       " 'command_executor',\n",
       " 'create_options',\n",
       " 'create_web_element',\n",
       " 'current_url',\n",
       " 'current_window_handle',\n",
       " 'delete_all_cookies',\n",
       " 'delete_cookie',\n",
       " 'desired_capabilities',\n",
       " 'error_handler',\n",
       " 'execute',\n",
       " 'execute_async_script',\n",
       " 'execute_cdp_cmd',\n",
       " 'execute_script',\n",
       " 'file_detector',\n",
       " 'file_detector_context',\n",
       " 'find_element',\n",
       " 'find_element_by_class_name',\n",
       " 'find_element_by_css_selector',\n",
       " 'find_element_by_id',\n",
       " 'find_element_by_link_text',\n",
       " 'find_element_by_name',\n",
       " 'find_element_by_partial_link_text',\n",
       " 'find_element_by_tag_name',\n",
       " 'find_element_by_xpath',\n",
       " 'find_elements',\n",
       " 'find_elements_by_class_name',\n",
       " 'find_elements_by_css_selector',\n",
       " 'find_elements_by_id',\n",
       " 'find_elements_by_link_text',\n",
       " 'find_elements_by_name',\n",
       " 'find_elements_by_partial_link_text',\n",
       " 'find_elements_by_tag_name',\n",
       " 'find_elements_by_xpath',\n",
       " 'forward',\n",
       " 'fullscreen_window',\n",
       " 'get',\n",
       " 'get_cookie',\n",
       " 'get_cookies',\n",
       " 'get_log',\n",
       " 'get_network_conditions',\n",
       " 'get_screenshot_as_base64',\n",
       " 'get_screenshot_as_file',\n",
       " 'get_screenshot_as_png',\n",
       " 'get_window_position',\n",
       " 'get_window_rect',\n",
       " 'get_window_size',\n",
       " 'implicitly_wait',\n",
       " 'launch_app',\n",
       " 'log_types',\n",
       " 'maximize_window',\n",
       " 'minimize_window',\n",
       " 'mobile',\n",
       " 'name',\n",
       " 'orientation',\n",
       " 'page_source',\n",
       " 'quit',\n",
       " 'refresh',\n",
       " 'save_screenshot',\n",
       " 'service',\n",
       " 'session_id',\n",
       " 'set_network_conditions',\n",
       " 'set_page_load_timeout',\n",
       " 'set_script_timeout',\n",
       " 'set_window_position',\n",
       " 'set_window_rect',\n",
       " 'set_window_size',\n",
       " 'start_client',\n",
       " 'start_session',\n",
       " 'stop_client',\n",
       " 'switch_to',\n",
       " 'switch_to_active_element',\n",
       " 'switch_to_alert',\n",
       " 'switch_to_default_content',\n",
       " 'switch_to_frame',\n",
       " 'switch_to_window',\n",
       " 'title',\n",
       " 'w3c',\n",
       " 'window_handles']"
      ]
     },
     "execution_count": 34,
     "metadata": {},
     "output_type": "execute_result"
    }
   ],
   "source": [
    "dir(driver)"
   ]
  },
  {
   "cell_type": "markdown",
   "metadata": {},
   "source": [
    "## 아이디, 비밀번호 입력하여 로그인하기"
   ]
  },
  {
   "cell_type": "code",
   "execution_count": 38,
   "metadata": {},
   "outputs": [],
   "source": [
    "#id로 element (요소)검색\n",
    "time.sleep(0.5)\n",
    "input_id = driver.find_element_by_css_selector('#identifierId')\n",
    "input_id.clear()\n",
    "input_id.send_keys(\"eunflash@gsm.hs.kr\")"
   ]
  },
  {
   "cell_type": "code",
   "execution_count": 39,
   "metadata": {},
   "outputs": [],
   "source": [
    "input_id.send_keys(Keys.ENTER)"
   ]
  },
  {
   "cell_type": "code",
   "execution_count": 40,
   "metadata": {},
   "outputs": [],
   "source": [
    "time.sleep(0.5)\n",
    "input_pw = driver.find_element_by_css_selector('#password > div.aCsJod.oJeWuf > div > div.Xb9hP > input')\n",
    "input_pw.clear()\n",
    "input_pw.send_keys(\"kmoon0225\")\n",
    "input_pw.send_keys(Keys.ENTER)"
   ]
  },
  {
   "cell_type": "code",
   "execution_count": 41,
   "metadata": {},
   "outputs": [
    {
     "name": "stderr",
     "output_type": "stream",
     "text": [
      "C:\\Anaconda3\\lib\\site-packages\\selenium\\webdriver\\remote\\webdriver.py:1031: UserWarning: name used for saved screenshot does not match file type. It should end with a `.png` extension\n",
      "  \"type. It should end with a `.png` extension\", UserWarning)\n"
     ]
    },
    {
     "data": {
      "text/plain": [
       "True"
      ]
     },
     "execution_count": 41,
     "metadata": {},
     "output_type": "execute_result"
    }
   ],
   "source": [
    "driver.save_screenshot('main.jpg')"
   ]
  },
  {
   "cell_type": "markdown",
   "metadata": {},
   "source": [
    "## 메일 페이지로 이동"
   ]
  },
  {
   "cell_type": "code",
   "execution_count": 14,
   "metadata": {},
   "outputs": [],
   "source": [
    "driver.find_element_by_css_selector('#gbw > div > div > div.gb_Zd.gb_f.gb_7f.gb_Xf > div:nth-child(1) > a').click()"
   ]
  },
  {
   "cell_type": "code",
   "execution_count": 5,
   "metadata": {},
   "outputs": [],
   "source": [
    "#마우스로 눌러서 검색을 하는 경우driver.find_element_by_css_selector('.btn_global').click() #클릭요소\n",
    "#driver.find_element_by_css_selector().submit() :submit 요소"
   ]
  },
  {
   "cell_type": "markdown",
   "metadata": {},
   "source": [
    "## 정보추출"
   ]
  },
  {
   "cell_type": "code",
   "execution_count": 25,
   "metadata": {
    "collapsed": true
   },
   "outputs": [
    {
     "data": {
      "text/plain": [
       "[<span class=\"bog\" id=\":2i\"><span data-legacy-last-message-id=\"16a24f5fee3b4cf8\" data-legacy-last-non-draft-message-id=\"16a24f5fee3b4cf8\" data-legacy-thread-id=\"16a24f5fee3b4cf8\" data-thread-id=\"#thread-f:1630953288498892024\">★필독★ [능력개발교육원] 전공역량 보수교육 이러닝 관련 안내</span></span>,\n",
       " <span class=\"bog\" id=\":2u\"><span class=\"bqe\" data-legacy-last-message-id=\"16a23985588c9681\" data-legacy-last-non-draft-message-id=\"16a23985588c9681\" data-legacy-thread-id=\"16a23985588c9681\" data-thread-id=\"#thread-f:1630929259940583041\">귀하를 위한 추천 강좌</span></span>,\n",
       " <span class=\"bog\" id=\":36\"><span class=\"bqe\" data-legacy-last-message-id=\"16a2372469cad8b7\" data-legacy-last-non-draft-message-id=\"16a2372469cad8b7\" data-legacy-thread-id=\"16a2372469cad8b7\" data-thread-id=\"#thread-f:1630926644594792631\">[필독사항] 인프런 리뉴얼 작업 안내</span></span>,\n",
       " <span class=\"bog\" id=\":3i\"><span class=\"bqe\" data-legacy-last-message-id=\"16a218bc4680dfa9\" data-legacy-last-non-draft-message-id=\"16a218bc4680dfa9\" data-legacy-thread-id=\"16a218bc4680dfa9\" data-thread-id=\"#thread-f:1630893211977310121\">🤖 Introducing our first-ever hardware course </span></span>,\n",
       " <span class=\"bog\" id=\":3u\"><span class=\"bqe\" data-legacy-last-message-id=\"16a1e233a090a180\" data-legacy-last-non-draft-message-id=\"16a1e233a090a180\" data-legacy-thread-id=\"16a1e233a090a180\" data-thread-id=\"#thread-f:1630833251449872768\">매일프로그래밍 - 코딩테스트 문제 8</span></span>,\n",
       " <span class=\"bog\" id=\":46\"><span class=\"bqe\" data-legacy-last-message-id=\"16a1d57b405d0ba3\" data-legacy-last-non-draft-message-id=\"16a1d57b405d0ba3\" data-legacy-thread-id=\"16a1d57b405d0ba3\" data-thread-id=\"#thread-f:1630819265422363555\">Degrees From Top Universities on Coursera</span></span>,\n",
       " <span class=\"bog\" id=\":4i\"><span class=\"bqe\" data-legacy-last-message-id=\"16a1549722a1489d\" data-legacy-last-non-draft-message-id=\"16a1549722a1489d\" data-legacy-thread-id=\"16a1549722a1489d\" data-thread-id=\"#thread-f:1630677548182620317\">[Flash Sale] Get discounted MongoDB World passes today ⚡</span></span>,\n",
       " <span class=\"bog\" id=\":4u\"><span data-legacy-last-message-id=\"16a116cecf4e48a3\" data-legacy-last-non-draft-message-id=\"16a116cecf4e48a3\" data-legacy-thread-id=\"16a0ae0822e0f28a\" data-thread-id=\"#thread-a:r-125220351334562762\">커뮤니티 가입관련</span></span>,\n",
       " <span class=\"bog\" id=\":56\"><span data-legacy-last-message-id=\"16a0f407d75c6c79\" data-legacy-last-non-draft-message-id=\"16a0f407d75c6c79\" data-legacy-thread-id=\"16a0f407d75c6c79\" data-thread-id=\"#thread-f:1630571379623226489\">RE: 광주SW 마이스터고등학교 현수막 제작 의뢰</span></span>,\n",
       " <span class=\"bog\" id=\":5i\"><span class=\"bqe\" data-legacy-last-message-id=\"16a0f1265c07a3e7\" data-legacy-last-non-draft-message-id=\"16a0f1265c07a3e7\" data-legacy-thread-id=\"16a0f1265c07a3e7\" data-thread-id=\"#thread-f:1630568212163175399\">[DBGuide.net] 유통 빅데이터 전문가 3기 - 교육생 모집 마감 임박!!!(마감일 : 4.14)</span></span>,\n",
       " <span class=\"bog\" id=\":5u\"><span class=\"bqe\" data-legacy-last-message-id=\"16a0e42e6a3cac6e\" data-legacy-last-non-draft-message-id=\"16a0e42e6a3cac6e\" data-legacy-thread-id=\"16a0e42e6a3cac6e\" data-thread-id=\"#thread-f:1630553953110109294\">Check out the latest Power BI events, features, and improvements</span></span>,\n",
       " <span class=\"bog\" id=\":66\"><span class=\"bqe\" data-legacy-last-message-id=\"16a0b4b17c999a9a\" data-legacy-last-non-draft-message-id=\"16a0b4b17c999a9a\" data-legacy-thread-id=\"16a0b4b17c999a9a\" data-thread-id=\"#thread-f:1630501739500771994\">[DBGuide.net] 4차 산업혁명의 원유 빅데이터…규제 벗고 본격화 [제743호]</span></span>,\n",
       " <span class=\"bog\" id=\":6i\"><span data-legacy-last-message-id=\"16a0a876ac4846a4\" data-legacy-last-non-draft-message-id=\"16a0a876ac4846a4\" data-legacy-thread-id=\"169c2c4369c66f27\" data-thread-id=\"#thread-f:1629225833250320167\">[스퀘어네트]Microsoft Professional Program 구축 관련 안내 드립니다.</span></span>,\n",
       " <span class=\"bog\" id=\":6u\"><span class=\"bqe\" data-legacy-last-message-id=\"16a0a47dff896b69\" data-legacy-last-non-draft-message-id=\"16a0a47dff896b69\" data-legacy-thread-id=\"16a0a47dff896b69\" data-thread-id=\"#thread-f:1630483926173182825\">Help with the #1 reason you miss your DS goals</span></span>,\n",
       " <span class=\"bog\" id=\":76\"><span data-legacy-last-message-id=\"16a09c55bd2bae8e\" data-legacy-last-non-draft-message-id=\"16a09c55bd2bae8e\" data-legacy-thread-id=\"16a04883cd13569a\" data-thread-id=\"#thread-f:1630382796026631834\">RE: 교육연구정보원 pfx 파일 다시보내드립니다.</span></span>,\n",
       " <span class=\"bog\" id=\":7i\"><span class=\"bqe\" data-legacy-last-message-id=\"16a09a50c183d03f\" data-legacy-last-non-draft-message-id=\"16a09a50c183d03f\" data-legacy-thread-id=\"16a09a50c183d03f\" data-thread-id=\"#thread-f:1630472736742821951\">(광고) 봄바람과 함께 온 Node.js 🌟</span></span>,\n",
       " <span class=\"bog\" id=\":7u\"><span class=\"bqe\" data-legacy-last-message-id=\"16a0869738a68604\" data-legacy-last-non-draft-message-id=\"16a0869738a68604\" data-legacy-thread-id=\"16a0869738a68604\" data-thread-id=\"#thread-f:1630451049156740612\">How to Land Your Dream Job at Careercon 2019</span></span>,\n",
       " <span class=\"bog\" id=\":86\"><span class=\"bqe\" data-legacy-last-message-id=\"169ffc4b9a5b55e8\" data-legacy-last-non-draft-message-id=\"169ffc4b9a5b55e8\" data-legacy-thread-id=\"169ffc4b9a5b55e8\" data-thread-id=\"#thread-f:1630298991773832680\">[DBGuide.net] 빅데이터 아카데미 - 유통 빅데이터 전문가 3기 교육생 모집 마감 임박!!(접수마감 : 4.14)</span></span>,\n",
       " <span class=\"bog\" id=\":8i\"><span class=\"bqe\" data-legacy-last-message-id=\"169fed204ab616e7\" data-legacy-last-non-draft-message-id=\"169fed204ab616e7\" data-legacy-thread-id=\"169fed204ab616e7\" data-thread-id=\"#thread-f:1630282313079592679\">귀하를 위한 추천 강좌</span></span>,\n",
       " <span class=\"bog\" id=\":8u\"><span class=\"bqe\" data-legacy-last-message-id=\"169fd5d801bc064a\" data-legacy-last-non-draft-message-id=\"169fd5d801bc064a\" data-legacy-thread-id=\"169fd5d801bc064a\" data-thread-id=\"#thread-f:1630256713850160714\">🎼 Start your week on a high note</span></span>,\n",
       " <span class=\"bog\" id=\":96\"><span data-legacy-last-message-id=\"169fb0306bd23179\" data-legacy-last-non-draft-message-id=\"169fb0306bd23179\" data-legacy-thread-id=\"169fb0306bd23179\" data-thread-id=\"#thread-f:1630215312145265017\">FW: 광주SW마이스터고 교육과정설명회 현수막 제작 의뢰</span></span>,\n",
       " <span class=\"bog\" id=\":9i\"><span class=\"bqe\" data-legacy-last-message-id=\"169fa16a862bebc9\" data-legacy-last-non-draft-message-id=\"169fa16a862bebc9\" data-legacy-thread-id=\"169fa16a862bebc9\" data-thread-id=\"#thread-f:1630199069021039561\">매일프로그래밍 - 코딩테스트 문제 7</span></span>,\n",
       " <span class=\"bog\" id=\":9u\"><span class=\"bqe\" data-legacy-last-message-id=\"169f4b5f815a5f4c\" data-legacy-last-non-draft-message-id=\"169f4b5f815a5f4c\" data-legacy-thread-id=\"169f4b5f815a5f4c\" data-thread-id=\"#thread-f:1630104463695568716\">매일프로그래밍 - 1주년 업데이트 및 공지</span></span>,\n",
       " <span class=\"bog\" id=\":a6\"><span data-legacy-last-message-id=\"169fa659ea8fc194\" data-legacy-last-non-draft-message-id=\"169fa659ea8fc194\" data-legacy-thread-id=\"169ec6bbeefd08aa\" data-thread-id=\"#thread-f:1629958625625442474\">[MPP]광주소프트웨어마이스터고등학교 MPP 구축-디자인</span></span>,\n",
       " <span class=\"bog\" id=\":ai\"><span class=\"bqe\" data-legacy-last-message-id=\"169ebe19d222a0ea\" data-legacy-last-non-draft-message-id=\"169ebe19d222a0ea\" data-legacy-thread-id=\"169ebe19d222a0ea\" data-thread-id=\"#thread-f:1629949133263642858\">[DBGuide.net] 빅데이터 아카데미 - 유통 빅데이터 전문가 3기 교육생 모집중(접수마감 : 4.14)</span></span>,\n",
       " <span class=\"bog\" id=\":au\"><span class=\"bqe\" data-legacy-last-message-id=\"169eb322003c97d7\" data-legacy-last-non-draft-message-id=\"169eb322003c97d7\" data-legacy-thread-id=\"169eb322003c97d7\" data-thread-id=\"#thread-f:1629937073768929239\">[DBGuide.net] 데이터바우처 지원사업 설명회 및 데이터 매칭 데이 사전 참가등록 안내</span></span>,\n",
       " <span class=\"bog\" id=\":b6\"><span class=\"bqe\" data-legacy-last-message-id=\"169ea3fdb99f9505\" data-legacy-last-non-draft-message-id=\"169ea3fdb99f9505\" data-legacy-thread-id=\"169ea3fdb99f9505\" data-thread-id=\"#thread-f:1629920425290994949\">Check out the latest Power BI events, features, and improvements</span></span>,\n",
       " <span class=\"bog\" id=\":bi\"><span class=\"bqe\" data-legacy-last-message-id=\"169e91cfd5c0be77\" data-legacy-last-non-draft-message-id=\"169e91cfd5c0be77\" data-legacy-thread-id=\"169e91cfd5c0be77\" data-thread-id=\"#thread-f:1629900436985134711\">Competition Launch: Freesound Audio Tagging 2019</span></span>,\n",
       " <span class=\"bog\" id=\":bu\"><span class=\"bqe\" data-legacy-last-message-id=\"169e7dd9b932548f\" data-legacy-last-non-draft-message-id=\"169e7dd9b932548f\" data-legacy-thread-id=\"169e7dd9b932548f\" data-thread-id=\"#thread-f:1629878489223156879\">보안 알림</span></span>,\n",
       " <span class=\"bog\" id=\":c6\"><span data-legacy-last-message-id=\"169e5e02b0093ebb\" data-legacy-last-non-draft-message-id=\"169e5e02b0093ebb\" data-legacy-thread-id=\"169e5e02b0093ebb\" data-thread-id=\"#thread-f:1629843480791039675\">[DBGuide.net] 매일 600TB 데이터 뒤지니 타깃 고객이 보이네 [제742호]</span></span>,\n",
       " <span class=\"bog\" id=\":ci\"><span class=\"bqe\" data-legacy-last-message-id=\"169e2b1b3b16d2fd\" data-legacy-last-non-draft-message-id=\"169e2b1b3b16d2fd\" data-legacy-thread-id=\"169e2b1b3b16d2fd\" data-thread-id=\"#thread-f:1629787511110161149\">Last day for your Dataquest discount</span></span>,\n",
       " <span class=\"bog\" id=\":cu\"><span class=\"bqe\" data-legacy-last-message-id=\"169e0272764ed345\" data-legacy-last-non-draft-message-id=\"169e0272764ed345\" data-legacy-thread-id=\"169e0272764ed345\" data-thread-id=\"#thread-f:1629742805789102917\">Competition Launch: Jigsaw Unintended Bias in Toxicity Classification</span></span>,\n",
       " <span class=\"bog\" id=\":d6\"><span data-legacy-last-message-id=\"16a056d79b615ec0\" data-legacy-last-non-draft-message-id=\"169e201cee664879\" data-legacy-thread-id=\"169ddef46841e0e9\" data-thread-id=\"#thread-a:r-7634264803811223450\">광주소프트웨어마이스터고등학교 김은희입니다.</span></span>,\n",
       " <span class=\"bog\" id=\":di\"><span data-legacy-last-message-id=\"169e5d5118316efd\" data-legacy-last-non-draft-message-id=\"169e5d5118316efd\" data-legacy-thread-id=\"169dbd80392eae4e\" data-thread-id=\"#thread-f:1629666998590811726\">[스퀘어네트]MPP 계약서 보내드립니다.</span></span>,\n",
       " <span class=\"bog\" id=\":du\"><span class=\"bqe\" data-legacy-last-message-id=\"169dba86a1345d41\" data-legacy-last-non-draft-message-id=\"169dba86a1345d41\" data-legacy-thread-id=\"169dba86a1345d41\" data-thread-id=\"#thread-f:1629663727570935105\">[DBGuide.net] 데이터바우처 지원사업 설명회 및 데이터 매칭 데이 사전 참가등록 안내</span></span>,\n",
       " <span class=\"bog\" id=\":e6\"><span class=\"bqe\" data-legacy-last-message-id=\"169db26cf4162b68\" data-legacy-last-non-draft-message-id=\"169db26cf4162b68\" data-legacy-thread-id=\"169db26cf4162b68\" data-thread-id=\"#thread-f:1629654821199293288\">\"Saudi Aramco generates more profits than any other company in the w...</span></span>,\n",
       " <span class=\"bog\" id=\":ei\"><span class=\"bqe\" data-legacy-last-message-id=\"169d9562f2639c61\" data-legacy-last-non-draft-message-id=\"169d9562f2639c61\" data-legacy-thread-id=\"169d9562f2639c61\" data-thread-id=\"#thread-f:1629622892383935585\">Rrrr you ready kids?</span></span>,\n",
       " <span class=\"bog\" id=\":eu\"><span class=\"bqe\" data-legacy-last-message-id=\"169d82181193831d\" data-legacy-last-non-draft-message-id=\"169d82181193831d\" data-legacy-thread-id=\"169d82181193831d\" data-thread-id=\"#thread-f:1629601680063693597\">🎤인터뷰 #05, 최연소 지식공유자, 서울대컴공 19학번 되다 - 두들낙서 편</span></span>,\n",
       " <span class=\"bog\" id=\":f6\"><span class=\"bqe\" data-legacy-last-message-id=\"169d7be950b678d5\" data-legacy-last-non-draft-message-id=\"169d7be950b678d5\" data-legacy-thread-id=\"169d7be950b678d5\" data-thread-id=\"#thread-f:1629594882189719765\">[아이스크림몰]사명변경에 따른 이용약관 등 변경 안내</span></span>,\n",
       " <span class=\"bog\" id=\":fi\"><span class=\"bqe\" data-legacy-last-message-id=\"169d60c219749520\" data-legacy-last-non-draft-message-id=\"169d60c219749520\" data-legacy-thread-id=\"169d60c219749520\" data-thread-id=\"#thread-f:1629565026944980256\">\"Sandra Oh gives thanks ahead of her SNL debut 🇨🇦\" 모멘트</span></span>,\n",
       " <span class=\"bog\" id=\":fu\"><span class=\"bqe\" data-legacy-last-message-id=\"169d60a14b4c452b\" data-legacy-last-non-draft-message-id=\"169d60a14b4c452b\" data-legacy-thread-id=\"169d60a14b4c452b\" data-thread-id=\"#thread-f:1629564886047278379\">매일프로그래밍 - 코딩테스트 문제 6</span></span>,\n",
       " <span class=\"bog\" id=\":g6\"><span class=\"bqe\" data-legacy-last-message-id=\"169d5ca4d8baf4ef\" data-legacy-last-non-draft-message-id=\"169d5ca4d8baf4ef\" data-legacy-thread-id=\"169d5ca4d8baf4ef\" data-thread-id=\"#thread-f:1629560503258510575\">[비바샘웹진] 고등학교 정보 선생님을 위한 4월 추천자료</span></span>,\n",
       " <span class=\"bog\" id=\":gi\"><span class=\"bqe\" data-legacy-last-message-id=\"169d0d564695edf4\" data-legacy-last-non-draft-message-id=\"169d0d564695edf4\" data-legacy-thread-id=\"169d0d564695edf4\" data-thread-id=\"#thread-f:1629473304380567028\">\"MPs reject Brexit withdrawal agreement again\" 모멘트</span></span>,\n",
       " <span class=\"bog\" id=\":gu\"><span class=\"bqe\" data-legacy-last-message-id=\"169d037c14da1782\" data-legacy-last-non-draft-message-id=\"169d037c14da1782\" data-legacy-thread-id=\"169d037c14da1782\" data-thread-id=\"#thread-f:1629462471638652802\">Master’s degree, Specialization, or course? Tips to help you choose. </span></span>,\n",
       " <span class=\"bog\" id=\":h6\"><span class=\"bqe\" data-legacy-last-message-id=\"169cc9bfe67ba189\" data-legacy-last-non-draft-message-id=\"169cc9bfe67ba189\" data-legacy-thread-id=\"169cc9bfe67ba189\" data-thread-id=\"#thread-f:1629398991244075401\">아바타를 선택하세요</span></span>,\n",
       " <span class=\"bog\" id=\":hi\"><span class=\"bqe\" data-legacy-last-message-id=\"169cbaeec86140fb\" data-legacy-last-non-draft-message-id=\"169cbaeec86140fb\" data-legacy-thread-id=\"169cbaeec86140fb\" data-thread-id=\"#thread-f:1629382699928076539\">\"A school in Japan is teaching people how to become pro mascots \" 모멘트</span></span>,\n",
       " <span class=\"bog\" id=\":hu\"><span class=\"bqe\" data-legacy-last-message-id=\"169c95514d04a1dc\" data-legacy-last-non-draft-message-id=\"169c95514d04a1dc\" data-legacy-thread-id=\"169c95514d04a1dc\" data-thread-id=\"#thread-f:1629341341618315740\">[코드잇] 김은희님의 5% 할인 쿠폰이 곧 만료됩니다! 서두르세요!</span></span>,\n",
       " <span class=\"bog\" id=\":i6\"><span class=\"bqe\" data-legacy-last-message-id=\"169c6f3222d0f23d\" data-legacy-last-non-draft-message-id=\"169c6f3222d0f23d\" data-legacy-thread-id=\"169c6f3222d0f23d\" data-thread-id=\"#thread-f:1629299426324443709\">[DBGuide.net] [빅데이터 아카데미] 유통 빅데이터 전문가 3기 교육생 모집(접수마감 : 4.14)</span></span>,\n",
       " <span class=\"bog\" id=\":ii\"><span class=\"bqe\" data-legacy-last-message-id=\"169c693a04ede4c1\" data-legacy-last-non-draft-message-id=\"169c693a04ede4c1\" data-legacy-thread-id=\"169c693a04ede4c1\" data-thread-id=\"#thread-f:1629292863112996033\">\"Men rule the world of banking, but not in Asia\" 모멘트</span></span>,\n",
       " <span class=\"bog\" id=\":iu\"><span class=\"bqe\" data-legacy-last-message-id=\"169c633d01e4c0fd\" data-legacy-last-non-draft-message-id=\"169c633d01e4c0fd\" data-legacy-thread-id=\"169c633d01e4c0fd\" data-thread-id=\"#thread-f:1629286278877200637\">Check out the latest Power BI features and improvements</span></span>]"
      ]
     },
     "execution_count": 25,
     "metadata": {},
     "output_type": "execute_result"
    }
   ],
   "source": [
    "driver.page_source\n",
    "soup = bs(driver.page_source,'html.parser')\n",
    "title = soup.select('.bog')\n",
    "title"
   ]
  },
  {
   "cell_type": "code",
   "execution_count": 27,
   "metadata": {},
   "outputs": [],
   "source": [
    "result=[]\n",
    "for tit in title :\n",
    "    result.append(tit.text)"
   ]
  },
  {
   "cell_type": "code",
   "execution_count": 28,
   "metadata": {
    "scrolled": true
   },
   "outputs": [
    {
     "data": {
      "text/plain": [
       "['★필독★ [능력개발교육원] 전공역량 보수교육 이러닝 관련 안내',\n",
       " '귀하를 위한 추천 강좌',\n",
       " '[필독사항] 인프런 리뉴얼 작업 안내',\n",
       " '🤖 Introducing our first-ever hardware course ',\n",
       " '매일프로그래밍 - 코딩테스트 문제 8',\n",
       " 'Degrees From Top Universities on Coursera',\n",
       " '[Flash Sale] Get discounted MongoDB World passes today ⚡',\n",
       " '커뮤니티 가입관련',\n",
       " 'RE: 광주SW 마이스터고등학교 현수막 제작 의뢰',\n",
       " '[DBGuide.net] 유통 빅데이터 전문가 3기 - 교육생 모집 마감 임박!!!(마감일 : 4.14)',\n",
       " 'Check out the latest Power BI events, features, and improvements',\n",
       " '[DBGuide.net] 4차 산업혁명의 원유 빅데이터…규제 벗고 본격화 [제743호]',\n",
       " '[스퀘어네트]Microsoft Professional Program 구축 관련 안내 드립니다.',\n",
       " 'Help with the #1 reason you miss your DS goals',\n",
       " 'RE: 교육연구정보원 pfx 파일 다시보내드립니다.',\n",
       " '(광고) 봄바람과 함께 온 Node.js\\xa0🌟',\n",
       " 'How to Land Your Dream Job at Careercon 2019',\n",
       " '[DBGuide.net] 빅데이터 아카데미 - 유통 빅데이터 전문가 3기 교육생 모집 마감 임박!!(접수마감 : 4.14)',\n",
       " '귀하를 위한 추천 강좌',\n",
       " '🎼 Start your week on a high note',\n",
       " 'FW: 광주SW마이스터고 교육과정설명회 현수막 제작 의뢰',\n",
       " '매일프로그래밍 - 코딩테스트 문제 7',\n",
       " '매일프로그래밍 - 1주년 업데이트 및 공지',\n",
       " '[MPP]광주소프트웨어마이스터고등학교 MPP 구축-디자인',\n",
       " '[DBGuide.net] 빅데이터 아카데미 - 유통 빅데이터 전문가 3기 교육생 모집중(접수마감 : 4.14)',\n",
       " '[DBGuide.net] 데이터바우처 지원사업 설명회 및 데이터 매칭 데이 사전 참가등록 안내',\n",
       " 'Check out the latest Power BI events, features, and improvements',\n",
       " 'Competition Launch: Freesound Audio Tagging 2019',\n",
       " '보안 알림',\n",
       " '[DBGuide.net] 매일 600TB 데이터 뒤지니 타깃 고객이 보이네 [제742호]',\n",
       " 'Last day for your Dataquest discount',\n",
       " 'Competition Launch: Jigsaw Unintended Bias in Toxicity Classification',\n",
       " '광주소프트웨어마이스터고등학교 김은희입니다.',\n",
       " '[스퀘어네트]MPP 계약서 보내드립니다.',\n",
       " '[DBGuide.net] 데이터바우처 지원사업 설명회 및 데이터 매칭 데이 사전 참가등록 안내',\n",
       " '\"Saudi Aramco generates more profits than any other company in the w...',\n",
       " 'Rrrr you ready kids?',\n",
       " '🎤인터뷰 #05, 최연소 지식공유자, 서울대컴공 19학번 되다 - 두들낙서 편',\n",
       " '[아이스크림몰]사명변경에 따른 이용약관 등 변경 안내',\n",
       " '\"Sandra Oh gives thanks ahead of her SNL debut 🇨🇦\" 모멘트',\n",
       " '매일프로그래밍 - 코딩테스트 문제 6',\n",
       " '[비바샘웹진] 고등학교 정보 선생님을 위한 4월 추천자료',\n",
       " '\"MPs reject Brexit withdrawal agreement again\" 모멘트',\n",
       " 'Master’s degree, Specialization, or course? Tips to help you choose. ',\n",
       " '아바타를 선택하세요',\n",
       " '\"A school in Japan is teaching people how to become pro mascots \" 모멘트',\n",
       " '[코드잇] 김은희님의 5% 할인 쿠폰이 곧 만료됩니다! 서두르세요!',\n",
       " '[DBGuide.net] [빅데이터 아카데미] 유통 빅데이터 전문가 3기 교육생 모집(접수마감 : 4.14)',\n",
       " '\"Men rule the world of banking, but not in Asia\" 모멘트',\n",
       " 'Check out the latest Power BI features and improvements']"
      ]
     },
     "execution_count": 28,
     "metadata": {},
     "output_type": "execute_result"
    }
   ],
   "source": [
    "result"
   ]
  },
  {
   "cell_type": "code",
   "execution_count": 42,
   "metadata": {},
   "outputs": [],
   "source": [
    "driver.quit()"
   ]
  },
  {
   "cell_type": "markdown",
   "metadata": {},
   "source": [
    "### 저장하기"
   ]
  },
  {
   "cell_type": "code",
   "execution_count": 33,
   "metadata": {},
   "outputs": [],
   "source": [
    "f = open('mail.txt', 'w', encoding='utf-8')\n",
    "for i in result:\n",
    "    f.write(i)\n",
    "f.close()"
   ]
  }
 ],
 "metadata": {
  "kernelspec": {
   "display_name": "Python 3",
   "language": "python",
   "name": "python3"
  },
  "language_info": {
   "codemirror_mode": {
    "name": "ipython",
    "version": 3
   },
   "file_extension": ".py",
   "mimetype": "text/x-python",
   "name": "python",
   "nbconvert_exporter": "python",
   "pygments_lexer": "ipython3",
   "version": "3.7.1"
  }
 },
 "nbformat": 4,
 "nbformat_minor": 2
}
