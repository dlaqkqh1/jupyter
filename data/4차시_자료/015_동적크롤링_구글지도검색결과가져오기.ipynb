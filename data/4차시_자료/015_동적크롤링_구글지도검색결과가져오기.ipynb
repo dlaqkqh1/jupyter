{
 "cells": [
  {
   "cell_type": "code",
   "execution_count": 2,
   "metadata": {},
   "outputs": [],
   "source": [
    "from selenium import webdriver as wb\n",
    "from selenium.webdriver.common.keys import Keys\n",
    "from bs4 import BeautifulSoup as bs\n",
    "import time"
   ]
  },
  {
   "cell_type": "code",
   "execution_count": 18,
   "metadata": {},
   "outputs": [],
   "source": [
    "driver = wb.Chrome()\n",
    "\n",
    "url = 'https://www.google.com/maps'\n",
    "driver.get(url)"
   ]
  },
  {
   "cell_type": "code",
   "execution_count": 19,
   "metadata": {},
   "outputs": [],
   "source": [
    "searchbox = driver.find_element_by_id('searchboxinput')\n",
    "searchbox.clear()\n",
    "searchbox.send_keys(\"청원모밀\")"
   ]
  },
  {
   "cell_type": "code",
   "execution_count": 20,
   "metadata": {},
   "outputs": [],
   "source": [
    "searchbox.send_keys(Keys.ENTER)"
   ]
  },
  {
   "cell_type": "code",
   "execution_count": 21,
   "metadata": {},
   "outputs": [
    {
     "data": {
      "text/plain": [
       "True"
      ]
     },
     "execution_count": 21,
     "metadata": {},
     "output_type": "execute_result"
    }
   ],
   "source": [
    "driver.save_screenshot('청원모밀.png')"
   ]
  },
  {
   "cell_type": "code",
   "execution_count": 24,
   "metadata": {},
   "outputs": [],
   "source": [
    "driver.find_element_by_css_selector('#pane > div > div.widget-pane-content.scrollable-y > div > div > div:nth-child(44) > div > div > button > span').click()"
   ]
  },
  {
   "cell_type": "code",
   "execution_count": 25,
   "metadata": {
    "scrolled": true
   },
   "outputs": [],
   "source": [
    "driver.page_source\n",
    "soup = bs(driver.page_source, 'html.parser')"
   ]
  },
  {
   "cell_type": "code",
   "execution_count": 26,
   "metadata": {},
   "outputs": [
    {
     "data": {
      "text/plain": [
       "[<span class=\"section-review-text\" jsan=\"7.section-review-text\" jstcache=\"938\">판모밀은 별 5개, 온모밀은 별 3개. 평균 내서 별 4개의 맛집. 인상적인 판모밀 장국에 비해 온모밀 국물은 분식집 오뎅 국물 맛 같았다. 차라리 냉모밀을 먹어볼걸, 싶은 마음. 판모밀만큼은 정말 뛰어났다.</span>,\n",
       " <span class=\"section-review-text\" jsan=\"7.section-review-text\" jstcache=\"938\">개인적으로 면이 참 좋습니다. 아직도 그 면에서 느꼈던 메밀향이 기억나는곳. 친절도는 중에서 중상?? 바쁜곳치고는 뭐. 면 하나로도 충분히 가치가 있다고 보여요. 광주에 다시간다면 꼭 가서 먹고싶음. 그냥 면만 먹어보시길 추천.</span>,\n",
       " <span class=\"section-review-text\" jsan=\"7.section-review-text\" jstcache=\"938\">앞접시도 안 주는 불친절한 업소입니다. 맛고 그냥 그렇습니다</span>,\n",
       " <span class=\"section-review-text\" jsan=\"7.section-review-text\" jstcache=\"938\">Nouilles Cori et guide Michelin\n",
       " 쫄깃한 면발과 미슐랭가이드에 나온 곳</span>,\n",
       " <span class=\"section-review-text\" jsan=\"7.section-review-text\" jstcache=\"938\">서비스 갈수록 자본위주로가네요.초창기순수함이좋앗는디.</span>,\n",
       " <span class=\"section-review-text\" jsan=\"7.section-review-text\" jstcache=\"938\">국물이 시원하고 맛있어요. 온면과 유부초밥 궁합이 조아요</span>,\n",
       " <span class=\"section-review-text\" jsan=\"7.section-review-text\" jstcache=\"938\">저렴한 미슐랭 맛집  주차가 좀 불편함  유료주차장 이용해야합니다    맛은 좋아요 👍</span>,\n",
       " <span class=\"section-review-text\" jsan=\"7.section-review-text\" jstcache=\"938\">변하지 않는맛...저렴하고 마시써요..</span>,\n",
       " <span class=\"section-review-text\" jsan=\"7.section-review-text\" jstcache=\"938\">60년전통의 모밀의 진수... 다양한 모밀의 맛을 느낄 수 있습니다.</span>,\n",
       " <span class=\"section-review-text\" jsan=\"7.section-review-text\" jstcache=\"938\">여름에는 시원하게 마른 모밀과 유부초밥\n",
       " 겨울에는 따뜻하게 김치모밀</span>,\n",
       " <span class=\"section-review-text\" jsan=\"7.section-review-text\" jstcache=\"938\">오래된 식당이라 맛은 평균이상은 하고 나이 지긋하신 어르신들도 많이 오시는 곳... 허나 불친절한곳... 항상 한끼 때우는 느낌이지 대접 받는 느낌은 결코 아닌...쩝</span>,\n",
       " <span class=\"section-review-text\" jsan=\"7.section-review-text\" jstcache=\"938\">입맛없을 때 가면 최고</span>,\n",
       " <span class=\"section-review-text\" jsan=\"7.section-review-text\" jstcache=\"938\">미슐랭이라고 해서 기대했지만 크게 맛이 있진 않았네요. 음 근처에 있으면 메밀 먹으러 갈만한 곳? 정도 입니다</span>,\n",
       " <span class=\"section-review-text\" jsan=\"7.section-review-text\" jstcache=\"938\">음 갠춘했는데 여기 겁나 유명하고 사람이 무지하게 많음</span>,\n",
       " <span class=\"section-review-text\" jsan=\"7.section-review-text\" jstcache=\"938\">모밀국수는 여기가 최고 국물이 끝내줘요</span>,\n",
       " <span class=\"section-review-text\" jsan=\"7.section-review-text\" jstcache=\"938\">예전에 비해 가격대비 양이 많이 적어젔어요. 그래도 맛은 여전히 좋아요</span>,\n",
       " <span class=\"section-review-text\" jsan=\"7.section-review-text\" jstcache=\"938\">맛있어요~ 조금만 더 친절하면 좋겠어요~~</span>,\n",
       " <span class=\"section-review-text\" jsan=\"7.section-review-text\" jstcache=\"938\">광주를 대표하는 모밀집 사장님친절해요</span>]"
      ]
     },
     "execution_count": 26,
     "metadata": {},
     "output_type": "execute_result"
    }
   ],
   "source": [
    "review = soup.select('span.section-review-text')\n",
    "review"
   ]
  },
  {
   "cell_type": "code",
   "execution_count": 27,
   "metadata": {},
   "outputs": [
    {
     "data": {
      "text/plain": [
       "['판모밀은 별 5개, 온모밀은 별 3개. 평균 내서 별 4개의 맛집. 인상적인 판모밀 장국에 비해 온모밀 국물은 분식집 오뎅 국물 맛 같았다. 차라리 냉모밀을 먹어볼걸, 싶은 마음. 판모밀만큼은 정말 뛰어났다.',\n",
       " '개인적으로 면이 참 좋습니다. 아직도 그 면에서 느꼈던 메밀향이 기억나는곳. 친절도는 중에서 중상?? 바쁜곳치고는 뭐. 면 하나로도 충분히 가치가 있다고 보여요. 광주에 다시간다면 꼭 가서 먹고싶음. 그냥 면만 먹어보시길 추천.',\n",
       " '앞접시도 안 주는 불친절한 업소입니다. 맛고 그냥 그렇습니다',\n",
       " 'Nouilles Cori et guide Michelin\\n쫄깃한 면발과 미슐랭가이드에 나온 곳',\n",
       " '서비스 갈수록 자본위주로가네요.초창기순수함이좋앗는디.',\n",
       " '국물이 시원하고 맛있어요. 온면과 유부초밥 궁합이 조아요',\n",
       " '저렴한 미슐랭 맛집  주차가 좀 불편함  유료주차장 이용해야합니다    맛은 좋아요 👍',\n",
       " '변하지 않는맛...저렴하고 마시써요..',\n",
       " '60년전통의 모밀의 진수... 다양한 모밀의 맛을 느낄 수 있습니다.',\n",
       " '여름에는 시원하게 마른 모밀과 유부초밥\\n겨울에는 따뜻하게 김치모밀',\n",
       " '오래된 식당이라 맛은 평균이상은 하고 나이 지긋하신 어르신들도 많이 오시는 곳... 허나 불친절한곳... 항상 한끼 때우는 느낌이지 대접 받는 느낌은 결코 아닌...쩝',\n",
       " '입맛없을 때 가면 최고',\n",
       " '미슐랭이라고 해서 기대했지만 크게 맛이 있진 않았네요. 음 근처에 있으면 메밀 먹으러 갈만한 곳? 정도 입니다',\n",
       " '음 갠춘했는데 여기 겁나 유명하고 사람이 무지하게 많음',\n",
       " '모밀국수는 여기가 최고 국물이 끝내줘요',\n",
       " '예전에 비해 가격대비 양이 많이 적어젔어요. 그래도 맛은 여전히 좋아요',\n",
       " '맛있어요~ 조금만 더 친절하면 좋겠어요~~',\n",
       " '광주를 대표하는 모밀집 사장님친절해요']"
      ]
     },
     "execution_count": 27,
     "metadata": {},
     "output_type": "execute_result"
    }
   ],
   "source": [
    "result=[]\n",
    "for text in review:\n",
    "    result.append(text.text)\n",
    "result"
   ]
  },
  {
   "cell_type": "code",
   "execution_count": 28,
   "metadata": {},
   "outputs": [],
   "source": [
    "import pandas as pd"
   ]
  },
  {
   "cell_type": "code",
   "execution_count": 29,
   "metadata": {},
   "outputs": [
    {
     "data": {
      "text/html": [
       "<div>\n",
       "<style scoped>\n",
       "    .dataframe tbody tr th:only-of-type {\n",
       "        vertical-align: middle;\n",
       "    }\n",
       "\n",
       "    .dataframe tbody tr th {\n",
       "        vertical-align: top;\n",
       "    }\n",
       "\n",
       "    .dataframe thead th {\n",
       "        text-align: right;\n",
       "    }\n",
       "</style>\n",
       "<table border=\"1\" class=\"dataframe\">\n",
       "  <thead>\n",
       "    <tr style=\"text-align: right;\">\n",
       "      <th></th>\n",
       "      <th>0</th>\n",
       "    </tr>\n",
       "  </thead>\n",
       "  <tbody>\n",
       "    <tr>\n",
       "      <th>0</th>\n",
       "      <td>판모밀은 별 5개, 온모밀은 별 3개. 평균 내서 별 4개의 맛집. 인상적인 판모밀...</td>\n",
       "    </tr>\n",
       "    <tr>\n",
       "      <th>1</th>\n",
       "      <td>개인적으로 면이 참 좋습니다. 아직도 그 면에서 느꼈던 메밀향이 기억나는곳. 친절도...</td>\n",
       "    </tr>\n",
       "    <tr>\n",
       "      <th>2</th>\n",
       "      <td>앞접시도 안 주는 불친절한 업소입니다. 맛고 그냥 그렇습니다</td>\n",
       "    </tr>\n",
       "    <tr>\n",
       "      <th>3</th>\n",
       "      <td>Nouilles Cori et guide Michelin\\n쫄깃한 면발과 미슐랭가이...</td>\n",
       "    </tr>\n",
       "    <tr>\n",
       "      <th>4</th>\n",
       "      <td>서비스 갈수록 자본위주로가네요.초창기순수함이좋앗는디.</td>\n",
       "    </tr>\n",
       "  </tbody>\n",
       "</table>\n",
       "</div>"
      ],
      "text/plain": [
       "                                                   0\n",
       "0  판모밀은 별 5개, 온모밀은 별 3개. 평균 내서 별 4개의 맛집. 인상적인 판모밀...\n",
       "1  개인적으로 면이 참 좋습니다. 아직도 그 면에서 느꼈던 메밀향이 기억나는곳. 친절도...\n",
       "2                  앞접시도 안 주는 불친절한 업소입니다. 맛고 그냥 그렇습니다\n",
       "3  Nouilles Cori et guide Michelin\\n쫄깃한 면발과 미슐랭가이...\n",
       "4                      서비스 갈수록 자본위주로가네요.초창기순수함이좋앗는디."
      ]
     },
     "execution_count": 29,
     "metadata": {},
     "output_type": "execute_result"
    }
   ],
   "source": [
    "df = pd.DataFrame(result)\n",
    "df.head()"
   ]
  }
 ],
 "metadata": {
  "kernelspec": {
   "display_name": "Python 3",
   "language": "python",
   "name": "python3"
  },
  "language_info": {
   "codemirror_mode": {
    "name": "ipython",
    "version": 3
   },
   "file_extension": ".py",
   "mimetype": "text/x-python",
   "name": "python",
   "nbconvert_exporter": "python",
   "pygments_lexer": "ipython3",
   "version": "3.7.1"
  }
 },
 "nbformat": 4,
 "nbformat_minor": 2
}
