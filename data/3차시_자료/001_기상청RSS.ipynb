{
 "cells": [
  {
   "cell_type": "markdown",
   "metadata": {},
   "source": [
    "### 기상청RSS\n",
    "- 기상청 날씨누리 http://www.weather.go.kr\n",
    "- [생활과 산업]-[서비스]-[인터넷]-[RSS]"
   ]
  },
  {
   "cell_type": "markdown",
   "metadata": {},
   "source": [
    "### 1. 데이터 가져오기"
   ]
  },
  {
   "cell_type": "code",
   "execution_count": 4,
   "metadata": {},
   "outputs": [],
   "source": [
    "import urllib.request\n",
    "import urllib.parse"
   ]
  },
  {
   "cell_type": "code",
   "execution_count": 3,
   "metadata": {},
   "outputs": [],
   "source": [
    "import requests"
   ]
  },
  {
   "cell_type": "code",
   "execution_count": 5,
   "metadata": {},
   "outputs": [],
   "source": [
    "RSS =\"http://www.weather.go.kr/weather/forecast/mid-term-rss3.jsp\"\n",
    "#매개변수(쿼리)\n",
    "values = { 'stnId': '156' }\n",
    "query = urllib.parse.urlencode(values)"
   ]
  },
  {
   "cell_type": "code",
   "execution_count": 7,
   "metadata": {},
   "outputs": [],
   "source": [
    "#요청 url 생성\n",
    "url = RSS+\"?\"+query"
   ]
  },
  {
   "cell_type": "code",
   "execution_count": null,
   "metadata": {},
   "outputs": [],
   "source": [
    "data = urllib.request.urlopen(url).read()\n",
    "text = data.decode('utf-8')"
   ]
  },
  {
   "cell_type": "code",
   "execution_count": 8,
   "metadata": {},
   "outputs": [],
   "source": [
    "data = requests.get(url)"
   ]
  },
  {
   "cell_type": "code",
   "execution_count": 9,
   "metadata": {},
   "outputs": [
    {
     "data": {
      "text/plain": [
       "'<?xml version=\"1.0\" encoding=\"utf-8\" ?>\\r\\n<rss version=\"2.0\">\\r\\n<channel>\\r\\n<title>기상청 육상 중기예보</title>\\r\\n<link>http://www.kma.go.kr/weather/forecast/mid-term_05.jsp</link>\\r\\n<description>기상청 날씨 웹서비스</description>\\r\\n<language>ko</language>\\r\\n<generator>기상청</generator>\\r\\n<pubDate>2019년 04월 15일 (월)요일 06:00</pubDate>\\r\\n <item>\\r\\n<author>기상청</author>\\r\\n<category>육상중기예보</category>\\r\\n<title>전라남,북도 육상 중기예보 - 2019년 04월 15일 (월)요일 06:00 발표</title>\\r\\n<link>http://www.kma.go.kr/weather/forecast/mid-term_05.jsp</link>\\r\\n<guid>http://www.kma.go.kr/weather/forecast/mid-term_05.jsp</guid>\\r\\n<description>\\r\\n\\t<header>\\r\\n\\t\\t<title>전라남,북도 육상중기예보</title>\\r\\n\\t\\t<tm>201904150600</tm>\\r\\n\\t\\t<wf><![CDATA[고기압의 영향으로 맑은 날이 많겠습니다. <br />기온은 평년(최저기온: 5~11℃, 최고기온: 18~22℃)과 비슷하거나 조금 높겠습니다.<br />강수량은 평년(2~6mm)보다 적겠습니다.<br />서해남부와 남해서부 해상의 물결은 22~23일 1.0~2.5m로 약간 높게 일겠고, 그 밖의 날은 0.5~2.0m로 일겠습니다.<br /><br />* 대체로 맑은 날씨가 이어지면서 대기가 매우 건조해지겠으니, 산불 등 각종 화재예방에 각별히 유의하기 바랍니다.]]></wf>\\r\\n\\t</header>\\r\\n\\t<body>\\r\\n\\t\\t\\t\\t\\r\\n\\r\\n\\t\\t<location wl_ver=\"3\">\\r\\n\\t\\t\\t\\t<province>광주ㆍ전라남도</province>\\r\\n\\t\\t\\t\\t<city>광주</city>\\r\\n\\t\\t\\t\\t\\r\\n\\t\\t\\t\\t<data>\\r\\n\\t\\t\\t\\t\\t<mode>A02</mode>\\r\\n\\t\\t\\t\\t\\t<tmEf>2019-04-18 00:00</tmEf>\\r\\n\\t\\t\\t\\t\\t<wf>맑음</wf>\\r\\n\\t\\t\\t\\t\\t<tmn>11</tmn>\\r\\n\\t\\t\\t\\t\\t<tmx>23</tmx>\\r\\n\\t\\t\\t\\t\\t<reliability>높음</reliability>\\r\\n\\t\\t\\t\\t</data>\\r\\n\\r\\n\\t\\t\\t\\t\\r\\n\\t\\t\\t\\t<data>\\r\\n\\t\\t\\t\\t\\t<mode>A02</mode>\\r\\n\\t\\t\\t\\t\\t<tmEf>2019-04-18 12:00</tmEf>\\r\\n\\t\\t\\t\\t\\t<wf>맑음</wf>\\r\\n\\t\\t\\t\\t\\t<tmn>11</tmn>\\r\\n\\t\\t\\t\\t\\t<tmx>23</tmx>\\r\\n\\t\\t\\t\\t\\t<reliability>높음</reliability>\\r\\n\\t\\t\\t\\t</data>\\r\\n\\r\\n\\t\\t\\t\\t\\r\\n\\t\\t\\t\\t<data>\\r\\n\\t\\t\\t\\t\\t<mode>A02</mode>\\r\\n\\t\\t\\t\\t\\t<tmEf>2019-04-19 00:00</tmEf>\\r\\n\\t\\t\\t\\t\\t<wf>맑음</wf>\\r\\n\\t\\t\\t\\t\\t<tmn>11</tmn>\\r\\n\\t\\t\\t\\t\\t<tmx>22</tmx>\\r\\n\\t\\t\\t\\t\\t<reliability>높음</reliability>\\r\\n\\t\\t\\t\\t</data>\\r\\n\\r\\n\\t\\t\\t\\t\\r\\n\\t\\t\\t\\t<data>\\r\\n\\t\\t\\t\\t\\t<mode>A02</mode>\\r\\n\\t\\t\\t\\t\\t<tmEf>2019-04-19 12:00</tmEf>\\r\\n\\t\\t\\t\\t\\t<wf>맑음</wf>\\r\\n\\t\\t\\t\\t\\t<tmn>11</tmn>\\r\\n\\t\\t\\t\\t\\t<tmx>22</tmx>\\r\\n\\t\\t\\t\\t\\t<reliability>높음</reliability>\\r\\n\\t\\t\\t\\t</data>\\r\\n\\r\\n\\t\\t\\t\\t\\r\\n\\t\\t\\t\\t<data>\\r\\n\\t\\t\\t\\t\\t<mode>A02</mode>\\r\\n\\t\\t\\t\\t\\t<tmEf>2019-04-20 00:00</tmEf>\\r\\n\\t\\t\\t\\t\\t<wf>맑음</wf>\\r\\n\\t\\t\\t\\t\\t<tmn>11</tmn>\\r\\n\\t\\t\\t\\t\\t<tmx>23</tmx>\\r\\n\\t\\t\\t\\t\\t<reliability>높음</reliability>\\r\\n\\t\\t\\t\\t</data>\\r\\n\\r\\n\\t\\t\\t\\t\\r\\n\\t\\t\\t\\t<data>\\r\\n\\t\\t\\t\\t\\t<mode>A02</mode>\\r\\n\\t\\t\\t\\t\\t<tmEf>2019-04-20 12:00</tmEf>\\r\\n\\t\\t\\t\\t\\t<wf>맑음</wf>\\r\\n\\t\\t\\t\\t\\t<tmn>11</tmn>\\r\\n\\t\\t\\t\\t\\t<tmx>23</tmx>\\r\\n\\t\\t\\t\\t\\t<reliability>높음</reliability>\\r\\n\\t\\t\\t\\t</data>\\r\\n\\r\\n\\t\\t\\t\\t\\r\\n\\t\\t\\t\\t<data>\\r\\n\\t\\t\\t\\t\\t<mode>A02</mode>\\r\\n\\t\\t\\t\\t\\t<tmEf>2019-04-21 00:00</tmEf>\\r\\n\\t\\t\\t\\t\\t<wf>흐림</wf>\\r\\n\\t\\t\\t\\t\\t<tmn>12</tmn>\\r\\n\\t\\t\\t\\t\\t<tmx>21</tmx>\\r\\n\\t\\t\\t\\t\\t<reliability>낮음</reliability>\\r\\n\\t\\t\\t\\t</data>\\r\\n\\r\\n\\t\\t\\t\\t\\r\\n\\t\\t\\t\\t<data>\\r\\n\\t\\t\\t\\t\\t<mode>A02</mode>\\r\\n\\t\\t\\t\\t\\t<tmEf>2019-04-21 12:00</tmEf>\\r\\n\\t\\t\\t\\t\\t<wf>흐림</wf>\\r\\n\\t\\t\\t\\t\\t<tmn>12</tmn>\\r\\n\\t\\t\\t\\t\\t<tmx>21</tmx>\\r\\n\\t\\t\\t\\t\\t<reliability>낮음</reliability>\\r\\n\\t\\t\\t\\t</data>\\r\\n\\r\\n\\t\\t\\t\\t\\r\\n\\t\\t\\t\\t<data>\\r\\n\\t\\t\\t\\t\\t<mode>A02</mode>\\r\\n\\t\\t\\t\\t\\t<tmEf>2019-04-22 00:00</tmEf>\\r\\n\\t\\t\\t\\t\\t<wf>구름많음</wf>\\r\\n\\t\\t\\t\\t\\t<tmn>12</tmn>\\r\\n\\t\\t\\t\\t\\t<tmx>21</tmx>\\r\\n\\t\\t\\t\\t\\t<reliability>보통</reliability>\\r\\n\\t\\t\\t\\t</data>\\r\\n\\r\\n\\t\\t\\t\\t\\r\\n\\t\\t\\t\\t<data>\\r\\n\\t\\t\\t\\t\\t<mode>A02</mode>\\r\\n\\t\\t\\t\\t\\t<tmEf>2019-04-22 12:00</tmEf>\\r\\n\\t\\t\\t\\t\\t<wf>구름많음</wf>\\r\\n\\t\\t\\t\\t\\t<tmn>12</tmn>\\r\\n\\t\\t\\t\\t\\t<tmx>21</tmx>\\r\\n\\t\\t\\t\\t\\t<reliability>보통</reliability>\\r\\n\\t\\t\\t\\t</data>\\r\\n\\r\\n\\t\\t\\t\\t\\r\\n\\t\\t\\t\\t<data>\\r\\n\\t\\t\\t\\t\\t<mode>A01</mode>\\r\\n\\t\\t\\t\\t\\t<tmEf>2019-04-23 00:00</tmEf>\\r\\n\\t\\t\\t\\t\\t<wf>맑음</wf>\\r\\n\\t\\t\\t\\t\\t<tmn>11</tmn>\\r\\n\\t\\t\\t\\t\\t<tmx>22</tmx>\\r\\n\\t\\t\\t\\t\\t<reliability>보통</reliability>\\r\\n\\t\\t\\t\\t</data>\\r\\n\\r\\n\\t\\t\\t\\t\\r\\n\\t\\t\\t\\t<data>\\r\\n\\t\\t\\t\\t\\t<mode>A01</mode>\\r\\n\\t\\t\\t\\t\\t<tmEf>2019-04-24 00:00</tmEf>\\r\\n\\t\\t\\t\\t\\t<wf>맑음</wf>\\r\\n\\t\\t\\t\\t\\t<tmn>11</tmn>\\r\\n\\t\\t\\t\\t\\t<tmx>22</tmx>\\r\\n\\t\\t\\t\\t\\t<reliability>보통</reliability>\\r\\n\\t\\t\\t\\t</data>\\r\\n\\r\\n\\t\\t\\t\\t\\r\\n\\t\\t\\t\\t<data>\\r\\n\\t\\t\\t\\t\\t<mode>A01</mode>\\r\\n\\t\\t\\t\\t\\t<tmEf>2019-04-25 00:00</tmEf>\\r\\n\\t\\t\\t\\t\\t<wf>구름많음</wf>\\r\\n\\t\\t\\t\\t\\t<tmn>11</tmn>\\r\\n\\t\\t\\t\\t\\t<tmx>21</tmx>\\r\\n\\t\\t\\t\\t\\t<reliability>보통</reliability>\\r\\n\\t\\t\\t\\t</data>\\r\\n\\r\\n\\r\\n\\t\\t</location>\\r\\n\\r\\n\\t\\t<location wl_ver=\"3\">\\r\\n\\t\\t\\t\\t<province>광주ㆍ전라남도</province>\\r\\n\\t\\t\\t\\t<city>목포</city>\\r\\n\\t\\t\\t\\t\\r\\n\\t\\t\\t\\t<data>\\r\\n\\t\\t\\t\\t\\t<mode>A02</mode>\\r\\n\\t\\t\\t\\t\\t<tmEf>2019-04-18 00:00</tmEf>\\r\\n\\t\\t\\t\\t\\t<wf>맑음</wf>\\r\\n\\t\\t\\t\\t\\t<tmn>12</tmn>\\r\\n\\t\\t\\t\\t\\t<tmx>20</tmx>\\r\\n\\t\\t\\t\\t\\t<reliability>높음</reliability>\\r\\n\\t\\t\\t\\t</data>\\r\\n\\r\\n\\t\\t\\t\\t\\r\\n\\t\\t\\t\\t<data>\\r\\n\\t\\t\\t\\t\\t<mode>A02</mode>\\r\\n\\t\\t\\t\\t\\t<tmEf>2019-04-18 12:00</tmEf>\\r\\n\\t\\t\\t\\t\\t<wf>맑음</wf>\\r\\n\\t\\t\\t\\t\\t<tmn>12</tmn>\\r\\n\\t\\t\\t\\t\\t<tmx>20</tmx>\\r\\n\\t\\t\\t\\t\\t<reliability>높음</reliability>\\r\\n\\t\\t\\t\\t</data>\\r\\n\\r\\n\\t\\t\\t\\t\\r\\n\\t\\t\\t\\t<data>\\r\\n\\t\\t\\t\\t\\t<mode>A02</mode>\\r\\n\\t\\t\\t\\t\\t<tmEf>2019-04-19 00:00</tmEf>\\r\\n\\t\\t\\t\\t\\t<wf>맑음</wf>\\r\\n\\t\\t\\t\\t\\t<tmn>11</tmn>\\r\\n\\t\\t\\t\\t\\t<tmx>19</tmx>\\r\\n\\t\\t\\t\\t\\t<reliability>높음</reliability>\\r\\n\\t\\t\\t\\t</data>\\r\\n\\r\\n\\t\\t\\t\\t\\r\\n\\t\\t\\t\\t<data>\\r\\n\\t\\t\\t\\t\\t<mode>A02</mode>\\r\\n\\t\\t\\t\\t\\t<tmEf>2019-04-19 12:00</tmEf>\\r\\n\\t\\t\\t\\t\\t<wf>맑음</wf>\\r\\n\\t\\t\\t\\t\\t<tmn>11</tmn>\\r\\n\\t\\t\\t\\t\\t<tmx>19</tmx>\\r\\n\\t\\t\\t\\t\\t<reliability>높음</reliability>\\r\\n\\t\\t\\t\\t</data>\\r\\n\\r\\n\\t\\t\\t\\t\\r\\n\\t\\t\\t\\t<data>\\r\\n\\t\\t\\t\\t\\t<mode>A02</mode>\\r\\n\\t\\t\\t\\t\\t<tmEf>2019-04-20 00:00</tmEf>\\r\\n\\t\\t\\t\\t\\t<wf>맑음</wf>\\r\\n\\t\\t\\t\\t\\t<tmn>11</tmn>\\r\\n\\t\\t\\t\\t\\t<tmx>20</tmx>\\r\\n\\t\\t\\t\\t\\t<reliability>높음</reliability>\\r\\n\\t\\t\\t\\t</data>\\r\\n\\r\\n\\t\\t\\t\\t\\r\\n\\t\\t\\t\\t<data>\\r\\n\\t\\t\\t\\t\\t<mode>A02</mode>\\r\\n\\t\\t\\t\\t\\t<tmEf>2019-04-20 12:00</tmEf>\\r\\n\\t\\t\\t\\t\\t<wf>맑음</wf>\\r\\n\\t\\t\\t\\t\\t<tmn>11</tmn>\\r\\n\\t\\t\\t\\t\\t<tmx>20</tmx>\\r\\n\\t\\t\\t\\t\\t<reliability>높음</reliability>\\r\\n\\t\\t\\t\\t</data>\\r\\n\\r\\n\\t\\t\\t\\t\\r\\n\\t\\t\\t\\t<data>\\r\\n\\t\\t\\t\\t\\t<mode>A02</mode>\\r\\n\\t\\t\\t\\t\\t<tmEf>2019-04-21 00:00</tmEf>\\r\\n\\t\\t\\t\\t\\t<wf>흐림</wf>\\r\\n\\t\\t\\t\\t\\t<tmn>12</tmn>\\r\\n\\t\\t\\t\\t\\t<tmx>19</tmx>\\r\\n\\t\\t\\t\\t\\t<reliability>낮음</reliability>\\r\\n\\t\\t\\t\\t</data>\\r\\n\\r\\n\\t\\t\\t\\t\\r\\n\\t\\t\\t\\t<data>\\r\\n\\t\\t\\t\\t\\t<mode>A02</mode>\\r\\n\\t\\t\\t\\t\\t<tmEf>2019-04-21 12:00</tmEf>\\r\\n\\t\\t\\t\\t\\t<wf>흐림</wf>\\r\\n\\t\\t\\t\\t\\t<tmn>12</tmn>\\r\\n\\t\\t\\t\\t\\t<tmx>19</tmx>\\r\\n\\t\\t\\t\\t\\t<reliability>낮음</reliability>\\r\\n\\t\\t\\t\\t</data>\\r\\n\\r\\n\\t\\t\\t\\t\\r\\n\\t\\t\\t\\t<data>\\r\\n\\t\\t\\t\\t\\t<mode>A02</mode>\\r\\n\\t\\t\\t\\t\\t<tmEf>2019-04-22 00:00</tmEf>\\r\\n\\t\\t\\t\\t\\t<wf>구름많음</wf>\\r\\n\\t\\t\\t\\t\\t<tmn>13</tmn>\\r\\n\\t\\t\\t\\t\\t<tmx>19</tmx>\\r\\n\\t\\t\\t\\t\\t<reliability>보통</reliability>\\r\\n\\t\\t\\t\\t</data>\\r\\n\\r\\n\\t\\t\\t\\t\\r\\n\\t\\t\\t\\t<data>\\r\\n\\t\\t\\t\\t\\t<mode>A02</mode>\\r\\n\\t\\t\\t\\t\\t<tmEf>2019-04-22 12:00</tmEf>\\r\\n\\t\\t\\t\\t\\t<wf>구름많음</wf>\\r\\n\\t\\t\\t\\t\\t<tmn>13</tmn>\\r\\n\\t\\t\\t\\t\\t<tmx>19</tmx>\\r\\n\\t\\t\\t\\t\\t<reliability>보통</reliability>\\r\\n\\t\\t\\t\\t</data>\\r\\n\\r\\n\\t\\t\\t\\t\\r\\n\\t\\t\\t\\t<data>\\r\\n\\t\\t\\t\\t\\t<mode>A01</mode>\\r\\n\\t\\t\\t\\t\\t<tmEf>2019-04-23 00:00</tmEf>\\r\\n\\t\\t\\t\\t\\t<wf>맑음</wf>\\r\\n\\t\\t\\t\\t\\t<tmn>12</tmn>\\r\\n\\t\\t\\t\\t\\t<tmx>18</tmx>\\r\\n\\t\\t\\t\\t\\t<reliability>보통</reliability>\\r\\n\\t\\t\\t\\t</data>\\r\\n\\r\\n\\t\\t\\t\\t\\r\\n\\t\\t\\t\\t<data>\\r\\n\\t\\t\\t\\t\\t<mode>A01</mode>\\r\\n\\t\\t\\t\\t\\t<tmEf>2019-04-24 00:00</tmEf>\\r\\n\\t\\t\\t\\t\\t<wf>맑음</wf>\\r\\n\\t\\t\\t\\t\\t<tmn>12</tmn>\\r\\n\\t\\t\\t\\t\\t<tmx>19</tmx>\\r\\n\\t\\t\\t\\t\\t<reliability>보통</reliability>\\r\\n\\t\\t\\t\\t</data>\\r\\n\\r\\n\\t\\t\\t\\t\\r\\n\\t\\t\\t\\t<data>\\r\\n\\t\\t\\t\\t\\t<mode>A01</mode>\\r\\n\\t\\t\\t\\t\\t<tmEf>2019-04-25 00:00</tmEf>\\r\\n\\t\\t\\t\\t\\t<wf>구름많음</wf>\\r\\n\\t\\t\\t\\t\\t<tmn>11</tmn>\\r\\n\\t\\t\\t\\t\\t<tmx>19</tmx>\\r\\n\\t\\t\\t\\t\\t<reliability>보통</reliability>\\r\\n\\t\\t\\t\\t</data>\\r\\n\\r\\n\\r\\n\\t\\t</location>\\r\\n\\r\\n\\t\\t<location wl_ver=\"3\">\\r\\n\\t\\t\\t\\t<province>광주ㆍ전라남도</province>\\r\\n\\t\\t\\t\\t<city>여수</city>\\r\\n\\t\\t\\t\\t\\r\\n\\t\\t\\t\\t<data>\\r\\n\\t\\t\\t\\t\\t<mode>A02</mode>\\r\\n\\t\\t\\t\\t\\t<tmEf>2019-04-18 00:00</tmEf>\\r\\n\\t\\t\\t\\t\\t<wf>맑음</wf>\\r\\n\\t\\t\\t\\t\\t<tmn>13</tmn>\\r\\n\\t\\t\\t\\t\\t<tmx>19</tmx>\\r\\n\\t\\t\\t\\t\\t<reliability>높음</reliability>\\r\\n\\t\\t\\t\\t</data>\\r\\n\\r\\n\\t\\t\\t\\t\\r\\n\\t\\t\\t\\t<data>\\r\\n\\t\\t\\t\\t\\t<mode>A02</mode>\\r\\n\\t\\t\\t\\t\\t<tmEf>2019-04-18 12:00</tmEf>\\r\\n\\t\\t\\t\\t\\t<wf>맑음</wf>\\r\\n\\t\\t\\t\\t\\t<tmn>13</tmn>\\r\\n\\t\\t\\t\\t\\t<tmx>19</tmx>\\r\\n\\t\\t\\t\\t\\t<reliability>높음</reliability>\\r\\n\\t\\t\\t\\t</data>\\r\\n\\r\\n\\t\\t\\t\\t\\r\\n\\t\\t\\t\\t<data>\\r\\n\\t\\t\\t\\t\\t<mode>A02</mode>\\r\\n\\t\\t\\t\\t\\t<tmEf>2019-04-19 00:00</tmEf>\\r\\n\\t\\t\\t\\t\\t<wf>맑음</wf>\\r\\n\\t\\t\\t\\t\\t<tmn>12</tmn>\\r\\n\\t\\t\\t\\t\\t<tmx>18</tmx>\\r\\n\\t\\t\\t\\t\\t<reliability>높음</reliability>\\r\\n\\t\\t\\t\\t</data>\\r\\n\\r\\n\\t\\t\\t\\t\\r\\n\\t\\t\\t\\t<data>\\r\\n\\t\\t\\t\\t\\t<mode>A02</mode>\\r\\n\\t\\t\\t\\t\\t<tmEf>2019-04-19 12:00</tmEf>\\r\\n\\t\\t\\t\\t\\t<wf>맑음</wf>\\r\\n\\t\\t\\t\\t\\t<tmn>12</tmn>\\r\\n\\t\\t\\t\\t\\t<tmx>18</tmx>\\r\\n\\t\\t\\t\\t\\t<reliability>높음</reliability>\\r\\n\\t\\t\\t\\t</data>\\r\\n\\r\\n\\t\\t\\t\\t\\r\\n\\t\\t\\t\\t<data>\\r\\n\\t\\t\\t\\t\\t<mode>A02</mode>\\r\\n\\t\\t\\t\\t\\t<tmEf>2019-04-20 00:00</tmEf>\\r\\n\\t\\t\\t\\t\\t<wf>맑음</wf>\\r\\n\\t\\t\\t\\t\\t<tmn>12</tmn>\\r\\n\\t\\t\\t\\t\\t<tmx>18</tmx>\\r\\n\\t\\t\\t\\t\\t<reliability>높음</reliability>\\r\\n\\t\\t\\t\\t</data>\\r\\n\\r\\n\\t\\t\\t\\t\\r\\n\\t\\t\\t\\t<data>\\r\\n\\t\\t\\t\\t\\t<mode>A02</mode>\\r\\n\\t\\t\\t\\t\\t<tmEf>2019-04-20 12:00</tmEf>\\r\\n\\t\\t\\t\\t\\t<wf>맑음</wf>\\r\\n\\t\\t\\t\\t\\t<tmn>12</tmn>\\r\\n\\t\\t\\t\\t\\t<tmx>18</tmx>\\r\\n\\t\\t\\t\\t\\t<reliability>높음</reliability>\\r\\n\\t\\t\\t\\t</data>\\r\\n\\r\\n\\t\\t\\t\\t\\r\\n\\t\\t\\t\\t<data>\\r\\n\\t\\t\\t\\t\\t<mode>A02</mode>\\r\\n\\t\\t\\t\\t\\t<tmEf>2019-04-21 00:00</tmEf>\\r\\n\\t\\t\\t\\t\\t<wf>흐림</wf>\\r\\n\\t\\t\\t\\t\\t<tmn>13</tmn>\\r\\n\\t\\t\\t\\t\\t<tmx>19</tmx>\\r\\n\\t\\t\\t\\t\\t<reliability>낮음</reliability>\\r\\n\\t\\t\\t\\t</data>\\r\\n\\r\\n\\t\\t\\t\\t\\r\\n\\t\\t\\t\\t<data>\\r\\n\\t\\t\\t\\t\\t<mode>A02</mode>\\r\\n\\t\\t\\t\\t\\t<tmEf>2019-04-21 12:00</tmEf>\\r\\n\\t\\t\\t\\t\\t<wf>흐림</wf>\\r\\n\\t\\t\\t\\t\\t<tmn>13</tmn>\\r\\n\\t\\t\\t\\t\\t<tmx>19</tmx>\\r\\n\\t\\t\\t\\t\\t<reliability>낮음</reliability>\\r\\n\\t\\t\\t\\t</data>\\r\\n\\r\\n\\t\\t\\t\\t\\r\\n\\t\\t\\t\\t<data>\\r\\n\\t\\t\\t\\t\\t<mode>A02</mode>\\r\\n\\t\\t\\t\\t\\t<tmEf>2019-04-22 00:00</tmEf>\\r\\n\\t\\t\\t\\t\\t<wf>구름많음</wf>\\r\\n\\t\\t\\t\\t\\t<tmn>14</tmn>\\r\\n\\t\\t\\t\\t\\t<tmx>19</tmx>\\r\\n\\t\\t\\t\\t\\t<reliability>보통</reliability>\\r\\n\\t\\t\\t\\t</data>\\r\\n\\r\\n\\t\\t\\t\\t\\r\\n\\t\\t\\t\\t<data>\\r\\n\\t\\t\\t\\t\\t<mode>A02</mode>\\r\\n\\t\\t\\t\\t\\t<tmEf>2019-04-22 12:00</tmEf>\\r\\n\\t\\t\\t\\t\\t<wf>구름많음</wf>\\r\\n\\t\\t\\t\\t\\t<tmn>14</tmn>\\r\\n\\t\\t\\t\\t\\t<tmx>19</tmx>\\r\\n\\t\\t\\t\\t\\t<reliability>보통</reliability>\\r\\n\\t\\t\\t\\t</data>\\r\\n\\r\\n\\t\\t\\t\\t\\r\\n\\t\\t\\t\\t<data>\\r\\n\\t\\t\\t\\t\\t<mode>A01</mode>\\r\\n\\t\\t\\t\\t\\t<tmEf>2019-04-23 00:00</tmEf>\\r\\n\\t\\t\\t\\t\\t<wf>맑음</wf>\\r\\n\\t\\t\\t\\t\\t<tmn>13</tmn>\\r\\n\\t\\t\\t\\t\\t<tmx>19</tmx>\\r\\n\\t\\t\\t\\t\\t<reliability>보통</reliability>\\r\\n\\t\\t\\t\\t</data>\\r\\n\\r\\n\\t\\t\\t\\t\\r\\n\\t\\t\\t\\t<data>\\r\\n\\t\\t\\t\\t\\t<mode>A01</mode>\\r\\n\\t\\t\\t\\t\\t<tmEf>2019-04-24 00:00</tmEf>\\r\\n\\t\\t\\t\\t\\t<wf>맑음</wf>\\r\\n\\t\\t\\t\\t\\t<tmn>13</tmn>\\r\\n\\t\\t\\t\\t\\t<tmx>19</tmx>\\r\\n\\t\\t\\t\\t\\t<reliability>보통</reliability>\\r\\n\\t\\t\\t\\t</data>\\r\\n\\r\\n\\t\\t\\t\\t\\r\\n\\t\\t\\t\\t<data>\\r\\n\\t\\t\\t\\t\\t<mode>A01</mode>\\r\\n\\t\\t\\t\\t\\t<tmEf>2019-04-25 00:00</tmEf>\\r\\n\\t\\t\\t\\t\\t<wf>구름많음</wf>\\r\\n\\t\\t\\t\\t\\t<tmn>13</tmn>\\r\\n\\t\\t\\t\\t\\t<tmx>18</tmx>\\r\\n\\t\\t\\t\\t\\t<reliability>보통</reliability>\\r\\n\\t\\t\\t\\t</data>\\r\\n\\r\\n\\r\\n\\t\\t</location>\\r\\n\\r\\n\\t\\t<location wl_ver=\"3\">\\r\\n\\t\\t\\t\\t<province>광주ㆍ전라남도</province>\\r\\n\\t\\t\\t\\t<city>순천</city>\\r\\n\\t\\t\\t\\t\\r\\n\\t\\t\\t\\t<data>\\r\\n\\t\\t\\t\\t\\t<mode>A02</mode>\\r\\n\\t\\t\\t\\t\\t<tmEf>2019-04-18 00:00</tmEf>\\r\\n\\t\\t\\t\\t\\t<wf>맑음</wf>\\r\\n\\t\\t\\t\\t\\t<tmn>11</tmn>\\r\\n\\t\\t\\t\\t\\t<tmx>22</tmx>\\r\\n\\t\\t\\t\\t\\t<reliability>높음</reliability>\\r\\n\\t\\t\\t\\t</data>\\r\\n\\r\\n\\t\\t\\t\\t\\r\\n\\t\\t\\t\\t<data>\\r\\n\\t\\t\\t\\t\\t<mode>A02</mode>\\r\\n\\t\\t\\t\\t\\t<tmEf>2019-04-18 12:00</tmEf>\\r\\n\\t\\t\\t\\t\\t<wf>맑음</wf>\\r\\n\\t\\t\\t\\t\\t<tmn>11</tmn>\\r\\n\\t\\t\\t\\t\\t<tmx>22</tmx>\\r\\n\\t\\t\\t\\t\\t<reliability>높음</reliability>\\r\\n\\t\\t\\t\\t</data>\\r\\n\\r\\n\\t\\t\\t\\t\\r\\n\\t\\t\\t\\t<data>\\r\\n\\t\\t\\t\\t\\t<mode>A02</mode>\\r\\n\\t\\t\\t\\t\\t<tmEf>2019-04-19 00:00</tmEf>\\r\\n\\t\\t\\t\\t\\t<wf>맑음</wf>\\r\\n\\t\\t\\t\\t\\t<tmn>12</tmn>\\r\\n\\t\\t\\t\\t\\t<tmx>21</tmx>\\r\\n\\t\\t\\t\\t\\t<reliability>높음</reliability>\\r\\n\\t\\t\\t\\t</data>\\r\\n\\r\\n\\t\\t\\t\\t\\r\\n\\t\\t\\t\\t<data>\\r\\n\\t\\t\\t\\t\\t<mode>A02</mode>\\r\\n\\t\\t\\t\\t\\t<tmEf>2019-04-19 12:00</tmEf>\\r\\n\\t\\t\\t\\t\\t<wf>맑음</wf>\\r\\n\\t\\t\\t\\t\\t<tmn>12</tmn>\\r\\n\\t\\t\\t\\t\\t<tmx>21</tmx>\\r\\n\\t\\t\\t\\t\\t<reliability>높음</reliability>\\r\\n\\t\\t\\t\\t</data>\\r\\n\\r\\n\\t\\t\\t\\t\\r\\n\\t\\t\\t\\t<data>\\r\\n\\t\\t\\t\\t\\t<mode>A02</mode>\\r\\n\\t\\t\\t\\t\\t<tmEf>2019-04-20 00:00</tmEf>\\r\\n\\t\\t\\t\\t\\t<wf>맑음</wf>\\r\\n\\t\\t\\t\\t\\t<tmn>11</tmn>\\r\\n\\t\\t\\t\\t\\t<tmx>21</tmx>\\r\\n\\t\\t\\t\\t\\t<reliability>높음</reliability>\\r\\n\\t\\t\\t\\t</data>\\r\\n\\r\\n\\t\\t\\t\\t\\r\\n\\t\\t\\t\\t<data>\\r\\n\\t\\t\\t\\t\\t<mode>A02</mode>\\r\\n\\t\\t\\t\\t\\t<tmEf>2019-04-20 12:00</tmEf>\\r\\n\\t\\t\\t\\t\\t<wf>맑음</wf>\\r\\n\\t\\t\\t\\t\\t<tmn>11</tmn>\\r\\n\\t\\t\\t\\t\\t<tmx>21</tmx>\\r\\n\\t\\t\\t\\t\\t<reliability>높음</reliability>\\r\\n\\t\\t\\t\\t</data>\\r\\n\\r\\n\\t\\t\\t\\t\\r\\n\\t\\t\\t\\t<data>\\r\\n\\t\\t\\t\\t\\t<mode>A02</mode>\\r\\n\\t\\t\\t\\t\\t<tmEf>2019-04-21 00:00</tmEf>\\r\\n\\t\\t\\t\\t\\t<wf>흐림</wf>\\r\\n\\t\\t\\t\\t\\t<tmn>12</tmn>\\r\\n\\t\\t\\t\\t\\t<tmx>21</tmx>\\r\\n\\t\\t\\t\\t\\t<reliability>낮음</reliability>\\r\\n\\t\\t\\t\\t</data>\\r\\n\\r\\n\\t\\t\\t\\t\\r\\n\\t\\t\\t\\t<data>\\r\\n\\t\\t\\t\\t\\t<mode>A02</mode>\\r\\n\\t\\t\\t\\t\\t<tmEf>2019-04-21 12:00</tmEf>\\r\\n\\t\\t\\t\\t\\t<wf>흐림</wf>\\r\\n\\t\\t\\t\\t\\t<tmn>12</tmn>\\r\\n\\t\\t\\t\\t\\t<tmx>21</tmx>\\r\\n\\t\\t\\t\\t\\t<reliability>낮음</reliability>\\r\\n\\t\\t\\t\\t</data>\\r\\n\\r\\n\\t\\t\\t\\t\\r\\n\\t\\t\\t\\t<data>\\r\\n\\t\\t\\t\\t\\t<mode>A02</mode>\\r\\n\\t\\t\\t\\t\\t<tmEf>2019-04-22 00:00</tmEf>\\r\\n\\t\\t\\t\\t\\t<wf>구름많음</wf>\\r\\n\\t\\t\\t\\t\\t<tmn>13</tmn>\\r\\n\\t\\t\\t\\t\\t<tmx>21</tmx>\\r\\n\\t\\t\\t\\t\\t<reliability>보통</reliability>\\r\\n\\t\\t\\t\\t</data>\\r\\n\\r\\n\\t\\t\\t\\t\\r\\n\\t\\t\\t\\t<data>\\r\\n\\t\\t\\t\\t\\t<mode>A02</mode>\\r\\n\\t\\t\\t\\t\\t<tmEf>2019-04-22 12:00</tmEf>\\r\\n\\t\\t\\t\\t\\t<wf>구름많음</wf>\\r\\n\\t\\t\\t\\t\\t<tmn>13</tmn>\\r\\n\\t\\t\\t\\t\\t<tmx>21</tmx>\\r\\n\\t\\t\\t\\t\\t<reliability>보통</reliability>\\r\\n\\t\\t\\t\\t</data>\\r\\n\\r\\n\\t\\t\\t\\t\\r\\n\\t\\t\\t\\t<data>\\r\\n\\t\\t\\t\\t\\t<mode>A01</mode>\\r\\n\\t\\t\\t\\t\\t<tmEf>2019-04-23 00:00</tmEf>\\r\\n\\t\\t\\t\\t\\t<wf>맑음</wf>\\r\\n\\t\\t\\t\\t\\t<tmn>12</tmn>\\r\\n\\t\\t\\t\\t\\t<tmx>22</tmx>\\r\\n\\t\\t\\t\\t\\t<reliability>보통</reliability>\\r\\n\\t\\t\\t\\t</data>\\r\\n\\r\\n\\t\\t\\t\\t\\r\\n\\t\\t\\t\\t<data>\\r\\n\\t\\t\\t\\t\\t<mode>A01</mode>\\r\\n\\t\\t\\t\\t\\t<tmEf>2019-04-24 00:00</tmEf>\\r\\n\\t\\t\\t\\t\\t<wf>맑음</wf>\\r\\n\\t\\t\\t\\t\\t<tmn>12</tmn>\\r\\n\\t\\t\\t\\t\\t<tmx>22</tmx>\\r\\n\\t\\t\\t\\t\\t<reliability>보통</reliability>\\r\\n\\t\\t\\t\\t</data>\\r\\n\\r\\n\\t\\t\\t\\t\\r\\n\\t\\t\\t\\t<data>\\r\\n\\t\\t\\t\\t\\t<mode>A01</mode>\\r\\n\\t\\t\\t\\t\\t<tmEf>2019-04-25 00:00</tmEf>\\r\\n\\t\\t\\t\\t\\t<wf>구름많음</wf>\\r\\n\\t\\t\\t\\t\\t<tmn>12</tmn>\\r\\n\\t\\t\\t\\t\\t<tmx>21</tmx>\\r\\n\\t\\t\\t\\t\\t<reliability>보통</reliability>\\r\\n\\t\\t\\t\\t</data>\\r\\n\\r\\n\\r\\n\\t\\t</location>\\r\\n\\r\\n\\t\\t<location wl_ver=\"3\">\\r\\n\\t\\t\\t\\t<province>광주ㆍ전라남도</province>\\r\\n\\t\\t\\t\\t<city>광양</city>\\r\\n\\t\\t\\t\\t\\r\\n\\t\\t\\t\\t<data>\\r\\n\\t\\t\\t\\t\\t<mode>A02</mode>\\r\\n\\t\\t\\t\\t\\t<tmEf>2019-04-18 00:00</tmEf>\\r\\n\\t\\t\\t\\t\\t<wf>맑음</wf>\\r\\n\\t\\t\\t\\t\\t<tmn>12</tmn>\\r\\n\\t\\t\\t\\t\\t<tmx>23</tmx>\\r\\n\\t\\t\\t\\t\\t<reliability>높음</reliability>\\r\\n\\t\\t\\t\\t</data>\\r\\n\\r\\n\\t\\t\\t\\t\\r\\n\\t\\t\\t\\t<data>\\r\\n\\t\\t\\t\\t\\t<mode>A02</mode>\\r\\n\\t\\t\\t\\t\\t<tmEf>2019-04-18 12:00</tmEf>\\r\\n\\t\\t\\t\\t\\t<wf>맑음</wf>\\r\\n\\t\\t\\t\\t\\t<tmn>12</tmn>\\r\\n\\t\\t\\t\\t\\t<tmx>23</tmx>\\r\\n\\t\\t\\t\\t\\t<reliability>높음</reliability>\\r\\n\\t\\t\\t\\t</data>\\r\\n\\r\\n\\t\\t\\t\\t\\r\\n\\t\\t\\t\\t<data>\\r\\n\\t\\t\\t\\t\\t<mode>A02</mode>\\r\\n\\t\\t\\t\\t\\t<tmEf>2019-04-19 00:00</tmEf>\\r\\n\\t\\t\\t\\t\\t<wf>맑음</wf>\\r\\n\\t\\t\\t\\t\\t<tmn>12</tmn>\\r\\n\\t\\t\\t\\t\\t<tmx>20</tmx>\\r\\n\\t\\t\\t\\t\\t<reliability>높음</reliability>\\r\\n\\t\\t\\t\\t</data>\\r\\n\\r\\n\\t\\t\\t\\t\\r\\n\\t\\t\\t\\t<data>\\r\\n\\t\\t\\t\\t\\t<mode>A02</mode>\\r\\n\\t\\t\\t\\t\\t<tmEf>2019-04-19 12:00</tmEf>\\r\\n\\t\\t\\t\\t\\t<wf>맑음</wf>\\r\\n\\t\\t\\t\\t\\t<tmn>12</tmn>\\r\\n\\t\\t\\t\\t\\t<tmx>20</tmx>\\r\\n\\t\\t\\t\\t\\t<reliability>높음</reliability>\\r\\n\\t\\t\\t\\t</data>\\r\\n\\r\\n\\t\\t\\t\\t\\r\\n\\t\\t\\t\\t<data>\\r\\n\\t\\t\\t\\t\\t<mode>A02</mode>\\r\\n\\t\\t\\t\\t\\t<tmEf>2019-04-20 00:00</tmEf>\\r\\n\\t\\t\\t\\t\\t<wf>맑음</wf>\\r\\n\\t\\t\\t\\t\\t<tmn>11</tmn>\\r\\n\\t\\t\\t\\t\\t<tmx>21</tmx>\\r\\n\\t\\t\\t\\t\\t<reliability>높음</reliability>\\r\\n\\t\\t\\t\\t</data>\\r\\n\\r\\n\\t\\t\\t\\t\\r\\n\\t\\t\\t\\t<data>\\r\\n\\t\\t\\t\\t\\t<mode>A02</mode>\\r\\n\\t\\t\\t\\t\\t<tmEf>2019-04-20 12:00</tmEf>\\r\\n\\t\\t\\t\\t\\t<wf>맑음</wf>\\r\\n\\t\\t\\t\\t\\t<tmn>11</tmn>\\r\\n\\t\\t\\t\\t\\t<tmx>21</tmx>\\r\\n\\t\\t\\t\\t\\t<reliability>높음</reliability>\\r\\n\\t\\t\\t\\t</data>\\r\\n\\r\\n\\t\\t\\t\\t\\r\\n\\t\\t\\t\\t<data>\\r\\n\\t\\t\\t\\t\\t<mode>A02</mode>\\r\\n\\t\\t\\t\\t\\t<tmEf>2019-04-21 00:00</tmEf>\\r\\n\\t\\t\\t\\t\\t<wf>흐림</wf>\\r\\n\\t\\t\\t\\t\\t<tmn>13</tmn>\\r\\n\\t\\t\\t\\t\\t<tmx>21</tmx>\\r\\n\\t\\t\\t\\t\\t<reliability>낮음</reliability>\\r\\n\\t\\t\\t\\t</data>\\r\\n\\r\\n\\t\\t\\t\\t\\r\\n\\t\\t\\t\\t<data>\\r\\n\\t\\t\\t\\t\\t<mode>A02</mode>\\r\\n\\t\\t\\t\\t\\t<tmEf>2019-04-21 12:00</tmEf>\\r\\n\\t\\t\\t\\t\\t<wf>흐림</wf>\\r\\n\\t\\t\\t\\t\\t<tmn>13</tmn>\\r\\n\\t\\t\\t\\t\\t<tmx>21</tmx>\\r\\n\\t\\t\\t\\t\\t<reliability>낮음</reliability>\\r\\n\\t\\t\\t\\t</data>\\r\\n\\r\\n\\t\\t\\t\\t\\r\\n\\t\\t\\t\\t<data>\\r\\n\\t\\t\\t\\t\\t<mode>A02</mode>\\r\\n\\t\\t\\t\\t\\t<tmEf>2019-04-22 00:00</tmEf>\\r\\n\\t\\t\\t\\t\\t<wf>구름많음</wf>\\r\\n\\t\\t\\t\\t\\t<tmn>13</tmn>\\r\\n\\t\\t\\t\\t\\t<tmx>21</tmx>\\r\\n\\t\\t\\t\\t\\t<reliability>보통</reliability>\\r\\n\\t\\t\\t\\t</data>\\r\\n\\r\\n\\t\\t\\t\\t\\r\\n\\t\\t\\t\\t<data>\\r\\n\\t\\t\\t\\t\\t<mode>A02</mode>\\r\\n\\t\\t\\t\\t\\t<tmEf>2019-04-22 12:00</tmEf>\\r\\n\\t\\t\\t\\t\\t<wf>구름많음</wf>\\r\\n\\t\\t\\t\\t\\t<tmn>13</tmn>\\r\\n\\t\\t\\t\\t\\t<tmx>21</tmx>\\r\\n\\t\\t\\t\\t\\t<reliability>보통</reliability>\\r\\n\\t\\t\\t\\t</data>\\r\\n\\r\\n\\t\\t\\t\\t\\r\\n\\t\\t\\t\\t<data>\\r\\n\\t\\t\\t\\t\\t<mode>A01</mode>\\r\\n\\t\\t\\t\\t\\t<tmEf>2019-04-23 00:00</tmEf>\\r\\n\\t\\t\\t\\t\\t<wf>맑음</wf>\\r\\n\\t\\t\\t\\t\\t<tmn>12</tmn>\\r\\n\\t\\t\\t\\t\\t<tmx>22</tmx>\\r\\n\\t\\t\\t\\t\\t<reliability>보통</reliability>\\r\\n\\t\\t\\t\\t</data>\\r\\n\\r\\n\\t\\t\\t\\t\\r\\n\\t\\t\\t\\t<data>\\r\\n\\t\\t\\t\\t\\t<mode>A01</mode>\\r\\n\\t\\t\\t\\t\\t<tmEf>2019-04-24 00:00</tmEf>\\r\\n\\t\\t\\t\\t\\t<wf>맑음</wf>\\r\\n\\t\\t\\t\\t\\t<tmn>12</tmn>\\r\\n\\t\\t\\t\\t\\t<tmx>22</tmx>\\r\\n\\t\\t\\t\\t\\t<reliability>보통</reliability>\\r\\n\\t\\t\\t\\t</data>\\r\\n\\r\\n\\t\\t\\t\\t\\r\\n\\t\\t\\t\\t<data>\\r\\n\\t\\t\\t\\t\\t<mode>A01</mode>\\r\\n\\t\\t\\t\\t\\t<tmEf>2019-04-25 00:00</tmEf>\\r\\n\\t\\t\\t\\t\\t<wf>구름많음</wf>\\r\\n\\t\\t\\t\\t\\t<tmn>12</tmn>\\r\\n\\t\\t\\t\\t\\t<tmx>22</tmx>\\r\\n\\t\\t\\t\\t\\t<reliability>보통</reliability>\\r\\n\\t\\t\\t\\t</data>\\r\\n\\r\\n\\r\\n\\t\\t</location>\\r\\n\\r\\n\\t\\t<location wl_ver=\"3\">\\r\\n\\t\\t\\t\\t<province>광주ㆍ전라남도</province>\\r\\n\\t\\t\\t\\t<city>나주</city>\\r\\n\\t\\t\\t\\t\\r\\n\\t\\t\\t\\t<data>\\r\\n\\t\\t\\t\\t\\t<mode>A02</mode>\\r\\n\\t\\t\\t\\t\\t<tmEf>2019-04-18 00:00</tmEf>\\r\\n\\t\\t\\t\\t\\t<wf>맑음</wf>\\r\\n\\t\\t\\t\\t\\t<tmn>10</tmn>\\r\\n\\t\\t\\t\\t\\t<tmx>23</tmx>\\r\\n\\t\\t\\t\\t\\t<reliability>높음</reliability>\\r\\n\\t\\t\\t\\t</data>\\r\\n\\r\\n\\t\\t\\t\\t\\r\\n\\t\\t\\t\\t<data>\\r\\n\\t\\t\\t\\t\\t<mode>A02</mode>\\r\\n\\t\\t\\t\\t\\t<tmEf>2019-04-18 12:00</tmEf>\\r\\n\\t\\t\\t\\t\\t<wf>맑음</wf>\\r\\n\\t\\t\\t\\t\\t<tmn>10</tmn>\\r\\n\\t\\t\\t\\t\\t<tmx>23</tmx>\\r\\n\\t\\t\\t\\t\\t<reliability>높음</reliability>\\r\\n\\t\\t\\t\\t</data>\\r\\n\\r\\n\\t\\t\\t\\t\\r\\n\\t\\t\\t\\t<data>\\r\\n\\t\\t\\t\\t\\t<mode>A02</mode>\\r\\n\\t\\t\\t\\t\\t<tmEf>2019-04-19 00:00</tmEf>\\r\\n\\t\\t\\t\\t\\t<wf>맑음</wf>\\r\\n\\t\\t\\t\\t\\t<tmn>10</tmn>\\r\\n\\t\\t\\t\\t\\t<tmx>22</tmx>\\r\\n\\t\\t\\t\\t\\t<reliability>높음</reliability>\\r\\n\\t\\t\\t\\t</data>\\r\\n\\r\\n\\t\\t\\t\\t\\r\\n\\t\\t\\t\\t<data>\\r\\n\\t\\t\\t\\t\\t<mode>A02</mode>\\r\\n\\t\\t\\t\\t\\t<tmEf>2019-04-19 12:00</tmEf>\\r\\n\\t\\t\\t\\t\\t<wf>맑음</wf>\\r\\n\\t\\t\\t\\t\\t<tmn>10</tmn>\\r\\n\\t\\t\\t\\t\\t<tmx>22</tmx>\\r\\n\\t\\t\\t\\t\\t<reliability>높음</reliability>\\r\\n\\t\\t\\t\\t</data>\\r\\n\\r\\n\\t\\t\\t\\t\\r\\n\\t\\t\\t\\t<data>\\r\\n\\t\\t\\t\\t\\t<mode>A02</mode>\\r\\n\\t\\t\\t\\t\\t<tmEf>2019-04-20 00:00</tmEf>\\r\\n\\t\\t\\t\\t\\t<wf>맑음</wf>\\r\\n\\t\\t\\t\\t\\t<tmn>9</tmn>\\r\\n\\t\\t\\t\\t\\t<tmx>23</tmx>\\r\\n\\t\\t\\t\\t\\t<reliability>높음</reliability>\\r\\n\\t\\t\\t\\t</data>\\r\\n\\r\\n\\t\\t\\t\\t\\r\\n\\t\\t\\t\\t<data>\\r\\n\\t\\t\\t\\t\\t<mode>A02</mode>\\r\\n\\t\\t\\t\\t\\t<tmEf>2019-04-20 12:00</tmEf>\\r\\n\\t\\t\\t\\t\\t<wf>맑음</wf>\\r\\n\\t\\t\\t\\t\\t<tmn>9</tmn>\\r\\n\\t\\t\\t\\t\\t<tmx>23</tmx>\\r\\n\\t\\t\\t\\t\\t<reliability>높음</reliability>\\r\\n\\t\\t\\t\\t</data>\\r\\n\\r\\n\\t\\t\\t\\t\\r\\n\\t\\t\\t\\t<data>\\r\\n\\t\\t\\t\\t\\t<mode>A02</mode>\\r\\n\\t\\t\\t\\t\\t<tmEf>2019-04-21 00:00</tmEf>\\r\\n\\t\\t\\t\\t\\t<wf>흐림</wf>\\r\\n\\t\\t\\t\\t\\t<tmn>10</tmn>\\r\\n\\t\\t\\t\\t\\t<tmx>21</tmx>\\r\\n\\t\\t\\t\\t\\t<reliability>낮음</reliability>\\r\\n\\t\\t\\t\\t</data>\\r\\n\\r\\n\\t\\t\\t\\t\\r\\n\\t\\t\\t\\t<data>\\r\\n\\t\\t\\t\\t\\t<mode>A02</mode>\\r\\n\\t\\t\\t\\t\\t<tmEf>2019-04-21 12:00</tmEf>\\r\\n\\t\\t\\t\\t\\t<wf>흐림</wf>\\r\\n\\t\\t\\t\\t\\t<tmn>10</tmn>\\r\\n\\t\\t\\t\\t\\t<tmx>21</tmx>\\r\\n\\t\\t\\t\\t\\t<reliability>낮음</reliability>\\r\\n\\t\\t\\t\\t</data>\\r\\n\\r\\n\\t\\t\\t\\t\\r\\n\\t\\t\\t\\t<data>\\r\\n\\t\\t\\t\\t\\t<mode>A02</mode>\\r\\n\\t\\t\\t\\t\\t<tmEf>2019-04-22 00:00</tmEf>\\r\\n\\t\\t\\t\\t\\t<wf>구름많음</wf>\\r\\n\\t\\t\\t\\t\\t<tmn>10</tmn>\\r\\n\\t\\t\\t\\t\\t<tmx>21</tmx>\\r\\n\\t\\t\\t\\t\\t<reliability>보통</reliability>\\r\\n\\t\\t\\t\\t</data>\\r\\n\\r\\n\\t\\t\\t\\t\\r\\n\\t\\t\\t\\t<data>\\r\\n\\t\\t\\t\\t\\t<mode>A02</mode>\\r\\n\\t\\t\\t\\t\\t<tmEf>2019-04-22 12:00</tmEf>\\r\\n\\t\\t\\t\\t\\t<wf>구름많음</wf>\\r\\n\\t\\t\\t\\t\\t<tmn>10</tmn>\\r\\n\\t\\t\\t\\t\\t<tmx>21</tmx>\\r\\n\\t\\t\\t\\t\\t<reliability>보통</reliability>\\r\\n\\t\\t\\t\\t</data>\\r\\n\\r\\n\\t\\t\\t\\t\\r\\n\\t\\t\\t\\t<data>\\r\\n\\t\\t\\t\\t\\t<mode>A01</mode>\\r\\n\\t\\t\\t\\t\\t<tmEf>2019-04-23 00:00</tmEf>\\r\\n\\t\\t\\t\\t\\t<wf>맑음</wf>\\r\\n\\t\\t\\t\\t\\t<tmn>9</tmn>\\r\\n\\t\\t\\t\\t\\t<tmx>22</tmx>\\r\\n\\t\\t\\t\\t\\t<reliability>보통</reliability>\\r\\n\\t\\t\\t\\t</data>\\r\\n\\r\\n\\t\\t\\t\\t\\r\\n\\t\\t\\t\\t<data>\\r\\n\\t\\t\\t\\t\\t<mode>A01</mode>\\r\\n\\t\\t\\t\\t\\t<tmEf>2019-04-24 00:00</tmEf>\\r\\n\\t\\t\\t\\t\\t<wf>맑음</wf>\\r\\n\\t\\t\\t\\t\\t<tmn>9</tmn>\\r\\n\\t\\t\\t\\t\\t<tmx>22</tmx>\\r\\n\\t\\t\\t\\t\\t<reliability>보통</reliability>\\r\\n\\t\\t\\t\\t</data>\\r\\n\\r\\n\\t\\t\\t\\t\\r\\n\\t\\t\\t\\t<data>\\r\\n\\t\\t\\t\\t\\t<mode>A01</mode>\\r\\n\\t\\t\\t\\t\\t<tmEf>2019-04-25 00:00</tmEf>\\r\\n\\t\\t\\t\\t\\t<wf>구름많음</wf>\\r\\n\\t\\t\\t\\t\\t<tmn>9</tmn>\\r\\n\\t\\t\\t\\t\\t<tmx>21</tmx>\\r\\n\\t\\t\\t\\t\\t<reliability>보통</reliability>\\r\\n\\t\\t\\t\\t</data>\\r\\n\\r\\n\\r\\n\\t\\t</location>\\r\\n\\r\\n\\t\\t<location wl_ver=\"3\">\\r\\n\\t\\t\\t\\t<province>광주ㆍ전라남도</province>\\r\\n\\t\\t\\t\\t<city>완도</city>\\r\\n\\t\\t\\t\\t\\r\\n\\t\\t\\t\\t<data>\\r\\n\\t\\t\\t\\t\\t<mode>A02</mode>\\r\\n\\t\\t\\t\\t\\t<tmEf>2019-04-18 00:00</tmEf>\\r\\n\\t\\t\\t\\t\\t<wf>맑음</wf>\\r\\n\\t\\t\\t\\t\\t<tmn>12</tmn>\\r\\n\\t\\t\\t\\t\\t<tmx>22</tmx>\\r\\n\\t\\t\\t\\t\\t<reliability>높음</reliability>\\r\\n\\t\\t\\t\\t</data>\\r\\n\\r\\n\\t\\t\\t\\t\\r\\n\\t\\t\\t\\t<data>\\r\\n\\t\\t\\t\\t\\t<mode>A02</mode>\\r\\n\\t\\t\\t\\t\\t<tmEf>2019-04-18 12:00</tmEf>\\r\\n\\t\\t\\t\\t\\t<wf>맑음</wf>\\r\\n\\t\\t\\t\\t\\t<tmn>12</tmn>\\r\\n\\t\\t\\t\\t\\t<tmx>22</tmx>\\r\\n\\t\\t\\t\\t\\t<reliability>높음</reliability>\\r\\n\\t\\t\\t\\t</data>\\r\\n\\r\\n\\t\\t\\t\\t\\r\\n\\t\\t\\t\\t<data>\\r\\n\\t\\t\\t\\t\\t<mode>A02</mode>\\r\\n\\t\\t\\t\\t\\t<tmEf>2019-04-19 00:00</tmEf>\\r\\n\\t\\t\\t\\t\\t<wf>맑음</wf>\\r\\n\\t\\t\\t\\t\\t<tmn>11</tmn>\\r\\n\\t\\t\\t\\t\\t<tmx>18</tmx>\\r\\n\\t\\t\\t\\t\\t<reliability>높음</reliability>\\r\\n\\t\\t\\t\\t</data>\\r\\n\\r\\n\\t\\t\\t\\t\\r\\n\\t\\t\\t\\t<data>\\r\\n\\t\\t\\t\\t\\t<mode>A02</mode>\\r\\n\\t\\t\\t\\t\\t<tmEf>2019-04-19 12:00</tmEf>\\r\\n\\t\\t\\t\\t\\t<wf>맑음</wf>\\r\\n\\t\\t\\t\\t\\t<tmn>11</tmn>\\r\\n\\t\\t\\t\\t\\t<tmx>18</tmx>\\r\\n\\t\\t\\t\\t\\t<reliability>높음</reliability>\\r\\n\\t\\t\\t\\t</data>\\r\\n\\r\\n\\t\\t\\t\\t\\r\\n\\t\\t\\t\\t<data>\\r\\n\\t\\t\\t\\t\\t<mode>A02</mode>\\r\\n\\t\\t\\t\\t\\t<tmEf>2019-04-20 00:00</tmEf>\\r\\n\\t\\t\\t\\t\\t<wf>맑음</wf>\\r\\n\\t\\t\\t\\t\\t<tmn>11</tmn>\\r\\n\\t\\t\\t\\t\\t<tmx>21</tmx>\\r\\n\\t\\t\\t\\t\\t<reliability>높음</reliability>\\r\\n\\t\\t\\t\\t</data>\\r\\n\\r\\n\\t\\t\\t\\t\\r\\n\\t\\t\\t\\t<data>\\r\\n\\t\\t\\t\\t\\t<mode>A02</mode>\\r\\n\\t\\t\\t\\t\\t<tmEf>2019-04-20 12:00</tmEf>\\r\\n\\t\\t\\t\\t\\t<wf>맑음</wf>\\r\\n\\t\\t\\t\\t\\t<tmn>11</tmn>\\r\\n\\t\\t\\t\\t\\t<tmx>21</tmx>\\r\\n\\t\\t\\t\\t\\t<reliability>높음</reliability>\\r\\n\\t\\t\\t\\t</data>\\r\\n\\r\\n\\t\\t\\t\\t\\r\\n\\t\\t\\t\\t<data>\\r\\n\\t\\t\\t\\t\\t<mode>A02</mode>\\r\\n\\t\\t\\t\\t\\t<tmEf>2019-04-21 00:00</tmEf>\\r\\n\\t\\t\\t\\t\\t<wf>흐림</wf>\\r\\n\\t\\t\\t\\t\\t<tmn>12</tmn>\\r\\n\\t\\t\\t\\t\\t<tmx>21</tmx>\\r\\n\\t\\t\\t\\t\\t<reliability>낮음</reliability>\\r\\n\\t\\t\\t\\t</data>\\r\\n\\r\\n\\t\\t\\t\\t\\r\\n\\t\\t\\t\\t<data>\\r\\n\\t\\t\\t\\t\\t<mode>A02</mode>\\r\\n\\t\\t\\t\\t\\t<tmEf>2019-04-21 12:00</tmEf>\\r\\n\\t\\t\\t\\t\\t<wf>흐림</wf>\\r\\n\\t\\t\\t\\t\\t<tmn>12</tmn>\\r\\n\\t\\t\\t\\t\\t<tmx>21</tmx>\\r\\n\\t\\t\\t\\t\\t<reliability>낮음</reliability>\\r\\n\\t\\t\\t\\t</data>\\r\\n\\r\\n\\t\\t\\t\\t\\r\\n\\t\\t\\t\\t<data>\\r\\n\\t\\t\\t\\t\\t<mode>A02</mode>\\r\\n\\t\\t\\t\\t\\t<tmEf>2019-04-22 00:00</tmEf>\\r\\n\\t\\t\\t\\t\\t<wf>구름많음</wf>\\r\\n\\t\\t\\t\\t\\t<tmn>14</tmn>\\r\\n\\t\\t\\t\\t\\t<tmx>20</tmx>\\r\\n\\t\\t\\t\\t\\t<reliability>보통</reliability>\\r\\n\\t\\t\\t\\t</data>\\r\\n\\r\\n\\t\\t\\t\\t\\r\\n\\t\\t\\t\\t<data>\\r\\n\\t\\t\\t\\t\\t<mode>A02</mode>\\r\\n\\t\\t\\t\\t\\t<tmEf>2019-04-22 12:00</tmEf>\\r\\n\\t\\t\\t\\t\\t<wf>구름많음</wf>\\r\\n\\t\\t\\t\\t\\t<tmn>14</tmn>\\r\\n\\t\\t\\t\\t\\t<tmx>20</tmx>\\r\\n\\t\\t\\t\\t\\t<reliability>보통</reliability>\\r\\n\\t\\t\\t\\t</data>\\r\\n\\r\\n\\t\\t\\t\\t\\r\\n\\t\\t\\t\\t<data>\\r\\n\\t\\t\\t\\t\\t<mode>A01</mode>\\r\\n\\t\\t\\t\\t\\t<tmEf>2019-04-23 00:00</tmEf>\\r\\n\\t\\t\\t\\t\\t<wf>맑음</wf>\\r\\n\\t\\t\\t\\t\\t<tmn>12</tmn>\\r\\n\\t\\t\\t\\t\\t<tmx>21</tmx>\\r\\n\\t\\t\\t\\t\\t<reliability>보통</reliability>\\r\\n\\t\\t\\t\\t</data>\\r\\n\\r\\n\\t\\t\\t\\t\\r\\n\\t\\t\\t\\t<data>\\r\\n\\t\\t\\t\\t\\t<mode>A01</mode>\\r\\n\\t\\t\\t\\t\\t<tmEf>2019-04-24 00:00</tmEf>\\r\\n\\t\\t\\t\\t\\t<wf>맑음</wf>\\r\\n\\t\\t\\t\\t\\t<tmn>11</tmn>\\r\\n\\t\\t\\t\\t\\t<tmx>22</tmx>\\r\\n\\t\\t\\t\\t\\t<reliability>보통</reliability>\\r\\n\\t\\t\\t\\t</data>\\r\\n\\r\\n\\t\\t\\t\\t\\r\\n\\t\\t\\t\\t<data>\\r\\n\\t\\t\\t\\t\\t<mode>A01</mode>\\r\\n\\t\\t\\t\\t\\t<tmEf>2019-04-25 00:00</tmEf>\\r\\n\\t\\t\\t\\t\\t<wf>구름많음</wf>\\r\\n\\t\\t\\t\\t\\t<tmn>11</tmn>\\r\\n\\t\\t\\t\\t\\t<tmx>21</tmx>\\r\\n\\t\\t\\t\\t\\t<reliability>보통</reliability>\\r\\n\\t\\t\\t\\t</data>\\r\\n\\r\\n\\r\\n\\t\\t</location>\\r\\n\\r\\n\\t\\t<location wl_ver=\"3\">\\r\\n\\t\\t\\t\\t<province>광주ㆍ전라남도</province>\\r\\n\\t\\t\\t\\t<city>해남</city>\\r\\n\\t\\t\\t\\t\\r\\n\\t\\t\\t\\t<data>\\r\\n\\t\\t\\t\\t\\t<mode>A02</mode>\\r\\n\\t\\t\\t\\t\\t<tmEf>2019-04-18 00:00</tmEf>\\r\\n\\t\\t\\t\\t\\t<wf>맑음</wf>\\r\\n\\t\\t\\t\\t\\t<tmn>9</tmn>\\r\\n\\t\\t\\t\\t\\t<tmx>21</tmx>\\r\\n\\t\\t\\t\\t\\t<reliability>높음</reliability>\\r\\n\\t\\t\\t\\t</data>\\r\\n\\r\\n\\t\\t\\t\\t\\r\\n\\t\\t\\t\\t<data>\\r\\n\\t\\t\\t\\t\\t<mode>A02</mode>\\r\\n\\t\\t\\t\\t\\t<tmEf>2019-04-18 12:00</tmEf>\\r\\n\\t\\t\\t\\t\\t<wf>맑음</wf>\\r\\n\\t\\t\\t\\t\\t<tmn>9</tmn>\\r\\n\\t\\t\\t\\t\\t<tmx>21</tmx>\\r\\n\\t\\t\\t\\t\\t<reliability>높음</reliability>\\r\\n\\t\\t\\t\\t</data>\\r\\n\\r\\n\\t\\t\\t\\t\\r\\n\\t\\t\\t\\t<data>\\r\\n\\t\\t\\t\\t\\t<mode>A02</mode>\\r\\n\\t\\t\\t\\t\\t<tmEf>2019-04-19 00:00</tmEf>\\r\\n\\t\\t\\t\\t\\t<wf>맑음</wf>\\r\\n\\t\\t\\t\\t\\t<tmn>8</tmn>\\r\\n\\t\\t\\t\\t\\t<tmx>19</tmx>\\r\\n\\t\\t\\t\\t\\t<reliability>높음</reliability>\\r\\n\\t\\t\\t\\t</data>\\r\\n\\r\\n\\t\\t\\t\\t\\r\\n\\t\\t\\t\\t<data>\\r\\n\\t\\t\\t\\t\\t<mode>A02</mode>\\r\\n\\t\\t\\t\\t\\t<tmEf>2019-04-19 12:00</tmEf>\\r\\n\\t\\t\\t\\t\\t<wf>맑음</wf>\\r\\n\\t\\t\\t\\t\\t<tmn>8</tmn>\\r\\n\\t\\t\\t\\t\\t<tmx>19</tmx>\\r\\n\\t\\t\\t\\t\\t<reliability>높음</reliability>\\r\\n\\t\\t\\t\\t</data>\\r\\n\\r\\n\\t\\t\\t\\t\\r\\n\\t\\t\\t\\t<data>\\r\\n\\t\\t\\t\\t\\t<mode>A02</mode>\\r\\n\\t\\t\\t\\t\\t<tmEf>2019-04-20 00:00</tmEf>\\r\\n\\t\\t\\t\\t\\t<wf>맑음</wf>\\r\\n\\t\\t\\t\\t\\t<tmn>8</tmn>\\r\\n\\t\\t\\t\\t\\t<tmx>21</tmx>\\r\\n\\t\\t\\t\\t\\t<reliability>높음</reliability>\\r\\n\\t\\t\\t\\t</data>\\r\\n\\r\\n\\t\\t\\t\\t\\r\\n\\t\\t\\t\\t<data>\\r\\n\\t\\t\\t\\t\\t<mode>A02</mode>\\r\\n\\t\\t\\t\\t\\t<tmEf>2019-04-20 12:00</tmEf>\\r\\n\\t\\t\\t\\t\\t<wf>맑음</wf>\\r\\n\\t\\t\\t\\t\\t<tmn>8</tmn>\\r\\n\\t\\t\\t\\t\\t<tmx>21</tmx>\\r\\n\\t\\t\\t\\t\\t<reliability>높음</reliability>\\r\\n\\t\\t\\t\\t</data>\\r\\n\\r\\n\\t\\t\\t\\t\\r\\n\\t\\t\\t\\t<data>\\r\\n\\t\\t\\t\\t\\t<mode>A02</mode>\\r\\n\\t\\t\\t\\t\\t<tmEf>2019-04-21 00:00</tmEf>\\r\\n\\t\\t\\t\\t\\t<wf>흐림</wf>\\r\\n\\t\\t\\t\\t\\t<tmn>9</tmn>\\r\\n\\t\\t\\t\\t\\t<tmx>21</tmx>\\r\\n\\t\\t\\t\\t\\t<reliability>낮음</reliability>\\r\\n\\t\\t\\t\\t</data>\\r\\n\\r\\n\\t\\t\\t\\t\\r\\n\\t\\t\\t\\t<data>\\r\\n\\t\\t\\t\\t\\t<mode>A02</mode>\\r\\n\\t\\t\\t\\t\\t<tmEf>2019-04-21 12:00</tmEf>\\r\\n\\t\\t\\t\\t\\t<wf>흐림</wf>\\r\\n\\t\\t\\t\\t\\t<tmn>9</tmn>\\r\\n\\t\\t\\t\\t\\t<tmx>21</tmx>\\r\\n\\t\\t\\t\\t\\t<reliability>낮음</reliability>\\r\\n\\t\\t\\t\\t</data>\\r\\n\\r\\n\\t\\t\\t\\t\\r\\n\\t\\t\\t\\t<data>\\r\\n\\t\\t\\t\\t\\t<mode>A02</mode>\\r\\n\\t\\t\\t\\t\\t<tmEf>2019-04-22 00:00</tmEf>\\r\\n\\t\\t\\t\\t\\t<wf>구름많음</wf>\\r\\n\\t\\t\\t\\t\\t<tmn>11</tmn>\\r\\n\\t\\t\\t\\t\\t<tmx>21</tmx>\\r\\n\\t\\t\\t\\t\\t<reliability>보통</reliability>\\r\\n\\t\\t\\t\\t</data>\\r\\n\\r\\n\\t\\t\\t\\t\\r\\n\\t\\t\\t\\t<data>\\r\\n\\t\\t\\t\\t\\t<mode>A02</mode>\\r\\n\\t\\t\\t\\t\\t<tmEf>2019-04-22 12:00</tmEf>\\r\\n\\t\\t\\t\\t\\t<wf>구름많음</wf>\\r\\n\\t\\t\\t\\t\\t<tmn>11</tmn>\\r\\n\\t\\t\\t\\t\\t<tmx>21</tmx>\\r\\n\\t\\t\\t\\t\\t<reliability>보통</reliability>\\r\\n\\t\\t\\t\\t</data>\\r\\n\\r\\n\\t\\t\\t\\t\\r\\n\\t\\t\\t\\t<data>\\r\\n\\t\\t\\t\\t\\t<mode>A01</mode>\\r\\n\\t\\t\\t\\t\\t<tmEf>2019-04-23 00:00</tmEf>\\r\\n\\t\\t\\t\\t\\t<wf>맑음</wf>\\r\\n\\t\\t\\t\\t\\t<tmn>10</tmn>\\r\\n\\t\\t\\t\\t\\t<tmx>21</tmx>\\r\\n\\t\\t\\t\\t\\t<reliability>보통</reliability>\\r\\n\\t\\t\\t\\t</data>\\r\\n\\r\\n\\t\\t\\t\\t\\r\\n\\t\\t\\t\\t<data>\\r\\n\\t\\t\\t\\t\\t<mode>A01</mode>\\r\\n\\t\\t\\t\\t\\t<tmEf>2019-04-24 00:00</tmEf>\\r\\n\\t\\t\\t\\t\\t<wf>맑음</wf>\\r\\n\\t\\t\\t\\t\\t<tmn>9</tmn>\\r\\n\\t\\t\\t\\t\\t<tmx>21</tmx>\\r\\n\\t\\t\\t\\t\\t<reliability>보통</reliability>\\r\\n\\t\\t\\t\\t</data>\\r\\n\\r\\n\\t\\t\\t\\t\\r\\n\\t\\t\\t\\t<data>\\r\\n\\t\\t\\t\\t\\t<mode>A01</mode>\\r\\n\\t\\t\\t\\t\\t<tmEf>2019-04-25 00:00</tmEf>\\r\\n\\t\\t\\t\\t\\t<wf>구름많음</wf>\\r\\n\\t\\t\\t\\t\\t<tmn>8</tmn>\\r\\n\\t\\t\\t\\t\\t<tmx>20</tmx>\\r\\n\\t\\t\\t\\t\\t<reliability>보통</reliability>\\r\\n\\t\\t\\t\\t</data>\\r\\n\\r\\n\\r\\n\\t\\t</location>\\r\\n\\r\\n\\t\\t<location wl_ver=\"3\">\\r\\n\\t\\t\\t\\t<province>광주ㆍ전라남도</province>\\r\\n\\t\\t\\t\\t<city>강진</city>\\r\\n\\t\\t\\t\\t\\r\\n\\t\\t\\t\\t<data>\\r\\n\\t\\t\\t\\t\\t<mode>A02</mode>\\r\\n\\t\\t\\t\\t\\t<tmEf>2019-04-18 00:00</tmEf>\\r\\n\\t\\t\\t\\t\\t<wf>맑음</wf>\\r\\n\\t\\t\\t\\t\\t<tmn>9</tmn>\\r\\n\\t\\t\\t\\t\\t<tmx>23</tmx>\\r\\n\\t\\t\\t\\t\\t<reliability>높음</reliability>\\r\\n\\t\\t\\t\\t</data>\\r\\n\\r\\n\\t\\t\\t\\t\\r\\n\\t\\t\\t\\t<data>\\r\\n\\t\\t\\t\\t\\t<mode>A02</mode>\\r\\n\\t\\t\\t\\t\\t<tmEf>2019-04-18 12:00</tmEf>\\r\\n\\t\\t\\t\\t\\t<wf>맑음</wf>\\r\\n\\t\\t\\t\\t\\t<tmn>9</tmn>\\r\\n\\t\\t\\t\\t\\t<tmx>23</tmx>\\r\\n\\t\\t\\t\\t\\t<reliability>높음</reliability>\\r\\n\\t\\t\\t\\t</data>\\r\\n\\r\\n\\t\\t\\t\\t\\r\\n\\t\\t\\t\\t<data>\\r\\n\\t\\t\\t\\t\\t<mode>A02</mode>\\r\\n\\t\\t\\t\\t\\t<tmEf>2019-04-19 00:00</tmEf>\\r\\n\\t\\t\\t\\t\\t<wf>맑음</wf>\\r\\n\\t\\t\\t\\t\\t<tmn>9</tmn>\\r\\n\\t\\t\\t\\t\\t<tmx>19</tmx>\\r\\n\\t\\t\\t\\t\\t<reliability>높음</reliability>\\r\\n\\t\\t\\t\\t</data>\\r\\n\\r\\n\\t\\t\\t\\t\\r\\n\\t\\t\\t\\t<data>\\r\\n\\t\\t\\t\\t\\t<mode>A02</mode>\\r\\n\\t\\t\\t\\t\\t<tmEf>2019-04-19 12:00</tmEf>\\r\\n\\t\\t\\t\\t\\t<wf>맑음</wf>\\r\\n\\t\\t\\t\\t\\t<tmn>9</tmn>\\r\\n\\t\\t\\t\\t\\t<tmx>19</tmx>\\r\\n\\t\\t\\t\\t\\t<reliability>높음</reliability>\\r\\n\\t\\t\\t\\t</data>\\r\\n\\r\\n\\t\\t\\t\\t\\r\\n\\t\\t\\t\\t<data>\\r\\n\\t\\t\\t\\t\\t<mode>A02</mode>\\r\\n\\t\\t\\t\\t\\t<tmEf>2019-04-20 00:00</tmEf>\\r\\n\\t\\t\\t\\t\\t<wf>맑음</wf>\\r\\n\\t\\t\\t\\t\\t<tmn>8</tmn>\\r\\n\\t\\t\\t\\t\\t<tmx>21</tmx>\\r\\n\\t\\t\\t\\t\\t<reliability>높음</reliability>\\r\\n\\t\\t\\t\\t</data>\\r\\n\\r\\n\\t\\t\\t\\t\\r\\n\\t\\t\\t\\t<data>\\r\\n\\t\\t\\t\\t\\t<mode>A02</mode>\\r\\n\\t\\t\\t\\t\\t<tmEf>2019-04-20 12:00</tmEf>\\r\\n\\t\\t\\t\\t\\t<wf>맑음</wf>\\r\\n\\t\\t\\t\\t\\t<tmn>8</tmn>\\r\\n\\t\\t\\t\\t\\t<tmx>21</tmx>\\r\\n\\t\\t\\t\\t\\t<reliability>높음</reliability>\\r\\n\\t\\t\\t\\t</data>\\r\\n\\r\\n\\t\\t\\t\\t\\r\\n\\t\\t\\t\\t<data>\\r\\n\\t\\t\\t\\t\\t<mode>A02</mode>\\r\\n\\t\\t\\t\\t\\t<tmEf>2019-04-21 00:00</tmEf>\\r\\n\\t\\t\\t\\t\\t<wf>흐림</wf>\\r\\n\\t\\t\\t\\t\\t<tmn>10</tmn>\\r\\n\\t\\t\\t\\t\\t<tmx>21</tmx>\\r\\n\\t\\t\\t\\t\\t<reliability>낮음</reliability>\\r\\n\\t\\t\\t\\t</data>\\r\\n\\r\\n\\t\\t\\t\\t\\r\\n\\t\\t\\t\\t<data>\\r\\n\\t\\t\\t\\t\\t<mode>A02</mode>\\r\\n\\t\\t\\t\\t\\t<tmEf>2019-04-21 12:00</tmEf>\\r\\n\\t\\t\\t\\t\\t<wf>흐림</wf>\\r\\n\\t\\t\\t\\t\\t<tmn>10</tmn>\\r\\n\\t\\t\\t\\t\\t<tmx>21</tmx>\\r\\n\\t\\t\\t\\t\\t<reliability>낮음</reliability>\\r\\n\\t\\t\\t\\t</data>\\r\\n\\r\\n\\t\\t\\t\\t\\r\\n\\t\\t\\t\\t<data>\\r\\n\\t\\t\\t\\t\\t<mode>A02</mode>\\r\\n\\t\\t\\t\\t\\t<tmEf>2019-04-22 00:00</tmEf>\\r\\n\\t\\t\\t\\t\\t<wf>구름많음</wf>\\r\\n\\t\\t\\t\\t\\t<tmn>13</tmn>\\r\\n\\t\\t\\t\\t\\t<tmx>21</tmx>\\r\\n\\t\\t\\t\\t\\t<reliability>보통</reliability>\\r\\n\\t\\t\\t\\t</data>\\r\\n\\r\\n\\t\\t\\t\\t\\r\\n\\t\\t\\t\\t<data>\\r\\n\\t\\t\\t\\t\\t<mode>A02</mode>\\r\\n\\t\\t\\t\\t\\t<tmEf>2019-04-22 12:00</tmEf>\\r\\n\\t\\t\\t\\t\\t<wf>구름많음</wf>\\r\\n\\t\\t\\t\\t\\t<tmn>13</tmn>\\r\\n\\t\\t\\t\\t\\t<tmx>21</tmx>\\r\\n\\t\\t\\t\\t\\t<reliability>보통</reliability>\\r\\n\\t\\t\\t\\t</data>\\r\\n\\r\\n\\t\\t\\t\\t\\r\\n\\t\\t\\t\\t<data>\\r\\n\\t\\t\\t\\t\\t<mode>A01</mode>\\r\\n\\t\\t\\t\\t\\t<tmEf>2019-04-23 00:00</tmEf>\\r\\n\\t\\t\\t\\t\\t<wf>맑음</wf>\\r\\n\\t\\t\\t\\t\\t<tmn>11</tmn>\\r\\n\\t\\t\\t\\t\\t<tmx>22</tmx>\\r\\n\\t\\t\\t\\t\\t<reliability>보통</reliability>\\r\\n\\t\\t\\t\\t</data>\\r\\n\\r\\n\\t\\t\\t\\t\\r\\n\\t\\t\\t\\t<data>\\r\\n\\t\\t\\t\\t\\t<mode>A01</mode>\\r\\n\\t\\t\\t\\t\\t<tmEf>2019-04-24 00:00</tmEf>\\r\\n\\t\\t\\t\\t\\t<wf>맑음</wf>\\r\\n\\t\\t\\t\\t\\t<tmn>10</tmn>\\r\\n\\t\\t\\t\\t\\t<tmx>23</tmx>\\r\\n\\t\\t\\t\\t\\t<reliability>보통</reliability>\\r\\n\\t\\t\\t\\t</data>\\r\\n\\r\\n\\t\\t\\t\\t\\r\\n\\t\\t\\t\\t<data>\\r\\n\\t\\t\\t\\t\\t<mode>A01</mode>\\r\\n\\t\\t\\t\\t\\t<tmEf>2019-04-25 00:00</tmEf>\\r\\n\\t\\t\\t\\t\\t<wf>구름많음</wf>\\r\\n\\t\\t\\t\\t\\t<tmn>10</tmn>\\r\\n\\t\\t\\t\\t\\t<tmx>21</tmx>\\r\\n\\t\\t\\t\\t\\t<reliability>보통</reliability>\\r\\n\\t\\t\\t\\t</data>\\r\\n\\r\\n\\r\\n\\t\\t</location>\\r\\n\\r\\n\\t\\t<location wl_ver=\"3\">\\r\\n\\t\\t\\t\\t<province>광주ㆍ전라남도</province>\\r\\n\\t\\t\\t\\t<city>장흥</city>\\r\\n\\t\\t\\t\\t\\r\\n\\t\\t\\t\\t<data>\\r\\n\\t\\t\\t\\t\\t<mode>A02</mode>\\r\\n\\t\\t\\t\\t\\t<tmEf>2019-04-18 00:00</tmEf>\\r\\n\\t\\t\\t\\t\\t<wf>맑음</wf>\\r\\n\\t\\t\\t\\t\\t<tmn>9</tmn>\\r\\n\\t\\t\\t\\t\\t<tmx>23</tmx>\\r\\n\\t\\t\\t\\t\\t<reliability>높음</reliability>\\r\\n\\t\\t\\t\\t</data>\\r\\n\\r\\n\\t\\t\\t\\t\\r\\n\\t\\t\\t\\t<data>\\r\\n\\t\\t\\t\\t\\t<mode>A02</mode>\\r\\n\\t\\t\\t\\t\\t<tmEf>2019-04-18 12:00</tmEf>\\r\\n\\t\\t\\t\\t\\t<wf>맑음</wf>\\r\\n\\t\\t\\t\\t\\t<tmn>9</tmn>\\r\\n\\t\\t\\t\\t\\t<tmx>23</tmx>\\r\\n\\t\\t\\t\\t\\t<reliability>높음</reliability>\\r\\n\\t\\t\\t\\t</data>\\r\\n\\r\\n\\t\\t\\t\\t\\r\\n\\t\\t\\t\\t<data>\\r\\n\\t\\t\\t\\t\\t<mode>A02</mode>\\r\\n\\t\\t\\t\\t\\t<tmEf>2019-04-19 00:00</tmEf>\\r\\n\\t\\t\\t\\t\\t<wf>맑음</wf>\\r\\n\\t\\t\\t\\t\\t<tmn>9</tmn>\\r\\n\\t\\t\\t\\t\\t<tmx>19</tmx>\\r\\n\\t\\t\\t\\t\\t<reliability>높음</reliability>\\r\\n\\t\\t\\t\\t</data>\\r\\n\\r\\n\\t\\t\\t\\t\\r\\n\\t\\t\\t\\t<data>\\r\\n\\t\\t\\t\\t\\t<mode>A02</mode>\\r\\n\\t\\t\\t\\t\\t<tmEf>2019-04-19 12:00</tmEf>\\r\\n\\t\\t\\t\\t\\t<wf>맑음</wf>\\r\\n\\t\\t\\t\\t\\t<tmn>9</tmn>\\r\\n\\t\\t\\t\\t\\t<tmx>19</tmx>\\r\\n\\t\\t\\t\\t\\t<reliability>높음</reliability>\\r\\n\\t\\t\\t\\t</data>\\r\\n\\r\\n\\t\\t\\t\\t\\r\\n\\t\\t\\t\\t<data>\\r\\n\\t\\t\\t\\t\\t<mode>A02</mode>\\r\\n\\t\\t\\t\\t\\t<tmEf>2019-04-20 00:00</tmEf>\\r\\n\\t\\t\\t\\t\\t<wf>맑음</wf>\\r\\n\\t\\t\\t\\t\\t<tmn>8</tmn>\\r\\n\\t\\t\\t\\t\\t<tmx>21</tmx>\\r\\n\\t\\t\\t\\t\\t<reliability>높음</reliability>\\r\\n\\t\\t\\t\\t</data>\\r\\n\\r\\n\\t\\t\\t\\t\\r\\n\\t\\t\\t\\t<data>\\r\\n\\t\\t\\t\\t\\t<mode>A02</mode>\\r\\n\\t\\t\\t\\t\\t<tmEf>2019-04-20 12:00</tmEf>\\r\\n\\t\\t\\t\\t\\t<wf>맑음</wf>\\r\\n\\t\\t\\t\\t\\t<tmn>8</tmn>\\r\\n\\t\\t\\t\\t\\t<tmx>21</tmx>\\r\\n\\t\\t\\t\\t\\t<reliability>높음</reliability>\\r\\n\\t\\t\\t\\t</data>\\r\\n\\r\\n\\t\\t\\t\\t\\r\\n\\t\\t\\t\\t<data>\\r\\n\\t\\t\\t\\t\\t<mode>A02</mode>\\r\\n\\t\\t\\t\\t\\t<tmEf>2019-04-21 00:00</tmEf>\\r\\n\\t\\t\\t\\t\\t<wf>흐림</wf>\\r\\n\\t\\t\\t\\t\\t<tmn>10</tmn>\\r\\n\\t\\t\\t\\t\\t<tmx>21</tmx>\\r\\n\\t\\t\\t\\t\\t<reliability>낮음</reliability>\\r\\n\\t\\t\\t\\t</data>\\r\\n\\r\\n\\t\\t\\t\\t\\r\\n\\t\\t\\t\\t<data>\\r\\n\\t\\t\\t\\t\\t<mode>A02</mode>\\r\\n\\t\\t\\t\\t\\t<tmEf>2019-04-21 12:00</tmEf>\\r\\n\\t\\t\\t\\t\\t<wf>흐림</wf>\\r\\n\\t\\t\\t\\t\\t<tmn>10</tmn>\\r\\n\\t\\t\\t\\t\\t<tmx>21</tmx>\\r\\n\\t\\t\\t\\t\\t<reliability>낮음</reliability>\\r\\n\\t\\t\\t\\t</data>\\r\\n\\r\\n\\t\\t\\t\\t\\r\\n\\t\\t\\t\\t<data>\\r\\n\\t\\t\\t\\t\\t<mode>A02</mode>\\r\\n\\t\\t\\t\\t\\t<tmEf>2019-04-22 00:00</tmEf>\\r\\n\\t\\t\\t\\t\\t<wf>구름많음</wf>\\r\\n\\t\\t\\t\\t\\t<tmn>12</tmn>\\r\\n\\t\\t\\t\\t\\t<tmx>21</tmx>\\r\\n\\t\\t\\t\\t\\t<reliability>보통</reliability>\\r\\n\\t\\t\\t\\t</data>\\r\\n\\r\\n\\t\\t\\t\\t\\r\\n\\t\\t\\t\\t<data>\\r\\n\\t\\t\\t\\t\\t<mode>A02</mode>\\r\\n\\t\\t\\t\\t\\t<tmEf>2019-04-22 12:00</tmEf>\\r\\n\\t\\t\\t\\t\\t<wf>구름많음</wf>\\r\\n\\t\\t\\t\\t\\t<tmn>12</tmn>\\r\\n\\t\\t\\t\\t\\t<tmx>21</tmx>\\r\\n\\t\\t\\t\\t\\t<reliability>보통</reliability>\\r\\n\\t\\t\\t\\t</data>\\r\\n\\r\\n\\t\\t\\t\\t\\r\\n\\t\\t\\t\\t<data>\\r\\n\\t\\t\\t\\t\\t<mode>A01</mode>\\r\\n\\t\\t\\t\\t\\t<tmEf>2019-04-23 00:00</tmEf>\\r\\n\\t\\t\\t\\t\\t<wf>맑음</wf>\\r\\n\\t\\t\\t\\t\\t<tmn>11</tmn>\\r\\n\\t\\t\\t\\t\\t<tmx>22</tmx>\\r\\n\\t\\t\\t\\t\\t<reliability>보통</reliability>\\r\\n\\t\\t\\t\\t</data>\\r\\n\\r\\n\\t\\t\\t\\t\\r\\n\\t\\t\\t\\t<data>\\r\\n\\t\\t\\t\\t\\t<mode>A01</mode>\\r\\n\\t\\t\\t\\t\\t<tmEf>2019-04-24 00:00</tmEf>\\r\\n\\t\\t\\t\\t\\t<wf>맑음</wf>\\r\\n\\t\\t\\t\\t\\t<tmn>9</tmn>\\r\\n\\t\\t\\t\\t\\t<tmx>22</tmx>\\r\\n\\t\\t\\t\\t\\t<reliability>보통</reliability>\\r\\n\\t\\t\\t\\t</data>\\r\\n\\r\\n\\t\\t\\t\\t\\r\\n\\t\\t\\t\\t<data>\\r\\n\\t\\t\\t\\t\\t<mode>A01</mode>\\r\\n\\t\\t\\t\\t\\t<tmEf>2019-04-25 00:00</tmEf>\\r\\n\\t\\t\\t\\t\\t<wf>구름많음</wf>\\r\\n\\t\\t\\t\\t\\t<tmn>9</tmn>\\r\\n\\t\\t\\t\\t\\t<tmx>21</tmx>\\r\\n\\t\\t\\t\\t\\t<reliability>보통</reliability>\\r\\n\\t\\t\\t\\t</data>\\r\\n\\r\\n\\r\\n\\t\\t</location>\\r\\n\\r\\n\\t\\t<location wl_ver=\"3\">\\r\\n\\t\\t\\t\\t<province>광주ㆍ전라남도</province>\\r\\n\\t\\t\\t\\t<city>고흥</city>\\r\\n\\t\\t\\t\\t\\r\\n\\t\\t\\t\\t<data>\\r\\n\\t\\t\\t\\t\\t<mode>A02</mode>\\r\\n\\t\\t\\t\\t\\t<tmEf>2019-04-18 00:00</tmEf>\\r\\n\\t\\t\\t\\t\\t<wf>맑음</wf>\\r\\n\\t\\t\\t\\t\\t<tmn>9</tmn>\\r\\n\\t\\t\\t\\t\\t<tmx>22</tmx>\\r\\n\\t\\t\\t\\t\\t<reliability>높음</reliability>\\r\\n\\t\\t\\t\\t</data>\\r\\n\\r\\n\\t\\t\\t\\t\\r\\n\\t\\t\\t\\t<data>\\r\\n\\t\\t\\t\\t\\t<mode>A02</mode>\\r\\n\\t\\t\\t\\t\\t<tmEf>2019-04-18 12:00</tmEf>\\r\\n\\t\\t\\t\\t\\t<wf>맑음</wf>\\r\\n\\t\\t\\t\\t\\t<tmn>9</tmn>\\r\\n\\t\\t\\t\\t\\t<tmx>22</tmx>\\r\\n\\t\\t\\t\\t\\t<reliability>높음</reliability>\\r\\n\\t\\t\\t\\t</data>\\r\\n\\r\\n\\t\\t\\t\\t\\r\\n\\t\\t\\t\\t<data>\\r\\n\\t\\t\\t\\t\\t<mode>A02</mode>\\r\\n\\t\\t\\t\\t\\t<tmEf>2019-04-19 00:00</tmEf>\\r\\n\\t\\t\\t\\t\\t<wf>맑음</wf>\\r\\n\\t\\t\\t\\t\\t<tmn>9</tmn>\\r\\n\\t\\t\\t\\t\\t<tmx>18</tmx>\\r\\n\\t\\t\\t\\t\\t<reliability>높음</reliability>\\r\\n\\t\\t\\t\\t</data>\\r\\n\\r\\n\\t\\t\\t\\t\\r\\n\\t\\t\\t\\t<data>\\r\\n\\t\\t\\t\\t\\t<mode>A02</mode>\\r\\n\\t\\t\\t\\t\\t<tmEf>2019-04-19 12:00</tmEf>\\r\\n\\t\\t\\t\\t\\t<wf>맑음</wf>\\r\\n\\t\\t\\t\\t\\t<tmn>9</tmn>\\r\\n\\t\\t\\t\\t\\t<tmx>18</tmx>\\r\\n\\t\\t\\t\\t\\t<reliability>높음</reliability>\\r\\n\\t\\t\\t\\t</data>\\r\\n\\r\\n\\t\\t\\t\\t\\r\\n\\t\\t\\t\\t<data>\\r\\n\\t\\t\\t\\t\\t<mode>A02</mode>\\r\\n\\t\\t\\t\\t\\t<tmEf>2019-04-20 00:00</tmEf>\\r\\n\\t\\t\\t\\t\\t<wf>맑음</wf>\\r\\n\\t\\t\\t\\t\\t<tmn>8</tmn>\\r\\n\\t\\t\\t\\t\\t<tmx>20</tmx>\\r\\n\\t\\t\\t\\t\\t<reliability>높음</reliability>\\r\\n\\t\\t\\t\\t</data>\\r\\n\\r\\n\\t\\t\\t\\t\\r\\n\\t\\t\\t\\t<data>\\r\\n\\t\\t\\t\\t\\t<mode>A02</mode>\\r\\n\\t\\t\\t\\t\\t<tmEf>2019-04-20 12:00</tmEf>\\r\\n\\t\\t\\t\\t\\t<wf>맑음</wf>\\r\\n\\t\\t\\t\\t\\t<tmn>8</tmn>\\r\\n\\t\\t\\t\\t\\t<tmx>20</tmx>\\r\\n\\t\\t\\t\\t\\t<reliability>높음</reliability>\\r\\n\\t\\t\\t\\t</data>\\r\\n\\r\\n\\t\\t\\t\\t\\r\\n\\t\\t\\t\\t<data>\\r\\n\\t\\t\\t\\t\\t<mode>A02</mode>\\r\\n\\t\\t\\t\\t\\t<tmEf>2019-04-21 00:00</tmEf>\\r\\n\\t\\t\\t\\t\\t<wf>흐림</wf>\\r\\n\\t\\t\\t\\t\\t<tmn>11</tmn>\\r\\n\\t\\t\\t\\t\\t<tmx>20</tmx>\\r\\n\\t\\t\\t\\t\\t<reliability>낮음</reliability>\\r\\n\\t\\t\\t\\t</data>\\r\\n\\r\\n\\t\\t\\t\\t\\r\\n\\t\\t\\t\\t<data>\\r\\n\\t\\t\\t\\t\\t<mode>A02</mode>\\r\\n\\t\\t\\t\\t\\t<tmEf>2019-04-21 12:00</tmEf>\\r\\n\\t\\t\\t\\t\\t<wf>흐림</wf>\\r\\n\\t\\t\\t\\t\\t<tmn>11</tmn>\\r\\n\\t\\t\\t\\t\\t<tmx>20</tmx>\\r\\n\\t\\t\\t\\t\\t<reliability>낮음</reliability>\\r\\n\\t\\t\\t\\t</data>\\r\\n\\r\\n\\t\\t\\t\\t\\r\\n\\t\\t\\t\\t<data>\\r\\n\\t\\t\\t\\t\\t<mode>A02</mode>\\r\\n\\t\\t\\t\\t\\t<tmEf>2019-04-22 00:00</tmEf>\\r\\n\\t\\t\\t\\t\\t<wf>구름많음</wf>\\r\\n\\t\\t\\t\\t\\t<tmn>12</tmn>\\r\\n\\t\\t\\t\\t\\t<tmx>20</tmx>\\r\\n\\t\\t\\t\\t\\t<reliability>보통</reliability>\\r\\n\\t\\t\\t\\t</data>\\r\\n\\r\\n\\t\\t\\t\\t\\r\\n\\t\\t\\t\\t<data>\\r\\n\\t\\t\\t\\t\\t<mode>A02</mode>\\r\\n\\t\\t\\t\\t\\t<tmEf>2019-04-22 12:00</tmEf>\\r\\n\\t\\t\\t\\t\\t<wf>구름많음</wf>\\r\\n\\t\\t\\t\\t\\t<tmn>12</tmn>\\r\\n\\t\\t\\t\\t\\t<tmx>20</tmx>\\r\\n\\t\\t\\t\\t\\t<reliability>보통</reliability>\\r\\n\\t\\t\\t\\t</data>\\r\\n\\r\\n\\t\\t\\t\\t\\r\\n\\t\\t\\t\\t<data>\\r\\n\\t\\t\\t\\t\\t<mode>A01</mode>\\r\\n\\t\\t\\t\\t\\t<tmEf>2019-04-23 00:00</tmEf>\\r\\n\\t\\t\\t\\t\\t<wf>맑음</wf>\\r\\n\\t\\t\\t\\t\\t<tmn>11</tmn>\\r\\n\\t\\t\\t\\t\\t<tmx>21</tmx>\\r\\n\\t\\t\\t\\t\\t<reliability>보통</reliability>\\r\\n\\t\\t\\t\\t</data>\\r\\n\\r\\n\\t\\t\\t\\t\\r\\n\\t\\t\\t\\t<data>\\r\\n\\t\\t\\t\\t\\t<mode>A01</mode>\\r\\n\\t\\t\\t\\t\\t<tmEf>2019-04-24 00:00</tmEf>\\r\\n\\t\\t\\t\\t\\t<wf>맑음</wf>\\r\\n\\t\\t\\t\\t\\t<tmn>10</tmn>\\r\\n\\t\\t\\t\\t\\t<tmx>22</tmx>\\r\\n\\t\\t\\t\\t\\t<reliability>보통</reliability>\\r\\n\\t\\t\\t\\t</data>\\r\\n\\r\\n\\t\\t\\t\\t\\r\\n\\t\\t\\t\\t<data>\\r\\n\\t\\t\\t\\t\\t<mode>A01</mode>\\r\\n\\t\\t\\t\\t\\t<tmEf>2019-04-25 00:00</tmEf>\\r\\n\\t\\t\\t\\t\\t<wf>구름많음</wf>\\r\\n\\t\\t\\t\\t\\t<tmn>9</tmn>\\r\\n\\t\\t\\t\\t\\t<tmx>21</tmx>\\r\\n\\t\\t\\t\\t\\t<reliability>보통</reliability>\\r\\n\\t\\t\\t\\t</data>\\r\\n\\r\\n\\r\\n\\t\\t</location>\\r\\n\\r\\n\\t\\t<location wl_ver=\"3\">\\r\\n\\t\\t\\t\\t<province>광주ㆍ전라남도</province>\\r\\n\\t\\t\\t\\t<city>보성</city>\\r\\n\\t\\t\\t\\t\\r\\n\\t\\t\\t\\t<data>\\r\\n\\t\\t\\t\\t\\t<mode>A02</mode>\\r\\n\\t\\t\\t\\t\\t<tmEf>2019-04-18 00:00</tmEf>\\r\\n\\t\\t\\t\\t\\t<wf>맑음</wf>\\r\\n\\t\\t\\t\\t\\t<tmn>9</tmn>\\r\\n\\t\\t\\t\\t\\t<tmx>22</tmx>\\r\\n\\t\\t\\t\\t\\t<reliability>높음</reliability>\\r\\n\\t\\t\\t\\t</data>\\r\\n\\r\\n\\t\\t\\t\\t\\r\\n\\t\\t\\t\\t<data>\\r\\n\\t\\t\\t\\t\\t<mode>A02</mode>\\r\\n\\t\\t\\t\\t\\t<tmEf>2019-04-18 12:00</tmEf>\\r\\n\\t\\t\\t\\t\\t<wf>맑음</wf>\\r\\n\\t\\t\\t\\t\\t<tmn>9</tmn>\\r\\n\\t\\t\\t\\t\\t<tmx>22</tmx>\\r\\n\\t\\t\\t\\t\\t<reliability>높음</reliability>\\r\\n\\t\\t\\t\\t</data>\\r\\n\\r\\n\\t\\t\\t\\t\\r\\n\\t\\t\\t\\t<data>\\r\\n\\t\\t\\t\\t\\t<mode>A02</mode>\\r\\n\\t\\t\\t\\t\\t<tmEf>2019-04-19 00:00</tmEf>\\r\\n\\t\\t\\t\\t\\t<wf>맑음</wf>\\r\\n\\t\\t\\t\\t\\t<tmn>9</tmn>\\r\\n\\t\\t\\t\\t\\t<tmx>18</tmx>\\r\\n\\t\\t\\t\\t\\t<reliability>높음</reliability>\\r\\n\\t\\t\\t\\t</data>\\r\\n\\r\\n\\t\\t\\t\\t\\r\\n\\t\\t\\t\\t<data>\\r\\n\\t\\t\\t\\t\\t<mode>A02</mode>\\r\\n\\t\\t\\t\\t\\t<tmEf>2019-04-19 12:00</tmEf>\\r\\n\\t\\t\\t\\t\\t<wf>맑음</wf>\\r\\n\\t\\t\\t\\t\\t<tmn>9</tmn>\\r\\n\\t\\t\\t\\t\\t<tmx>18</tmx>\\r\\n\\t\\t\\t\\t\\t<reliability>높음</reliability>\\r\\n\\t\\t\\t\\t</data>\\r\\n\\r\\n\\t\\t\\t\\t\\r\\n\\t\\t\\t\\t<data>\\r\\n\\t\\t\\t\\t\\t<mode>A02</mode>\\r\\n\\t\\t\\t\\t\\t<tmEf>2019-04-20 00:00</tmEf>\\r\\n\\t\\t\\t\\t\\t<wf>맑음</wf>\\r\\n\\t\\t\\t\\t\\t<tmn>7</tmn>\\r\\n\\t\\t\\t\\t\\t<tmx>20</tmx>\\r\\n\\t\\t\\t\\t\\t<reliability>높음</reliability>\\r\\n\\t\\t\\t\\t</data>\\r\\n\\r\\n\\t\\t\\t\\t\\r\\n\\t\\t\\t\\t<data>\\r\\n\\t\\t\\t\\t\\t<mode>A02</mode>\\r\\n\\t\\t\\t\\t\\t<tmEf>2019-04-20 12:00</tmEf>\\r\\n\\t\\t\\t\\t\\t<wf>맑음</wf>\\r\\n\\t\\t\\t\\t\\t<tmn>7</tmn>\\r\\n\\t\\t\\t\\t\\t<tmx>20</tmx>\\r\\n\\t\\t\\t\\t\\t<reliability>높음</reliability>\\r\\n\\t\\t\\t\\t</data>\\r\\n\\r\\n\\t\\t\\t\\t\\r\\n\\t\\t\\t\\t<data>\\r\\n\\t\\t\\t\\t\\t<mode>A02</mode>\\r\\n\\t\\t\\t\\t\\t<tmEf>2019-04-21 00:00</tmEf>\\r\\n\\t\\t\\t\\t\\t<wf>흐림</wf>\\r\\n\\t\\t\\t\\t\\t<tmn>9</tmn>\\r\\n\\t\\t\\t\\t\\t<tmx>20</tmx>\\r\\n\\t\\t\\t\\t\\t<reliability>낮음</reliability>\\r\\n\\t\\t\\t\\t</data>\\r\\n\\r\\n\\t\\t\\t\\t\\r\\n\\t\\t\\t\\t<data>\\r\\n\\t\\t\\t\\t\\t<mode>A02</mode>\\r\\n\\t\\t\\t\\t\\t<tmEf>2019-04-21 12:00</tmEf>\\r\\n\\t\\t\\t\\t\\t<wf>흐림</wf>\\r\\n\\t\\t\\t\\t\\t<tmn>9</tmn>\\r\\n\\t\\t\\t\\t\\t<tmx>20</tmx>\\r\\n\\t\\t\\t\\t\\t<reliability>낮음</reliability>\\r\\n\\t\\t\\t\\t</data>\\r\\n\\r\\n\\t\\t\\t\\t\\r\\n\\t\\t\\t\\t<data>\\r\\n\\t\\t\\t\\t\\t<mode>A02</mode>\\r\\n\\t\\t\\t\\t\\t<tmEf>2019-04-22 00:00</tmEf>\\r\\n\\t\\t\\t\\t\\t<wf>구름많음</wf>\\r\\n\\t\\t\\t\\t\\t<tmn>12</tmn>\\r\\n\\t\\t\\t\\t\\t<tmx>20</tmx>\\r\\n\\t\\t\\t\\t\\t<reliability>보통</reliability>\\r\\n\\t\\t\\t\\t</data>\\r\\n\\r\\n\\t\\t\\t\\t\\r\\n\\t\\t\\t\\t<data>\\r\\n\\t\\t\\t\\t\\t<mode>A02</mode>\\r\\n\\t\\t\\t\\t\\t<tmEf>2019-04-22 12:00</tmEf>\\r\\n\\t\\t\\t\\t\\t<wf>구름많음</wf>\\r\\n\\t\\t\\t\\t\\t<tmn>12</tmn>\\r\\n\\t\\t\\t\\t\\t<tmx>20</tmx>\\r\\n\\t\\t\\t\\t\\t<reliability>보통</reliability>\\r\\n\\t\\t\\t\\t</data>\\r\\n\\r\\n\\t\\t\\t\\t\\r\\n\\t\\t\\t\\t<data>\\r\\n\\t\\t\\t\\t\\t<mode>A01</mode>\\r\\n\\t\\t\\t\\t\\t<tmEf>2019-04-23 00:00</tmEf>\\r\\n\\t\\t\\t\\t\\t<wf>맑음</wf>\\r\\n\\t\\t\\t\\t\\t<tmn>10</tmn>\\r\\n\\t\\t\\t\\t\\t<tmx>21</tmx>\\r\\n\\t\\t\\t\\t\\t<reliability>보통</reliability>\\r\\n\\t\\t\\t\\t</data>\\r\\n\\r\\n\\t\\t\\t\\t\\r\\n\\t\\t\\t\\t<data>\\r\\n\\t\\t\\t\\t\\t<mode>A01</mode>\\r\\n\\t\\t\\t\\t\\t<tmEf>2019-04-24 00:00</tmEf>\\r\\n\\t\\t\\t\\t\\t<wf>맑음</wf>\\r\\n\\t\\t\\t\\t\\t<tmn>9</tmn>\\r\\n\\t\\t\\t\\t\\t<tmx>22</tmx>\\r\\n\\t\\t\\t\\t\\t<reliability>보통</reliability>\\r\\n\\t\\t\\t\\t</data>\\r\\n\\r\\n\\t\\t\\t\\t\\r\\n\\t\\t\\t\\t<data>\\r\\n\\t\\t\\t\\t\\t<mode>A01</mode>\\r\\n\\t\\t\\t\\t\\t<tmEf>2019-04-25 00:00</tmEf>\\r\\n\\t\\t\\t\\t\\t<wf>구름많음</wf>\\r\\n\\t\\t\\t\\t\\t<tmn>8</tmn>\\r\\n\\t\\t\\t\\t\\t<tmx>19</tmx>\\r\\n\\t\\t\\t\\t\\t<reliability>보통</reliability>\\r\\n\\t\\t\\t\\t</data>\\r\\n\\r\\n\\r\\n\\t\\t</location>\\r\\n\\r\\n\\t\\t<location wl_ver=\"3\">\\r\\n\\t\\t\\t\\t<province>광주ㆍ전라남도</province>\\r\\n\\t\\t\\t\\t<city>장성</city>\\r\\n\\t\\t\\t\\t\\r\\n\\t\\t\\t\\t<data>\\r\\n\\t\\t\\t\\t\\t<mode>A02</mode>\\r\\n\\t\\t\\t\\t\\t<tmEf>2019-04-18 00:00</tmEf>\\r\\n\\t\\t\\t\\t\\t<wf>맑음</wf>\\r\\n\\t\\t\\t\\t\\t<tmn>9</tmn>\\r\\n\\t\\t\\t\\t\\t<tmx>24</tmx>\\r\\n\\t\\t\\t\\t\\t<reliability>높음</reliability>\\r\\n\\t\\t\\t\\t</data>\\r\\n\\r\\n\\t\\t\\t\\t\\r\\n\\t\\t\\t\\t<data>\\r\\n\\t\\t\\t\\t\\t<mode>A02</mode>\\r\\n\\t\\t\\t\\t\\t<tmEf>2019-04-18 12:00</tmEf>\\r\\n\\t\\t\\t\\t\\t<wf>맑음</wf>\\r\\n\\t\\t\\t\\t\\t<tmn>9</tmn>\\r\\n\\t\\t\\t\\t\\t<tmx>24</tmx>\\r\\n\\t\\t\\t\\t\\t<reliability>높음</reliability>\\r\\n\\t\\t\\t\\t</data>\\r\\n\\r\\n\\t\\t\\t\\t\\r\\n\\t\\t\\t\\t<data>\\r\\n\\t\\t\\t\\t\\t<mode>A02</mode>\\r\\n\\t\\t\\t\\t\\t<tmEf>2019-04-19 00:00</tmEf>\\r\\n\\t\\t\\t\\t\\t<wf>맑음</wf>\\r\\n\\t\\t\\t\\t\\t<tmn>9</tmn>\\r\\n\\t\\t\\t\\t\\t<tmx>22</tmx>\\r\\n\\t\\t\\t\\t\\t<reliability>높음</reliability>\\r\\n\\t\\t\\t\\t</data>\\r\\n\\r\\n\\t\\t\\t\\t\\r\\n\\t\\t\\t\\t<data>\\r\\n\\t\\t\\t\\t\\t<mode>A02</mode>\\r\\n\\t\\t\\t\\t\\t<tmEf>2019-04-19 12:00</tmEf>\\r\\n\\t\\t\\t\\t\\t<wf>맑음</wf>\\r\\n\\t\\t\\t\\t\\t<tmn>9</tmn>\\r\\n\\t\\t\\t\\t\\t<tmx>22</tmx>\\r\\n\\t\\t\\t\\t\\t<reliability>높음</reliability>\\r\\n\\t\\t\\t\\t</data>\\r\\n\\r\\n\\t\\t\\t\\t\\r\\n\\t\\t\\t\\t<data>\\r\\n\\t\\t\\t\\t\\t<mode>A02</mode>\\r\\n\\t\\t\\t\\t\\t<tmEf>2019-04-20 00:00</tmEf>\\r\\n\\t\\t\\t\\t\\t<wf>맑음</wf>\\r\\n\\t\\t\\t\\t\\t<tmn>7</tmn>\\r\\n\\t\\t\\t\\t\\t<tmx>23</tmx>\\r\\n\\t\\t\\t\\t\\t<reliability>높음</reliability>\\r\\n\\t\\t\\t\\t</data>\\r\\n\\r\\n\\t\\t\\t\\t\\r\\n\\t\\t\\t\\t<data>\\r\\n\\t\\t\\t\\t\\t<mode>A02</mode>\\r\\n\\t\\t\\t\\t\\t<tmEf>2019-04-20 12:00</tmEf>\\r\\n\\t\\t\\t\\t\\t<wf>맑음</wf>\\r\\n\\t\\t\\t\\t\\t<tmn>7</tmn>\\r\\n\\t\\t\\t\\t\\t<tmx>23</tmx>\\r\\n\\t\\t\\t\\t\\t<reliability>높음</reliability>\\r\\n\\t\\t\\t\\t</data>\\r\\n\\r\\n\\t\\t\\t\\t\\r\\n\\t\\t\\t\\t<data>\\r\\n\\t\\t\\t\\t\\t<mode>A02</mode>\\r\\n\\t\\t\\t\\t\\t<tmEf>2019-04-21 00:00</tmEf>\\r\\n\\t\\t\\t\\t\\t<wf>흐림</wf>\\r\\n\\t\\t\\t\\t\\t<tmn>8</tmn>\\r\\n\\t\\t\\t\\t\\t<tmx>22</tmx>\\r\\n\\t\\t\\t\\t\\t<reliability>낮음</reliability>\\r\\n\\t\\t\\t\\t</data>\\r\\n\\r\\n\\t\\t\\t\\t\\r\\n\\t\\t\\t\\t<data>\\r\\n\\t\\t\\t\\t\\t<mode>A02</mode>\\r\\n\\t\\t\\t\\t\\t<tmEf>2019-04-21 12:00</tmEf>\\r\\n\\t\\t\\t\\t\\t<wf>흐림</wf>\\r\\n\\t\\t\\t\\t\\t<tmn>8</tmn>\\r\\n\\t\\t\\t\\t\\t<tmx>22</tmx>\\r\\n\\t\\t\\t\\t\\t<reliability>낮음</reliability>\\r\\n\\t\\t\\t\\t</data>\\r\\n\\r\\n\\t\\t\\t\\t\\r\\n\\t\\t\\t\\t<data>\\r\\n\\t\\t\\t\\t\\t<mode>A02</mode>\\r\\n\\t\\t\\t\\t\\t<tmEf>2019-04-22 00:00</tmEf>\\r\\n\\t\\t\\t\\t\\t<wf>구름많음</wf>\\r\\n\\t\\t\\t\\t\\t<tmn>11</tmn>\\r\\n\\t\\t\\t\\t\\t<tmx>22</tmx>\\r\\n\\t\\t\\t\\t\\t<reliability>보통</reliability>\\r\\n\\t\\t\\t\\t</data>\\r\\n\\r\\n\\t\\t\\t\\t\\r\\n\\t\\t\\t\\t<data>\\r\\n\\t\\t\\t\\t\\t<mode>A02</mode>\\r\\n\\t\\t\\t\\t\\t<tmEf>2019-04-22 12:00</tmEf>\\r\\n\\t\\t\\t\\t\\t<wf>구름많음</wf>\\r\\n\\t\\t\\t\\t\\t<tmn>11</tmn>\\r\\n\\t\\t\\t\\t\\t<tmx>22</tmx>\\r\\n\\t\\t\\t\\t\\t<reliability>보통</reliability>\\r\\n\\t\\t\\t\\t</data>\\r\\n\\r\\n\\t\\t\\t\\t\\r\\n\\t\\t\\t\\t<data>\\r\\n\\t\\t\\t\\t\\t<mode>A01</mode>\\r\\n\\t\\t\\t\\t\\t<tmEf>2019-04-23 00:00</tmEf>\\r\\n\\t\\t\\t\\t\\t<wf>맑음</wf>\\r\\n\\t\\t\\t\\t\\t<tmn>11</tmn>\\r\\n\\t\\t\\t\\t\\t<tmx>22</tmx>\\r\\n\\t\\t\\t\\t\\t<reliability>보통</reliability>\\r\\n\\t\\t\\t\\t</data>\\r\\n\\r\\n\\t\\t\\t\\t\\r\\n\\t\\t\\t\\t<data>\\r\\n\\t\\t\\t\\t\\t<mode>A01</mode>\\r\\n\\t\\t\\t\\t\\t<tmEf>2019-04-24 00:00</tmEf>\\r\\n\\t\\t\\t\\t\\t<wf>맑음</wf>\\r\\n\\t\\t\\t\\t\\t<tmn>9</tmn>\\r\\n\\t\\t\\t\\t\\t<tmx>22</tmx>\\r\\n\\t\\t\\t\\t\\t<reliability>보통</reliability>\\r\\n\\t\\t\\t\\t</data>\\r\\n\\r\\n\\t\\t\\t\\t\\r\\n\\t\\t\\t\\t<data>\\r\\n\\t\\t\\t\\t\\t<mode>A01</mode>\\r\\n\\t\\t\\t\\t\\t<tmEf>2019-04-25 00:00</tmEf>\\r\\n\\t\\t\\t\\t\\t<wf>구름많음</wf>\\r\\n\\t\\t\\t\\t\\t<tmn>8</tmn>\\r\\n\\t\\t\\t\\t\\t<tmx>20</tmx>\\r\\n\\t\\t\\t\\t\\t<reliability>보통</reliability>\\r\\n\\t\\t\\t\\t</data>\\r\\n\\r\\n\\r\\n\\t\\t</location>\\r\\n\\r\\n\\t\\t<location wl_ver=\"3\">\\r\\n\\t\\t\\t\\t<province>광주ㆍ전라남도</province>\\r\\n\\t\\t\\t\\t<city>담양</city>\\r\\n\\t\\t\\t\\t\\r\\n\\t\\t\\t\\t<data>\\r\\n\\t\\t\\t\\t\\t<mode>A02</mode>\\r\\n\\t\\t\\t\\t\\t<tmEf>2019-04-18 00:00</tmEf>\\r\\n\\t\\t\\t\\t\\t<wf>맑음</wf>\\r\\n\\t\\t\\t\\t\\t<tmn>9</tmn>\\r\\n\\t\\t\\t\\t\\t<tmx>24</tmx>\\r\\n\\t\\t\\t\\t\\t<reliability>높음</reliability>\\r\\n\\t\\t\\t\\t</data>\\r\\n\\r\\n\\t\\t\\t\\t\\r\\n\\t\\t\\t\\t<data>\\r\\n\\t\\t\\t\\t\\t<mode>A02</mode>\\r\\n\\t\\t\\t\\t\\t<tmEf>2019-04-18 12:00</tmEf>\\r\\n\\t\\t\\t\\t\\t<wf>맑음</wf>\\r\\n\\t\\t\\t\\t\\t<tmn>9</tmn>\\r\\n\\t\\t\\t\\t\\t<tmx>24</tmx>\\r\\n\\t\\t\\t\\t\\t<reliability>높음</reliability>\\r\\n\\t\\t\\t\\t</data>\\r\\n\\r\\n\\t\\t\\t\\t\\r\\n\\t\\t\\t\\t<data>\\r\\n\\t\\t\\t\\t\\t<mode>A02</mode>\\r\\n\\t\\t\\t\\t\\t<tmEf>2019-04-19 00:00</tmEf>\\r\\n\\t\\t\\t\\t\\t<wf>맑음</wf>\\r\\n\\t\\t\\t\\t\\t<tmn>8</tmn>\\r\\n\\t\\t\\t\\t\\t<tmx>21</tmx>\\r\\n\\t\\t\\t\\t\\t<reliability>높음</reliability>\\r\\n\\t\\t\\t\\t</data>\\r\\n\\r\\n\\t\\t\\t\\t\\r\\n\\t\\t\\t\\t<data>\\r\\n\\t\\t\\t\\t\\t<mode>A02</mode>\\r\\n\\t\\t\\t\\t\\t<tmEf>2019-04-19 12:00</tmEf>\\r\\n\\t\\t\\t\\t\\t<wf>맑음</wf>\\r\\n\\t\\t\\t\\t\\t<tmn>8</tmn>\\r\\n\\t\\t\\t\\t\\t<tmx>21</tmx>\\r\\n\\t\\t\\t\\t\\t<reliability>높음</reliability>\\r\\n\\t\\t\\t\\t</data>\\r\\n\\r\\n\\t\\t\\t\\t\\r\\n\\t\\t\\t\\t<data>\\r\\n\\t\\t\\t\\t\\t<mode>A02</mode>\\r\\n\\t\\t\\t\\t\\t<tmEf>2019-04-20 00:00</tmEf>\\r\\n\\t\\t\\t\\t\\t<wf>맑음</wf>\\r\\n\\t\\t\\t\\t\\t<tmn>8</tmn>\\r\\n\\t\\t\\t\\t\\t<tmx>22</tmx>\\r\\n\\t\\t\\t\\t\\t<reliability>높음</reliability>\\r\\n\\t\\t\\t\\t</data>\\r\\n\\r\\n\\t\\t\\t\\t\\r\\n\\t\\t\\t\\t<data>\\r\\n\\t\\t\\t\\t\\t<mode>A02</mode>\\r\\n\\t\\t\\t\\t\\t<tmEf>2019-04-20 12:00</tmEf>\\r\\n\\t\\t\\t\\t\\t<wf>맑음</wf>\\r\\n\\t\\t\\t\\t\\t<tmn>8</tmn>\\r\\n\\t\\t\\t\\t\\t<tmx>22</tmx>\\r\\n\\t\\t\\t\\t\\t<reliability>높음</reliability>\\r\\n\\t\\t\\t\\t</data>\\r\\n\\r\\n\\t\\t\\t\\t\\r\\n\\t\\t\\t\\t<data>\\r\\n\\t\\t\\t\\t\\t<mode>A02</mode>\\r\\n\\t\\t\\t\\t\\t<tmEf>2019-04-21 00:00</tmEf>\\r\\n\\t\\t\\t\\t\\t<wf>흐림</wf>\\r\\n\\t\\t\\t\\t\\t<tmn>9</tmn>\\r\\n\\t\\t\\t\\t\\t<tmx>22</tmx>\\r\\n\\t\\t\\t\\t\\t<reliability>낮음</reliability>\\r\\n\\t\\t\\t\\t</data>\\r\\n\\r\\n\\t\\t\\t\\t\\r\\n\\t\\t\\t\\t<data>\\r\\n\\t\\t\\t\\t\\t<mode>A02</mode>\\r\\n\\t\\t\\t\\t\\t<tmEf>2019-04-21 12:00</tmEf>\\r\\n\\t\\t\\t\\t\\t<wf>흐림</wf>\\r\\n\\t\\t\\t\\t\\t<tmn>9</tmn>\\r\\n\\t\\t\\t\\t\\t<tmx>22</tmx>\\r\\n\\t\\t\\t\\t\\t<reliability>낮음</reliability>\\r\\n\\t\\t\\t\\t</data>\\r\\n\\r\\n\\t\\t\\t\\t\\r\\n\\t\\t\\t\\t<data>\\r\\n\\t\\t\\t\\t\\t<mode>A02</mode>\\r\\n\\t\\t\\t\\t\\t<tmEf>2019-04-22 00:00</tmEf>\\r\\n\\t\\t\\t\\t\\t<wf>구름많음</wf>\\r\\n\\t\\t\\t\\t\\t<tmn>12</tmn>\\r\\n\\t\\t\\t\\t\\t<tmx>21</tmx>\\r\\n\\t\\t\\t\\t\\t<reliability>보통</reliability>\\r\\n\\t\\t\\t\\t</data>\\r\\n\\r\\n\\t\\t\\t\\t\\r\\n\\t\\t\\t\\t<data>\\r\\n\\t\\t\\t\\t\\t<mode>A02</mode>\\r\\n\\t\\t\\t\\t\\t<tmEf>2019-04-22 12:00</tmEf>\\r\\n\\t\\t\\t\\t\\t<wf>구름많음</wf>\\r\\n\\t\\t\\t\\t\\t<tmn>12</tmn>\\r\\n\\t\\t\\t\\t\\t<tmx>21</tmx>\\r\\n\\t\\t\\t\\t\\t<reliability>보통</reliability>\\r\\n\\t\\t\\t\\t</data>\\r\\n\\r\\n\\t\\t\\t\\t\\r\\n\\t\\t\\t\\t<data>\\r\\n\\t\\t\\t\\t\\t<mode>A01</mode>\\r\\n\\t\\t\\t\\t\\t<tmEf>2019-04-23 00:00</tmEf>\\r\\n\\t\\t\\t\\t\\t<wf>맑음</wf>\\r\\n\\t\\t\\t\\t\\t<tmn>10</tmn>\\r\\n\\t\\t\\t\\t\\t<tmx>23</tmx>\\r\\n\\t\\t\\t\\t\\t<reliability>보통</reliability>\\r\\n\\t\\t\\t\\t</data>\\r\\n\\r\\n\\t\\t\\t\\t\\r\\n\\t\\t\\t\\t<data>\\r\\n\\t\\t\\t\\t\\t<mode>A01</mode>\\r\\n\\t\\t\\t\\t\\t<tmEf>2019-04-24 00:00</tmEf>\\r\\n\\t\\t\\t\\t\\t<wf>맑음</wf>\\r\\n\\t\\t\\t\\t\\t<tmn>9</tmn>\\r\\n\\t\\t\\t\\t\\t<tmx>22</tmx>\\r\\n\\t\\t\\t\\t\\t<reliability>보통</reliability>\\r\\n\\t\\t\\t\\t</data>\\r\\n\\r\\n\\t\\t\\t\\t\\r\\n\\t\\t\\t\\t<data>\\r\\n\\t\\t\\t\\t\\t<mode>A01</mode>\\r\\n\\t\\t\\t\\t\\t<tmEf>2019-04-25 00:00</tmEf>\\r\\n\\t\\t\\t\\t\\t<wf>구름많음</wf>\\r\\n\\t\\t\\t\\t\\t<tmn>8</tmn>\\r\\n\\t\\t\\t\\t\\t<tmx>20</tmx>\\r\\n\\t\\t\\t\\t\\t<reliability>보통</reliability>\\r\\n\\t\\t\\t\\t</data>\\r\\n\\r\\n\\r\\n\\t\\t</location>\\r\\n\\r\\n\\t\\t<location wl_ver=\"3\">\\r\\n\\t\\t\\t\\t<province>광주ㆍ전라남도</province>\\r\\n\\t\\t\\t\\t<city>화순</city>\\r\\n\\t\\t\\t\\t\\r\\n\\t\\t\\t\\t<data>\\r\\n\\t\\t\\t\\t\\t<mode>A02</mode>\\r\\n\\t\\t\\t\\t\\t<tmEf>2019-04-18 00:00</tmEf>\\r\\n\\t\\t\\t\\t\\t<wf>맑음</wf>\\r\\n\\t\\t\\t\\t\\t<tmn>10</tmn>\\r\\n\\t\\t\\t\\t\\t<tmx>24</tmx>\\r\\n\\t\\t\\t\\t\\t<reliability>높음</reliability>\\r\\n\\t\\t\\t\\t</data>\\r\\n\\r\\n\\t\\t\\t\\t\\r\\n\\t\\t\\t\\t<data>\\r\\n\\t\\t\\t\\t\\t<mode>A02</mode>\\r\\n\\t\\t\\t\\t\\t<tmEf>2019-04-18 12:00</tmEf>\\r\\n\\t\\t\\t\\t\\t<wf>맑음</wf>\\r\\n\\t\\t\\t\\t\\t<tmn>10</tmn>\\r\\n\\t\\t\\t\\t\\t<tmx>24</tmx>\\r\\n\\t\\t\\t\\t\\t<reliability>높음</reliability>\\r\\n\\t\\t\\t\\t</data>\\r\\n\\r\\n\\t\\t\\t\\t\\r\\n\\t\\t\\t\\t<data>\\r\\n\\t\\t\\t\\t\\t<mode>A02</mode>\\r\\n\\t\\t\\t\\t\\t<tmEf>2019-04-19 00:00</tmEf>\\r\\n\\t\\t\\t\\t\\t<wf>맑음</wf>\\r\\n\\t\\t\\t\\t\\t<tmn>10</tmn>\\r\\n\\t\\t\\t\\t\\t<tmx>20</tmx>\\r\\n\\t\\t\\t\\t\\t<reliability>높음</reliability>\\r\\n\\t\\t\\t\\t</data>\\r\\n\\r\\n\\t\\t\\t\\t\\r\\n\\t\\t\\t\\t<data>\\r\\n\\t\\t\\t\\t\\t<mode>A02</mode>\\r\\n\\t\\t\\t\\t\\t<tmEf>2019-04-19 12:00</tmEf>\\r\\n\\t\\t\\t\\t\\t<wf>맑음</wf>\\r\\n\\t\\t\\t\\t\\t<tmn>10</tmn>\\r\\n\\t\\t\\t\\t\\t<tmx>20</tmx>\\r\\n\\t\\t\\t\\t\\t<reliability>높음</reliability>\\r\\n\\t\\t\\t\\t</data>\\r\\n\\r\\n\\t\\t\\t\\t\\r\\n\\t\\t\\t\\t<data>\\r\\n\\t\\t\\t\\t\\t<mode>A02</mode>\\r\\n\\t\\t\\t\\t\\t<tmEf>2019-04-20 00:00</tmEf>\\r\\n\\t\\t\\t\\t\\t<wf>맑음</wf>\\r\\n\\t\\t\\t\\t\\t<tmn>8</tmn>\\r\\n\\t\\t\\t\\t\\t<tmx>22</tmx>\\r\\n\\t\\t\\t\\t\\t<reliability>높음</reliability>\\r\\n\\t\\t\\t\\t</data>\\r\\n\\r\\n\\t\\t\\t\\t\\r\\n\\t\\t\\t\\t<data>\\r\\n\\t\\t\\t\\t\\t<mode>A02</mode>\\r\\n\\t\\t\\t\\t\\t<tmEf>2019-04-20 12:00</tmEf>\\r\\n\\t\\t\\t\\t\\t<wf>맑음</wf>\\r\\n\\t\\t\\t\\t\\t<tmn>8</tmn>\\r\\n\\t\\t\\t\\t\\t<tmx>22</tmx>\\r\\n\\t\\t\\t\\t\\t<reliability>높음</reliability>\\r\\n\\t\\t\\t\\t</data>\\r\\n\\r\\n\\t\\t\\t\\t\\r\\n\\t\\t\\t\\t<data>\\r\\n\\t\\t\\t\\t\\t<mode>A02</mode>\\r\\n\\t\\t\\t\\t\\t<tmEf>2019-04-21 00:00</tmEf>\\r\\n\\t\\t\\t\\t\\t<wf>흐림</wf>\\r\\n\\t\\t\\t\\t\\t<tmn>10</tmn>\\r\\n\\t\\t\\t\\t\\t<tmx>21</tmx>\\r\\n\\t\\t\\t\\t\\t<reliability>낮음</reliability>\\r\\n\\t\\t\\t\\t</data>\\r\\n\\r\\n\\t\\t\\t\\t\\r\\n\\t\\t\\t\\t<data>\\r\\n\\t\\t\\t\\t\\t<mode>A02</mode>\\r\\n\\t\\t\\t\\t\\t<tmEf>2019-04-21 12:00</tmEf>\\r\\n\\t\\t\\t\\t\\t<wf>흐림</wf>\\r\\n\\t\\t\\t\\t\\t<tmn>10</tmn>\\r\\n\\t\\t\\t\\t\\t<tmx>21</tmx>\\r\\n\\t\\t\\t\\t\\t<reliability>낮음</reliability>\\r\\n\\t\\t\\t\\t</data>\\r\\n\\r\\n\\t\\t\\t\\t\\r\\n\\t\\t\\t\\t<data>\\r\\n\\t\\t\\t\\t\\t<mode>A02</mode>\\r\\n\\t\\t\\t\\t\\t<tmEf>2019-04-22 00:00</tmEf>\\r\\n\\t\\t\\t\\t\\t<wf>구름많음</wf>\\r\\n\\t\\t\\t\\t\\t<tmn>12</tmn>\\r\\n\\t\\t\\t\\t\\t<tmx>22</tmx>\\r\\n\\t\\t\\t\\t\\t<reliability>보통</reliability>\\r\\n\\t\\t\\t\\t</data>\\r\\n\\r\\n\\t\\t\\t\\t\\r\\n\\t\\t\\t\\t<data>\\r\\n\\t\\t\\t\\t\\t<mode>A02</mode>\\r\\n\\t\\t\\t\\t\\t<tmEf>2019-04-22 12:00</tmEf>\\r\\n\\t\\t\\t\\t\\t<wf>구름많음</wf>\\r\\n\\t\\t\\t\\t\\t<tmn>12</tmn>\\r\\n\\t\\t\\t\\t\\t<tmx>22</tmx>\\r\\n\\t\\t\\t\\t\\t<reliability>보통</reliability>\\r\\n\\t\\t\\t\\t</data>\\r\\n\\r\\n\\t\\t\\t\\t\\r\\n\\t\\t\\t\\t<data>\\r\\n\\t\\t\\t\\t\\t<mode>A01</mode>\\r\\n\\t\\t\\t\\t\\t<tmEf>2019-04-23 00:00</tmEf>\\r\\n\\t\\t\\t\\t\\t<wf>맑음</wf>\\r\\n\\t\\t\\t\\t\\t<tmn>11</tmn>\\r\\n\\t\\t\\t\\t\\t<tmx>22</tmx>\\r\\n\\t\\t\\t\\t\\t<reliability>보통</reliability>\\r\\n\\t\\t\\t\\t</data>\\r\\n\\r\\n\\t\\t\\t\\t\\r\\n\\t\\t\\t\\t<data>\\r\\n\\t\\t\\t\\t\\t<mode>A01</mode>\\r\\n\\t\\t\\t\\t\\t<tmEf>2019-04-24 00:00</tmEf>\\r\\n\\t\\t\\t\\t\\t<wf>맑음</wf>\\r\\n\\t\\t\\t\\t\\t<tmn>10</tmn>\\r\\n\\t\\t\\t\\t\\t<tmx>22</tmx>\\r\\n\\t\\t\\t\\t\\t<reliability>보통</reliability>\\r\\n\\t\\t\\t\\t</data>\\r\\n\\r\\n\\t\\t\\t\\t\\r\\n\\t\\t\\t\\t<data>\\r\\n\\t\\t\\t\\t\\t<mode>A01</mode>\\r\\n\\t\\t\\t\\t\\t<tmEf>2019-04-25 00:00</tmEf>\\r\\n\\t\\t\\t\\t\\t<wf>구름많음</wf>\\r\\n\\t\\t\\t\\t\\t<tmn>8</tmn>\\r\\n\\t\\t\\t\\t\\t<tmx>19</tmx>\\r\\n\\t\\t\\t\\t\\t<reliability>보통</reliability>\\r\\n\\t\\t\\t\\t</data>\\r\\n\\r\\n\\r\\n\\t\\t</location>\\r\\n\\r\\n\\t\\t<location wl_ver=\"3\">\\r\\n\\t\\t\\t\\t<province>광주ㆍ전라남도</province>\\r\\n\\t\\t\\t\\t<city>구례</city>\\r\\n\\t\\t\\t\\t\\r\\n\\t\\t\\t\\t<data>\\r\\n\\t\\t\\t\\t\\t<mode>A02</mode>\\r\\n\\t\\t\\t\\t\\t<tmEf>2019-04-18 00:00</tmEf>\\r\\n\\t\\t\\t\\t\\t<wf>맑음</wf>\\r\\n\\t\\t\\t\\t\\t<tmn>9</tmn>\\r\\n\\t\\t\\t\\t\\t<tmx>26</tmx>\\r\\n\\t\\t\\t\\t\\t<reliability>높음</reliability>\\r\\n\\t\\t\\t\\t</data>\\r\\n\\r\\n\\t\\t\\t\\t\\r\\n\\t\\t\\t\\t<data>\\r\\n\\t\\t\\t\\t\\t<mode>A02</mode>\\r\\n\\t\\t\\t\\t\\t<tmEf>2019-04-18 12:00</tmEf>\\r\\n\\t\\t\\t\\t\\t<wf>맑음</wf>\\r\\n\\t\\t\\t\\t\\t<tmn>9</tmn>\\r\\n\\t\\t\\t\\t\\t<tmx>26</tmx>\\r\\n\\t\\t\\t\\t\\t<reliability>높음</reliability>\\r\\n\\t\\t\\t\\t</data>\\r\\n\\r\\n\\t\\t\\t\\t\\r\\n\\t\\t\\t\\t<data>\\r\\n\\t\\t\\t\\t\\t<mode>A02</mode>\\r\\n\\t\\t\\t\\t\\t<tmEf>2019-04-19 00:00</tmEf>\\r\\n\\t\\t\\t\\t\\t<wf>맑음</wf>\\r\\n\\t\\t\\t\\t\\t<tmn>10</tmn>\\r\\n\\t\\t\\t\\t\\t<tmx>21</tmx>\\r\\n\\t\\t\\t\\t\\t<reliability>높음</reliability>\\r\\n\\t\\t\\t\\t</data>\\r\\n\\r\\n\\t\\t\\t\\t\\r\\n\\t\\t\\t\\t<data>\\r\\n\\t\\t\\t\\t\\t<mode>A02</mode>\\r\\n\\t\\t\\t\\t\\t<tmEf>2019-04-19 12:00</tmEf>\\r\\n\\t\\t\\t\\t\\t<wf>맑음</wf>\\r\\n\\t\\t\\t\\t\\t<tmn>10</tmn>\\r\\n\\t\\t\\t\\t\\t<tmx>21</tmx>\\r\\n\\t\\t\\t\\t\\t<reliability>높음</reliability>\\r\\n\\t\\t\\t\\t</data>\\r\\n\\r\\n\\t\\t\\t\\t\\r\\n\\t\\t\\t\\t<data>\\r\\n\\t\\t\\t\\t\\t<mode>A02</mode>\\r\\n\\t\\t\\t\\t\\t<tmEf>2019-04-20 00:00</tmEf>\\r\\n\\t\\t\\t\\t\\t<wf>맑음</wf>\\r\\n\\t\\t\\t\\t\\t<tmn>6</tmn>\\r\\n\\t\\t\\t\\t\\t<tmx>24</tmx>\\r\\n\\t\\t\\t\\t\\t<reliability>높음</reliability>\\r\\n\\t\\t\\t\\t</data>\\r\\n\\r\\n\\t\\t\\t\\t\\r\\n\\t\\t\\t\\t<data>\\r\\n\\t\\t\\t\\t\\t<mode>A02</mode>\\r\\n\\t\\t\\t\\t\\t<tmEf>2019-04-20 12:00</tmEf>\\r\\n\\t\\t\\t\\t\\t<wf>맑음</wf>\\r\\n\\t\\t\\t\\t\\t<tmn>6</tmn>\\r\\n\\t\\t\\t\\t\\t<tmx>24</tmx>\\r\\n\\t\\t\\t\\t\\t<reliability>높음</reliability>\\r\\n\\t\\t\\t\\t</data>\\r\\n\\r\\n\\t\\t\\t\\t\\r\\n\\t\\t\\t\\t<data>\\r\\n\\t\\t\\t\\t\\t<mode>A02</mode>\\r\\n\\t\\t\\t\\t\\t<tmEf>2019-04-21 00:00</tmEf>\\r\\n\\t\\t\\t\\t\\t<wf>흐림</wf>\\r\\n\\t\\t\\t\\t\\t<tmn>8</tmn>\\r\\n\\t\\t\\t\\t\\t<tmx>24</tmx>\\r\\n\\t\\t\\t\\t\\t<reliability>낮음</reliability>\\r\\n\\t\\t\\t\\t</data>\\r\\n\\r\\n\\t\\t\\t\\t\\r\\n\\t\\t\\t\\t<data>\\r\\n\\t\\t\\t\\t\\t<mode>A02</mode>\\r\\n\\t\\t\\t\\t\\t<tmEf>2019-04-21 12:00</tmEf>\\r\\n\\t\\t\\t\\t\\t<wf>흐림</wf>\\r\\n\\t\\t\\t\\t\\t<tmn>8</tmn>\\r\\n\\t\\t\\t\\t\\t<tmx>24</tmx>\\r\\n\\t\\t\\t\\t\\t<reliability>낮음</reliability>\\r\\n\\t\\t\\t\\t</data>\\r\\n\\r\\n\\t\\t\\t\\t\\r\\n\\t\\t\\t\\t<data>\\r\\n\\t\\t\\t\\t\\t<mode>A02</mode>\\r\\n\\t\\t\\t\\t\\t<tmEf>2019-04-22 00:00</tmEf>\\r\\n\\t\\t\\t\\t\\t<wf>구름많음</wf>\\r\\n\\t\\t\\t\\t\\t<tmn>12</tmn>\\r\\n\\t\\t\\t\\t\\t<tmx>22</tmx>\\r\\n\\t\\t\\t\\t\\t<reliability>보통</reliability>\\r\\n\\t\\t\\t\\t</data>\\r\\n\\r\\n\\t\\t\\t\\t\\r\\n\\t\\t\\t\\t<data>\\r\\n\\t\\t\\t\\t\\t<mode>A02</mode>\\r\\n\\t\\t\\t\\t\\t<tmEf>2019-04-22 12:00</tmEf>\\r\\n\\t\\t\\t\\t\\t<wf>구름많음</wf>\\r\\n\\t\\t\\t\\t\\t<tmn>12</tmn>\\r\\n\\t\\t\\t\\t\\t<tmx>22</tmx>\\r\\n\\t\\t\\t\\t\\t<reliability>보통</reliability>\\r\\n\\t\\t\\t\\t</data>\\r\\n\\r\\n\\t\\t\\t\\t\\r\\n\\t\\t\\t\\t<data>\\r\\n\\t\\t\\t\\t\\t<mode>A01</mode>\\r\\n\\t\\t\\t\\t\\t<tmEf>2019-04-23 00:00</tmEf>\\r\\n\\t\\t\\t\\t\\t<wf>맑음</wf>\\r\\n\\t\\t\\t\\t\\t<tmn>11</tmn>\\r\\n\\t\\t\\t\\t\\t<tmx>24</tmx>\\r\\n\\t\\t\\t\\t\\t<reliability>보통</reliability>\\r\\n\\t\\t\\t\\t</data>\\r\\n\\r\\n\\t\\t\\t\\t\\r\\n\\t\\t\\t\\t<data>\\r\\n\\t\\t\\t\\t\\t<mode>A01</mode>\\r\\n\\t\\t\\t\\t\\t<tmEf>2019-04-24 00:00</tmEf>\\r\\n\\t\\t\\t\\t\\t<wf>맑음</wf>\\r\\n\\t\\t\\t\\t\\t<tmn>10</tmn>\\r\\n\\t\\t\\t\\t\\t<tmx>23</tmx>\\r\\n\\t\\t\\t\\t\\t<reliability>보통</reliability>\\r\\n\\t\\t\\t\\t</data>\\r\\n\\r\\n\\t\\t\\t\\t\\r\\n\\t\\t\\t\\t<data>\\r\\n\\t\\t\\t\\t\\t<mode>A01</mode>\\r\\n\\t\\t\\t\\t\\t<tmEf>2019-04-25 00:00</tmEf>\\r\\n\\t\\t\\t\\t\\t<wf>구름많음</wf>\\r\\n\\t\\t\\t\\t\\t<tmn>9</tmn>\\r\\n\\t\\t\\t\\t\\t<tmx>21</tmx>\\r\\n\\t\\t\\t\\t\\t<reliability>보통</reliability>\\r\\n\\t\\t\\t\\t</data>\\r\\n\\r\\n\\r\\n\\t\\t</location>\\r\\n\\r\\n\\t\\t<location wl_ver=\"3\">\\r\\n\\t\\t\\t\\t<province>광주ㆍ전라남도</province>\\r\\n\\t\\t\\t\\t<city>곡성</city>\\r\\n\\t\\t\\t\\t\\r\\n\\t\\t\\t\\t<data>\\r\\n\\t\\t\\t\\t\\t<mode>A02</mode>\\r\\n\\t\\t\\t\\t\\t<tmEf>2019-04-18 00:00</tmEf>\\r\\n\\t\\t\\t\\t\\t<wf>맑음</wf>\\r\\n\\t\\t\\t\\t\\t<tmn>10</tmn>\\r\\n\\t\\t\\t\\t\\t<tmx>25</tmx>\\r\\n\\t\\t\\t\\t\\t<reliability>높음</reliability>\\r\\n\\t\\t\\t\\t</data>\\r\\n\\r\\n\\t\\t\\t\\t\\r\\n\\t\\t\\t\\t<data>\\r\\n\\t\\t\\t\\t\\t<mode>A02</mode>\\r\\n\\t\\t\\t\\t\\t<tmEf>2019-04-18 12:00</tmEf>\\r\\n\\t\\t\\t\\t\\t<wf>맑음</wf>\\r\\n\\t\\t\\t\\t\\t<tmn>10</tmn>\\r\\n\\t\\t\\t\\t\\t<tmx>25</tmx>\\r\\n\\t\\t\\t\\t\\t<reliability>높음</reliability>\\r\\n\\t\\t\\t\\t</data>\\r\\n\\r\\n\\t\\t\\t\\t\\r\\n\\t\\t\\t\\t<data>\\r\\n\\t\\t\\t\\t\\t<mode>A02</mode>\\r\\n\\t\\t\\t\\t\\t<tmEf>2019-04-19 00:00</tmEf>\\r\\n\\t\\t\\t\\t\\t<wf>맑음</wf>\\r\\n\\t\\t\\t\\t\\t<tmn>9</tmn>\\r\\n\\t\\t\\t\\t\\t<tmx>21</tmx>\\r\\n\\t\\t\\t\\t\\t<reliability>높음</reliability>\\r\\n\\t\\t\\t\\t</data>\\r\\n\\r\\n\\t\\t\\t\\t\\r\\n\\t\\t\\t\\t<data>\\r\\n\\t\\t\\t\\t\\t<mode>A02</mode>\\r\\n\\t\\t\\t\\t\\t<tmEf>2019-04-19 12:00</tmEf>\\r\\n\\t\\t\\t\\t\\t<wf>맑음</wf>\\r\\n\\t\\t\\t\\t\\t<tmn>9</tmn>\\r\\n\\t\\t\\t\\t\\t<tmx>21</tmx>\\r\\n\\t\\t\\t\\t\\t<reliability>높음</reliability>\\r\\n\\t\\t\\t\\t</data>\\r\\n\\r\\n\\t\\t\\t\\t\\r\\n\\t\\t\\t\\t<data>\\r\\n\\t\\t\\t\\t\\t<mode>A02</mode>\\r\\n\\t\\t\\t\\t\\t<tmEf>2019-04-20 00:00</tmEf>\\r\\n\\t\\t\\t\\t\\t<wf>맑음</wf>\\r\\n\\t\\t\\t\\t\\t<tmn>6</tmn>\\r\\n\\t\\t\\t\\t\\t<tmx>24</tmx>\\r\\n\\t\\t\\t\\t\\t<reliability>높음</reliability>\\r\\n\\t\\t\\t\\t</data>\\r\\n\\r\\n\\t\\t\\t\\t\\r\\n\\t\\t\\t\\t<data>\\r\\n\\t\\t\\t\\t\\t<mode>A02</mode>\\r\\n\\t\\t\\t\\t\\t<tmEf>2019-04-20 12:00</tmEf>\\r\\n\\t\\t\\t\\t\\t<wf>맑음</wf>\\r\\n\\t\\t\\t\\t\\t<tmn>6</tmn>\\r\\n\\t\\t\\t\\t\\t<tmx>24</tmx>\\r\\n\\t\\t\\t\\t\\t<reliability>높음</reliability>\\r\\n\\t\\t\\t\\t</data>\\r\\n\\r\\n\\t\\t\\t\\t\\r\\n\\t\\t\\t\\t<data>\\r\\n\\t\\t\\t\\t\\t<mode>A02</mode>\\r\\n\\t\\t\\t\\t\\t<tmEf>2019-04-21 00:00</tmEf>\\r\\n\\t\\t\\t\\t\\t<wf>흐림</wf>\\r\\n\\t\\t\\t\\t\\t<tmn>8</tmn>\\r\\n\\t\\t\\t\\t\\t<tmx>23</tmx>\\r\\n\\t\\t\\t\\t\\t<reliability>낮음</reliability>\\r\\n\\t\\t\\t\\t</data>\\r\\n\\r\\n\\t\\t\\t\\t\\r\\n\\t\\t\\t\\t<data>\\r\\n\\t\\t\\t\\t\\t<mode>A02</mode>\\r\\n\\t\\t\\t\\t\\t<tmEf>2019-04-21 12:00</tmEf>\\r\\n\\t\\t\\t\\t\\t<wf>흐림</wf>\\r\\n\\t\\t\\t\\t\\t<tmn>8</tmn>\\r\\n\\t\\t\\t\\t\\t<tmx>23</tmx>\\r\\n\\t\\t\\t\\t\\t<reliability>낮음</reliability>\\r\\n\\t\\t\\t\\t</data>\\r\\n\\r\\n\\t\\t\\t\\t\\r\\n\\t\\t\\t\\t<data>\\r\\n\\t\\t\\t\\t\\t<mode>A02</mode>\\r\\n\\t\\t\\t\\t\\t<tmEf>2019-04-22 00:00</tmEf>\\r\\n\\t\\t\\t\\t\\t<wf>구름많음</wf>\\r\\n\\t\\t\\t\\t\\t<tmn>12</tmn>\\r\\n\\t\\t\\t\\t\\t<tmx>22</tmx>\\r\\n\\t\\t\\t\\t\\t<reliability>보통</reliability>\\r\\n\\t\\t\\t\\t</data>\\r\\n\\r\\n\\t\\t\\t\\t\\r\\n\\t\\t\\t\\t<data>\\r\\n\\t\\t\\t\\t\\t<mode>A02</mode>\\r\\n\\t\\t\\t\\t\\t<tmEf>2019-04-22 12:00</tmEf>\\r\\n\\t\\t\\t\\t\\t<wf>구름많음</wf>\\r\\n\\t\\t\\t\\t\\t<tmn>12</tmn>\\r\\n\\t\\t\\t\\t\\t<tmx>22</tmx>\\r\\n\\t\\t\\t\\t\\t<reliability>보통</reliability>\\r\\n\\t\\t\\t\\t</data>\\r\\n\\r\\n\\t\\t\\t\\t\\r\\n\\t\\t\\t\\t<data>\\r\\n\\t\\t\\t\\t\\t<mode>A01</mode>\\r\\n\\t\\t\\t\\t\\t<tmEf>2019-04-23 00:00</tmEf>\\r\\n\\t\\t\\t\\t\\t<wf>맑음</wf>\\r\\n\\t\\t\\t\\t\\t<tmn>10</tmn>\\r\\n\\t\\t\\t\\t\\t<tmx>23</tmx>\\r\\n\\t\\t\\t\\t\\t<reliability>보통</reliability>\\r\\n\\t\\t\\t\\t</data>\\r\\n\\r\\n\\t\\t\\t\\t\\r\\n\\t\\t\\t\\t<data>\\r\\n\\t\\t\\t\\t\\t<mode>A01</mode>\\r\\n\\t\\t\\t\\t\\t<tmEf>2019-04-24 00:00</tmEf>\\r\\n\\t\\t\\t\\t\\t<wf>맑음</wf>\\r\\n\\t\\t\\t\\t\\t<tmn>9</tmn>\\r\\n\\t\\t\\t\\t\\t<tmx>23</tmx>\\r\\n\\t\\t\\t\\t\\t<reliability>보통</reliability>\\r\\n\\t\\t\\t\\t</data>\\r\\n\\r\\n\\t\\t\\t\\t\\r\\n\\t\\t\\t\\t<data>\\r\\n\\t\\t\\t\\t\\t<mode>A01</mode>\\r\\n\\t\\t\\t\\t\\t<tmEf>2019-04-25 00:00</tmEf>\\r\\n\\t\\t\\t\\t\\t<wf>구름많음</wf>\\r\\n\\t\\t\\t\\t\\t<tmn>8</tmn>\\r\\n\\t\\t\\t\\t\\t<tmx>20</tmx>\\r\\n\\t\\t\\t\\t\\t<reliability>보통</reliability>\\r\\n\\t\\t\\t\\t</data>\\r\\n\\r\\n\\r\\n\\t\\t</location>\\r\\n\\r\\n\\t\\t<location wl_ver=\"3\">\\r\\n\\t\\t\\t\\t<province>광주ㆍ전라남도</province>\\r\\n\\t\\t\\t\\t<city>흑산도</city>\\r\\n\\t\\t\\t\\t\\r\\n\\t\\t\\t\\t<data>\\r\\n\\t\\t\\t\\t\\t<mode>A02</mode>\\r\\n\\t\\t\\t\\t\\t<tmEf>2019-04-18 00:00</tmEf>\\r\\n\\t\\t\\t\\t\\t<wf>맑음</wf>\\r\\n\\t\\t\\t\\t\\t<tmn>11</tmn>\\r\\n\\t\\t\\t\\t\\t<tmx>19</tmx>\\r\\n\\t\\t\\t\\t\\t<reliability>높음</reliability>\\r\\n\\t\\t\\t\\t</data>\\r\\n\\r\\n\\t\\t\\t\\t\\r\\n\\t\\t\\t\\t<data>\\r\\n\\t\\t\\t\\t\\t<mode>A02</mode>\\r\\n\\t\\t\\t\\t\\t<tmEf>2019-04-18 12:00</tmEf>\\r\\n\\t\\t\\t\\t\\t<wf>맑음</wf>\\r\\n\\t\\t\\t\\t\\t<tmn>11</tmn>\\r\\n\\t\\t\\t\\t\\t<tmx>19</tmx>\\r\\n\\t\\t\\t\\t\\t<reliability>높음</reliability>\\r\\n\\t\\t\\t\\t</data>\\r\\n\\r\\n\\t\\t\\t\\t\\r\\n\\t\\t\\t\\t<data>\\r\\n\\t\\t\\t\\t\\t<mode>A02</mode>\\r\\n\\t\\t\\t\\t\\t<tmEf>2019-04-19 00:00</tmEf>\\r\\n\\t\\t\\t\\t\\t<wf>맑음</wf>\\r\\n\\t\\t\\t\\t\\t<tmn>9</tmn>\\r\\n\\t\\t\\t\\t\\t<tmx>16</tmx>\\r\\n\\t\\t\\t\\t\\t<reliability>높음</reliability>\\r\\n\\t\\t\\t\\t</data>\\r\\n\\r\\n\\t\\t\\t\\t\\r\\n\\t\\t\\t\\t<data>\\r\\n\\t\\t\\t\\t\\t<mode>A02</mode>\\r\\n\\t\\t\\t\\t\\t<tmEf>2019-04-19 12:00</tmEf>\\r\\n\\t\\t\\t\\t\\t<wf>맑음</wf>\\r\\n\\t\\t\\t\\t\\t<tmn>9</tmn>\\r\\n\\t\\t\\t\\t\\t<tmx>16</tmx>\\r\\n\\t\\t\\t\\t\\t<reliability>높음</reliability>\\r\\n\\t\\t\\t\\t</data>\\r\\n\\r\\n\\t\\t\\t\\t\\r\\n\\t\\t\\t\\t<data>\\r\\n\\t\\t\\t\\t\\t<mode>A02</mode>\\r\\n\\t\\t\\t\\t\\t<tmEf>2019-04-20 00:00</tmEf>\\r\\n\\t\\t\\t\\t\\t<wf>맑음</wf>\\r\\n\\t\\t\\t\\t\\t<tmn>10</tmn>\\r\\n\\t\\t\\t\\t\\t<tmx>18</tmx>\\r\\n\\t\\t\\t\\t\\t<reliability>높음</reliability>\\r\\n\\t\\t\\t\\t</data>\\r\\n\\r\\n\\t\\t\\t\\t\\r\\n\\t\\t\\t\\t<data>\\r\\n\\t\\t\\t\\t\\t<mode>A02</mode>\\r\\n\\t\\t\\t\\t\\t<tmEf>2019-04-20 12:00</tmEf>\\r\\n\\t\\t\\t\\t\\t<wf>맑음</wf>\\r\\n\\t\\t\\t\\t\\t<tmn>10</tmn>\\r\\n\\t\\t\\t\\t\\t<tmx>18</tmx>\\r\\n\\t\\t\\t\\t\\t<reliability>높음</reliability>\\r\\n\\t\\t\\t\\t</data>\\r\\n\\r\\n\\t\\t\\t\\t\\r\\n\\t\\t\\t\\t<data>\\r\\n\\t\\t\\t\\t\\t<mode>A02</mode>\\r\\n\\t\\t\\t\\t\\t<tmEf>2019-04-21 00:00</tmEf>\\r\\n\\t\\t\\t\\t\\t<wf>흐림</wf>\\r\\n\\t\\t\\t\\t\\t<tmn>11</tmn>\\r\\n\\t\\t\\t\\t\\t<tmx>17</tmx>\\r\\n\\t\\t\\t\\t\\t<reliability>낮음</reliability>\\r\\n\\t\\t\\t\\t</data>\\r\\n\\r\\n\\t\\t\\t\\t\\r\\n\\t\\t\\t\\t<data>\\r\\n\\t\\t\\t\\t\\t<mode>A02</mode>\\r\\n\\t\\t\\t\\t\\t<tmEf>2019-04-21 12:00</tmEf>\\r\\n\\t\\t\\t\\t\\t<wf>흐림</wf>\\r\\n\\t\\t\\t\\t\\t<tmn>11</tmn>\\r\\n\\t\\t\\t\\t\\t<tmx>17</tmx>\\r\\n\\t\\t\\t\\t\\t<reliability>낮음</reliability>\\r\\n\\t\\t\\t\\t</data>\\r\\n\\r\\n\\t\\t\\t\\t\\r\\n\\t\\t\\t\\t<data>\\r\\n\\t\\t\\t\\t\\t<mode>A02</mode>\\r\\n\\t\\t\\t\\t\\t<tmEf>2019-04-22 00:00</tmEf>\\r\\n\\t\\t\\t\\t\\t<wf>구름많음</wf>\\r\\n\\t\\t\\t\\t\\t<tmn>11</tmn>\\r\\n\\t\\t\\t\\t\\t<tmx>17</tmx>\\r\\n\\t\\t\\t\\t\\t<reliability>보통</reliability>\\r\\n\\t\\t\\t\\t</data>\\r\\n\\r\\n\\t\\t\\t\\t\\r\\n\\t\\t\\t\\t<data>\\r\\n\\t\\t\\t\\t\\t<mode>A02</mode>\\r\\n\\t\\t\\t\\t\\t<tmEf>2019-04-22 12:00</tmEf>\\r\\n\\t\\t\\t\\t\\t<wf>구름많음</wf>\\r\\n\\t\\t\\t\\t\\t<tmn>11</tmn>\\r\\n\\t\\t\\t\\t\\t<tmx>17</tmx>\\r\\n\\t\\t\\t\\t\\t<reliability>보통</reliability>\\r\\n\\t\\t\\t\\t</data>\\r\\n\\r\\n\\t\\t\\t\\t\\r\\n\\t\\t\\t\\t<data>\\r\\n\\t\\t\\t\\t\\t<mode>A01</mode>\\r\\n\\t\\t\\t\\t\\t<tmEf>2019-04-23 00:00</tmEf>\\r\\n\\t\\t\\t\\t\\t<wf>맑음</wf>\\r\\n\\t\\t\\t\\t\\t<tmn>10</tmn>\\r\\n\\t\\t\\t\\t\\t<tmx>17</tmx>\\r\\n\\t\\t\\t\\t\\t<reliability>보통</reliability>\\r\\n\\t\\t\\t\\t</data>\\r\\n\\r\\n\\t\\t\\t\\t\\r\\n\\t\\t\\t\\t<data>\\r\\n\\t\\t\\t\\t\\t<mode>A01</mode>\\r\\n\\t\\t\\t\\t\\t<tmEf>2019-04-24 00:00</tmEf>\\r\\n\\t\\t\\t\\t\\t<wf>맑음</wf>\\r\\n\\t\\t\\t\\t\\t<tmn>10</tmn>\\r\\n\\t\\t\\t\\t\\t<tmx>17</tmx>\\r\\n\\t\\t\\t\\t\\t<reliability>보통</reliability>\\r\\n\\t\\t\\t\\t</data>\\r\\n\\r\\n\\t\\t\\t\\t\\r\\n\\t\\t\\t\\t<data>\\r\\n\\t\\t\\t\\t\\t<mode>A01</mode>\\r\\n\\t\\t\\t\\t\\t<tmEf>2019-04-25 00:00</tmEf>\\r\\n\\t\\t\\t\\t\\t<wf>구름많음</wf>\\r\\n\\t\\t\\t\\t\\t<tmn>10</tmn>\\r\\n\\t\\t\\t\\t\\t<tmx>16</tmx>\\r\\n\\t\\t\\t\\t\\t<reliability>보통</reliability>\\r\\n\\t\\t\\t\\t</data>\\r\\n\\r\\n\\r\\n\\t\\t</location>\\r\\n\\r\\n\\t\\t<location wl_ver=\"3\">\\r\\n\\t\\t\\t\\t<province>광주ㆍ전라남도</province>\\r\\n\\t\\t\\t\\t<city>함평</city>\\r\\n\\t\\t\\t\\t\\r\\n\\t\\t\\t\\t<data>\\r\\n\\t\\t\\t\\t\\t<mode>A02</mode>\\r\\n\\t\\t\\t\\t\\t<tmEf>2019-04-18 00:00</tmEf>\\r\\n\\t\\t\\t\\t\\t<wf>맑음</wf>\\r\\n\\t\\t\\t\\t\\t<tmn>11</tmn>\\r\\n\\t\\t\\t\\t\\t<tmx>22</tmx>\\r\\n\\t\\t\\t\\t\\t<reliability>높음</reliability>\\r\\n\\t\\t\\t\\t</data>\\r\\n\\r\\n\\t\\t\\t\\t\\r\\n\\t\\t\\t\\t<data>\\r\\n\\t\\t\\t\\t\\t<mode>A02</mode>\\r\\n\\t\\t\\t\\t\\t<tmEf>2019-04-18 12:00</tmEf>\\r\\n\\t\\t\\t\\t\\t<wf>맑음</wf>\\r\\n\\t\\t\\t\\t\\t<tmn>11</tmn>\\r\\n\\t\\t\\t\\t\\t<tmx>22</tmx>\\r\\n\\t\\t\\t\\t\\t<reliability>높음</reliability>\\r\\n\\t\\t\\t\\t</data>\\r\\n\\r\\n\\t\\t\\t\\t\\r\\n\\t\\t\\t\\t<data>\\r\\n\\t\\t\\t\\t\\t<mode>A02</mode>\\r\\n\\t\\t\\t\\t\\t<tmEf>2019-04-19 00:00</tmEf>\\r\\n\\t\\t\\t\\t\\t<wf>맑음</wf>\\r\\n\\t\\t\\t\\t\\t<tmn>9</tmn>\\r\\n\\t\\t\\t\\t\\t<tmx>21</tmx>\\r\\n\\t\\t\\t\\t\\t<reliability>높음</reliability>\\r\\n\\t\\t\\t\\t</data>\\r\\n\\r\\n\\t\\t\\t\\t\\r\\n\\t\\t\\t\\t<data>\\r\\n\\t\\t\\t\\t\\t<mode>A02</mode>\\r\\n\\t\\t\\t\\t\\t<tmEf>2019-04-19 12:00</tmEf>\\r\\n\\t\\t\\t\\t\\t<wf>맑음</wf>\\r\\n\\t\\t\\t\\t\\t<tmn>9</tmn>\\r\\n\\t\\t\\t\\t\\t<tmx>21</tmx>\\r\\n\\t\\t\\t\\t\\t<reliability>높음</reliability>\\r\\n\\t\\t\\t\\t</data>\\r\\n\\r\\n\\t\\t\\t\\t\\r\\n\\t\\t\\t\\t<data>\\r\\n\\t\\t\\t\\t\\t<mode>A02</mode>\\r\\n\\t\\t\\t\\t\\t<tmEf>2019-04-20 00:00</tmEf>\\r\\n\\t\\t\\t\\t\\t<wf>맑음</wf>\\r\\n\\t\\t\\t\\t\\t<tmn>9</tmn>\\r\\n\\t\\t\\t\\t\\t<tmx>22</tmx>\\r\\n\\t\\t\\t\\t\\t<reliability>높음</reliability>\\r\\n\\t\\t\\t\\t</data>\\r\\n\\r\\n\\t\\t\\t\\t\\r\\n\\t\\t\\t\\t<data>\\r\\n\\t\\t\\t\\t\\t<mode>A02</mode>\\r\\n\\t\\t\\t\\t\\t<tmEf>2019-04-20 12:00</tmEf>\\r\\n\\t\\t\\t\\t\\t<wf>맑음</wf>\\r\\n\\t\\t\\t\\t\\t<tmn>9</tmn>\\r\\n\\t\\t\\t\\t\\t<tmx>22</tmx>\\r\\n\\t\\t\\t\\t\\t<reliability>높음</reliability>\\r\\n\\t\\t\\t\\t</data>\\r\\n\\r\\n\\t\\t\\t\\t\\r\\n\\t\\t\\t\\t<data>\\r\\n\\t\\t\\t\\t\\t<mode>A02</mode>\\r\\n\\t\\t\\t\\t\\t<tmEf>2019-04-21 00:00</tmEf>\\r\\n\\t\\t\\t\\t\\t<wf>흐림</wf>\\r\\n\\t\\t\\t\\t\\t<tmn>10</tmn>\\r\\n\\t\\t\\t\\t\\t<tmx>22</tmx>\\r\\n\\t\\t\\t\\t\\t<reliability>낮음</reliability>\\r\\n\\t\\t\\t\\t</data>\\r\\n\\r\\n\\t\\t\\t\\t\\r\\n\\t\\t\\t\\t<data>\\r\\n\\t\\t\\t\\t\\t<mode>A02</mode>\\r\\n\\t\\t\\t\\t\\t<tmEf>2019-04-21 12:00</tmEf>\\r\\n\\t\\t\\t\\t\\t<wf>흐림</wf>\\r\\n\\t\\t\\t\\t\\t<tmn>10</tmn>\\r\\n\\t\\t\\t\\t\\t<tmx>22</tmx>\\r\\n\\t\\t\\t\\t\\t<reliability>낮음</reliability>\\r\\n\\t\\t\\t\\t</data>\\r\\n\\r\\n\\t\\t\\t\\t\\r\\n\\t\\t\\t\\t<data>\\r\\n\\t\\t\\t\\t\\t<mode>A02</mode>\\r\\n\\t\\t\\t\\t\\t<tmEf>2019-04-22 00:00</tmEf>\\r\\n\\t\\t\\t\\t\\t<wf>구름많음</wf>\\r\\n\\t\\t\\t\\t\\t<tmn>12</tmn>\\r\\n\\t\\t\\t\\t\\t<tmx>22</tmx>\\r\\n\\t\\t\\t\\t\\t<reliability>보통</reliability>\\r\\n\\t\\t\\t\\t</data>\\r\\n\\r\\n\\t\\t\\t\\t\\r\\n\\t\\t\\t\\t<data>\\r\\n\\t\\t\\t\\t\\t<mode>A02</mode>\\r\\n\\t\\t\\t\\t\\t<tmEf>2019-04-22 12:00</tmEf>\\r\\n\\t\\t\\t\\t\\t<wf>구름많음</wf>\\r\\n\\t\\t\\t\\t\\t<tmn>12</tmn>\\r\\n\\t\\t\\t\\t\\t<tmx>22</tmx>\\r\\n\\t\\t\\t\\t\\t<reliability>보통</reliability>\\r\\n\\t\\t\\t\\t</data>\\r\\n\\r\\n\\t\\t\\t\\t\\r\\n\\t\\t\\t\\t<data>\\r\\n\\t\\t\\t\\t\\t<mode>A01</mode>\\r\\n\\t\\t\\t\\t\\t<tmEf>2019-04-23 00:00</tmEf>\\r\\n\\t\\t\\t\\t\\t<wf>맑음</wf>\\r\\n\\t\\t\\t\\t\\t<tmn>11</tmn>\\r\\n\\t\\t\\t\\t\\t<tmx>22</tmx>\\r\\n\\t\\t\\t\\t\\t<reliability>보통</reliability>\\r\\n\\t\\t\\t\\t</data>\\r\\n\\r\\n\\t\\t\\t\\t\\r\\n\\t\\t\\t\\t<data>\\r\\n\\t\\t\\t\\t\\t<mode>A01</mode>\\r\\n\\t\\t\\t\\t\\t<tmEf>2019-04-24 00:00</tmEf>\\r\\n\\t\\t\\t\\t\\t<wf>맑음</wf>\\r\\n\\t\\t\\t\\t\\t<tmn>10</tmn>\\r\\n\\t\\t\\t\\t\\t<tmx>21</tmx>\\r\\n\\t\\t\\t\\t\\t<reliability>보통</reliability>\\r\\n\\t\\t\\t\\t</data>\\r\\n\\r\\n\\t\\t\\t\\t\\r\\n\\t\\t\\t\\t<data>\\r\\n\\t\\t\\t\\t\\t<mode>A01</mode>\\r\\n\\t\\t\\t\\t\\t<tmEf>2019-04-25 00:00</tmEf>\\r\\n\\t\\t\\t\\t\\t<wf>구름많음</wf>\\r\\n\\t\\t\\t\\t\\t<tmn>9</tmn>\\r\\n\\t\\t\\t\\t\\t<tmx>19</tmx>\\r\\n\\t\\t\\t\\t\\t<reliability>보통</reliability>\\r\\n\\t\\t\\t\\t</data>\\r\\n\\r\\n\\r\\n\\t\\t</location>\\r\\n\\r\\n\\t\\t<location wl_ver=\"3\">\\r\\n\\t\\t\\t\\t<province>광주ㆍ전라남도</province>\\r\\n\\t\\t\\t\\t<city>영광</city>\\r\\n\\t\\t\\t\\t\\r\\n\\t\\t\\t\\t<data>\\r\\n\\t\\t\\t\\t\\t<mode>A02</mode>\\r\\n\\t\\t\\t\\t\\t<tmEf>2019-04-18 00:00</tmEf>\\r\\n\\t\\t\\t\\t\\t<wf>맑음</wf>\\r\\n\\t\\t\\t\\t\\t<tmn>10</tmn>\\r\\n\\t\\t\\t\\t\\t<tmx>21</tmx>\\r\\n\\t\\t\\t\\t\\t<reliability>높음</reliability>\\r\\n\\t\\t\\t\\t</data>\\r\\n\\r\\n\\t\\t\\t\\t\\r\\n\\t\\t\\t\\t<data>\\r\\n\\t\\t\\t\\t\\t<mode>A02</mode>\\r\\n\\t\\t\\t\\t\\t<tmEf>2019-04-18 12:00</tmEf>\\r\\n\\t\\t\\t\\t\\t<wf>맑음</wf>\\r\\n\\t\\t\\t\\t\\t<tmn>10</tmn>\\r\\n\\t\\t\\t\\t\\t<tmx>21</tmx>\\r\\n\\t\\t\\t\\t\\t<reliability>높음</reliability>\\r\\n\\t\\t\\t\\t</data>\\r\\n\\r\\n\\t\\t\\t\\t\\r\\n\\t\\t\\t\\t<data>\\r\\n\\t\\t\\t\\t\\t<mode>A02</mode>\\r\\n\\t\\t\\t\\t\\t<tmEf>2019-04-19 00:00</tmEf>\\r\\n\\t\\t\\t\\t\\t<wf>맑음</wf>\\r\\n\\t\\t\\t\\t\\t<tmn>8</tmn>\\r\\n\\t\\t\\t\\t\\t<tmx>19</tmx>\\r\\n\\t\\t\\t\\t\\t<reliability>높음</reliability>\\r\\n\\t\\t\\t\\t</data>\\r\\n\\r\\n\\t\\t\\t\\t\\r\\n\\t\\t\\t\\t<data>\\r\\n\\t\\t\\t\\t\\t<mode>A02</mode>\\r\\n\\t\\t\\t\\t\\t<tmEf>2019-04-19 12:00</tmEf>\\r\\n\\t\\t\\t\\t\\t<wf>맑음</wf>\\r\\n\\t\\t\\t\\t\\t<tmn>8</tmn>\\r\\n\\t\\t\\t\\t\\t<tmx>19</tmx>\\r\\n\\t\\t\\t\\t\\t<reliability>높음</reliability>\\r\\n\\t\\t\\t\\t</data>\\r\\n\\r\\n\\t\\t\\t\\t\\r\\n\\t\\t\\t\\t<data>\\r\\n\\t\\t\\t\\t\\t<mode>A02</mode>\\r\\n\\t\\t\\t\\t\\t<tmEf>2019-04-20 00:00</tmEf>\\r\\n\\t\\t\\t\\t\\t<wf>맑음</wf>\\r\\n\\t\\t\\t\\t\\t<tmn>8</tmn>\\r\\n\\t\\t\\t\\t\\t<tmx>22</tmx>\\r\\n\\t\\t\\t\\t\\t<reliability>높음</reliability>\\r\\n\\t\\t\\t\\t</data>\\r\\n\\r\\n\\t\\t\\t\\t\\r\\n\\t\\t\\t\\t<data>\\r\\n\\t\\t\\t\\t\\t<mode>A02</mode>\\r\\n\\t\\t\\t\\t\\t<tmEf>2019-04-20 12:00</tmEf>\\r\\n\\t\\t\\t\\t\\t<wf>맑음</wf>\\r\\n\\t\\t\\t\\t\\t<tmn>8</tmn>\\r\\n\\t\\t\\t\\t\\t<tmx>22</tmx>\\r\\n\\t\\t\\t\\t\\t<reliability>높음</reliability>\\r\\n\\t\\t\\t\\t</data>\\r\\n\\r\\n\\t\\t\\t\\t\\r\\n\\t\\t\\t\\t<data>\\r\\n\\t\\t\\t\\t\\t<mode>A02</mode>\\r\\n\\t\\t\\t\\t\\t<tmEf>2019-04-21 00:00</tmEf>\\r\\n\\t\\t\\t\\t\\t<wf>흐림</wf>\\r\\n\\t\\t\\t\\t\\t<tmn>9</tmn>\\r\\n\\t\\t\\t\\t\\t<tmx>21</tmx>\\r\\n\\t\\t\\t\\t\\t<reliability>낮음</reliability>\\r\\n\\t\\t\\t\\t</data>\\r\\n\\r\\n\\t\\t\\t\\t\\r\\n\\t\\t\\t\\t<data>\\r\\n\\t\\t\\t\\t\\t<mode>A02</mode>\\r\\n\\t\\t\\t\\t\\t<tmEf>2019-04-21 12:00</tmEf>\\r\\n\\t\\t\\t\\t\\t<wf>흐림</wf>\\r\\n\\t\\t\\t\\t\\t<tmn>9</tmn>\\r\\n\\t\\t\\t\\t\\t<tmx>21</tmx>\\r\\n\\t\\t\\t\\t\\t<reliability>낮음</reliability>\\r\\n\\t\\t\\t\\t</data>\\r\\n\\r\\n\\t\\t\\t\\t\\r\\n\\t\\t\\t\\t<data>\\r\\n\\t\\t\\t\\t\\t<mode>A02</mode>\\r\\n\\t\\t\\t\\t\\t<tmEf>2019-04-22 00:00</tmEf>\\r\\n\\t\\t\\t\\t\\t<wf>구름많음</wf>\\r\\n\\t\\t\\t\\t\\t<tmn>12</tmn>\\r\\n\\t\\t\\t\\t\\t<tmx>21</tmx>\\r\\n\\t\\t\\t\\t\\t<reliability>보통</reliability>\\r\\n\\t\\t\\t\\t</data>\\r\\n\\r\\n\\t\\t\\t\\t\\r\\n\\t\\t\\t\\t<data>\\r\\n\\t\\t\\t\\t\\t<mode>A02</mode>\\r\\n\\t\\t\\t\\t\\t<tmEf>2019-04-22 12:00</tmEf>\\r\\n\\t\\t\\t\\t\\t<wf>구름많음</wf>\\r\\n\\t\\t\\t\\t\\t<tmn>12</tmn>\\r\\n\\t\\t\\t\\t\\t<tmx>21</tmx>\\r\\n\\t\\t\\t\\t\\t<reliability>보통</reliability>\\r\\n\\t\\t\\t\\t</data>\\r\\n\\r\\n\\t\\t\\t\\t\\r\\n\\t\\t\\t\\t<data>\\r\\n\\t\\t\\t\\t\\t<mode>A01</mode>\\r\\n\\t\\t\\t\\t\\t<tmEf>2019-04-23 00:00</tmEf>\\r\\n\\t\\t\\t\\t\\t<wf>맑음</wf>\\r\\n\\t\\t\\t\\t\\t<tmn>10</tmn>\\r\\n\\t\\t\\t\\t\\t<tmx>21</tmx>\\r\\n\\t\\t\\t\\t\\t<reliability>보통</reliability>\\r\\n\\t\\t\\t\\t</data>\\r\\n\\r\\n\\t\\t\\t\\t\\r\\n\\t\\t\\t\\t<data>\\r\\n\\t\\t\\t\\t\\t<mode>A01</mode>\\r\\n\\t\\t\\t\\t\\t<tmEf>2019-04-24 00:00</tmEf>\\r\\n\\t\\t\\t\\t\\t<wf>맑음</wf>\\r\\n\\t\\t\\t\\t\\t<tmn>9</tmn>\\r\\n\\t\\t\\t\\t\\t<tmx>22</tmx>\\r\\n\\t\\t\\t\\t\\t<reliability>보통</reliability>\\r\\n\\t\\t\\t\\t</data>\\r\\n\\r\\n\\t\\t\\t\\t\\r\\n\\t\\t\\t\\t<data>\\r\\n\\t\\t\\t\\t\\t<mode>A01</mode>\\r\\n\\t\\t\\t\\t\\t<tmEf>2019-04-25 00:00</tmEf>\\r\\n\\t\\t\\t\\t\\t<wf>구름많음</wf>\\r\\n\\t\\t\\t\\t\\t<tmn>10</tmn>\\r\\n\\t\\t\\t\\t\\t<tmx>21</tmx>\\r\\n\\t\\t\\t\\t\\t<reliability>보통</reliability>\\r\\n\\t\\t\\t\\t</data>\\r\\n\\r\\n\\r\\n\\t\\t</location>\\r\\n\\r\\n\\t\\t<location wl_ver=\"3\">\\r\\n\\t\\t\\t\\t<province>광주ㆍ전라남도</province>\\r\\n\\t\\t\\t\\t<city>진도</city>\\r\\n\\t\\t\\t\\t\\r\\n\\t\\t\\t\\t<data>\\r\\n\\t\\t\\t\\t\\t<mode>A02</mode>\\r\\n\\t\\t\\t\\t\\t<tmEf>2019-04-18 00:00</tmEf>\\r\\n\\t\\t\\t\\t\\t<wf>맑음</wf>\\r\\n\\t\\t\\t\\t\\t<tmn>10</tmn>\\r\\n\\t\\t\\t\\t\\t<tmx>20</tmx>\\r\\n\\t\\t\\t\\t\\t<reliability>높음</reliability>\\r\\n\\t\\t\\t\\t</data>\\r\\n\\r\\n\\t\\t\\t\\t\\r\\n\\t\\t\\t\\t<data>\\r\\n\\t\\t\\t\\t\\t<mode>A02</mode>\\r\\n\\t\\t\\t\\t\\t<tmEf>2019-04-18 12:00</tmEf>\\r\\n\\t\\t\\t\\t\\t<wf>맑음</wf>\\r\\n\\t\\t\\t\\t\\t<tmn>10</tmn>\\r\\n\\t\\t\\t\\t\\t<tmx>20</tmx>\\r\\n\\t\\t\\t\\t\\t<reliability>높음</reliability>\\r\\n\\t\\t\\t\\t</data>\\r\\n\\r\\n\\t\\t\\t\\t\\r\\n\\t\\t\\t\\t<data>\\r\\n\\t\\t\\t\\t\\t<mode>A02</mode>\\r\\n\\t\\t\\t\\t\\t<tmEf>2019-04-19 00:00</tmEf>\\r\\n\\t\\t\\t\\t\\t<wf>맑음</wf>\\r\\n\\t\\t\\t\\t\\t<tmn>9</tmn>\\r\\n\\t\\t\\t\\t\\t<tmx>18</tmx>\\r\\n\\t\\t\\t\\t\\t<reliability>높음</reliability>\\r\\n\\t\\t\\t\\t</data>\\r\\n\\r\\n\\t\\t\\t\\t\\r\\n\\t\\t\\t\\t<data>\\r\\n\\t\\t\\t\\t\\t<mode>A02</mode>\\r\\n\\t\\t\\t\\t\\t<tmEf>2019-04-19 12:00</tmEf>\\r\\n\\t\\t\\t\\t\\t<wf>맑음</wf>\\r\\n\\t\\t\\t\\t\\t<tmn>9</tmn>\\r\\n\\t\\t\\t\\t\\t<tmx>18</tmx>\\r\\n\\t\\t\\t\\t\\t<reliability>높음</reliability>\\r\\n\\t\\t\\t\\t</data>\\r\\n\\r\\n\\t\\t\\t\\t\\r\\n\\t\\t\\t\\t<data>\\r\\n\\t\\t\\t\\t\\t<mode>A02</mode>\\r\\n\\t\\t\\t\\t\\t<tmEf>2019-04-20 00:00</tmEf>\\r\\n\\t\\t\\t\\t\\t<wf>맑음</wf>\\r\\n\\t\\t\\t\\t\\t<tmn>9</tmn>\\r\\n\\t\\t\\t\\t\\t<tmx>19</tmx>\\r\\n\\t\\t\\t\\t\\t<reliability>높음</reliability>\\r\\n\\t\\t\\t\\t</data>\\r\\n\\r\\n\\t\\t\\t\\t\\r\\n\\t\\t\\t\\t<data>\\r\\n\\t\\t\\t\\t\\t<mode>A02</mode>\\r\\n\\t\\t\\t\\t\\t<tmEf>2019-04-20 12:00</tmEf>\\r\\n\\t\\t\\t\\t\\t<wf>맑음</wf>\\r\\n\\t\\t\\t\\t\\t<tmn>9</tmn>\\r\\n\\t\\t\\t\\t\\t<tmx>19</tmx>\\r\\n\\t\\t\\t\\t\\t<reliability>높음</reliability>\\r\\n\\t\\t\\t\\t</data>\\r\\n\\r\\n\\t\\t\\t\\t\\r\\n\\t\\t\\t\\t<data>\\r\\n\\t\\t\\t\\t\\t<mode>A02</mode>\\r\\n\\t\\t\\t\\t\\t<tmEf>2019-04-21 00:00</tmEf>\\r\\n\\t\\t\\t\\t\\t<wf>흐림</wf>\\r\\n\\t\\t\\t\\t\\t<tmn>11</tmn>\\r\\n\\t\\t\\t\\t\\t<tmx>20</tmx>\\r\\n\\t\\t\\t\\t\\t<reliability>낮음</reliability>\\r\\n\\t\\t\\t\\t</data>\\r\\n\\r\\n\\t\\t\\t\\t\\r\\n\\t\\t\\t\\t<data>\\r\\n\\t\\t\\t\\t\\t<mode>A02</mode>\\r\\n\\t\\t\\t\\t\\t<tmEf>2019-04-21 12:00</tmEf>\\r\\n\\t\\t\\t\\t\\t<wf>흐림</wf>\\r\\n\\t\\t\\t\\t\\t<tmn>11</tmn>\\r\\n\\t\\t\\t\\t\\t<tmx>20</tmx>\\r\\n\\t\\t\\t\\t\\t<reliability>낮음</reliability>\\r\\n\\t\\t\\t\\t</data>\\r\\n\\r\\n\\t\\t\\t\\t\\r\\n\\t\\t\\t\\t<data>\\r\\n\\t\\t\\t\\t\\t<mode>A02</mode>\\r\\n\\t\\t\\t\\t\\t<tmEf>2019-04-22 00:00</tmEf>\\r\\n\\t\\t\\t\\t\\t<wf>구름많음</wf>\\r\\n\\t\\t\\t\\t\\t<tmn>11</tmn>\\r\\n\\t\\t\\t\\t\\t<tmx>19</tmx>\\r\\n\\t\\t\\t\\t\\t<reliability>보통</reliability>\\r\\n\\t\\t\\t\\t</data>\\r\\n\\r\\n\\t\\t\\t\\t\\r\\n\\t\\t\\t\\t<data>\\r\\n\\t\\t\\t\\t\\t<mode>A02</mode>\\r\\n\\t\\t\\t\\t\\t<tmEf>2019-04-22 12:00</tmEf>\\r\\n\\t\\t\\t\\t\\t<wf>구름많음</wf>\\r\\n\\t\\t\\t\\t\\t<tmn>11</tmn>\\r\\n\\t\\t\\t\\t\\t<tmx>19</tmx>\\r\\n\\t\\t\\t\\t\\t<reliability>보통</reliability>\\r\\n\\t\\t\\t\\t</data>\\r\\n\\r\\n\\t\\t\\t\\t\\r\\n\\t\\t\\t\\t<data>\\r\\n\\t\\t\\t\\t\\t<mode>A01</mode>\\r\\n\\t\\t\\t\\t\\t<tmEf>2019-04-23 00:00</tmEf>\\r\\n\\t\\t\\t\\t\\t<wf>맑음</wf>\\r\\n\\t\\t\\t\\t\\t<tmn>11</tmn>\\r\\n\\t\\t\\t\\t\\t<tmx>19</tmx>\\r\\n\\t\\t\\t\\t\\t<reliability>보통</reliability>\\r\\n\\t\\t\\t\\t</data>\\r\\n\\r\\n\\t\\t\\t\\t\\r\\n\\t\\t\\t\\t<data>\\r\\n\\t\\t\\t\\t\\t<mode>A01</mode>\\r\\n\\t\\t\\t\\t\\t<tmEf>2019-04-24 00:00</tmEf>\\r\\n\\t\\t\\t\\t\\t<wf>맑음</wf>\\r\\n\\t\\t\\t\\t\\t<tmn>10</tmn>\\r\\n\\t\\t\\t\\t\\t<tmx>20</tmx>\\r\\n\\t\\t\\t\\t\\t<reliability>보통</reliability>\\r\\n\\t\\t\\t\\t</data>\\r\\n\\r\\n\\t\\t\\t\\t\\r\\n\\t\\t\\t\\t<data>\\r\\n\\t\\t\\t\\t\\t<mode>A01</mode>\\r\\n\\t\\t\\t\\t\\t<tmEf>2019-04-25 00:00</tmEf>\\r\\n\\t\\t\\t\\t\\t<wf>구름많음</wf>\\r\\n\\t\\t\\t\\t\\t<tmn>9</tmn>\\r\\n\\t\\t\\t\\t\\t<tmx>19</tmx>\\r\\n\\t\\t\\t\\t\\t<reliability>보통</reliability>\\r\\n\\t\\t\\t\\t</data>\\r\\n\\r\\n\\r\\n\\t\\t</location>\\r\\n\\r\\n\\t\\t<location wl_ver=\"3\">\\r\\n\\t\\t\\t\\t<province>광주ㆍ전라남도</province>\\r\\n\\t\\t\\t\\t<city>영암</city>\\r\\n\\t\\t\\t\\t\\r\\n\\t\\t\\t\\t<data>\\r\\n\\t\\t\\t\\t\\t<mode>A02</mode>\\r\\n\\t\\t\\t\\t\\t<tmEf>2019-04-18 00:00</tmEf>\\r\\n\\t\\t\\t\\t\\t<wf>맑음</wf>\\r\\n\\t\\t\\t\\t\\t<tmn>10</tmn>\\r\\n\\t\\t\\t\\t\\t<tmx>23</tmx>\\r\\n\\t\\t\\t\\t\\t<reliability>높음</reliability>\\r\\n\\t\\t\\t\\t</data>\\r\\n\\r\\n\\t\\t\\t\\t\\r\\n\\t\\t\\t\\t<data>\\r\\n\\t\\t\\t\\t\\t<mode>A02</mode>\\r\\n\\t\\t\\t\\t\\t<tmEf>2019-04-18 12:00</tmEf>\\r\\n\\t\\t\\t\\t\\t<wf>맑음</wf>\\r\\n\\t\\t\\t\\t\\t<tmn>10</tmn>\\r\\n\\t\\t\\t\\t\\t<tmx>23</tmx>\\r\\n\\t\\t\\t\\t\\t<reliability>높음</reliability>\\r\\n\\t\\t\\t\\t</data>\\r\\n\\r\\n\\t\\t\\t\\t\\r\\n\\t\\t\\t\\t<data>\\r\\n\\t\\t\\t\\t\\t<mode>A02</mode>\\r\\n\\t\\t\\t\\t\\t<tmEf>2019-04-19 00:00</tmEf>\\r\\n\\t\\t\\t\\t\\t<wf>맑음</wf>\\r\\n\\t\\t\\t\\t\\t<tmn>9</tmn>\\r\\n\\t\\t\\t\\t\\t<tmx>20</tmx>\\r\\n\\t\\t\\t\\t\\t<reliability>높음</reliability>\\r\\n\\t\\t\\t\\t</data>\\r\\n\\r\\n\\t\\t\\t\\t\\r\\n\\t\\t\\t\\t<data>\\r\\n\\t\\t\\t\\t\\t<mode>A02</mode>\\r\\n\\t\\t\\t\\t\\t<tmEf>2019-04-19 12:00</tmEf>\\r\\n\\t\\t\\t\\t\\t<wf>맑음</wf>\\r\\n\\t\\t\\t\\t\\t<tmn>9</tmn>\\r\\n\\t\\t\\t\\t\\t<tmx>20</tmx>\\r\\n\\t\\t\\t\\t\\t<reliability>높음</reliability>\\r\\n\\t\\t\\t\\t</data>\\r\\n\\r\\n\\t\\t\\t\\t\\r\\n\\t\\t\\t\\t<data>\\r\\n\\t\\t\\t\\t\\t<mode>A02</mode>\\r\\n\\t\\t\\t\\t\\t<tmEf>2019-04-20 00:00</tmEf>\\r\\n\\t\\t\\t\\t\\t<wf>맑음</wf>\\r\\n\\t\\t\\t\\t\\t<tmn>8</tmn>\\r\\n\\t\\t\\t\\t\\t<tmx>22</tmx>\\r\\n\\t\\t\\t\\t\\t<reliability>높음</reliability>\\r\\n\\t\\t\\t\\t</data>\\r\\n\\r\\n\\t\\t\\t\\t\\r\\n\\t\\t\\t\\t<data>\\r\\n\\t\\t\\t\\t\\t<mode>A02</mode>\\r\\n\\t\\t\\t\\t\\t<tmEf>2019-04-20 12:00</tmEf>\\r\\n\\t\\t\\t\\t\\t<wf>맑음</wf>\\r\\n\\t\\t\\t\\t\\t<tmn>8</tmn>\\r\\n\\t\\t\\t\\t\\t<tmx>22</tmx>\\r\\n\\t\\t\\t\\t\\t<reliability>높음</reliability>\\r\\n\\t\\t\\t\\t</data>\\r\\n\\r\\n\\t\\t\\t\\t\\r\\n\\t\\t\\t\\t<data>\\r\\n\\t\\t\\t\\t\\t<mode>A02</mode>\\r\\n\\t\\t\\t\\t\\t<tmEf>2019-04-21 00:00</tmEf>\\r\\n\\t\\t\\t\\t\\t<wf>흐림</wf>\\r\\n\\t\\t\\t\\t\\t<tmn>9</tmn>\\r\\n\\t\\t\\t\\t\\t<tmx>22</tmx>\\r\\n\\t\\t\\t\\t\\t<reliability>낮음</reliability>\\r\\n\\t\\t\\t\\t</data>\\r\\n\\r\\n\\t\\t\\t\\t\\r\\n\\t\\t\\t\\t<data>\\r\\n\\t\\t\\t\\t\\t<mode>A02</mode>\\r\\n\\t\\t\\t\\t\\t<tmEf>2019-04-21 12:00</tmEf>\\r\\n\\t\\t\\t\\t\\t<wf>흐림</wf>\\r\\n\\t\\t\\t\\t\\t<tmn>9</tmn>\\r\\n\\t\\t\\t\\t\\t<tmx>22</tmx>\\r\\n\\t\\t\\t\\t\\t<reliability>낮음</reliability>\\r\\n\\t\\t\\t\\t</data>\\r\\n\\r\\n\\t\\t\\t\\t\\r\\n\\t\\t\\t\\t<data>\\r\\n\\t\\t\\t\\t\\t<mode>A02</mode>\\r\\n\\t\\t\\t\\t\\t<tmEf>2019-04-22 00:00</tmEf>\\r\\n\\t\\t\\t\\t\\t<wf>구름많음</wf>\\r\\n\\t\\t\\t\\t\\t<tmn>12</tmn>\\r\\n\\t\\t\\t\\t\\t<tmx>22</tmx>\\r\\n\\t\\t\\t\\t\\t<reliability>보통</reliability>\\r\\n\\t\\t\\t\\t</data>\\r\\n\\r\\n\\t\\t\\t\\t\\r\\n\\t\\t\\t\\t<data>\\r\\n\\t\\t\\t\\t\\t<mode>A02</mode>\\r\\n\\t\\t\\t\\t\\t<tmEf>2019-04-22 12:00</tmEf>\\r\\n\\t\\t\\t\\t\\t<wf>구름많음</wf>\\r\\n\\t\\t\\t\\t\\t<tmn>12</tmn>\\r\\n\\t\\t\\t\\t\\t<tmx>22</tmx>\\r\\n\\t\\t\\t\\t\\t<reliability>보통</reliability>\\r\\n\\t\\t\\t\\t</data>\\r\\n\\r\\n\\t\\t\\t\\t\\r\\n\\t\\t\\t\\t<data>\\r\\n\\t\\t\\t\\t\\t<mode>A01</mode>\\r\\n\\t\\t\\t\\t\\t<tmEf>2019-04-23 00:00</tmEf>\\r\\n\\t\\t\\t\\t\\t<wf>맑음</wf>\\r\\n\\t\\t\\t\\t\\t<tmn>11</tmn>\\r\\n\\t\\t\\t\\t\\t<tmx>22</tmx>\\r\\n\\t\\t\\t\\t\\t<reliability>보통</reliability>\\r\\n\\t\\t\\t\\t</data>\\r\\n\\r\\n\\t\\t\\t\\t\\r\\n\\t\\t\\t\\t<data>\\r\\n\\t\\t\\t\\t\\t<mode>A01</mode>\\r\\n\\t\\t\\t\\t\\t<tmEf>2019-04-24 00:00</tmEf>\\r\\n\\t\\t\\t\\t\\t<wf>맑음</wf>\\r\\n\\t\\t\\t\\t\\t<tmn>10</tmn>\\r\\n\\t\\t\\t\\t\\t<tmx>22</tmx>\\r\\n\\t\\t\\t\\t\\t<reliability>보통</reliability>\\r\\n\\t\\t\\t\\t</data>\\r\\n\\r\\n\\t\\t\\t\\t\\r\\n\\t\\t\\t\\t<data>\\r\\n\\t\\t\\t\\t\\t<mode>A01</mode>\\r\\n\\t\\t\\t\\t\\t<tmEf>2019-04-25 00:00</tmEf>\\r\\n\\t\\t\\t\\t\\t<wf>구름많음</wf>\\r\\n\\t\\t\\t\\t\\t<tmn>8</tmn>\\r\\n\\t\\t\\t\\t\\t<tmx>19</tmx>\\r\\n\\t\\t\\t\\t\\t<reliability>보통</reliability>\\r\\n\\t\\t\\t\\t</data>\\r\\n\\r\\n\\r\\n\\t\\t</location>\\r\\n\\r\\n\\t\\t<location wl_ver=\"3\">\\r\\n\\t\\t\\t\\t<province>광주ㆍ전라남도</province>\\r\\n\\t\\t\\t\\t<city>신안</city>\\r\\n\\t\\t\\t\\t\\r\\n\\t\\t\\t\\t<data>\\r\\n\\t\\t\\t\\t\\t<mode>A02</mode>\\r\\n\\t\\t\\t\\t\\t<tmEf>2019-04-18 00:00</tmEf>\\r\\n\\t\\t\\t\\t\\t<wf>맑음</wf>\\r\\n\\t\\t\\t\\t\\t<tmn>11</tmn>\\r\\n\\t\\t\\t\\t\\t<tmx>21</tmx>\\r\\n\\t\\t\\t\\t\\t<reliability>높음</reliability>\\r\\n\\t\\t\\t\\t</data>\\r\\n\\r\\n\\t\\t\\t\\t\\r\\n\\t\\t\\t\\t<data>\\r\\n\\t\\t\\t\\t\\t<mode>A02</mode>\\r\\n\\t\\t\\t\\t\\t<tmEf>2019-04-18 12:00</tmEf>\\r\\n\\t\\t\\t\\t\\t<wf>맑음</wf>\\r\\n\\t\\t\\t\\t\\t<tmn>11</tmn>\\r\\n\\t\\t\\t\\t\\t<tmx>21</tmx>\\r\\n\\t\\t\\t\\t\\t<reliability>높음</reliability>\\r\\n\\t\\t\\t\\t</data>\\r\\n\\r\\n\\t\\t\\t\\t\\r\\n\\t\\t\\t\\t<data>\\r\\n\\t\\t\\t\\t\\t<mode>A02</mode>\\r\\n\\t\\t\\t\\t\\t<tmEf>2019-04-19 00:00</tmEf>\\r\\n\\t\\t\\t\\t\\t<wf>맑음</wf>\\r\\n\\t\\t\\t\\t\\t<tmn>9</tmn>\\r\\n\\t\\t\\t\\t\\t<tmx>18</tmx>\\r\\n\\t\\t\\t\\t\\t<reliability>높음</reliability>\\r\\n\\t\\t\\t\\t</data>\\r\\n\\r\\n\\t\\t\\t\\t\\r\\n\\t\\t\\t\\t<data>\\r\\n\\t\\t\\t\\t\\t<mode>A02</mode>\\r\\n\\t\\t\\t\\t\\t<tmEf>2019-04-19 12:00</tmEf>\\r\\n\\t\\t\\t\\t\\t<wf>맑음</wf>\\r\\n\\t\\t\\t\\t\\t<tmn>9</tmn>\\r\\n\\t\\t\\t\\t\\t<tmx>18</tmx>\\r\\n\\t\\t\\t\\t\\t<reliability>높음</reliability>\\r\\n\\t\\t\\t\\t</data>\\r\\n\\r\\n\\t\\t\\t\\t\\r\\n\\t\\t\\t\\t<data>\\r\\n\\t\\t\\t\\t\\t<mode>A02</mode>\\r\\n\\t\\t\\t\\t\\t<tmEf>2019-04-20 00:00</tmEf>\\r\\n\\t\\t\\t\\t\\t<wf>맑음</wf>\\r\\n\\t\\t\\t\\t\\t<tmn>8</tmn>\\r\\n\\t\\t\\t\\t\\t<tmx>21</tmx>\\r\\n\\t\\t\\t\\t\\t<reliability>높음</reliability>\\r\\n\\t\\t\\t\\t</data>\\r\\n\\r\\n\\t\\t\\t\\t\\r\\n\\t\\t\\t\\t<data>\\r\\n\\t\\t\\t\\t\\t<mode>A02</mode>\\r\\n\\t\\t\\t\\t\\t<tmEf>2019-04-20 12:00</tmEf>\\r\\n\\t\\t\\t\\t\\t<wf>맑음</wf>\\r\\n\\t\\t\\t\\t\\t<tmn>8</tmn>\\r\\n\\t\\t\\t\\t\\t<tmx>21</tmx>\\r\\n\\t\\t\\t\\t\\t<reliability>높음</reliability>\\r\\n\\t\\t\\t\\t</data>\\r\\n\\r\\n\\t\\t\\t\\t\\r\\n\\t\\t\\t\\t<data>\\r\\n\\t\\t\\t\\t\\t<mode>A02</mode>\\r\\n\\t\\t\\t\\t\\t<tmEf>2019-04-21 00:00</tmEf>\\r\\n\\t\\t\\t\\t\\t<wf>흐림</wf>\\r\\n\\t\\t\\t\\t\\t<tmn>10</tmn>\\r\\n\\t\\t\\t\\t\\t<tmx>19</tmx>\\r\\n\\t\\t\\t\\t\\t<reliability>낮음</reliability>\\r\\n\\t\\t\\t\\t</data>\\r\\n\\r\\n\\t\\t\\t\\t\\r\\n\\t\\t\\t\\t<data>\\r\\n\\t\\t\\t\\t\\t<mode>A02</mode>\\r\\n\\t\\t\\t\\t\\t<tmEf>2019-04-21 12:00</tmEf>\\r\\n\\t\\t\\t\\t\\t<wf>흐림</wf>\\r\\n\\t\\t\\t\\t\\t<tmn>10</tmn>\\r\\n\\t\\t\\t\\t\\t<tmx>19</tmx>\\r\\n\\t\\t\\t\\t\\t<reliability>낮음</reliability>\\r\\n\\t\\t\\t\\t</data>\\r\\n\\r\\n\\t\\t\\t\\t\\r\\n\\t\\t\\t\\t<data>\\r\\n\\t\\t\\t\\t\\t<mode>A02</mode>\\r\\n\\t\\t\\t\\t\\t<tmEf>2019-04-22 00:00</tmEf>\\r\\n\\t\\t\\t\\t\\t<wf>구름많음</wf>\\r\\n\\t\\t\\t\\t\\t<tmn>11</tmn>\\r\\n\\t\\t\\t\\t\\t<tmx>20</tmx>\\r\\n\\t\\t\\t\\t\\t<reliability>보통</reliability>\\r\\n\\t\\t\\t\\t</data>\\r\\n\\r\\n\\t\\t\\t\\t\\r\\n\\t\\t\\t\\t<data>\\r\\n\\t\\t\\t\\t\\t<mode>A02</mode>\\r\\n\\t\\t\\t\\t\\t<tmEf>2019-04-22 12:00</tmEf>\\r\\n\\t\\t\\t\\t\\t<wf>구름많음</wf>\\r\\n\\t\\t\\t\\t\\t<tmn>11</tmn>\\r\\n\\t\\t\\t\\t\\t<tmx>20</tmx>\\r\\n\\t\\t\\t\\t\\t<reliability>보통</reliability>\\r\\n\\t\\t\\t\\t</data>\\r\\n\\r\\n\\t\\t\\t\\t\\r\\n\\t\\t\\t\\t<data>\\r\\n\\t\\t\\t\\t\\t<mode>A01</mode>\\r\\n\\t\\t\\t\\t\\t<tmEf>2019-04-23 00:00</tmEf>\\r\\n\\t\\t\\t\\t\\t<wf>맑음</wf>\\r\\n\\t\\t\\t\\t\\t<tmn>10</tmn>\\r\\n\\t\\t\\t\\t\\t<tmx>20</tmx>\\r\\n\\t\\t\\t\\t\\t<reliability>보통</reliability>\\r\\n\\t\\t\\t\\t</data>\\r\\n\\r\\n\\t\\t\\t\\t\\r\\n\\t\\t\\t\\t<data>\\r\\n\\t\\t\\t\\t\\t<mode>A01</mode>\\r\\n\\t\\t\\t\\t\\t<tmEf>2019-04-24 00:00</tmEf>\\r\\n\\t\\t\\t\\t\\t<wf>맑음</wf>\\r\\n\\t\\t\\t\\t\\t<tmn>10</tmn>\\r\\n\\t\\t\\t\\t\\t<tmx>18</tmx>\\r\\n\\t\\t\\t\\t\\t<reliability>보통</reliability>\\r\\n\\t\\t\\t\\t</data>\\r\\n\\r\\n\\t\\t\\t\\t\\r\\n\\t\\t\\t\\t<data>\\r\\n\\t\\t\\t\\t\\t<mode>A01</mode>\\r\\n\\t\\t\\t\\t\\t<tmEf>2019-04-25 00:00</tmEf>\\r\\n\\t\\t\\t\\t\\t<wf>구름많음</wf>\\r\\n\\t\\t\\t\\t\\t<tmn>10</tmn>\\r\\n\\t\\t\\t\\t\\t<tmx>18</tmx>\\r\\n\\t\\t\\t\\t\\t<reliability>보통</reliability>\\r\\n\\t\\t\\t\\t</data>\\r\\n\\r\\n\\r\\n\\t\\t</location>\\r\\n\\r\\n\\t\\t<location wl_ver=\"3\">\\r\\n\\t\\t\\t\\t<province>광주ㆍ전라남도</province>\\r\\n\\t\\t\\t\\t<city>무안</city>\\r\\n\\t\\t\\t\\t\\r\\n\\t\\t\\t\\t<data>\\r\\n\\t\\t\\t\\t\\t<mode>A02</mode>\\r\\n\\t\\t\\t\\t\\t<tmEf>2019-04-18 00:00</tmEf>\\r\\n\\t\\t\\t\\t\\t<wf>맑음</wf>\\r\\n\\t\\t\\t\\t\\t<tmn>11</tmn>\\r\\n\\t\\t\\t\\t\\t<tmx>21</tmx>\\r\\n\\t\\t\\t\\t\\t<reliability>높음</reliability>\\r\\n\\t\\t\\t\\t</data>\\r\\n\\r\\n\\t\\t\\t\\t\\r\\n\\t\\t\\t\\t<data>\\r\\n\\t\\t\\t\\t\\t<mode>A02</mode>\\r\\n\\t\\t\\t\\t\\t<tmEf>2019-04-18 12:00</tmEf>\\r\\n\\t\\t\\t\\t\\t<wf>맑음</wf>\\r\\n\\t\\t\\t\\t\\t<tmn>11</tmn>\\r\\n\\t\\t\\t\\t\\t<tmx>21</tmx>\\r\\n\\t\\t\\t\\t\\t<reliability>높음</reliability>\\r\\n\\t\\t\\t\\t</data>\\r\\n\\r\\n\\t\\t\\t\\t\\r\\n\\t\\t\\t\\t<data>\\r\\n\\t\\t\\t\\t\\t<mode>A02</mode>\\r\\n\\t\\t\\t\\t\\t<tmEf>2019-04-19 00:00</tmEf>\\r\\n\\t\\t\\t\\t\\t<wf>맑음</wf>\\r\\n\\t\\t\\t\\t\\t<tmn>9</tmn>\\r\\n\\t\\t\\t\\t\\t<tmx>18</tmx>\\r\\n\\t\\t\\t\\t\\t<reliability>높음</reliability>\\r\\n\\t\\t\\t\\t</data>\\r\\n\\r\\n\\t\\t\\t\\t\\r\\n\\t\\t\\t\\t<data>\\r\\n\\t\\t\\t\\t\\t<mode>A02</mode>\\r\\n\\t\\t\\t\\t\\t<tmEf>2019-04-19 12:00</tmEf>\\r\\n\\t\\t\\t\\t\\t<wf>맑음</wf>\\r\\n\\t\\t\\t\\t\\t<tmn>9</tmn>\\r\\n\\t\\t\\t\\t\\t<tmx>18</tmx>\\r\\n\\t\\t\\t\\t\\t<reliability>높음</reliability>\\r\\n\\t\\t\\t\\t</data>\\r\\n\\r\\n\\t\\t\\t\\t\\r\\n\\t\\t\\t\\t<data>\\r\\n\\t\\t\\t\\t\\t<mode>A02</mode>\\r\\n\\t\\t\\t\\t\\t<tmEf>2019-04-20 00:00</tmEf>\\r\\n\\t\\t\\t\\t\\t<wf>맑음</wf>\\r\\n\\t\\t\\t\\t\\t<tmn>8</tmn>\\r\\n\\t\\t\\t\\t\\t<tmx>21</tmx>\\r\\n\\t\\t\\t\\t\\t<reliability>높음</reliability>\\r\\n\\t\\t\\t\\t</data>\\r\\n\\r\\n\\t\\t\\t\\t\\r\\n\\t\\t\\t\\t<data>\\r\\n\\t\\t\\t\\t\\t<mode>A02</mode>\\r\\n\\t\\t\\t\\t\\t<tmEf>2019-04-20 12:00</tmEf>\\r\\n\\t\\t\\t\\t\\t<wf>맑음</wf>\\r\\n\\t\\t\\t\\t\\t<tmn>8</tmn>\\r\\n\\t\\t\\t\\t\\t<tmx>21</tmx>\\r\\n\\t\\t\\t\\t\\t<reliability>높음</reliability>\\r\\n\\t\\t\\t\\t</data>\\r\\n\\r\\n\\t\\t\\t\\t\\r\\n\\t\\t\\t\\t<data>\\r\\n\\t\\t\\t\\t\\t<mode>A02</mode>\\r\\n\\t\\t\\t\\t\\t<tmEf>2019-04-21 00:00</tmEf>\\r\\n\\t\\t\\t\\t\\t<wf>흐림</wf>\\r\\n\\t\\t\\t\\t\\t<tmn>10</tmn>\\r\\n\\t\\t\\t\\t\\t<tmx>20</tmx>\\r\\n\\t\\t\\t\\t\\t<reliability>낮음</reliability>\\r\\n\\t\\t\\t\\t</data>\\r\\n\\r\\n\\t\\t\\t\\t\\r\\n\\t\\t\\t\\t<data>\\r\\n\\t\\t\\t\\t\\t<mode>A02</mode>\\r\\n\\t\\t\\t\\t\\t<tmEf>2019-04-21 12:00</tmEf>\\r\\n\\t\\t\\t\\t\\t<wf>흐림</wf>\\r\\n\\t\\t\\t\\t\\t<tmn>10</tmn>\\r\\n\\t\\t\\t\\t\\t<tmx>20</tmx>\\r\\n\\t\\t\\t\\t\\t<reliability>낮음</reliability>\\r\\n\\t\\t\\t\\t</data>\\r\\n\\r\\n\\t\\t\\t\\t\\r\\n\\t\\t\\t\\t<data>\\r\\n\\t\\t\\t\\t\\t<mode>A02</mode>\\r\\n\\t\\t\\t\\t\\t<tmEf>2019-04-22 00:00</tmEf>\\r\\n\\t\\t\\t\\t\\t<wf>구름많음</wf>\\r\\n\\t\\t\\t\\t\\t<tmn>12</tmn>\\r\\n\\t\\t\\t\\t\\t<tmx>20</tmx>\\r\\n\\t\\t\\t\\t\\t<reliability>보통</reliability>\\r\\n\\t\\t\\t\\t</data>\\r\\n\\r\\n\\t\\t\\t\\t\\r\\n\\t\\t\\t\\t<data>\\r\\n\\t\\t\\t\\t\\t<mode>A02</mode>\\r\\n\\t\\t\\t\\t\\t<tmEf>2019-04-22 12:00</tmEf>\\r\\n\\t\\t\\t\\t\\t<wf>구름많음</wf>\\r\\n\\t\\t\\t\\t\\t<tmn>12</tmn>\\r\\n\\t\\t\\t\\t\\t<tmx>20</tmx>\\r\\n\\t\\t\\t\\t\\t<reliability>보통</reliability>\\r\\n\\t\\t\\t\\t</data>\\r\\n\\r\\n\\t\\t\\t\\t\\r\\n\\t\\t\\t\\t<data>\\r\\n\\t\\t\\t\\t\\t<mode>A01</mode>\\r\\n\\t\\t\\t\\t\\t<tmEf>2019-04-23 00:00</tmEf>\\r\\n\\t\\t\\t\\t\\t<wf>맑음</wf>\\r\\n\\t\\t\\t\\t\\t<tmn>11</tmn>\\r\\n\\t\\t\\t\\t\\t<tmx>20</tmx>\\r\\n\\t\\t\\t\\t\\t<reliability>보통</reliability>\\r\\n\\t\\t\\t\\t</data>\\r\\n\\r\\n\\t\\t\\t\\t\\r\\n\\t\\t\\t\\t<data>\\r\\n\\t\\t\\t\\t\\t<mode>A01</mode>\\r\\n\\t\\t\\t\\t\\t<tmEf>2019-04-24 00:00</tmEf>\\r\\n\\t\\t\\t\\t\\t<wf>맑음</wf>\\r\\n\\t\\t\\t\\t\\t<tmn>10</tmn>\\r\\n\\t\\t\\t\\t\\t<tmx>19</tmx>\\r\\n\\t\\t\\t\\t\\t<reliability>보통</reliability>\\r\\n\\t\\t\\t\\t</data>\\r\\n\\r\\n\\t\\t\\t\\t\\r\\n\\t\\t\\t\\t<data>\\r\\n\\t\\t\\t\\t\\t<mode>A01</mode>\\r\\n\\t\\t\\t\\t\\t<tmEf>2019-04-25 00:00</tmEf>\\r\\n\\t\\t\\t\\t\\t<wf>구름많음</wf>\\r\\n\\t\\t\\t\\t\\t<tmn>8</tmn>\\r\\n\\t\\t\\t\\t\\t<tmx>18</tmx>\\r\\n\\t\\t\\t\\t\\t<reliability>보통</reliability>\\r\\n\\t\\t\\t\\t</data>\\r\\n\\r\\n\\r\\n\\t\\t</location>\\r\\n\\r\\n\\r\\n\\t\\r\\n\\r\\n\\t</body>\\r\\n</description>\\r\\n</item>\\r\\n</channel>\\r\\n</rss>\\t'"
      ]
     },
     "execution_count": 9,
     "metadata": {},
     "output_type": "execute_result"
    }
   ],
   "source": [
    "data.text"
   ]
  },
  {
   "cell_type": "code",
   "execution_count": 10,
   "metadata": {},
   "outputs": [
    {
     "ename": "NameError",
     "evalue": "name 'text' is not defined",
     "output_type": "error",
     "traceback": [
      "\u001b[1;31m---------------------------------------------------------------------------\u001b[0m",
      "\u001b[1;31mNameError\u001b[0m                                 Traceback (most recent call last)",
      "\u001b[1;32m<ipython-input-10-aa785adca3fc>\u001b[0m in \u001b[0;36m<module>\u001b[1;34m\u001b[0m\n\u001b[1;32m----> 1\u001b[1;33m \u001b[0mtext\u001b[0m\u001b[1;33m\u001b[0m\u001b[1;33m\u001b[0m\u001b[0m\n\u001b[0m",
      "\u001b[1;31mNameError\u001b[0m: name 'text' is not defined"
     ]
    }
   ],
   "source": [
    "text"
   ]
  },
  {
   "cell_type": "code",
   "execution_count": 11,
   "metadata": {},
   "outputs": [
    {
     "data": {
      "text/plain": [
       "('rss.xml', <http.client.HTTPMessage at 0x1db9c5934a8>)"
      ]
     },
     "execution_count": 11,
     "metadata": {},
     "output_type": "execute_result"
    }
   ],
   "source": [
    "urllib.request.urlretrieve(url, 'rss.xml')"
   ]
  },
  {
   "cell_type": "markdown",
   "metadata": {},
   "source": [
    "### 2. 필요 정보 추출하기"
   ]
  },
  {
   "cell_type": "code",
   "execution_count": 12,
   "metadata": {},
   "outputs": [],
   "source": [
    "# xml을 다루는 파이썬 표준모듈 임포트\n",
    "from xml.etree import ElementTree"
   ]
  },
  {
   "cell_type": "code",
   "execution_count": 14,
   "metadata": {},
   "outputs": [
    {
     "data": {
      "text/plain": [
       "<xml.etree.ElementTree.ElementTree at 0x1db9d58a748>"
      ]
     },
     "execution_count": 14,
     "metadata": {},
     "output_type": "execute_result"
    }
   ],
   "source": [
    "# parse() 함수로 파일을 읽어 들이고 ElementTree 객체 생성\n",
    "tree = ElementTree.parse('rss.xml')\n",
    "tree"
   ]
  },
  {
   "cell_type": "code",
   "execution_count": 15,
   "metadata": {},
   "outputs": [
    {
     "data": {
      "text/plain": [
       "<Element 'rss' at 0x000001DB9C58F7C8>"
      ]
     },
     "execution_count": 15,
     "metadata": {},
     "output_type": "execute_result"
    }
   ],
   "source": [
    "#getroot() 메서드로 XML의 루트 요소 추출\n",
    "root = tree.getroot()\n",
    "root"
   ]
  },
  {
   "cell_type": "code",
   "execution_count": 16,
   "metadata": {},
   "outputs": [
    {
     "data": {
      "text/plain": [
       "[<Element 'data' at 0x000001DB9D58BE58>,\n",
       " <Element 'data' at 0x000001DB9D5980E8>,\n",
       " <Element 'data' at 0x000001DB9D598318>,\n",
       " <Element 'data' at 0x000001DB9D598548>,\n",
       " <Element 'data' at 0x000001DB9D598778>,\n",
       " <Element 'data' at 0x000001DB9D5989A8>,\n",
       " <Element 'data' at 0x000001DB9D588048>,\n",
       " <Element 'data' at 0x000001DB9D57B278>,\n",
       " <Element 'data' at 0x000001DB9D598CC8>,\n",
       " <Element 'data' at 0x000001DB9D598EF8>,\n",
       " <Element 'data' at 0x000001DB9D59B188>,\n",
       " <Element 'data' at 0x000001DB9D59B3B8>,\n",
       " <Element 'data' at 0x000001DB9D59B5E8>,\n",
       " <Element 'data' at 0x000001DB9D59B908>,\n",
       " <Element 'data' at 0x000001DB9D59BB38>,\n",
       " <Element 'data' at 0x000001DB9D59BD68>,\n",
       " <Element 'data' at 0x000001DB9D59BF98>,\n",
       " <Element 'data' at 0x000001DB9D5A0228>,\n",
       " <Element 'data' at 0x000001DB9D5A0458>,\n",
       " <Element 'data' at 0x000001DB9D5A0688>,\n",
       " <Element 'data' at 0x000001DB9D5A08B8>,\n",
       " <Element 'data' at 0x000001DB9D5A0AE8>,\n",
       " <Element 'data' at 0x000001DB9D5A0D18>,\n",
       " <Element 'data' at 0x000001DB9D5A0F48>,\n",
       " <Element 'data' at 0x000001DB9D5A41D8>,\n",
       " <Element 'data' at 0x000001DB9D5A4408>,\n",
       " <Element 'data' at 0x000001DB9D5A4728>,\n",
       " <Element 'data' at 0x000001DB9D5A4958>,\n",
       " <Element 'data' at 0x000001DB9D5A4B88>,\n",
       " <Element 'data' at 0x000001DB9D5A4DB8>,\n",
       " <Element 'data' at 0x000001DB9D5A8048>,\n",
       " <Element 'data' at 0x000001DB9D5A8278>,\n",
       " <Element 'data' at 0x000001DB9D5A84A8>,\n",
       " <Element 'data' at 0x000001DB9D5A86D8>,\n",
       " <Element 'data' at 0x000001DB9D5A8908>,\n",
       " <Element 'data' at 0x000001DB9D5A8B38>,\n",
       " <Element 'data' at 0x000001DB9D5A8D68>,\n",
       " <Element 'data' at 0x000001DB9D5A8F98>,\n",
       " <Element 'data' at 0x000001DB9D5AB228>,\n",
       " <Element 'data' at 0x000001DB9D5AB548>,\n",
       " <Element 'data' at 0x000001DB9D5AB778>,\n",
       " <Element 'data' at 0x000001DB9D5AB9A8>,\n",
       " <Element 'data' at 0x000001DB9D5ABBD8>,\n",
       " <Element 'data' at 0x000001DB9D5ABE08>,\n",
       " <Element 'data' at 0x000001DB9D5AF098>,\n",
       " <Element 'data' at 0x000001DB9D5AF2C8>,\n",
       " <Element 'data' at 0x000001DB9D5AF4F8>,\n",
       " <Element 'data' at 0x000001DB9D5AF728>,\n",
       " <Element 'data' at 0x000001DB9D5AF958>,\n",
       " <Element 'data' at 0x000001DB9D5AFB88>,\n",
       " <Element 'data' at 0x000001DB9D5AFDB8>,\n",
       " <Element 'data' at 0x000001DB9D5D3048>,\n",
       " <Element 'data' at 0x000001DB9D5D3368>,\n",
       " <Element 'data' at 0x000001DB9D5D3598>,\n",
       " <Element 'data' at 0x000001DB9D5D37C8>,\n",
       " <Element 'data' at 0x000001DB9D5D39F8>,\n",
       " <Element 'data' at 0x000001DB9D5D3C28>,\n",
       " <Element 'data' at 0x000001DB9D5D3E58>,\n",
       " <Element 'data' at 0x000001DB9D5D80E8>,\n",
       " <Element 'data' at 0x000001DB9D5D8318>,\n",
       " <Element 'data' at 0x000001DB9D5D8548>,\n",
       " <Element 'data' at 0x000001DB9D5D8778>,\n",
       " <Element 'data' at 0x000001DB9D5D89A8>,\n",
       " <Element 'data' at 0x000001DB9D5D8BD8>,\n",
       " <Element 'data' at 0x000001DB9D5D8E08>,\n",
       " <Element 'data' at 0x000001DB9D5DC188>,\n",
       " <Element 'data' at 0x000001DB9D5DC3B8>,\n",
       " <Element 'data' at 0x000001DB9D5DC5E8>,\n",
       " <Element 'data' at 0x000001DB9D5DC818>,\n",
       " <Element 'data' at 0x000001DB9D5DCA48>,\n",
       " <Element 'data' at 0x000001DB9D5DCC78>,\n",
       " <Element 'data' at 0x000001DB9D5DCEA8>,\n",
       " <Element 'data' at 0x000001DB9D5DF138>,\n",
       " <Element 'data' at 0x000001DB9D5DF368>,\n",
       " <Element 'data' at 0x000001DB9D5DF598>,\n",
       " <Element 'data' at 0x000001DB9D5DF7C8>,\n",
       " <Element 'data' at 0x000001DB9D5DF9F8>,\n",
       " <Element 'data' at 0x000001DB9D5DFC28>,\n",
       " <Element 'data' at 0x000001DB9D5DFF48>,\n",
       " <Element 'data' at 0x000001DB9D5E21D8>,\n",
       " <Element 'data' at 0x000001DB9D5E2408>,\n",
       " <Element 'data' at 0x000001DB9D5E2638>,\n",
       " <Element 'data' at 0x000001DB9D5E2868>,\n",
       " <Element 'data' at 0x000001DB9D5E2A98>,\n",
       " <Element 'data' at 0x000001DB9D5E2CC8>,\n",
       " <Element 'data' at 0x000001DB9D5E2EF8>,\n",
       " <Element 'data' at 0x000001DB9D5E7188>,\n",
       " <Element 'data' at 0x000001DB9D5E73B8>,\n",
       " <Element 'data' at 0x000001DB9D5E75E8>,\n",
       " <Element 'data' at 0x000001DB9D5E7818>,\n",
       " <Element 'data' at 0x000001DB9D5E7A48>,\n",
       " <Element 'data' at 0x000001DB9D5E7D68>,\n",
       " <Element 'data' at 0x000001DB9D5E7F98>,\n",
       " <Element 'data' at 0x000001DB9D5ED228>,\n",
       " <Element 'data' at 0x000001DB9D5ED458>,\n",
       " <Element 'data' at 0x000001DB9D5ED688>,\n",
       " <Element 'data' at 0x000001DB9D5ED8B8>,\n",
       " <Element 'data' at 0x000001DB9D5EDAE8>,\n",
       " <Element 'data' at 0x000001DB9D5EDD18>,\n",
       " <Element 'data' at 0x000001DB9D5EDF48>,\n",
       " <Element 'data' at 0x000001DB9D5F01D8>,\n",
       " <Element 'data' at 0x000001DB9D5F0408>,\n",
       " <Element 'data' at 0x000001DB9D5F0638>,\n",
       " <Element 'data' at 0x000001DB9D5F0868>,\n",
       " <Element 'data' at 0x000001DB9D5F0B88>,\n",
       " <Element 'data' at 0x000001DB9D5F0DB8>,\n",
       " <Element 'data' at 0x000001DB9D5F3048>,\n",
       " <Element 'data' at 0x000001DB9D5F3278>,\n",
       " <Element 'data' at 0x000001DB9D5F34A8>,\n",
       " <Element 'data' at 0x000001DB9D5F36D8>,\n",
       " <Element 'data' at 0x000001DB9D5F3908>,\n",
       " <Element 'data' at 0x000001DB9D5F3B38>,\n",
       " <Element 'data' at 0x000001DB9D5F3D68>,\n",
       " <Element 'data' at 0x000001DB9D5F3F98>,\n",
       " <Element 'data' at 0x000001DB9D5F8228>,\n",
       " <Element 'data' at 0x000001DB9D5F8458>,\n",
       " <Element 'data' at 0x000001DB9D5F8688>,\n",
       " <Element 'data' at 0x000001DB9D5F89A8>,\n",
       " <Element 'data' at 0x000001DB9D5F8BD8>,\n",
       " <Element 'data' at 0x000001DB9D5F8E08>,\n",
       " <Element 'data' at 0x000001DB9D5FB098>,\n",
       " <Element 'data' at 0x000001DB9D5FB2C8>,\n",
       " <Element 'data' at 0x000001DB9D5FB4F8>,\n",
       " <Element 'data' at 0x000001DB9D5FB728>,\n",
       " <Element 'data' at 0x000001DB9D5FB958>,\n",
       " <Element 'data' at 0x000001DB9D5FBB88>,\n",
       " <Element 'data' at 0x000001DB9D5FBDB8>,\n",
       " <Element 'data' at 0x000001DB9D5FF048>,\n",
       " <Element 'data' at 0x000001DB9D5FF278>,\n",
       " <Element 'data' at 0x000001DB9D5FF4A8>,\n",
       " <Element 'data' at 0x000001DB9D5FF7C8>,\n",
       " <Element 'data' at 0x000001DB9D5FF9F8>,\n",
       " <Element 'data' at 0x000001DB9D5FFC28>,\n",
       " <Element 'data' at 0x000001DB9D5FFE58>,\n",
       " <Element 'data' at 0x000001DB9D6030E8>,\n",
       " <Element 'data' at 0x000001DB9D603318>,\n",
       " <Element 'data' at 0x000001DB9D603548>,\n",
       " <Element 'data' at 0x000001DB9D603778>,\n",
       " <Element 'data' at 0x000001DB9D6039A8>,\n",
       " <Element 'data' at 0x000001DB9D603BD8>,\n",
       " <Element 'data' at 0x000001DB9D603E08>,\n",
       " <Element 'data' at 0x000001DB9D607098>,\n",
       " <Element 'data' at 0x000001DB9D6071D8>,\n",
       " <Element 'data' at 0x000001DB9D6074F8>,\n",
       " <Element 'data' at 0x000001DB9D607728>,\n",
       " <Element 'data' at 0x000001DB9D607958>,\n",
       " <Element 'data' at 0x000001DB9D607B88>,\n",
       " <Element 'data' at 0x000001DB9D607DB8>,\n",
       " <Element 'data' at 0x000001DB9D60B048>,\n",
       " <Element 'data' at 0x000001DB9D60B278>,\n",
       " <Element 'data' at 0x000001DB9D60B4A8>,\n",
       " <Element 'data' at 0x000001DB9D60B6D8>,\n",
       " <Element 'data' at 0x000001DB9D60B908>,\n",
       " <Element 'data' at 0x000001DB9D60BB38>,\n",
       " <Element 'data' at 0x000001DB9D60BD68>,\n",
       " <Element 'data' at 0x000001DB9D60BF98>,\n",
       " <Element 'data' at 0x000001DB9D60F318>,\n",
       " <Element 'data' at 0x000001DB9D60F548>,\n",
       " <Element 'data' at 0x000001DB9D60F778>,\n",
       " <Element 'data' at 0x000001DB9D60F9A8>,\n",
       " <Element 'data' at 0x000001DB9D60FBD8>,\n",
       " <Element 'data' at 0x000001DB9D60FE08>,\n",
       " <Element 'data' at 0x000001DB9D615098>,\n",
       " <Element 'data' at 0x000001DB9D6152C8>,\n",
       " <Element 'data' at 0x000001DB9D6154F8>,\n",
       " <Element 'data' at 0x000001DB9D615728>,\n",
       " <Element 'data' at 0x000001DB9D615958>,\n",
       " <Element 'data' at 0x000001DB9D615B88>,\n",
       " <Element 'data' at 0x000001DB9D615DB8>,\n",
       " <Element 'data' at 0x000001DB9D619138>,\n",
       " <Element 'data' at 0x000001DB9D619368>,\n",
       " <Element 'data' at 0x000001DB9D619598>,\n",
       " <Element 'data' at 0x000001DB9D6197C8>,\n",
       " <Element 'data' at 0x000001DB9D6199F8>,\n",
       " <Element 'data' at 0x000001DB9D619C28>,\n",
       " <Element 'data' at 0x000001DB9D619E58>,\n",
       " <Element 'data' at 0x000001DB9D61C0E8>,\n",
       " <Element 'data' at 0x000001DB9D61C318>,\n",
       " <Element 'data' at 0x000001DB9D61C548>,\n",
       " <Element 'data' at 0x000001DB9D61C778>,\n",
       " <Element 'data' at 0x000001DB9D61C9A8>,\n",
       " <Element 'data' at 0x000001DB9D61CBD8>,\n",
       " <Element 'data' at 0x000001DB9D61CEF8>,\n",
       " <Element 'data' at 0x000001DB9D620188>,\n",
       " <Element 'data' at 0x000001DB9D6203B8>,\n",
       " <Element 'data' at 0x000001DB9D6205E8>,\n",
       " <Element 'data' at 0x000001DB9D620818>,\n",
       " <Element 'data' at 0x000001DB9D620A48>,\n",
       " <Element 'data' at 0x000001DB9D620C78>,\n",
       " <Element 'data' at 0x000001DB9D620EA8>,\n",
       " <Element 'data' at 0x000001DB9D624138>,\n",
       " <Element 'data' at 0x000001DB9D624368>,\n",
       " <Element 'data' at 0x000001DB9D624598>,\n",
       " <Element 'data' at 0x000001DB9D6247C8>,\n",
       " <Element 'data' at 0x000001DB9D6249F8>,\n",
       " <Element 'data' at 0x000001DB9D624D18>,\n",
       " <Element 'data' at 0x000001DB9D624F48>,\n",
       " <Element 'data' at 0x000001DB9D6271D8>,\n",
       " <Element 'data' at 0x000001DB9D627408>,\n",
       " <Element 'data' at 0x000001DB9D627638>,\n",
       " <Element 'data' at 0x000001DB9D627868>,\n",
       " <Element 'data' at 0x000001DB9D627A98>,\n",
       " <Element 'data' at 0x000001DB9D627CC8>,\n",
       " <Element 'data' at 0x000001DB9D627EF8>,\n",
       " <Element 'data' at 0x000001DB9D62C188>,\n",
       " <Element 'data' at 0x000001DB9D62C3B8>,\n",
       " <Element 'data' at 0x000001DB9D62C5E8>,\n",
       " <Element 'data' at 0x000001DB9D62C818>,\n",
       " <Element 'data' at 0x000001DB9D62CB38>,\n",
       " <Element 'data' at 0x000001DB9D62CD68>,\n",
       " <Element 'data' at 0x000001DB9D62CF98>,\n",
       " <Element 'data' at 0x000001DB9D630228>,\n",
       " <Element 'data' at 0x000001DB9D630458>,\n",
       " <Element 'data' at 0x000001DB9D630688>,\n",
       " <Element 'data' at 0x000001DB9D6308B8>,\n",
       " <Element 'data' at 0x000001DB9D630AE8>,\n",
       " <Element 'data' at 0x000001DB9D630D18>,\n",
       " <Element 'data' at 0x000001DB9D630F48>,\n",
       " <Element 'data' at 0x000001DB9D6331D8>,\n",
       " <Element 'data' at 0x000001DB9D633408>,\n",
       " <Element 'data' at 0x000001DB9D633638>,\n",
       " <Element 'data' at 0x000001DB9D633958>,\n",
       " <Element 'data' at 0x000001DB9D633B88>,\n",
       " <Element 'data' at 0x000001DB9D633DB8>,\n",
       " <Element 'data' at 0x000001DB9D637048>,\n",
       " <Element 'data' at 0x000001DB9D637278>,\n",
       " <Element 'data' at 0x000001DB9D6374A8>,\n",
       " <Element 'data' at 0x000001DB9D6376D8>,\n",
       " <Element 'data' at 0x000001DB9D637908>,\n",
       " <Element 'data' at 0x000001DB9D637B38>,\n",
       " <Element 'data' at 0x000001DB9D637D68>,\n",
       " <Element 'data' at 0x000001DB9D637F98>,\n",
       " <Element 'data' at 0x000001DB9D63C228>,\n",
       " <Element 'data' at 0x000001DB9D63C458>,\n",
       " <Element 'data' at 0x000001DB9D63C778>,\n",
       " <Element 'data' at 0x000001DB9D63C9A8>,\n",
       " <Element 'data' at 0x000001DB9D63CBD8>,\n",
       " <Element 'data' at 0x000001DB9D63CE08>,\n",
       " <Element 'data' at 0x000001DB9D641098>,\n",
       " <Element 'data' at 0x000001DB9D6412C8>,\n",
       " <Element 'data' at 0x000001DB9D6414F8>,\n",
       " <Element 'data' at 0x000001DB9D641728>,\n",
       " <Element 'data' at 0x000001DB9D641958>,\n",
       " <Element 'data' at 0x000001DB9D641B88>,\n",
       " <Element 'data' at 0x000001DB9D641DB8>,\n",
       " <Element 'data' at 0x000001DB9D644048>,\n",
       " <Element 'data' at 0x000001DB9D644278>,\n",
       " <Element 'data' at 0x000001DB9D644598>,\n",
       " <Element 'data' at 0x000001DB9D6447C8>,\n",
       " <Element 'data' at 0x000001DB9D6449F8>,\n",
       " <Element 'data' at 0x000001DB9D644C28>,\n",
       " <Element 'data' at 0x000001DB9D644E58>,\n",
       " <Element 'data' at 0x000001DB9D6480E8>,\n",
       " <Element 'data' at 0x000001DB9D648318>,\n",
       " <Element 'data' at 0x000001DB9D648548>,\n",
       " <Element 'data' at 0x000001DB9D648778>,\n",
       " <Element 'data' at 0x000001DB9D6489A8>,\n",
       " <Element 'data' at 0x000001DB9D648BD8>,\n",
       " <Element 'data' at 0x000001DB9D648E08>,\n",
       " <Element 'data' at 0x000001DB9D64C098>,\n",
       " <Element 'data' at 0x000001DB9D64C3B8>,\n",
       " <Element 'data' at 0x000001DB9D64C5E8>,\n",
       " <Element 'data' at 0x000001DB9D64C818>,\n",
       " <Element 'data' at 0x000001DB9D64CA48>,\n",
       " <Element 'data' at 0x000001DB9D64CC78>,\n",
       " <Element 'data' at 0x000001DB9D64CEA8>,\n",
       " <Element 'data' at 0x000001DB9D64F138>,\n",
       " <Element 'data' at 0x000001DB9D64F368>,\n",
       " <Element 'data' at 0x000001DB9D64F598>,\n",
       " <Element 'data' at 0x000001DB9D64F7C8>,\n",
       " <Element 'data' at 0x000001DB9D64F9F8>,\n",
       " <Element 'data' at 0x000001DB9D64FC28>,\n",
       " <Element 'data' at 0x000001DB9D64FE58>,\n",
       " <Element 'data' at 0x000001DB9D6541D8>,\n",
       " <Element 'data' at 0x000001DB9D654408>,\n",
       " <Element 'data' at 0x000001DB9D654638>,\n",
       " <Element 'data' at 0x000001DB9D654868>,\n",
       " <Element 'data' at 0x000001DB9D654A98>,\n",
       " <Element 'data' at 0x000001DB9D654CC8>,\n",
       " <Element 'data' at 0x000001DB9D654EF8>,\n",
       " <Element 'data' at 0x000001DB9D658188>,\n",
       " <Element 'data' at 0x000001DB9D6583B8>,\n",
       " <Element 'data' at 0x000001DB9D6585E8>,\n",
       " <Element 'data' at 0x000001DB9D658818>,\n",
       " <Element 'data' at 0x000001DB9D658A48>,\n",
       " <Element 'data' at 0x000001DB9D658C78>,\n",
       " <Element 'data' at 0x000001DB9D658F98>,\n",
       " <Element 'data' at 0x000001DB9D65D228>,\n",
       " <Element 'data' at 0x000001DB9D65D458>,\n",
       " <Element 'data' at 0x000001DB9D65D688>,\n",
       " <Element 'data' at 0x000001DB9D65D8B8>,\n",
       " <Element 'data' at 0x000001DB9D65DAE8>,\n",
       " <Element 'data' at 0x000001DB9D65DD18>,\n",
       " <Element 'data' at 0x000001DB9D65DF48>,\n",
       " <Element 'data' at 0x000001DB9D6601D8>,\n",
       " <Element 'data' at 0x000001DB9D660408>,\n",
       " <Element 'data' at 0x000001DB9D660638>,\n",
       " <Element 'data' at 0x000001DB9D660868>,\n",
       " <Element 'data' at 0x000001DB9D660A98>,\n",
       " <Element 'data' at 0x000001DB9D660DB8>,\n",
       " <Element 'data' at 0x000001DB9D664048>,\n",
       " <Element 'data' at 0x000001DB9D664278>,\n",
       " <Element 'data' at 0x000001DB9D6644A8>,\n",
       " <Element 'data' at 0x000001DB9D6646D8>,\n",
       " <Element 'data' at 0x000001DB9D664908>,\n",
       " <Element 'data' at 0x000001DB9D664B38>,\n",
       " <Element 'data' at 0x000001DB9D664D68>,\n",
       " <Element 'data' at 0x000001DB9D664F98>,\n",
       " <Element 'data' at 0x000001DB9D66A228>,\n",
       " <Element 'data' at 0x000001DB9D66A458>,\n",
       " <Element 'data' at 0x000001DB9D66A688>,\n",
       " <Element 'data' at 0x000001DB9D66A8B8>]"
      ]
     },
     "execution_count": 16,
     "metadata": {},
     "output_type": "execute_result"
    }
   ],
   "source": [
    "# findall('XPath')메서드로 요소 목록 추출\n",
    "weather = tree.findall('.//data')\n",
    "# weather = root.findall('channel/item/description/body/location/data')\n",
    "weather"
   ]
  },
  {
   "cell_type": "markdown",
   "metadata": {},
   "source": [
    "- XPath : XML의 특정 요소를 지정하기 위한 언어\n",
    "- 참고사이트 https://www.w3schools.com/xml/xpath_syntax.asp"
   ]
  },
  {
   "cell_type": "code",
   "execution_count": 17,
   "metadata": {},
   "outputs": [
    {
     "name": "stdout",
     "output_type": "stream",
     "text": [
      "2019-04-18 00:00 맑음\n",
      "2019-04-18 12:00 맑음\n",
      "2019-04-19 00:00 맑음\n",
      "2019-04-19 12:00 맑음\n",
      "2019-04-20 00:00 맑음\n",
      "2019-04-20 12:00 맑음\n",
      "2019-04-21 00:00 흐림\n",
      "2019-04-21 12:00 흐림\n",
      "2019-04-22 00:00 구름많음\n",
      "2019-04-22 12:00 구름많음\n",
      "2019-04-23 00:00 맑음\n",
      "2019-04-24 00:00 맑음\n",
      "2019-04-25 00:00 구름많음\n",
      "2019-04-18 00:00 맑음\n",
      "2019-04-18 12:00 맑음\n",
      "2019-04-19 00:00 맑음\n",
      "2019-04-19 12:00 맑음\n",
      "2019-04-20 00:00 맑음\n",
      "2019-04-20 12:00 맑음\n",
      "2019-04-21 00:00 흐림\n",
      "2019-04-21 12:00 흐림\n",
      "2019-04-22 00:00 구름많음\n",
      "2019-04-22 12:00 구름많음\n",
      "2019-04-23 00:00 맑음\n",
      "2019-04-24 00:00 맑음\n",
      "2019-04-25 00:00 구름많음\n",
      "2019-04-18 00:00 맑음\n",
      "2019-04-18 12:00 맑음\n",
      "2019-04-19 00:00 맑음\n",
      "2019-04-19 12:00 맑음\n",
      "2019-04-20 00:00 맑음\n",
      "2019-04-20 12:00 맑음\n",
      "2019-04-21 00:00 흐림\n",
      "2019-04-21 12:00 흐림\n",
      "2019-04-22 00:00 구름많음\n",
      "2019-04-22 12:00 구름많음\n",
      "2019-04-23 00:00 맑음\n",
      "2019-04-24 00:00 맑음\n",
      "2019-04-25 00:00 구름많음\n",
      "2019-04-18 00:00 맑음\n",
      "2019-04-18 12:00 맑음\n",
      "2019-04-19 00:00 맑음\n",
      "2019-04-19 12:00 맑음\n",
      "2019-04-20 00:00 맑음\n",
      "2019-04-20 12:00 맑음\n",
      "2019-04-21 00:00 흐림\n",
      "2019-04-21 12:00 흐림\n",
      "2019-04-22 00:00 구름많음\n",
      "2019-04-22 12:00 구름많음\n",
      "2019-04-23 00:00 맑음\n",
      "2019-04-24 00:00 맑음\n",
      "2019-04-25 00:00 구름많음\n",
      "2019-04-18 00:00 맑음\n",
      "2019-04-18 12:00 맑음\n",
      "2019-04-19 00:00 맑음\n",
      "2019-04-19 12:00 맑음\n",
      "2019-04-20 00:00 맑음\n",
      "2019-04-20 12:00 맑음\n",
      "2019-04-21 00:00 흐림\n",
      "2019-04-21 12:00 흐림\n",
      "2019-04-22 00:00 구름많음\n",
      "2019-04-22 12:00 구름많음\n",
      "2019-04-23 00:00 맑음\n",
      "2019-04-24 00:00 맑음\n",
      "2019-04-25 00:00 구름많음\n",
      "2019-04-18 00:00 맑음\n",
      "2019-04-18 12:00 맑음\n",
      "2019-04-19 00:00 맑음\n",
      "2019-04-19 12:00 맑음\n",
      "2019-04-20 00:00 맑음\n",
      "2019-04-20 12:00 맑음\n",
      "2019-04-21 00:00 흐림\n",
      "2019-04-21 12:00 흐림\n",
      "2019-04-22 00:00 구름많음\n",
      "2019-04-22 12:00 구름많음\n",
      "2019-04-23 00:00 맑음\n",
      "2019-04-24 00:00 맑음\n",
      "2019-04-25 00:00 구름많음\n",
      "2019-04-18 00:00 맑음\n",
      "2019-04-18 12:00 맑음\n",
      "2019-04-19 00:00 맑음\n",
      "2019-04-19 12:00 맑음\n",
      "2019-04-20 00:00 맑음\n",
      "2019-04-20 12:00 맑음\n",
      "2019-04-21 00:00 흐림\n",
      "2019-04-21 12:00 흐림\n",
      "2019-04-22 00:00 구름많음\n",
      "2019-04-22 12:00 구름많음\n",
      "2019-04-23 00:00 맑음\n",
      "2019-04-24 00:00 맑음\n",
      "2019-04-25 00:00 구름많음\n",
      "2019-04-18 00:00 맑음\n",
      "2019-04-18 12:00 맑음\n",
      "2019-04-19 00:00 맑음\n",
      "2019-04-19 12:00 맑음\n",
      "2019-04-20 00:00 맑음\n",
      "2019-04-20 12:00 맑음\n",
      "2019-04-21 00:00 흐림\n",
      "2019-04-21 12:00 흐림\n",
      "2019-04-22 00:00 구름많음\n",
      "2019-04-22 12:00 구름많음\n",
      "2019-04-23 00:00 맑음\n",
      "2019-04-24 00:00 맑음\n",
      "2019-04-25 00:00 구름많음\n",
      "2019-04-18 00:00 맑음\n",
      "2019-04-18 12:00 맑음\n",
      "2019-04-19 00:00 맑음\n",
      "2019-04-19 12:00 맑음\n",
      "2019-04-20 00:00 맑음\n",
      "2019-04-20 12:00 맑음\n",
      "2019-04-21 00:00 흐림\n",
      "2019-04-21 12:00 흐림\n",
      "2019-04-22 00:00 구름많음\n",
      "2019-04-22 12:00 구름많음\n",
      "2019-04-23 00:00 맑음\n",
      "2019-04-24 00:00 맑음\n",
      "2019-04-25 00:00 구름많음\n",
      "2019-04-18 00:00 맑음\n",
      "2019-04-18 12:00 맑음\n",
      "2019-04-19 00:00 맑음\n",
      "2019-04-19 12:00 맑음\n",
      "2019-04-20 00:00 맑음\n",
      "2019-04-20 12:00 맑음\n",
      "2019-04-21 00:00 흐림\n",
      "2019-04-21 12:00 흐림\n",
      "2019-04-22 00:00 구름많음\n",
      "2019-04-22 12:00 구름많음\n",
      "2019-04-23 00:00 맑음\n",
      "2019-04-24 00:00 맑음\n",
      "2019-04-25 00:00 구름많음\n",
      "2019-04-18 00:00 맑음\n",
      "2019-04-18 12:00 맑음\n",
      "2019-04-19 00:00 맑음\n",
      "2019-04-19 12:00 맑음\n",
      "2019-04-20 00:00 맑음\n",
      "2019-04-20 12:00 맑음\n",
      "2019-04-21 00:00 흐림\n",
      "2019-04-21 12:00 흐림\n",
      "2019-04-22 00:00 구름많음\n",
      "2019-04-22 12:00 구름많음\n",
      "2019-04-23 00:00 맑음\n",
      "2019-04-24 00:00 맑음\n",
      "2019-04-25 00:00 구름많음\n",
      "2019-04-18 00:00 맑음\n",
      "2019-04-18 12:00 맑음\n",
      "2019-04-19 00:00 맑음\n",
      "2019-04-19 12:00 맑음\n",
      "2019-04-20 00:00 맑음\n",
      "2019-04-20 12:00 맑음\n",
      "2019-04-21 00:00 흐림\n",
      "2019-04-21 12:00 흐림\n",
      "2019-04-22 00:00 구름많음\n",
      "2019-04-22 12:00 구름많음\n",
      "2019-04-23 00:00 맑음\n",
      "2019-04-24 00:00 맑음\n",
      "2019-04-25 00:00 구름많음\n",
      "2019-04-18 00:00 맑음\n",
      "2019-04-18 12:00 맑음\n",
      "2019-04-19 00:00 맑음\n",
      "2019-04-19 12:00 맑음\n",
      "2019-04-20 00:00 맑음\n",
      "2019-04-20 12:00 맑음\n",
      "2019-04-21 00:00 흐림\n",
      "2019-04-21 12:00 흐림\n",
      "2019-04-22 00:00 구름많음\n",
      "2019-04-22 12:00 구름많음\n",
      "2019-04-23 00:00 맑음\n",
      "2019-04-24 00:00 맑음\n",
      "2019-04-25 00:00 구름많음\n",
      "2019-04-18 00:00 맑음\n",
      "2019-04-18 12:00 맑음\n",
      "2019-04-19 00:00 맑음\n",
      "2019-04-19 12:00 맑음\n",
      "2019-04-20 00:00 맑음\n",
      "2019-04-20 12:00 맑음\n",
      "2019-04-21 00:00 흐림\n",
      "2019-04-21 12:00 흐림\n",
      "2019-04-22 00:00 구름많음\n",
      "2019-04-22 12:00 구름많음\n",
      "2019-04-23 00:00 맑음\n",
      "2019-04-24 00:00 맑음\n",
      "2019-04-25 00:00 구름많음\n",
      "2019-04-18 00:00 맑음\n",
      "2019-04-18 12:00 맑음\n",
      "2019-04-19 00:00 맑음\n",
      "2019-04-19 12:00 맑음\n",
      "2019-04-20 00:00 맑음\n",
      "2019-04-20 12:00 맑음\n",
      "2019-04-21 00:00 흐림\n",
      "2019-04-21 12:00 흐림\n",
      "2019-04-22 00:00 구름많음\n",
      "2019-04-22 12:00 구름많음\n",
      "2019-04-23 00:00 맑음\n",
      "2019-04-24 00:00 맑음\n",
      "2019-04-25 00:00 구름많음\n",
      "2019-04-18 00:00 맑음\n",
      "2019-04-18 12:00 맑음\n",
      "2019-04-19 00:00 맑음\n",
      "2019-04-19 12:00 맑음\n",
      "2019-04-20 00:00 맑음\n",
      "2019-04-20 12:00 맑음\n",
      "2019-04-21 00:00 흐림\n",
      "2019-04-21 12:00 흐림\n",
      "2019-04-22 00:00 구름많음\n",
      "2019-04-22 12:00 구름많음\n",
      "2019-04-23 00:00 맑음\n",
      "2019-04-24 00:00 맑음\n",
      "2019-04-25 00:00 구름많음\n",
      "2019-04-18 00:00 맑음\n",
      "2019-04-18 12:00 맑음\n",
      "2019-04-19 00:00 맑음\n",
      "2019-04-19 12:00 맑음\n",
      "2019-04-20 00:00 맑음\n",
      "2019-04-20 12:00 맑음\n",
      "2019-04-21 00:00 흐림\n",
      "2019-04-21 12:00 흐림\n",
      "2019-04-22 00:00 구름많음\n",
      "2019-04-22 12:00 구름많음\n",
      "2019-04-23 00:00 맑음\n",
      "2019-04-24 00:00 맑음\n",
      "2019-04-25 00:00 구름많음\n",
      "2019-04-18 00:00 맑음\n",
      "2019-04-18 12:00 맑음\n",
      "2019-04-19 00:00 맑음\n",
      "2019-04-19 12:00 맑음\n",
      "2019-04-20 00:00 맑음\n",
      "2019-04-20 12:00 맑음\n",
      "2019-04-21 00:00 흐림\n",
      "2019-04-21 12:00 흐림\n",
      "2019-04-22 00:00 구름많음\n",
      "2019-04-22 12:00 구름많음\n",
      "2019-04-23 00:00 맑음\n",
      "2019-04-24 00:00 맑음\n",
      "2019-04-25 00:00 구름많음\n",
      "2019-04-18 00:00 맑음\n",
      "2019-04-18 12:00 맑음\n",
      "2019-04-19 00:00 맑음\n",
      "2019-04-19 12:00 맑음\n",
      "2019-04-20 00:00 맑음\n",
      "2019-04-20 12:00 맑음\n",
      "2019-04-21 00:00 흐림\n",
      "2019-04-21 12:00 흐림\n",
      "2019-04-22 00:00 구름많음\n",
      "2019-04-22 12:00 구름많음\n",
      "2019-04-23 00:00 맑음\n",
      "2019-04-24 00:00 맑음\n",
      "2019-04-25 00:00 구름많음\n",
      "2019-04-18 00:00 맑음\n",
      "2019-04-18 12:00 맑음\n",
      "2019-04-19 00:00 맑음\n",
      "2019-04-19 12:00 맑음\n",
      "2019-04-20 00:00 맑음\n",
      "2019-04-20 12:00 맑음\n",
      "2019-04-21 00:00 흐림\n",
      "2019-04-21 12:00 흐림\n",
      "2019-04-22 00:00 구름많음\n",
      "2019-04-22 12:00 구름많음\n",
      "2019-04-23 00:00 맑음\n",
      "2019-04-24 00:00 맑음\n",
      "2019-04-25 00:00 구름많음\n",
      "2019-04-18 00:00 맑음\n",
      "2019-04-18 12:00 맑음\n",
      "2019-04-19 00:00 맑음\n",
      "2019-04-19 12:00 맑음\n",
      "2019-04-20 00:00 맑음\n",
      "2019-04-20 12:00 맑음\n",
      "2019-04-21 00:00 흐림\n",
      "2019-04-21 12:00 흐림\n",
      "2019-04-22 00:00 구름많음\n",
      "2019-04-22 12:00 구름많음\n",
      "2019-04-23 00:00 맑음\n",
      "2019-04-24 00:00 맑음\n",
      "2019-04-25 00:00 구름많음\n",
      "2019-04-18 00:00 맑음\n",
      "2019-04-18 12:00 맑음\n",
      "2019-04-19 00:00 맑음\n",
      "2019-04-19 12:00 맑음\n",
      "2019-04-20 00:00 맑음\n",
      "2019-04-20 12:00 맑음\n",
      "2019-04-21 00:00 흐림\n",
      "2019-04-21 12:00 흐림\n",
      "2019-04-22 00:00 구름많음\n",
      "2019-04-22 12:00 구름많음\n",
      "2019-04-23 00:00 맑음\n",
      "2019-04-24 00:00 맑음\n",
      "2019-04-25 00:00 구름많음\n",
      "2019-04-18 00:00 맑음\n",
      "2019-04-18 12:00 맑음\n",
      "2019-04-19 00:00 맑음\n",
      "2019-04-19 12:00 맑음\n",
      "2019-04-20 00:00 맑음\n",
      "2019-04-20 12:00 맑음\n",
      "2019-04-21 00:00 흐림\n",
      "2019-04-21 12:00 흐림\n",
      "2019-04-22 00:00 구름많음\n",
      "2019-04-22 12:00 구름많음\n",
      "2019-04-23 00:00 맑음\n",
      "2019-04-24 00:00 맑음\n",
      "2019-04-25 00:00 구름많음\n",
      "2019-04-18 00:00 맑음\n",
      "2019-04-18 12:00 맑음\n",
      "2019-04-19 00:00 맑음\n",
      "2019-04-19 12:00 맑음\n",
      "2019-04-20 00:00 맑음\n",
      "2019-04-20 12:00 맑음\n",
      "2019-04-21 00:00 흐림\n",
      "2019-04-21 12:00 흐림\n",
      "2019-04-22 00:00 구름많음\n",
      "2019-04-22 12:00 구름많음\n",
      "2019-04-23 00:00 맑음\n",
      "2019-04-24 00:00 맑음\n",
      "2019-04-25 00:00 구름많음\n"
     ]
    }
   ],
   "source": [
    "result =[]\n",
    "for item in weather:\n",
    "    tm_ef = item.find('tmEf').text\n",
    "    wf = item.find('wf').text\n",
    "    result.append({'tm':tm_ef, 'wf':wf})\n",
    "    print(tm_ef, wf)"
   ]
  },
  {
   "cell_type": "code",
   "execution_count": 18,
   "metadata": {
    "scrolled": true
   },
   "outputs": [
    {
     "name": "stdout",
     "output_type": "stream",
     "text": [
      "Collecting feedparser\n",
      "  Downloading https://files.pythonhosted.org/packages/91/d8/7d37fec71ff7c9dbcdd80d2b48bcdd86d6af502156fc93846fb0102cb2c4/feedparser-5.2.1.tar.bz2 (192kB)\n",
      "Building wheels for collected packages: feedparser\n",
      "  Running setup.py bdist_wheel for feedparser: started\n",
      "  Running setup.py bdist_wheel for feedparser: finished with status 'done'\n",
      "  Stored in directory: C:\\Users\\user\\AppData\\Local\\pip\\Cache\\wheels\\8c\\69\\b7\\f52763c41c5471df57703a0ef718a32a5e81ee35dcf6d4f97f\n",
      "Successfully built feedparser\n",
      "Installing collected packages: feedparser\n",
      "Successfully installed feedparser-5.2.1\n"
     ]
    }
   ],
   "source": [
    "! pip install feedparser"
   ]
  },
  {
   "cell_type": "code",
   "execution_count": 19,
   "metadata": {},
   "outputs": [],
   "source": [
    "import feedparser"
   ]
  },
  {
   "cell_type": "code",
   "execution_count": 20,
   "metadata": {},
   "outputs": [
    {
     "data": {
      "text/plain": [
       "'rss20'"
      ]
     },
     "execution_count": 20,
     "metadata": {},
     "output_type": "execute_result"
    }
   ],
   "source": [
    "d = feedparser.parse('http://newssearch.naver.com/search.naver?where=rss&query=%EB%AF%B8%EC%84%B8%EB%A8%BC%EC%A7%80&field=0&nx_search_query=&nx_and_query=&nx_sub_query=&nx_search_hlquery=&is_dts=0')\n",
    "d.version"
   ]
  },
  {
   "cell_type": "code",
   "execution_count": 21,
   "metadata": {},
   "outputs": [
    {
     "name": "stdout",
     "output_type": "stream",
     "text": [
      "[히든 스탁] 상승장에서 수익을 극대화해줄 종목\n",
      "롯데百, 봄 정기세일 잘 팔았다…명품·리빙 호조에 전체 매출 6.4% 신장\n",
      "[오늘의 주요일정] 서울시\n",
      "롯데백화점, 올해 첫 ‘봄 세일’ 실적 호조\n",
      "경기도, 미세먼지 프리존 '맑은 숨터 사업' 400개소 확대 추진\n",
      "롯데백화점 봄세일 매출 ‘쑥쑥’...애슬레져 행사로 흥행 나서\n",
      "\"내 스토리가 TV 광고에\"…LG 트롬 건조기 사용후기 ‘백일장’ 열린다\n",
      "[매일 장보는 남녀] 신일산업(002700)\n",
      "환경부, 중소형 경유차 실도로 질소산화물 배출 허용기준 강화\n",
      "포레스트 이스트 성분으로 피부 장벽 강화 미세먼지에 지친 피부 달래주는 라네즈 \"시카 슬리핑 마스크\"\n",
      "TV정보쇼 알짜왕, 봄철 알레르기 비염치료법으로 배농치료 소개\n",
      "[15일 주간 날씨 전망 ]전국 날씨·초미세먼지 마스크 없어도 충분히 맑은 공기\n",
      "중소형 경유차, 실도로 질소산화물 배출 허용기준 강화\n",
      "헤머셀, \"올바른 머리 감기, 탈모 관리법에 도움…남성여성 전용 두피 케어 샴푸 사용\"\n",
      "15일 오늘전국 미세먼지 및 종합날씨... 09시 기준 간만에 맑은 대기 서울 전 권역 '나쁨'\n",
      "15일 09시 기준 전국 초미세먼지 정보…서울 초미세먼지 '좋음' 감기가능 지수 '높음'\n",
      "계절 변화와 각종 외부자극으로 피부 보호해주는 라네즈 ‘시카 슬리핑 마스크’\n",
      "[내일날씨] '세월호 5주기' 완연한 봄 날씨…일부지역 밤부터 비\n",
      "고속도로 첫 수소충전소 정식 개장\n",
      "고대 안암병원 천식환경보건센터, 대한보건협회장상 수상\n",
      "성남시 '미세먼지 없는' 전기저상버스 200대 도입한다\n",
      "여아 성조숙증, 초 1~2학년 집중 주의해야\n",
      "바이타믹스블렌더, 건강한 레시피 각광… 서초직영센터 특별 혜택 제공\n",
      "날씨\n",
      "[에세이] 미국 100년 1위로 선정된 영화 \"Citizn Kane,시민 케인\"\n",
      "고려대학교 안암병원 천식환경보건센터, 대한보건협회장상\n",
      "대구시 '지구를 구하자! 9.9데이' 발대식 개최\n",
      "경기도, 반월·시화산단 오염물질배출사업장 14개소 적발\n",
      "중소형 경유차 실도로 미세먼지 배출 기준 강화\n",
      "양천구, 해누리 열린육아방 개관\n",
      "고대 안암병 천식환경보건센터, 보드게임을 이용한 교실 운영\n",
      "조희연 \"모든 교실에 미세먼지 측정기 설치 과잉행정\"\n",
      "다이치 \"업계 최초 친환경 무세제 카시트 세탁 서비스 실시\"\n",
      "모닝와이드 날씨2 4월15일(월)\n",
      "건강 365(4/15, 소아청소년 아토피 해결법은)\n",
      "오늘(15일) 주요 사회 일정\n",
      "아파트 고농도 미세먼지 발생 대처방안\n",
      "경기도, 미세먼지 프리존 ‘맑은 숨터 사업’ 확대..환기장치설치 등 ‘맞춤형 지원’\n",
      "[오늘날씨] 맑고 미세먼지 없어 '쾌청'…큰 일교차 주의\n",
      "[사회일정] 세월호참사 책임자 처벌 대상 명단 1차 발표 기자회견 外\n",
      "경기도, 반월?시화산단 오염물질배출사업장 단속결과 14개소 적발\n",
      "에너지드림센터, 아이들위한 '지구의 날' 행사 개최\n",
      "[날씨] 전국 맑고 일교차 커···미세먼지 '나쁨'\n",
      "성동구, 주민 마음 읽는 생활밀착 행정서비스\n",
      "[날씨] \"외출하기 좋아요\"…미세먼지 없는 맑은 하늘\n",
      "[주간 주요 일정] 미세먼지 저감 현장방문 결과, 반도체산업 수출ㆍ통상 간담회, 농식품 크라우드펀딩 확대 운영(4월 15~19일)\n",
      "다이치, ‘유아전용 무세제 세탁서비스’ 제공\n",
      "전국 맑고 일교차 커…미세먼지 ‘좋음’\n",
      "[길벗 따라 생활건강] 봄만 되면 심해지는 알러지 비염\n",
      "[날씨] 낮과 밤 기온차 20℃ 이상... 최저 -3℃ 최고 21℃ 일교차\n"
     ]
    }
   ],
   "source": [
    "for entry in d.entries:\n",
    "    print(entry.title)"
   ]
  },
  {
   "cell_type": "markdown",
   "metadata": {},
   "source": [
    "### 3. DB 저장"
   ]
  },
  {
   "cell_type": "code",
   "execution_count": 31,
   "metadata": {},
   "outputs": [],
   "source": [
    "import sqlite3\n",
    "\n",
    "conn = sqlite3.connect('weather.db')\n",
    "cur = conn.cursor()"
   ]
  },
  {
   "cell_type": "code",
   "execution_count": 24,
   "metadata": {},
   "outputs": [
    {
     "data": {
      "text/plain": [
       "<sqlite3.Cursor at 0x1db9d691e30>"
      ]
     },
     "execution_count": 24,
     "metadata": {},
     "output_type": "execute_result"
    }
   ],
   "source": [
    "cur.execute('DROP TABLE IF EXISTS wt')"
   ]
  },
  {
   "cell_type": "code",
   "execution_count": 25,
   "metadata": {},
   "outputs": [
    {
     "data": {
      "text/plain": [
       "<sqlite3.Cursor at 0x1db9d691e30>"
      ]
     },
     "execution_count": 25,
     "metadata": {},
     "output_type": "execute_result"
    }
   ],
   "source": [
    "cur.execute('CREATE TABLE wt (date text, status text)')"
   ]
  },
  {
   "cell_type": "code",
   "execution_count": 26,
   "metadata": {},
   "outputs": [
    {
     "data": {
      "text/plain": [
       "<sqlite3.Cursor at 0x1db9d691e30>"
      ]
     },
     "execution_count": 26,
     "metadata": {},
     "output_type": "execute_result"
    }
   ],
   "source": [
    "cur.executemany('INSERT INTO wt values (:tm, :wf)',result )"
   ]
  },
  {
   "cell_type": "code",
   "execution_count": 32,
   "metadata": {},
   "outputs": [
    {
     "data": {
      "text/plain": [
       "<sqlite3.Cursor at 0x1db9d7273b0>"
      ]
     },
     "execution_count": 32,
     "metadata": {},
     "output_type": "execute_result"
    }
   ],
   "source": [
    "cur.execute('select * from wt limit 5')"
   ]
  },
  {
   "cell_type": "code",
   "execution_count": 33,
   "metadata": {},
   "outputs": [
    {
     "name": "stdout",
     "output_type": "stream",
     "text": [
      "날짜 : 2019-04-18 00:00  날씨 : 맑음\n",
      "날짜 : 2019-04-18 12:00  날씨 : 맑음\n",
      "날짜 : 2019-04-19 00:00  날씨 : 맑음\n",
      "날짜 : 2019-04-19 12:00  날씨 : 맑음\n",
      "날짜 : 2019-04-20 00:00  날씨 : 맑음\n"
     ]
    }
   ],
   "source": [
    "table = cur.fetchall()\n",
    "for record in table:\n",
    "    print(\"날짜 : %s  날씨 : %s\" % record)"
   ]
  },
  {
   "cell_type": "code",
   "execution_count": 29,
   "metadata": {},
   "outputs": [],
   "source": [
    "conn.commit()\n",
    "conn.close()"
   ]
  },
  {
   "cell_type": "code",
   "execution_count": null,
   "metadata": {},
   "outputs": [],
   "source": []
  }
 ],
 "metadata": {
  "kernelspec": {
   "display_name": "Python 3",
   "language": "python",
   "name": "python3"
  },
  "language_info": {
   "codemirror_mode": {
    "name": "ipython",
    "version": 3
   },
   "file_extension": ".py",
   "mimetype": "text/x-python",
   "name": "python",
   "nbconvert_exporter": "python",
   "pygments_lexer": "ipython3",
   "version": "3.7.1"
  }
 },
 "nbformat": 4,
 "nbformat_minor": 2
}
