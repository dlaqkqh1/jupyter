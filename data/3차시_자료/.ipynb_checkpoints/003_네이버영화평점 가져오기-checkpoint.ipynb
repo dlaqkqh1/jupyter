{
 "cells": [
  {
   "cell_type": "code",
   "execution_count": null,
   "metadata": {},
   "outputs": [],
   "source": [
    "! pip install tqdm"
   ]
  },
  {
   "cell_type": "code",
   "execution_count": null,
   "metadata": {
    "scrolled": true
   },
   "outputs": [],
   "source": [
    "from bs4 import BeautifulSoup as bs\n",
    "import requests as req\n",
    "from tqdm import tqdm_notebook\n",
    "import time"
   ]
  },
  {
   "cell_type": "code",
   "execution_count": null,
   "metadata": {},
   "outputs": [],
   "source": [
    "for a in tqdm_notebook(range(5), desc = '상위그룹'):\n",
    "    for b in tqdm_notebook(range(100), desc = '하위그룹'):\n",
    "        time.sleep(0.01)"
   ]
  },
  {
   "cell_type": "code",
   "execution_count": null,
   "metadata": {},
   "outputs": [],
   "source": [
    "# 영화페이지 url\n",
    "\n",
    "url_main = 'https://movie.naver.com'\n",
    "url_sub = '/movie/bi/mi/point.nhn?code=163787'\n",
    "res = req.get(url_main + url_sub)\n",
    "soup = bs(res.text,'html.parser')\n"
   ]
  },
  {
   "cell_type": "code",
   "execution_count": null,
   "metadata": {},
   "outputs": [],
   "source": [
    "iframeTag = soup.find('iframe',id='pointAfterListIframe')\n",
    "iframeTag"
   ]
  },
  {
   "cell_type": "code",
   "execution_count": null,
   "metadata": {},
   "outputs": [],
   "source": [
    "iframeTag.attrs #속성을 딕셔너리 형태로 보기"
   ]
  },
  {
   "cell_type": "code",
   "execution_count": null,
   "metadata": {
    "scrolled": true
   },
   "outputs": [],
   "source": [
    "iframeTag.attrs['src']"
   ]
  },
  {
   "cell_type": "code",
   "execution_count": null,
   "metadata": {},
   "outputs": [],
   "source": [
    "iframeSrc = iframeTag['src'] #attrs 생략가능"
   ]
  },
  {
   "cell_type": "code",
   "execution_count": null,
   "metadata": {},
   "outputs": [],
   "source": [
    "res = req.get(url_main+iframeSrc)\n",
    "res"
   ]
  },
  {
   "cell_type": "code",
   "execution_count": null,
   "metadata": {},
   "outputs": [],
   "source": [
    "soup = bs(res.text,'html.parser')"
   ]
  },
  {
   "cell_type": "code",
   "execution_count": null,
   "metadata": {
    "scrolled": true
   },
   "outputs": [],
   "source": [
    "review = soup.select('div.score_reple > p')\n",
    "print(review , len(review))\n"
   ]
  },
  {
   "cell_type": "code",
   "execution_count": null,
   "metadata": {},
   "outputs": [],
   "source": [
    "# 공감 버튼 수, 비공감 버튼 수\n",
    "good = soup.select('a._sympathyButton + strong > span') # 공감 버튼(_sympathyButton)의 형제(+) 스트롱의 자손(>) 선택\n",
    "print(good, len(good))\n",
    "bad = soup.select('a._notSympathyButton + strong > span')# 비공감 버튼(_notSympathyButton)의 형제(+) 스트롱의 자손(>) 선택"
   ]
  },
  {
   "cell_type": "code",
   "execution_count": null,
   "metadata": {},
   "outputs": [],
   "source": [
    "def review_and_good_bad():\n",
    "    for index in range (len(review)):\n",
    "        print(review[index].text)\n",
    "        print('공감 :' ,good[index].text)\n",
    "        print('비공감 :' ,bad[index].text)\n",
    "        print('---------------------------------------------------------------')\n"
   ]
  },
  {
   "cell_type": "code",
   "execution_count": null,
   "metadata": {},
   "outputs": [],
   "source": [
    "def save_review(file):\n",
    "    f = open(str(file), \"w\")\n",
    "    for index in range(len(review)):\n",
    "        f.write(review[index].text)\n",
    "        f.write(good[index].text)\n",
    "        f.write('\\n')"
   ]
  },
  {
   "cell_type": "code",
   "execution_count": null,
   "metadata": {
    "scrolled": true
   },
   "outputs": [],
   "source": [
    "review_and_good_bad()"
   ]
  },
  {
   "cell_type": "code",
   "execution_count": null,
   "metadata": {},
   "outputs": [],
   "source": [
    "save_review(\"movie_review.txt\")"
   ]
  },
  {
   "cell_type": "code",
   "execution_count": null,
   "metadata": {},
   "outputs": [],
   "source": [
    "#모든 리뷰 파일에 저장하기"
   ]
  },
  {
   "cell_type": "code",
   "execution_count": null,
   "metadata": {},
   "outputs": [],
   "source": [
    "url_main = 'https://movie.naver.com'\n",
    "url_sub = '/movie/bi/mi/point.nhn?code=163787'\n",
    "res = req.get(url_main + url_sub)\n",
    "soup = bs(res.text,'html.parser')\n",
    "iframeTag = soup.find('iframe',id='pointAfterListIframe')\n",
    "iframeSrc = iframeTag['src']\n",
    "\n",
    "res = req.get(url_main+iframeSrc)\n",
    "res\n",
    "soup = bs(res.text,'html.parser')\n",
    "\n",
    "print(url_main+iframeSrc+'&page10')\n",
    "\n",
    "totalReple = soup.select_one('span.sp + em')\n",
    "\n",
    "totalReple = int(totalReple.text.replace(',',''))\n",
    "\n",
    "pageNum = totalReple//10\n",
    "if totalReple%10!=0:\n",
    "    pageNum+=1\n",
    "print(pageNum)\n",
    "\n",
    "f = open('naver_movie_reple.txt','w')\n",
    "for i in tqdm_notebook(range(1,pageNum+1)):\n",
    "    url = url_main + iframeSrc+'&page='+str(i)\n",
    "    res = req.get(url)\n",
    "    soup = bs(res.text,'html.parser')\n",
    "    review = soup.select('div.score_reple > p')\n",
    "    \n",
    "    for index in range(len(review)):\n",
    "        f.write(review[index].text)"
   ]
  }
 ],
 "metadata": {
  "kernelspec": {
   "display_name": "Python 3",
   "language": "python",
   "name": "python3"
  },
  "language_info": {
   "codemirror_mode": {
    "name": "ipython",
    "version": 3
   },
   "file_extension": ".py",
   "mimetype": "text/x-python",
   "name": "python",
   "nbconvert_exporter": "python",
   "pygments_lexer": "ipython3",
   "version": "3.7.1"
  }
 },
 "nbformat": 4,
 "nbformat_minor": 2
}
