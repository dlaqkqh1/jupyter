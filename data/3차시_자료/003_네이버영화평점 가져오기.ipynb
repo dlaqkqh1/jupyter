{
 "cells": [
  {
   "cell_type": "code",
   "execution_count": 1,
   "metadata": {},
   "outputs": [
    {
     "name": "stdout",
     "output_type": "stream",
     "text": [
      "Requirement already satisfied: tqdm in d:\\program files\\anaconda\\lib\\site-packages (4.28.1)\n"
     ]
    }
   ],
   "source": [
    "! pip install tqdm"
   ]
  },
  {
   "cell_type": "code",
   "execution_count": 2,
   "metadata": {
    "scrolled": true
   },
   "outputs": [],
   "source": [
    "from bs4 import BeautifulSoup as bs\n",
    "import requests as req\n",
    "from tqdm import tqdm_notebook\n",
    "import time"
   ]
  },
  {
   "cell_type": "code",
   "execution_count": 3,
   "metadata": {},
   "outputs": [
    {
     "data": {
      "application/vnd.jupyter.widget-view+json": {
       "model_id": "7ec1677c307447c5b659838432f042ea",
       "version_major": 2,
       "version_minor": 0
      },
      "text/plain": [
       "HBox(children=(IntProgress(value=0, description='상위그룹', max=5, style=ProgressStyle(description_width='initial'…"
      ]
     },
     "metadata": {},
     "output_type": "display_data"
    },
    {
     "data": {
      "application/vnd.jupyter.widget-view+json": {
       "model_id": "325efa8eeff449be8f50511805b861e8",
       "version_major": 2,
       "version_minor": 0
      },
      "text/plain": [
       "HBox(children=(IntProgress(value=0, description='하위그룹', style=ProgressStyle(description_width='initial')), HTM…"
      ]
     },
     "metadata": {},
     "output_type": "display_data"
    },
    {
     "data": {
      "application/vnd.jupyter.widget-view+json": {
       "model_id": "a06a967a8fe54d29aeb815d5a358e415",
       "version_major": 2,
       "version_minor": 0
      },
      "text/plain": [
       "HBox(children=(IntProgress(value=0, description='하위그룹', style=ProgressStyle(description_width='initial')), HTM…"
      ]
     },
     "metadata": {},
     "output_type": "display_data"
    },
    {
     "data": {
      "application/vnd.jupyter.widget-view+json": {
       "model_id": "097234df33f84fe2a98a28c868a6bf8c",
       "version_major": 2,
       "version_minor": 0
      },
      "text/plain": [
       "HBox(children=(IntProgress(value=0, description='하위그룹', style=ProgressStyle(description_width='initial')), HTM…"
      ]
     },
     "metadata": {},
     "output_type": "display_data"
    },
    {
     "data": {
      "application/vnd.jupyter.widget-view+json": {
       "model_id": "64eb5b0433f0429382205f93501c6f65",
       "version_major": 2,
       "version_minor": 0
      },
      "text/plain": [
       "HBox(children=(IntProgress(value=0, description='하위그룹', style=ProgressStyle(description_width='initial')), HTM…"
      ]
     },
     "metadata": {},
     "output_type": "display_data"
    },
    {
     "data": {
      "application/vnd.jupyter.widget-view+json": {
       "model_id": "ad1afd02b88f4c51b0fa20c91ba5121f",
       "version_major": 2,
       "version_minor": 0
      },
      "text/plain": [
       "HBox(children=(IntProgress(value=0, description='하위그룹', style=ProgressStyle(description_width='initial')), HTM…"
      ]
     },
     "metadata": {},
     "output_type": "display_data"
    },
    {
     "name": "stdout",
     "output_type": "stream",
     "text": [
      "\n"
     ]
    }
   ],
   "source": [
    "for a in tqdm_notebook(range(5), desc = '상위그룹'):\n",
    "    for b in tqdm_notebook(range(100), desc = '하위그룹'):\n",
    "        time.sleep(0.01)"
   ]
  },
  {
   "cell_type": "code",
   "execution_count": 6,
   "metadata": {},
   "outputs": [],
   "source": [
    "# 영화페이지 url\n",
    "\n",
    "url_main = 'https://movie.naver.com'\n",
    "url_sub = '/movie/bi/mi/point.nhn?code=163608'\n",
    "res = req.get(url_main + url_sub)\n",
    "soup = bs(res.text,'html.parser')\n"
   ]
  },
  {
   "cell_type": "code",
   "execution_count": 7,
   "metadata": {},
   "outputs": [
    {
     "data": {
      "text/plain": [
       "<iframe class=\"ifr\" frameborder=\"0\" id=\"pointAfterListIframe\" name=\"pointAfterListIframe\" scrolling=\"no\" src=\"/movie/bi/mi/pointWriteFormList.nhn?code=163608&amp;type=after&amp;isActualPointWriteExecute=false&amp;isMileageSubscriptionAlready=false&amp;isMileageSubscriptionReject=false\" title=\"네티즌 평점 리스트\" width=\"100%\"></iframe>"
      ]
     },
     "execution_count": 7,
     "metadata": {},
     "output_type": "execute_result"
    }
   ],
   "source": [
    "iframeTag = soup.find('iframe',id='pointAfterListIframe')\n",
    "iframeTag"
   ]
  },
  {
   "cell_type": "code",
   "execution_count": 8,
   "metadata": {},
   "outputs": [
    {
     "data": {
      "text/plain": [
       "{'src': '/movie/bi/mi/pointWriteFormList.nhn?code=163608&type=after&isActualPointWriteExecute=false&isMileageSubscriptionAlready=false&isMileageSubscriptionReject=false',\n",
       " 'id': 'pointAfterListIframe',\n",
       " 'name': 'pointAfterListIframe',\n",
       " 'width': '100%',\n",
       " 'frameborder': '0',\n",
       " 'scrolling': 'no',\n",
       " 'class': ['ifr'],\n",
       " 'title': '네티즌 평점 리스트'}"
      ]
     },
     "execution_count": 8,
     "metadata": {},
     "output_type": "execute_result"
    }
   ],
   "source": [
    "iframeTag.attrs #속성을 딕셔너리 형태로 보기"
   ]
  },
  {
   "cell_type": "code",
   "execution_count": 9,
   "metadata": {
    "scrolled": true
   },
   "outputs": [
    {
     "data": {
      "text/plain": [
       "'/movie/bi/mi/pointWriteFormList.nhn?code=163608&type=after&isActualPointWriteExecute=false&isMileageSubscriptionAlready=false&isMileageSubscriptionReject=false'"
      ]
     },
     "execution_count": 9,
     "metadata": {},
     "output_type": "execute_result"
    }
   ],
   "source": [
    "iframeTag.attrs['src']"
   ]
  },
  {
   "cell_type": "code",
   "execution_count": 10,
   "metadata": {},
   "outputs": [],
   "source": [
    "iframeSrc = iframeTag['src'] #attrs 생략가능"
   ]
  },
  {
   "cell_type": "code",
   "execution_count": 11,
   "metadata": {},
   "outputs": [
    {
     "data": {
      "text/plain": [
       "<Response [200]>"
      ]
     },
     "execution_count": 11,
     "metadata": {},
     "output_type": "execute_result"
    }
   ],
   "source": [
    "res = req.get(url_main+iframeSrc)\n",
    "res"
   ]
  },
  {
   "cell_type": "code",
   "execution_count": 12,
   "metadata": {},
   "outputs": [],
   "source": [
    "soup = bs(res.text,'html.parser')"
   ]
  },
  {
   "cell_type": "code",
   "execution_count": 13,
   "metadata": {
    "scrolled": true
   },
   "outputs": [
    {
     "name": "stdout",
     "output_type": "stream",
     "text": [
      "[<p>부자되고 싶으면 추천 거지되고 싶으면 비추천  </p>, <p>시간순삭  깔끔하고 쫄깃하고 군더더기없는 영화네요  조일현은 부자가 되고 싶었고  류준열은 영화에서 표정연기부자가 되었다  </p>, <p>알바댓글에 또 속았다하시는 분들은 추천  </p>, <p>시간 가는 줄 모르고 재미나게 봤어요. 류준열 배우는 진짜 연기 잘하네요. 유지태, 조우진 등등 배우분들 모두 앙상블이 잘 이루어진 영화라 느꼈습니다.  </p>, <p>주식영화라고 해서 좀 어려울까 했는데 주식에 대해 전혀 몰라도 스토리 이해하는데 상관 없었음ㅋㅋ  </p>, <p>몰입감 좋고 재미있다.  이만하면 재미 있는 영화 인정. 류준열의 성장이랄까 변해가는 과정이 리얼함..  </p>, <p>나는 부자가 되고 싶었다.  </p>, <p>박누리 감독 데뷔작인데 생각보다 훨씬 탄탄하다. 이야기 자체가 엄청 새롭거나 심오하거나 하지는 않지만 가지고 있는 재료 안에서 충분히 맛을 냈다. 카메라 워킹 훌륭하고 음악도 좋다. 무엇보다 한국영화계의 믿보배로 성장한 류준열 연기를 맘껏 볼 수 있다  </p>, <p>배우분들의 연기가 너무 좋았어요 특히 류준열배우의 연기가 점점 무르익어 가네요 변화되어가는 표정들이 압권입니다 연출도 입봉감독이라고 믿기 힘들만큼 센스있고 장면장면들이 다 좋네요 스피디하고 재미있어요 시사회로 봤는데 오늘 개봉하면 한번더 봐야겠어요  </p>, <p>엄청난 부를 얻는 것이 반드시 행복인가를 자문하게 되는... 경쾌한 연출도 좋았고 류준열은 이제 원탑도 무리없을듯 조우진 연기 너무 잘함  </p>] 10\n"
     ]
    }
   ],
   "source": [
    "review = soup.select('div.score_reple > p')\n",
    "print(review , len(review))\n"
   ]
  },
  {
   "cell_type": "code",
   "execution_count": 14,
   "metadata": {},
   "outputs": [
    {
     "name": "stdout",
     "output_type": "stream",
     "text": [
      "[<span class=\"sympathy_15427961 count\">7728</span>, <span class=\"sympathy_15427846 count\">1433</span>, <span class=\"sympathy_15438613 count\">1332</span>, <span class=\"sympathy_15427853 count\">1101</span>, <span class=\"sympathy_15427856 count\">923</span>, <span class=\"sympathy_15427867 count\">836</span>, <span class=\"sympathy_15427848 count\">785</span>, <span class=\"sympathy_15427889 count\">733</span>, <span class=\"sympathy_15427906 count\">598</span>, <span class=\"sympathy_15427922 count\">520</span>] 10\n"
     ]
    }
   ],
   "source": [
    "# 공감 버튼 수, 비공감 버튼 수\n",
    "good = soup.select('a._sympathyButton + strong > span') # 공감 버튼(_sympathyButton)의 형제(+) 스트롱의 자손(>) 선택\n",
    "print(good, len(good))\n",
    "bad = soup.select('a._notSympathyButton + strong > span')# 비공감 버튼(_notSympathyButton)의 형제(+) 스트롱의 자손(>) 선택"
   ]
  },
  {
   "cell_type": "code",
   "execution_count": 15,
   "metadata": {},
   "outputs": [],
   "source": [
    "def review_and_good_bad():\n",
    "    for index in range (len(review)):\n",
    "        print(review[index].text)\n",
    "        print('공감 :' ,good[index].text)\n",
    "        print('비공감 :' ,bad[index].text)\n",
    "        print('---------------------------------------------------------------')\n"
   ]
  },
  {
   "cell_type": "code",
   "execution_count": 16,
   "metadata": {},
   "outputs": [],
   "source": [
    "def save_review(file):\n",
    "    f = open(str(file), \"w\")\n",
    "    for index in range(len(review)):\n",
    "        f.write(review[index].text)\n",
    "        f.write(good[index].text)\n",
    "        f.write('\\n')"
   ]
  },
  {
   "cell_type": "code",
   "execution_count": 17,
   "metadata": {
    "scrolled": true
   },
   "outputs": [
    {
     "name": "stdout",
     "output_type": "stream",
     "text": [
      "부자되고 싶으면 추천 거지되고 싶으면 비추천  \n",
      "공감 : 7728\n",
      "비공감 : 957\n",
      "---------------------------------------------------------------\n",
      "시간순삭  깔끔하고 쫄깃하고 군더더기없는 영화네요  조일현은 부자가 되고 싶었고  류준열은 영화에서 표정연기부자가 되었다  \n",
      "공감 : 1433\n",
      "비공감 : 353\n",
      "---------------------------------------------------------------\n",
      "알바댓글에 또 속았다하시는 분들은 추천  \n",
      "공감 : 1332\n",
      "비공감 : 448\n",
      "---------------------------------------------------------------\n",
      "시간 가는 줄 모르고 재미나게 봤어요. 류준열 배우는 진짜 연기 잘하네요. 유지태, 조우진 등등 배우분들 모두 앙상블이 잘 이루어진 영화라 느꼈습니다.  \n",
      "공감 : 1101\n",
      "비공감 : 332\n",
      "---------------------------------------------------------------\n",
      "주식영화라고 해서 좀 어려울까 했는데 주식에 대해 전혀 몰라도 스토리 이해하는데 상관 없었음ㅋㅋ  \n",
      "공감 : 923\n",
      "비공감 : 271\n",
      "---------------------------------------------------------------\n",
      "몰입감 좋고 재미있다.  이만하면 재미 있는 영화 인정. 류준열의 성장이랄까 변해가는 과정이 리얼함..  \n",
      "공감 : 836\n",
      "비공감 : 229\n",
      "---------------------------------------------------------------\n",
      "나는 부자가 되고 싶었다.  \n",
      "공감 : 785\n",
      "비공감 : 209\n",
      "---------------------------------------------------------------\n",
      "박누리 감독 데뷔작인데 생각보다 훨씬 탄탄하다. 이야기 자체가 엄청 새롭거나 심오하거나 하지는 않지만 가지고 있는 재료 안에서 충분히 맛을 냈다. 카메라 워킹 훌륭하고 음악도 좋다. 무엇보다 한국영화계의 믿보배로 성장한 류준열 연기를 맘껏 볼 수 있다  \n",
      "공감 : 733\n",
      "비공감 : 192\n",
      "---------------------------------------------------------------\n",
      "배우분들의 연기가 너무 좋았어요 특히 류준열배우의 연기가 점점 무르익어 가네요 변화되어가는 표정들이 압권입니다 연출도 입봉감독이라고 믿기 힘들만큼 센스있고 장면장면들이 다 좋네요 스피디하고 재미있어요 시사회로 봤는데 오늘 개봉하면 한번더 봐야겠어요  \n",
      "공감 : 598\n",
      "비공감 : 182\n",
      "---------------------------------------------------------------\n",
      "엄청난 부를 얻는 것이 반드시 행복인가를 자문하게 되는... 경쾌한 연출도 좋았고 류준열은 이제 원탑도 무리없을듯 조우진 연기 너무 잘함  \n",
      "공감 : 520\n",
      "비공감 : 133\n",
      "---------------------------------------------------------------\n"
     ]
    }
   ],
   "source": [
    "review_and_good_bad()"
   ]
  },
  {
   "cell_type": "code",
   "execution_count": 18,
   "metadata": {},
   "outputs": [],
   "source": [
    "save_review(\"movie_review.txt\")"
   ]
  },
  {
   "cell_type": "code",
   "execution_count": null,
   "metadata": {},
   "outputs": [],
   "source": [
    "#모든 리뷰 파일에 저장하기"
   ]
  },
  {
   "cell_type": "code",
   "execution_count": 19,
   "metadata": {},
   "outputs": [
    {
     "name": "stdout",
     "output_type": "stream",
     "text": [
      "https://movie.naver.com/movie/bi/mi/pointWriteFormList.nhn?code=163787&type=after&isActualPointWriteExecute=false&isMileageSubscriptionAlready=false&isMileageSubscriptionReject=false&page10\n",
      "158\n"
     ]
    },
    {
     "data": {
      "application/vnd.jupyter.widget-view+json": {
       "model_id": "ec019fef03394b47b62b727dd0f7a2c1",
       "version_major": 2,
       "version_minor": 0
      },
      "text/plain": [
       "HBox(children=(IntProgress(value=0, max=158), HTML(value='')))"
      ]
     },
     "metadata": {},
     "output_type": "display_data"
    },
    {
     "name": "stdout",
     "output_type": "stream",
     "text": [
      "\n"
     ]
    }
   ],
   "source": [
    "url_main = 'https://movie.naver.com'\n",
    "url_sub = '/movie/bi/mi/point.nhn?code=163787'\n",
    "res = req.get(url_main + url_sub)\n",
    "soup = bs(res.text,'html.parser')\n",
    "iframeTag = soup.find('iframe',id='pointAfterListIframe')\n",
    "iframeSrc = iframeTag['src']\n",
    "\n",
    "res = req.get(url_main+iframeSrc)\n",
    "res\n",
    "soup = bs(res.text,'html.parser')\n",
    "\n",
    "print(url_main+iframeSrc+'&page10')\n",
    "\n",
    "totalReple = soup.select_one('span.sp + em')\n",
    "\n",
    "totalReple = int(totalReple.text.replace(',',''))\n",
    "\n",
    "pageNum = totalReple//10\n",
    "if totalReple%10!=0:\n",
    "    pageNum+=1\n",
    "print(pageNum)\n",
    "\n",
    "f = open('naver_movie_reple.txt','w')\n",
    "for i in tqdm_notebook(range(1,pageNum+1)):\n",
    "    url = url_main + iframeSrc+'&page='+str(i)\n",
    "    res = req.get(url)\n",
    "    soup = bs(res.text,'html.parser')\n",
    "    review = soup.select('div.score_reple > p')\n",
    "    \n",
    "    for index in range(len(review)):\n",
    "        f.write(review[index].text)"
   ]
  }
 ],
 "metadata": {
  "kernelspec": {
   "display_name": "Python 3",
   "language": "python",
   "name": "python3"
  },
  "language_info": {
   "codemirror_mode": {
    "name": "ipython",
    "version": 3
   },
   "file_extension": ".py",
   "mimetype": "text/x-python",
   "name": "python",
   "nbconvert_exporter": "python",
   "pygments_lexer": "ipython3",
   "version": "3.7.1"
  }
 },
 "nbformat": 4,
 "nbformat_minor": 2
}
