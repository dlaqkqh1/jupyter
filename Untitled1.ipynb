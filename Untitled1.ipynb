{
 "cells": [
  {
   "cell_type": "code",
   "execution_count": 24,
   "metadata": {
    "scrolled": true
   },
   "outputs": [],
   "source": [
    "import requests\n",
    "from bs4 import BeautifulSoup\n",
    "\n",
    "res = requests.get('https://www.naver.com')\n",
    "soup = BeautifulSoup(res.content, 'html.parser')\n",
    "\n",
    "ranking = soup.find_all('li', class_ = 'rolling-panel')"
   ]
  },
  {
   "cell_type": "code",
   "execution_count": 25,
   "metadata": {},
   "outputs": [
    {
     "name": "stdout",
     "output_type": "stream",
     "text": [
      "\n",
      "리빙\n",
      "\n",
      "\n",
      "푸드\n",
      "\n",
      "\n",
      "스포츠\n",
      "\n",
      "\n",
      "자동차\n",
      "\n",
      "\n",
      "패션뷰티\n",
      "\n",
      "\n",
      "부모i\n",
      "\n",
      "\n",
      "건강\n",
      "\n",
      "\n",
      "웹툰\n",
      "\n",
      "\n",
      "게임\n",
      "\n",
      "\n",
      "TV연예\n",
      "\n",
      "\n",
      "뮤직\n",
      "\n",
      "\n",
      "영화\n",
      "\n",
      "\n",
      "책문화\n",
      "\n",
      "\n",
      "함께N\n",
      "\n",
      "\n",
      "여행+\n",
      "\n",
      "\n",
      "디자인\n",
      "\n",
      "\n",
      "경제M\n",
      "\n",
      "\n",
      "JOB&\n",
      "\n",
      "\n",
      "과학\n",
      "\n",
      "\n",
      "중국\n",
      "\n",
      "\n",
      "비즈니스\n",
      "\n",
      "\n",
      "FARM\n",
      "\n",
      "\n",
      "스쿨잼\n",
      "\n",
      "\n",
      "공연전시\n",
      "\n",
      "\n",
      "법률\n",
      "\n",
      "\n",
      "동물공감\n",
      "\n",
      "\n",
      "연애·결혼\n",
      "\n",
      "\n",
      "테크\n",
      "\n",
      "\n",
      "감성충전\n",
      "\n"
     ]
    }
   ],
   "source": [
    "for x in ranking:\n",
    "    print(x.text)"
   ]
  },
  {
   "cell_type": "code",
   "execution_count": null,
   "metadata": {},
   "outputs": [],
   "source": []
  }
 ],
 "metadata": {
  "kernelspec": {
   "display_name": "Python 3",
   "language": "python",
   "name": "python3"
  },
  "language_info": {
   "codemirror_mode": {
    "name": "ipython",
    "version": 3
   },
   "file_extension": ".py",
   "mimetype": "text/x-python",
   "name": "python",
   "nbconvert_exporter": "python",
   "pygments_lexer": "ipython3",
   "version": "3.7.1"
  }
 },
 "nbformat": 4,
 "nbformat_minor": 2
}
